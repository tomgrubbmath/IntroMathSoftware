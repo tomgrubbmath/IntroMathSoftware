{
 "cells": [
  {
   "cell_type": "markdown",
   "metadata": {
    "collapsed": false
   },
   "source": [
    "### Math 157: Intro to Mathematical Software\n",
    "### UC San Diego, Winter 2021"
   ]
  },
  {
   "cell_type": "markdown",
   "metadata": {
    "collapsed": false
   },
   "source": [
    "### Homework 1: due Thursday, Jan 14 at 8PM Pacific"
   ]
  },
  {
   "cell_type": "markdown",
   "metadata": {
    "collapsed": false
   },
   "source": [
    "In general, each homework will be presented as a single Jupyter notebook like this one. A problem will typically consist of multiple components; however, each overall problem within a homework will count the same towards that homework grade. In addition, homework sets may contain different numbers of problems, but the maximum score on each homework will count the same towards the overall course grade. (Remember, we only count your top 6 of 8 homeworks.)\n",
    "\n",
    "Each component of each problem will also briefly indicate the criteria on which it is being judged. \n",
    "- For free-response problems, answers should be in complete sentences. \"Conceptual correctness\" means we are looking for a specific answer but not a specific wording; \"thoroughness\" means you gave enough of a response (e.g., if we want three \"essentially different\" examples of some phenomenon, your examples should be really different). \n",
    "- For problems involving mathematical calculations, answers should be presented in standard mathematical notation using TeX in a Markdown cell. \"Mathematical correctness\" means what it would in a normal math course. \n",
    "- For problems requiring code, answers should appear as executable code. \"Code correctness\" means that the code executes without errors and does what was asked; we may assess this using automated testing software.\n",
    "\n",
    "While you are free to create additional notebooks in which to do scratch work, please compose your answers by typing them directly into this notebook copying/pasting.\n",
    "\n",
    "### Kernel: \n",
    "All computations in this notebook should use the Python 3 (systemwide) kernel."
   ]
  },
  {
   "cell_type": "markdown",
   "metadata": {
    "collapsed": false
   },
   "source": [
    "### Collaborators/resources used:\n",
    "To start, please list all students you worked with in the box below. Additionally, include basic citations to resources you used along the way (it can be as simple as Title: hyperlink_to_the_webpage). You do not need to add citations to hyperlinks of resources that I have already added.\n",
    "\n",
    "Remember! Collaboration is *encouraged*, but *you must write up answers in your own words*. "
   ]
  },
  {
   "cell_type": "markdown",
   "metadata": {
    "collapsed": false
   },
   "source": [
    "Answer Box:"
   ]
  },
  {
   "cell_type": "markdown",
   "metadata": {
    "collapsed": false
   },
   "source": [
    "### Problem 1: Markdown and Jupyter Notebooks\n",
    "\n",
    "Grading criterion: correctness. The following hyperlink may be useful for the questions on Jupyter Notebooks: http://maxmelnick.com/2016/04/19/python-beginner-tips-and-tricks.html"
   ]
  },
  {
   "cell_type": "markdown",
   "metadata": {
    "collapsed": false
   },
   "source": [
    "1a.) Write some text in Markdown that illustrates at least three formatting features not used anywhere else in this homework. Your text should also describe in words what these features are."
   ]
  },
  {
   "cell_type": "markdown",
   "metadata": {
    "collapsed": false
   },
   "source": [
    "Answer Box:"
   ]
  },
  {
   "cell_type": "markdown",
   "metadata": {
    "collapsed": false
   },
   "source": [
    "1b.) What is the difference between \"Command Mode\" and \"Edit Mode\" in Jupyter Notebook?"
   ]
  },
  {
   "cell_type": "markdown",
   "metadata": {
    "collapsed": false
   },
   "source": [
    "Answer Box:"
   ]
  },
  {
   "cell_type": "markdown",
   "metadata": {
    "collapsed": false
   },
   "source": [
    "1c.) Write at least 3 keyboard shortcuts that can be used with Jupyter Notebook (and include what they do!) \n",
    "\n",
    "Example: In command mode, the shortcut \"A\" inserts a cell above a selected cell."
   ]
  },
  {
   "cell_type": "markdown",
   "metadata": {
    "collapsed": false
   },
   "source": [
    "Answer Box:"
   ]
  },
  {
   "cell_type": "markdown",
   "metadata": {
    "collapsed": false
   },
   "source": [
    "Note: You should keep in mind your answers to 1c.) as the quarter progresses! Keyboard shortcuts can make your workflow much more efficient! "
   ]
  },
  {
   "cell_type": "markdown",
   "metadata": {
    "collapsed": false
   },
   "source": [
    "### Problem 2: Python Basics"
   ]
  },
  {
   "cell_type": "markdown",
   "metadata": {
    "collapsed": false
   },
   "source": [
    "Grading criterion: correctness."
   ]
  },
  {
   "cell_type": "markdown",
   "metadata": {
    "collapsed": false
   },
   "source": [
    "2a. In the cell below there is a list of numbers, `L`. Using *basic (one-line/one-command) Python List operations*, print out\n",
    "\n",
    "-The length of the list\n",
    "\n",
    "-The last number in the list in *two* separate ways\n",
    "\n",
    "-The list in reverse order\n",
    "\n",
    "-Every third number in the list\n",
    "\n",
    "-The sum of the numbers in the list\n"
   ]
  },
  {
   "cell_type": "code",
   "execution_count": 0,
   "metadata": {
    "collapsed": false
   },
   "outputs": [
   ],
   "source": [
    "L = [x**2 % 491 for x in range(0,1000,27)]"
   ]
  },
  {
   "cell_type": "code",
   "execution_count": 0,
   "metadata": {
    "collapsed": false
   },
   "outputs": [
   ],
   "source": [
    "#Your code goes here (There should be 6 separate print statements in this block, corresponding to the 6 questions listed above)"
   ]
  },
  {
   "cell_type": "code",
   "execution_count": 0,
   "metadata": {
    "collapsed": false
   },
   "outputs": [
   ],
   "source": [
    "\n"
   ]
  },
  {
   "cell_type": "markdown",
   "metadata": {
    "collapsed": false
   },
   "source": [
    "2b. Run the following code. In this specific instance, is Python operating most closely to \"pass by reference\" or \"pass by value\"? (In reality Python operates under \"pass by object reference\" but I mainly want to stress what happens on this example). A useful resource could be: https://robertheaton.com/2014/02/09/pythons-pass-by-object-reference-as-explained-by-philip-k-dick/ . This is an important example to keep in mind as you write programs in python; even though a list can be initialized globally, things that happen to it inside a function call can *persist*."
   ]
  },
  {
   "cell_type": "code",
   "execution_count": 4,
   "metadata": {
    "collapsed": false
   },
   "outputs": [
    {
     "name": "stdout",
     "output_type": "stream",
     "text": [
      "The list of numbers is: [1, 2, 7]\n",
      "The new list of numbers is: [1, 2, 7, 5, 5, 5]\n"
     ]
    }
   ],
   "source": [
    "numbers = [1,2,7]\n",
    "print('The list of numbers is:', numbers)\n",
    "\n",
    "def append5(L):\n",
    "    L.append(5)\n",
    "    return()\n",
    "\n",
    "append5(numbers)\n",
    "append5(numbers)\n",
    "append5(numbers)\n",
    "print('The new list of numbers is:', numbers)"
   ]
  },
  {
   "cell_type": "code",
   "execution_count": 3,
   "metadata": {
    "collapsed": false
   },
   "outputs": [
    {
     "name": "stdout",
     "output_type": "stream",
     "text": [
      "[1, 2, 7]\n",
      "[100, 2, 7]\n",
      "[100, 2, 7]\n"
     ]
    }
   ],
   "source": [
    "def valueAppend5(L):\n",
    "    print(L)\n",
    "    L[0] = 100\n",
    "    print(L)\n",
    "\n",
    "numbers = [1,2,7]\n",
    "valueAppend5(numbers)\n",
    "print(numbers)"
   ]
  },
  {
   "cell_type": "markdown",
   "metadata": {
    "collapsed": false
   },
   "source": [
    "Answer Box:"
   ]
  },
  {
   "cell_type": "markdown",
   "metadata": {
    "collapsed": false
   },
   "source": [
    "2c. Build a dictionary in Python that has keys of 5 *distinct types*. The values can be arbitrary. Remember: to get the type of an object X in Python, call type(X). In the markdown cell below the dictionary, write out a reasonable key type you could use if you were using the key to index a location in a grid (i.e. the key has an x-coordinate and a y-coordinate). This link may be useful: https://www.tutorialsteacher.com/python/python-data-types"
   ]
  },
  {
   "cell_type": "code",
   "execution_count": 0,
   "metadata": {
    "collapsed": false
   },
   "outputs": [
   ],
   "source": [
    "typeDict = ###Your code here"
   ]
  },
  {
   "cell_type": "markdown",
   "metadata": {
    "collapsed": false
   },
   "source": [
    "Answer Box:"
   ]
  },
  {
   "cell_type": "markdown",
   "metadata": {
    "collapsed": false
   },
   "source": [
    "### Problem 3: Truth values"
   ]
  },
  {
   "cell_type": "markdown",
   "metadata": {
    "collapsed": false
   },
   "source": [
    "Grading criterion: correctness and thoroughness.\n",
    "\n",
    "An expression `e` will be called *truthy* if `bool(e)` is `True`. Otherwise `e` is *falsy*. In other words, the following conditional statement determines whether or not an object is truthy:"
   ]
  },
  {
   "cell_type": "raw",
   "metadata": {
    "collapsed": false
   },
   "source": [
    "if e:\n",
    "    print('This object is truthy')\n",
    "else:\n",
    "    print('This object is falsy')"
   ]
  },
  {
   "cell_type": "markdown",
   "metadata": {
    "collapsed": false
   },
   "source": [
    "3a. Create a list `l` consisting of 10 different Python objects that are falsy. For correctness, your list must have the property that `a is b` evaluates to `False` whenever `a` and `b` are entries of the list in different positions. For thoroughness, the entries should look as different as possible. (Hint: an empty list `[]` is an example.)"
   ]
  },
  {
   "cell_type": "code",
   "execution_count": 0,
   "metadata": {
    "collapsed": false
   },
   "outputs": [
   ],
   "source": [
    "l = [] # insert ten objects here"
   ]
  },
  {
   "cell_type": "code",
   "execution_count": 0,
   "metadata": {
    "collapsed": false
   },
   "outputs": [
   ],
   "source": [
    "# Use this code to test correctness of your answer. Each print statement should output True if you've done this correctly.\n",
    "print(len(l) == 10) # Checks that your list has exactly 10 elements\n",
    "print(all(not l[i] for i in range(10))) # Checks that your list consists of falsy elements\n",
    "print(all(not (l[i] is l[j]) for i in range(10) for j in range(i+1, 10))) # Checks that different list elements correspond to different  "
   ]
  },
  {
   "cell_type": "markdown",
   "metadata": {
    "collapsed": false
   },
   "source": [
    "3b. In Python, \"is\" means \"identical objects\", whereas \"==\" can be much more subtle. Create a list `l` consisting of 5 tuples `(a, b)` for each of which `a==b` evaluates to `True` but `a is b` evaluates to `False`. (Hint: the tuple `([], [])` is an example)"
   ]
  },
  {
   "cell_type": "code",
   "execution_count": 8,
   "metadata": {
    "collapsed": false
   },
   "outputs": [
    {
     "data": {
      "text/plain": [
       "True"
      ]
     },
     "execution_count": 8,
     "metadata": {
     },
     "output_type": "execute_result"
    }
   ],
   "source": [
    "l = [] # insert five objects here\n"
   ]
  },
  {
   "cell_type": "markdown",
   "metadata": {
    "collapsed": false
   },
   "source": [
    "3c: By analogy with the code snippet given to test your answer in 3a, write a code snippet to verify correctness of your answer to 3b. That is, the code snippet should print one or more True/False values, all of which are True if and only if the answer is correct."
   ]
  },
  {
   "cell_type": "code",
   "execution_count": 0,
   "metadata": {
    "collapsed": false
   },
   "outputs": [
   ],
   "source": [
    "# Your code snippet goes here"
   ]
  },
  {
   "cell_type": "markdown",
   "metadata": {
    "collapsed": false
   },
   "source": [
    "### Problem 4: Flow control\n",
    "\n",
    "Grading criterion: correctness of output."
   ]
  },
  {
   "cell_type": "markdown",
   "metadata": {
    "collapsed": false
   },
   "source": [
    "4b. Write a function named `fizzBuzz` that accepts an integer `N` and for each integer `m` from `1` to `N`, prints `'Fizz'` if `m` is divisible by 2 but not 3, prints `'Buzz'` if `m` is divisible by 3 but not 2, prints `'FizzBuzz'` if `m` is divisible by 2 and 3, and prints `'Moot'` if none of the above are true."
   ]
  },
  {
   "cell_type": "code",
   "execution_count": 0,
   "metadata": {
    "collapsed": false
   },
   "outputs": [
   ],
   "source": [
    "def fizzBuzz(N):\n",
    "    # Your code goes here"
   ]
  },
  {
   "cell_type": "code",
   "execution_count": 0,
   "metadata": {
    "collapsed": false
   },
   "outputs": [
   ],
   "source": [
    "# To test your answer, run the following function call. I have displayed the output you should get in the raw cell below.\n",
    "fizzBuzz(7)"
   ]
  },
  {
   "cell_type": "raw",
   "metadata": {
    "collapsed": false
   },
   "source": [
    "Moot\n",
    "Fizz\n",
    "Buzz\n",
    "Fizz\n",
    "Moot\n",
    "FizzBuzz\n",
    "Moot"
   ]
  },
  {
   "cell_type": "markdown",
   "metadata": {
    "collapsed": false
   },
   "source": [
    "### Problem 5: Better and worse\n",
    "\n",
    "Grading criterion: correctness of code and thoroughness of explanation.  "
   ]
  },
  {
   "cell_type": "markdown",
   "metadata": {
    "collapsed": false
   },
   "source": [
    "5a. The Fibonacci numbers are defined by $f_0 = f_1 = 1$ and, for $n\\geq 2$, \n",
    "$$f_n = f_{n-1}+f_{n-2}.$$\n",
    "Write two functions which take as input a non-negative integer $n$ and output the $n$th Fibonacci number. The first function, `fib1`, *should use recursion*. The second function, `fib2`, *should not use recursion*. \n",
    "\n",
    "If you have not seen recursion before, I have written a function which uses recursion to compute the $n$th factorial, $$n! = n\\cdot(n-1)\\dots 2\\cdot 1.$$\n",
    "You may want to model `fib1` after this. "
   ]
  },
  {
   "cell_type": "code",
   "execution_count": 9,
   "metadata": {
    "collapsed": false
   },
   "outputs": [
   ],
   "source": [
    "def recursiveFactorial(N):\n",
    "    if N == 0:      #Every recursive function needs a base case, to tell the program where to start\n",
    "        return(1)   #In this case, the base case is 0! = 1\n",
    "    else:                                  #If we are not in the base case, this means N >= 1\n",
    "        return(N*recursiveFactorial(N-1))  #In this case, we reduce the problem to finding recursiveFactorial(N-1), and then modify it by multiplying by N to get the final answer."
   ]
  },
  {
   "cell_type": "code",
   "execution_count": 0,
   "metadata": {
    "collapsed": false
   },
   "outputs": [
   ],
   "source": [
    "def fib1(N):\n",
    "    #Your code goes here (use recursion this time!)"
   ]
  },
  {
   "cell_type": "code",
   "execution_count": 0,
   "metadata": {
    "collapsed": false
   },
   "outputs": [
   ],
   "source": [
    "def fib2(N):\n",
    "    #Your code goes here (do not use recursion this time!)"
   ]
  },
  {
   "cell_type": "code",
   "execution_count": 0,
   "metadata": {
    "collapsed": false
   },
   "outputs": [
   ],
   "source": [
    "#To verify that your functions agree, run this line:\n",
    "print(all([fib1(n) == fib2(n) for n in range(0,15)]))"
   ]
  },
  {
   "cell_type": "markdown",
   "metadata": {
    "collapsed": false
   },
   "source": [
    "5b.) What are the two code cells below this question computing? Based on the evaluation of the code cells, which method of computing Fibonacci numbers is preferable? (You may want to read about Python's time module here: https://docs.python.org/3/library/time.html, although you can probably guess what is happening with the timing anyways. For those of you interested in coding as a potential career, you may want to read about the differences between recursion and dynamic programming, which this problem highlights)"
   ]
  },
  {
   "cell_type": "code",
   "execution_count": 0,
   "metadata": {
    "collapsed": false,
    "scrolled": true
   },
   "outputs": [
   ],
   "source": [
    "import time\n",
    "a = time.time()\n",
    "for i in range(10):\n",
    "    g = fib1(30)\n",
    "b = time.time()\n",
    "print((b-a)/10)"
   ]
  },
  {
   "cell_type": "code",
   "execution_count": 0,
   "metadata": {
    "collapsed": false
   },
   "outputs": [
   ],
   "source": [
    "import time\n",
    "a = time.time()\n",
    "for i in range(10):\n",
    "    g = fib2(30)\n",
    "b = time.time()\n",
    "print((b-a)/10)"
   ]
  },
  {
   "cell_type": "markdown",
   "metadata": {
    "collapsed": false
   },
   "source": [
    "Answer Box:"
   ]
  },
  {
   "cell_type": "markdown",
   "metadata": {
    "collapsed": false
   },
   "source": [
    "### Problem 6: List comprehensions\n",
    "\n",
    "Grading criterion: correctness."
   ]
  },
  {
   "cell_type": "markdown",
   "metadata": {
    "collapsed": false
   },
   "source": [
    "Translate each of the following mathematical definitions of sets into a Python list comprehension. WARNING: Remember how the range function in Python works, and remember that exponentiation in Python *does not* use the carat symbol.\n",
    "- $\\{x:0\\leq x\\leq 100\\}$\n",
    "- $\\{x: 0 < x < 100, x \\not\\equiv 0 \\pmod{3} \\}$\n",
    "- $\\{x: 10 < x < 50, x^2 \\equiv 1 \\pmod{5}\\}$\n",
    "- $\\{(x,y): 0 < x < 1000, 0 < y < 1000, x^2 - y^3 = 1\\}$"
   ]
  },
  {
   "cell_type": "code",
   "execution_count": 0,
   "metadata": {
    "collapsed": false
   },
   "outputs": [
   ],
   "source": [
    "l1 = #Replace this comment with your one line list comprehension "
   ]
  },
  {
   "cell_type": "code",
   "execution_count": 0,
   "metadata": {
    "collapsed": false
   },
   "outputs": [
   ],
   "source": [
    "l2 = #Replace this comment with your one line list comprehension "
   ]
  },
  {
   "cell_type": "code",
   "execution_count": 0,
   "metadata": {
    "collapsed": false
   },
   "outputs": [
   ],
   "source": [
    "l3 = #Replace this comment with your one line list comprehension "
   ]
  },
  {
   "cell_type": "code",
   "execution_count": 0,
   "metadata": {
    "collapsed": false
   },
   "outputs": [
   ],
   "source": [
    "l4 = #Replace this comment with your one line list comprehension"
   ]
  },
  {
   "cell_type": "code",
   "execution_count": 0,
   "metadata": {
    "collapsed": false
   },
   "outputs": [
   ],
   "source": [
    "print(l1)\n",
    "print(l2)\n",
    "print(l3)\n",
    "print(l4)"
   ]
  }
 ],
 "metadata": {
  "kernelspec": {
   "display_name": "Python 3 (system-wide)",
   "language": "python",
   "metadata": {
    "cocalc": {
     "description": "Python 3 programming language",
     "priority": 100,
     "url": "https://www.python.org/"
    }
   },
   "name": "python3",
   "resource_dir": "/ext/jupyter/kernels/python3"
  },
  "language_info": {
   "codemirror_mode": {
    "name": "ipython",
    "version": 3
   },
   "file_extension": ".py",
   "mimetype": "text/x-python",
   "name": "python",
   "nbconvert_exporter": "python",
   "pygments_lexer": "ipython3",
   "version": "3.8.5"
  }
 },
 "nbformat": 4,
 "nbformat_minor": 4
}