{
 "cells": [
  {
   "cell_type": "markdown",
   "metadata": {
    "collapsed": false
   },
   "source": [
    "### Math 157: Intro to Mathematical Software\n",
    "### UC San Diego, Winter 2021"
   ]
  },
  {
   "cell_type": "markdown",
   "metadata": {
    "collapsed": false
   },
   "source": [
    "### Homework 2: due Thursday, Jan 21 at 8PM Pacific\n",
    "\n",
    "### Kernel: \n",
    "All computations in this notebook should use the SageMath kernel."
   ]
  },
  {
   "cell_type": "markdown",
   "metadata": {
    "collapsed": false
   },
   "source": [
    "### Collaborators/resources used:\n",
    "To start, please list all students you worked with in the box below. Additionally, include basic citations to resources you used along the way (it can be as simple as Title: hyperlink_to_the_webpage). You do not need to add citations to hyperlinks of resources that I have already added.\n",
    "\n",
    "Remember! Collaboration is *encouraged*, but *you must write up answers in your own words*. "
   ]
  },
  {
   "cell_type": "markdown",
   "metadata": {
    "collapsed": false
   },
   "source": [
    "References/collaborators here:"
   ]
  },
  {
   "cell_type": "markdown",
   "metadata": {
    "collapsed": false
   },
   "source": [
    "### Problem 1: Distribution of Primes\n",
    "The famous *Prime Number Theorem* says, among other things, that the number of prime numbers between $1$ and $N$ is roughly $\\tfrac{N}{\\ln(N)}$. In other words, if $\\pi(N)$ is the prime counting function, \n",
    "$$\n",
    "\\pi(N) = \\#\\{p:p\\text{ is prime and }1\\leq p \\leq N\\}\n",
    "$$\n",
    "then \n",
    "$$\n",
    "\\lim_{N\\to\\infty}\\pi(N)\\frac{\\ln(N)}{N} = 1.\n",
    "$$\n",
    "\n",
    "a.) 3 pts\n",
    "\n",
    "In the code cell below, write a function which takes as input a positive integer $N$ and returns the above ratio, \n",
    "$$\n",
    "\\pi(N)\\frac{\\ln(N)}{N},\n",
    "$$\n",
    "as a *float*.\n",
    "Hint: Sage has a builtin function to compute $\\pi(N)$ which is probably much faster than what you would write; use the builtin!"
   ]
  },
  {
   "cell_type": "code",
   "execution_count": 0,
   "metadata": {
    "collapsed": false
   },
   "outputs": [
   ],
   "source": [
    "def primeRatio(N):\n",
    "    #Your code here:"
   ]
  },
  {
   "cell_type": "markdown",
   "metadata": {
    "collapsed": false
   },
   "source": [
    "Run the following code cell below to see how fast the limit converges:"
   ]
  },
  {
   "cell_type": "code",
   "execution_count": 0,
   "metadata": {
    "collapsed": false
   },
   "outputs": [
   ],
   "source": [
    "for i in range(5,11):\n",
    "    print(primeRatio(i))"
   ]
  },
  {
   "cell_type": "markdown",
   "metadata": {
    "collapsed": false
   },
   "source": [
    "b.) 2 pts\n",
    "\n",
    "Let $N$ be a positive integer, $N\\geq 3$. Let $p$ be *the largest prime number which is smaller than $N$*. So if $N = 18$, then $p = 17$. If $N = 52$ then $p = 47$. As a function of $N$, how large would you expect the difference $N-p$ to be? Hint: Use the Prime Number Theorem and assume the prime numbers that are less than $N$ are distributed *randomly* in the interval $[1,N]$."
   ]
  },
  {
   "cell_type": "markdown",
   "metadata": {
    "collapsed": false
   },
   "source": [
    "Your answer here:"
   ]
  },
  {
   "cell_type": "markdown",
   "metadata": {
    "collapsed": false
   },
   "source": [
    "c.) 2 pts\n",
    "\n",
    "Write a function `lessPrime` which works as in 1b.). I.e. it \n",
    "- takes as input a positive integer $N\\geq 3$\n",
    "- returns the largest prime $p$ with $p\\leq N$. "
   ]
  },
  {
   "cell_type": "code",
   "execution_count": 0,
   "metadata": {
    "collapsed": false
   },
   "outputs": [
   ],
   "source": [
    "def lessPrime(N):\n",
    "    #Your code here"
   ]
  },
  {
   "cell_type": "markdown",
   "metadata": {
    "collapsed": false
   },
   "source": [
    "Run the following to check your answer:"
   ]
  },
  {
   "cell_type": "code",
   "execution_count": 0,
   "metadata": {
    "collapsed": false
   },
   "outputs": [
   ],
   "source": [
    "print(lessPrime(18))\n",
    "print(lessPrime(52))"
   ]
  },
  {
   "cell_type": "markdown",
   "metadata": {
    "collapsed": false
   },
   "source": [
    "d.) 3 pts (2 pts for creating the plot, 1 pt for your observations)\n",
    "\n",
    "The `randint` function is a builtin function which produces random integers. Namely, `randint(a,b)` gives a random integer selected from the range $[a,b]$ (this is one of the few functions which is inclusive on *both ends*). Using `randint`, produce a list of 1000 random integers between $10^{15}$ and $2*10^{15}$. Then:\n",
    "- Create the list of tuples `[(log(i), i - lessPrime(i)) for i in randomIntegers]`\n",
    "- Create the list of tuples `[(log(i), log(i)) for i in randomIntegers] `\n",
    "- Using SageMath's `list_plot` function, plot *both* sets of data on a single plot (use different colors for each data set)\n",
    "- Compute the average of `i-lessPrime(i)` over your list of `randomIntegers`. Compare this to `log(10^15)`. What do you think about your answer to 1c.)? Do the primes look like they are distributed randomly?"
   ]
  },
  {
   "cell_type": "code",
   "execution_count": 0,
   "metadata": {
    "collapsed": false
   },
   "outputs": [
   ],
   "source": [
    "randomIntegers = #Complete the list\n",
    "\n",
    "#Add the remaining code in this cell. Run the cell so that it produces your plot."
   ]
  },
  {
   "cell_type": "markdown",
   "metadata": {
    "collapsed": false
   },
   "source": [
    "Add a line or two of text discussing your results in this cell."
   ]
  },
  {
   "cell_type": "markdown",
   "metadata": {
    "collapsed": false
   },
   "source": [
    "### Problem 2: Diophantine Equations\n",
    "a.) 6 pts\n",
    "\n",
    "Write a function `naiveModularSolver` which does the following:\n",
    "- It takes as input a number `N` larger than 2 and a trivariate integer polynomial `f` (i.e. `f` is a polynomial in variables `x`,`y`,`z`).\n",
    "- It outputs `True` or `False`, depending on whether or not `f` has a solution mod `N`.\n",
    "\n",
    "You should do this by iterating over all possible tuples `(a,b,c)` of integers mod `N` and directly testing if this triple is a zero of `f` mod `N` (Sage *does* have various modular arithmetic solvers, but I want you to do this on your own)."
   ]
  },
  {
   "cell_type": "code",
   "execution_count": 0,
   "metadata": {
    "collapsed": false
   },
   "outputs": [
   ],
   "source": [
    "def naiveModularSolver(N,f):\n",
    "    #your code here"
   ]
  },
  {
   "cell_type": "markdown",
   "metadata": {
    "collapsed": false
   },
   "source": [
    "To test your code, run the following code cell. The first print statement should give `True` and the second should give `False.`"
   ]
  },
  {
   "cell_type": "code",
   "execution_count": 0,
   "metadata": {
    "collapsed": false
   },
   "outputs": [
   ],
   "source": [
    "var('x','y','z')\n",
    "f(x,y,z) = x^2 + z*y + 1\n",
    "g(x,y,z) = x^2 + 14*y^3 + 7*z - 12\n",
    "\n",
    "print(naiveModularSolver(3, f)    #This should print True\n",
    "print(naiveModularSolver(7,g))     #This should print False"
   ]
  },
  {
   "cell_type": "markdown",
   "metadata": {
    "collapsed": false
   },
   "source": [
    "b.) 4 pts\n",
    "\n",
    "Does the equation \n",
    "$$\n",
    "x^2 + 14y^3 + 7z = 12\n",
    "$$\n",
    "have any solutions with $x,y,$ and $z$ all integers? I am looking for something that is close to a proof here, so add a bit more detail than usual:"
   ]
  },
  {
   "cell_type": "markdown",
   "metadata": {
    "collapsed": false
   },
   "source": [
    "ANSWER HERE"
   ]
  },
  {
   "cell_type": "markdown",
   "metadata": {
    "collapsed": false
   },
   "source": [
    "### Problem 3: Taylor series\n",
    "a.) 1 pt\n",
    "\n",
    "Instantiate a symbolic function $f$ in the code cell below, with $f(x) = \\cos(x+x^2)$. (NOT a Python function; look back at Lecture 6 if you're confused)"
   ]
  },
  {
   "cell_type": "code",
   "execution_count": 0,
   "metadata": {
    "collapsed": false
   },
   "outputs": [
   ],
   "source": [
    "#Code here"
   ]
  },
  {
   "cell_type": "markdown",
   "metadata": {
    "collapsed": false
   },
   "source": [
    "b.) 4 pts\n",
    "\n",
    "Find the degree 1, 2, 3, and 4 Taylor expansions of $f$ around $x_0 = \\pi/2$. Hint: Use the method `f.taylor(variableName, point, degree)`. The arguments can be found by running the introspection below if you want. I do not suggest printing the polynomials because they are very ugly, but you can if you want."
   ]
  },
  {
   "cell_type": "code",
   "execution_count": 0,
   "metadata": {
    "collapsed": false
   },
   "outputs": [
   ],
   "source": [
    ".taylor??"
   ]
  },
  {
   "cell_type": "code",
   "execution_count": 0,
   "metadata": {
    "collapsed": false
   },
   "outputs": [
   ],
   "source": [
    "#Code here\n",
    "tay1 = \n",
    "tay2 = \n",
    "tay3 = \n",
    "tay4 = "
   ]
  },
  {
   "cell_type": "markdown",
   "metadata": {
    "collapsed": false
   },
   "source": [
    "Run the cell below to see how good the approximations are:"
   ]
  },
  {
   "cell_type": "code",
   "execution_count": 0,
   "metadata": {
    "collapsed": false
   },
   "outputs": [
   ],
   "source": [
    "print(float(f(pi/2+.2)))\n",
    "print('*********************')\n",
    "print(float(tay1(pi/2+.2)))\n",
    "print(float(tay2(pi/2+.2)))\n",
    "print(float(tay3(pi/2+.2)))\n",
    "print(float(tay4(pi/2+.2)))"
   ]
  },
  {
   "cell_type": "markdown",
   "metadata": {
    "collapsed": false
   },
   "source": [
    "c.) 5 pts\n",
    "\n",
    "Using Sage's `plot` command, make *a single Sage plot on the interval $x=[0, \\pi]$* showing $f(x)$ and all of the Taylor polynomials computed in 2b.). Use the following parameters to make the graph easier to view:\n",
    "- Set `ymax = 2` and `ymin = -2` to make sure the scale is correct.\n",
    "- Give each curve a unique color using the `color = 'YOURCOLORNAME'` command so that you can distinguish between the 5 curves\n",
    "- Add a legend which labels the curve using `legend_label = 'SOMELABEL'`. For instance, a reasonable label would be `'Degree N'` for the Taylor polynomials (replacing `N` with the appropriate degree), and simply `'f(x)'` for the original function."
   ]
  },
  {
   "cell_type": "code",
   "execution_count": 0,
   "metadata": {
    "collapsed": false
   },
   "outputs": [
   ],
   "source": [
    "#Enter code to produce your plot here"
   ]
  },
  {
   "cell_type": "markdown",
   "metadata": {
    "collapsed": false
   },
   "source": [
    "### Problem 4: Integration Station\n",
    "\n",
    "a.) 2 pts\n",
    "\n",
    "Plot the ellipse $x^2 + 2y^2 = 1$ in $\\mathbb{R}^2$ using Sage. Hint: You can do this in one line using Sage's `implicit_plot` function. Set `axes = True` when you call the function to give a better picture of the ellipse."
   ]
  },
  {
   "cell_type": "code",
   "execution_count": 0,
   "metadata": {
    "collapsed": false
   },
   "outputs": [
   ],
   "source": [
    "var('y')\n",
    "#Your code here"
   ]
  },
  {
   "cell_type": "markdown",
   "metadata": {
    "collapsed": false
   },
   "source": [
    "b.) 2 pts\n",
    "\n",
    "Write (but do not evaluate!) an integral formula in LaTex formatting which calculates the area of the set of points in the first quadrant which lie below the ellipse:\n",
    "$$\n",
    "\\{(x,y): x\\geq 0, y\\geq 0, x^2 + 2y^2 \\leq 1\\}.\n",
    "$$"
   ]
  },
  {
   "cell_type": "markdown",
   "metadata": {
    "collapsed": false
   },
   "source": [
    "Your answer here"
   ]
  },
  {
   "cell_type": "markdown",
   "metadata": {
    "collapsed": false
   },
   "source": [
    "c.) 3 pts\n",
    "\n",
    "Write a Sage expression to calculate the integral above. Hint: one way to do this is to use the `integrate` function twice on the symbolic function `f(x,y) = 1` to do a double integral which calculates area. The bounds for the various integrals will be given by your work in 4b.). When set up correctly, you can do this in one or two lines of code."
   ]
  },
  {
   "cell_type": "code",
   "execution_count": 0,
   "metadata": {
    "collapsed": false
   },
   "outputs": [
   ],
   "source": [
    "#Your code here"
   ]
  },
  {
   "cell_type": "markdown",
   "metadata": {
    "collapsed": false
   },
   "source": [
    "d.) 3 pts\n",
    "\n",
    "Write one or two sentences explaining why your answer in 4c.) is correct (mathematically). Hint: what is the total area of an ellipse? How much of that area lies in one of the 4 quadrants, when the ellipse is centered at the origin? You shouldn't be doing much calculations at all; use symmetry. If you forgot your formula for the area in an ellipse, look here: https://en.wikipedia.org/wiki/Ellipse#Area ."
   ]
  },
  {
   "cell_type": "markdown",
   "metadata": {
    "collapsed": false
   },
   "source": [
    "Your answer here"
   ]
  },
  {
   "cell_type": "markdown",
   "metadata": {
    "collapsed": false
   },
   "source": [
    "### Problem 5: Grades!\n",
    "\n",
    "a.) 5 pts\n",
    "\n",
    "Write a function `grade` which does the following:\n",
    "- It takes as input a *dictionary* of a student's scores in this class. So it has the following key value pairs:\n",
    "    - the key `'Assignments'` has value a list `L1` with 8 numeric scores between 0 and 100\n",
    "    - the key `'Quizzes'` has value a list `L2` with 2 numeric scores between 0 and 100\n",
    "    - the key `'Participation'` has value a list `L3` with 25 binary values (i.e. either 0 or 1)\n",
    "    - the key `'Final Project'` has value a list `L4` with a single numeric score between 0 and 100.\n",
    "- The output of this function is the student's adjusted total score (out of 100) for this class. This should return a *float* (not a fraction).\n",
    "\n",
    "Hint: If you sort a list it becomes easy to find the maximum `k` elements of that list. Check out Python's `sorted()` function.\n",
    "\n",
    "Feel free to use this function throughout the quarter for yourself!"
   ]
  },
  {
   "cell_type": "code",
   "execution_count": 0,
   "metadata": {
    "collapsed": false
   },
   "outputs": [
   ],
   "source": [
    "def grade(dictionary):\n",
    "    #Your code goes here"
   ]
  },
  {
   "cell_type": "markdown",
   "metadata": {
    "collapsed": false
   },
   "source": [
    "Evaluate the code below to test your answer:"
   ]
  },
  {
   "cell_type": "code",
   "execution_count": 0,
   "metadata": {
    "collapsed": false
   },
   "outputs": [
   ],
   "source": [
    "myGrades = {'Assignments':[94,91,82,75,61,0,92,99],'Quizzes':[84,89],'Participation':[1,1,0,1,0,1,0,1,1,0,1,0,0,1,1,1,1,0,0,1,1,0,1,0,1],'Final Project':[92]}\n",
    "print(grade(myGrades))"
   ]
  },
  {
   "cell_type": "markdown",
   "metadata": {
    "collapsed": false
   },
   "source": [
    "b.) 5 pts\n",
    "\n",
    "In the code cell below there is a dictionary `gradeDict` which has \"grades\" for 100 made up students. Each student has an ID (a number between 0 and 99). To access the grades for student `j`, you call `gradeDict[j]` . This leaves you with a student specific grade dictionary as in part a.) of this problem. Do the following:\n",
    "- Create a list `L` of final grades, where `L[j]` has the final grade of student `j`. \n",
    "- Using a histogram with 10 bins, plot the distribution of grades in this made up class. \n",
    "\n",
    "NOTE: Everyone will have slightly different histograms, as I am generating the grades completely randomly. But your code will essentially be the same. Sage has multiple methods to plot histograms. The `histogram` function (lowercase h!) described here will work https://doc.sagemath.org/html/en/reference/plotting/sage/plot/histogram.html (but note you have to make an import statement!)"
   ]
  },
  {
   "cell_type": "code",
   "execution_count": 0,
   "metadata": {
    "collapsed": false
   },
   "outputs": [
   ],
   "source": [
    "gradeDict = {i:{'Assignments':[randint(0,100) for _ in range(8)],'Quizzes':[randint(20,100), randint(40,100)],'Participation':[randint(0,1) for _ in range(25)], 'Final Project':[randint(50,100)]} for i in range(100)}\n",
    "# Enter your code below to produce a histogram:"
   ]
  }
 ],
 "metadata": {
  "kernelspec": {
   "display_name": "SageMath 9.2",
   "language": "sagemath",
   "metadata": {
    "cocalc": {
     "description": "Open-source mathematical software system",
     "priority": 10,
     "url": "https://www.sagemath.org/"
    }
   },
   "name": "sage-9.2",
   "resource_dir": "/ext/jupyter/kernels/sage-9.2"
  },
  "language_info": {
   "codemirror_mode": {
    "name": "ipython",
    "version": 3
   },
   "file_extension": ".py",
   "mimetype": "text/x-python",
   "name": "python",
   "nbconvert_exporter": "python",
   "pygments_lexer": "ipython3",
   "version": "3.8.5"
  }
 },
 "nbformat": 4,
 "nbformat_minor": 4
}