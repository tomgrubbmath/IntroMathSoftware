{
 "cells": [
  {
   "cell_type": "markdown",
   "metadata": {
    "collapsed": false
   },
   "source": [
    "### Math 157: Intro to Mathematical Software\n",
    "### UC San Diego, Winter 2021"
   ]
  },
  {
   "cell_type": "markdown",
   "metadata": {
    "collapsed": false
   },
   "source": [
    "### Homework 5: due Thursday, Feb 11 at 8PM Pacific\n",
    "\n",
    "### Kernel: \n",
    "All computations in this notebook should use the SageMath kernel."
   ]
  },
  {
   "cell_type": "markdown",
   "metadata": {
    "collapsed": false
   },
   "source": [
    "### Collaborators/resources used:\n",
    "To start, please list all students you worked with in the box below. Additionally, include basic citations to resources you used along the way (it can be as simple as Title: hyperlink_to_the_webpage). You do not need to add citations to hyperlinks of resources that I have already added.\n",
    "\n",
    "Remember! Collaboration is *encouraged*, but *you must write up answers in your own words*. "
   ]
  },
  {
   "cell_type": "markdown",
   "metadata": {
    "collapsed": false
   },
   "source": [
    "References/collaborators here:"
   ]
  },
  {
   "cell_type": "markdown",
   "metadata": {
    "collapsed": false
   },
   "source": [
    "## Problem 1: Function Graphs\n",
    "\n",
    "a.)\n",
    "\n",
    "Write a function `polynomialGraph(N,f)` which does the following:\n",
    "- Takes as input an integer $N$ and a univariate polynomial $f$ with integer coefficients.\n",
    "- Creates and returns a *looped* directed graph $G$ with \n",
    "    - vertices given by the integers $0,1,\\dots,N-1$.\n",
    "    - an edge from $i$ to $j$ if and only if $f(i) \\equiv j \\mod N$.\n",
    "    \n",
    "A looped graph is a graph which allows an edge from a vertex to itself. I have shown an example below; note the syntax `G.allow_loops(True)`, which allows the graph to contain loops:"
   ]
  },
  {
   "cell_type": "code",
   "execution_count": 0,
   "metadata": {
    "collapsed": false
   },
   "outputs": [
   ],
   "source": [
    "G = DiGraph()\n",
    "G.allow_loops(True)\n",
    "G.add_vertices([1,2])\n",
    "G.add_edges([(1,1),(1,2)])\n",
    "show(G)"
   ]
  },
  {
   "cell_type": "code",
   "execution_count": 0,
   "metadata": {
    "collapsed": false
   },
   "outputs": [
   ],
   "source": [
    "def polyGraph(p,f):\n",
    "    #Your code here"
   ]
  },
  {
   "cell_type": "markdown",
   "metadata": {
    "collapsed": false
   },
   "source": [
    "b.)\n",
    "\n",
    "In the code cell below I have defined three quadratic polynomials:"
   ]
  },
  {
   "cell_type": "code",
   "execution_count": 0,
   "metadata": {
    "collapsed": false
   },
   "outputs": [
   ],
   "source": [
    "var('x')\n",
    "f(x) = x^2 + 1\n",
    "g(x) = x^2\n",
    "h(x) = x^2 - 1"
   ]
  },
  {
   "cell_type": "markdown",
   "metadata": {
    "collapsed": false
   },
   "source": [
    "For each such polynomial `poly`, iterate through the integers $N = 2, 3, \\dots, 200$ and collect data on the number of connected components in your graph `polynomialGraph(N, poly)`. Then plot *three separate histograms* (one for each polynomial) plotting the data you have collected for each polynomial. "
   ]
  },
  {
   "cell_type": "code",
   "execution_count": 0,
   "metadata": {
    "collapsed": false
   },
   "outputs": [
   ],
   "source": [
    "#Your code for f in this cell"
   ]
  },
  {
   "cell_type": "code",
   "execution_count": 0,
   "metadata": {
    "collapsed": false
   },
   "outputs": [
   ],
   "source": [
    "#Your code for g in this cell"
   ]
  },
  {
   "cell_type": "code",
   "execution_count": 0,
   "metadata": {
    "collapsed": false
   },
   "outputs": [
   ],
   "source": [
    "#Your code for h in this cell"
   ]
  },
  {
   "cell_type": "markdown",
   "metadata": {
    "collapsed": false
   },
   "source": [
    "c.) \n",
    "\n",
    "In the code cell below I have wrote a function which creates a similar graph, but the polynomial $f$ has been replaced with a *random function*. Analogously to part b.), call `randomFunctionGraph(N)` for $N = 2,3,\\dots, 100$ and keep track of the number of connected components. Then plot the corresponding histogram. In the markdown cell below, answer: which of the polynomials $f, g, h$ is behaving \"most randomly,\" as measured by their histograms?"
   ]
  },
  {
   "cell_type": "code",
   "execution_count": 0,
   "metadata": {
    "collapsed": false
   },
   "outputs": [
   ],
   "source": [
    "import random\n",
    "def randomFunctionGraph(N):\n",
    "    G = DiGraph()\n",
    "    G.allow_loops(True)\n",
    "    G.add_vertices([i for i in range(N)])\n",
    "    for i in G:\n",
    "        G.add_edge((i, random.randint(0,N-1)))\n",
    "    return(G)\n",
    "\n",
    "randomFunctionGraph(17)"
   ]
  },
  {
   "cell_type": "code",
   "execution_count": 0,
   "metadata": {
    "collapsed": false
   },
   "outputs": [
   ],
   "source": [
    "#Your code here"
   ]
  },
  {
   "cell_type": "markdown",
   "metadata": {
    "collapsed": false
   },
   "source": [
    "Your answer here."
   ]
  },
  {
   "cell_type": "markdown",
   "metadata": {
    "collapsed": false
   },
   "source": [
    "This question is related to *Pollard's rho algorithm* for factoring numbers. See here: https://en.wikipedia.org/wiki/Pollard%27s_rho_algorithm if you are interested. "
   ]
  },
  {
   "cell_type": "markdown",
   "metadata": {
    "collapsed": false
   },
   "source": [
    "## Problem 2: Sophie Germain Primes\n",
    "\n",
    "A *Sophie Germain prime* is a prime number $p$ such that $2p+1$ is also prime. They are named after the French mathematician Sophie Germain: https://en.wikipedia.org/wiki/Sophie_Germain , who was interested in them as a result of her interest in the famous *Fermat's Last Theorem*. Nowadays they are of interest as they have applications to cryptography.\n",
    "\n",
    "a.) Write a function `germain(N)` which takes as input a positive integer $N$ and returns a list of the Sophie Germain primes which are less than or equal to $N$."
   ]
  },
  {
   "cell_type": "code",
   "execution_count": 0,
   "metadata": {
    "collapsed": false
   },
   "outputs": [
   ],
   "source": [
    "def germain(N):\n",
    "    #Your code here\n",
    "\n",
    "germain(100)"
   ]
  },
  {
   "cell_type": "markdown",
   "metadata": {
    "collapsed": false
   },
   "source": [
    "b.) \n",
    "\n",
    "The *PrimeGrid* project is a collaborative, distributed computing project which aims to find large numbers of a given type: https://en.wikipedia.org/wiki/PrimeGrid. Take a look at their Wikipedia page, and then in the Markdown cell below:\n",
    "- Write down the largest Sophie Germain prime that PrimeGrid has found. How many digits are in this number? (you can use Sage's .ndigits() function if needed)\n",
    "- Give a short (one line) description of another project that PrimeGrid is working on."
   ]
  },
  {
   "cell_type": "code",
   "execution_count": 0,
   "metadata": {
    "collapsed": false
   },
   "outputs": [
   ],
   "source": [
    "#Sage code if needed"
   ]
  },
  {
   "cell_type": "markdown",
   "metadata": {
    "collapsed": false
   },
   "source": [
    "Answer here"
   ]
  },
  {
   "cell_type": "markdown",
   "metadata": {
    "collapsed": false
   },
   "source": [
    "c.) \n",
    "\n",
    "A *Cunningham chain* is a sequence of prime numbers of the form $p, 2p+1, 2(2p+1)+1, 2(2(2p+1)+1)+1,\\dots$ I.e. each number is a prime number and, to get from one number to the next, you multiply by $2$ and add $1$. Any Sophie Germain prime $p$ gives rise to a Cunningham chain of two numbers, tautologically.\n",
    "\n",
    "Cunningham chains are currently of interest in relation to the ElGamal cryptosystem, and also Bitcoin.\n",
    "\n",
    "Write a function `cunningham(n)` which \n",
    "- takes as input a positive integer n\n",
    "- if n *is not prime*, returns 0\n",
    "- if n *is prime*, returns the length of the longest Cunningham chain which starts at n.\n",
    "\n",
    "For example:\n",
    "- cunningham(8) = 0\n",
    "- cunningham(7) = 1, since 7 is prime but 2*7+1 = 15 is not.\n",
    "- cunningham(2) = 5, since 2, 5, 11, 23, and 47 are prime, but 95 is not."
   ]
  },
  {
   "cell_type": "code",
   "execution_count": 0,
   "metadata": {
    "collapsed": false
   },
   "outputs": [
   ],
   "source": [
    "def cunningham(n):\n",
    "    #Your code here\n",
    "    \n",
    "for n in [8,7,2]:\n",
    "    print(cunningham(n))"
   ]
  },
  {
   "cell_type": "markdown",
   "metadata": {
    "collapsed": false
   },
   "source": [
    "d.)\n",
    "\n",
    "What is the longest Cunningham which starts at a number $n\\leq 10000$?"
   ]
  },
  {
   "cell_type": "code",
   "execution_count": 0,
   "metadata": {
    "collapsed": false
   },
   "outputs": [
   ],
   "source": [
   ]
  },
  {
   "cell_type": "markdown",
   "metadata": {
    "collapsed": false
   },
   "source": [
    "It is conjectured that there are Cunningham chains of arbitrary length (although it is impossible for a single Cunningham chain to extend infinitely)."
   ]
  },
  {
   "cell_type": "markdown",
   "metadata": {
    "collapsed": false
   },
   "source": [
    "## Problem 3: Quadratic Residues\n",
    "\n",
    "A *quadratic residue* mod $N$ is a residue class which can be written as a square mod $N$, i.e. $a$ is a quadratic residue mod $N$ if there exists $x$ with $x^2\\equiv a\\mod N$. You can access them in Sage like so:"
   ]
  },
  {
   "cell_type": "code",
   "execution_count": 0,
   "metadata": {
    "collapsed": false
   },
   "outputs": [
   ],
   "source": [
    "quadratic_residues(23)"
   ]
  },
  {
   "cell_type": "markdown",
   "metadata": {
    "collapsed": false
   },
   "source": [
    "a.)\n",
    "\n",
    "Write a function `quad2(n)` which takes as input a positive integer $n$ and returns \n",
    "- True if 2 is a quadratic residue mod $n$\n",
    "- False otherwise"
   ]
  },
  {
   "cell_type": "code",
   "execution_count": 0,
   "metadata": {
    "collapsed": false
   },
   "outputs": [
   ],
   "source": [
    "def quad2(n):\n",
    "    #your code here\n",
    "\n",
    "\n",
    "print(quad2(7))\n",
    "print(quad2(11))"
   ]
  },
  {
   "cell_type": "markdown",
   "metadata": {
    "collapsed": false
   },
   "source": [
    "b.) Compute the ratio\n",
    "$$\n",
    "\\frac{\\#\\{p:p\\text{ prime }, p < 10000, 2\\text{ is a quadratic residue mod } p\\}}{\\#\\{p:p\\text{ prime }, p < 10000\\}}\n",
    "$$"
   ]
  },
  {
   "cell_type": "code",
   "execution_count": 0,
   "metadata": {
    "collapsed": false
   },
   "outputs": [
   ],
   "source": [
    "#Code here"
   ]
  },
  {
   "cell_type": "markdown",
   "metadata": {
    "collapsed": false
   },
   "source": [
    "c.) Compute the ratio\n",
    "$$\n",
    "\\frac{\\#\\{p:p\\text{ prime }, p < 10000, p\\equiv 1 \\mod 8 \\text{ or }p\\equiv 7\\mod 8, \\text{ and } 2\\text{ is a quadratic residue mod } p\\}}{\\#\\{p:p\\text{ prime }, p < 10000, p\\equiv 1 \\mod 8 \\text{ or }p\\equiv 7\\mod 8\\}}\n",
    "$$"
   ]
  },
  {
   "cell_type": "code",
   "execution_count": 0,
   "metadata": {
    "collapsed": false
   },
   "outputs": [
   ],
   "source": [
    "#Code here"
   ]
  },
  {
   "cell_type": "markdown",
   "metadata": {
    "collapsed": false
   },
   "source": [
    "d.) Compute the ratio\n",
    "$$\n",
    "\\frac{\\#\\{p:p\\text{ prime }, p < 10000, p\\equiv 3 \\mod 8 \\text{ or }p\\equiv 5\\mod 8, \\text{ and } 2\\text{ is a quadratic residue mod } p\\}}{\\#\\{p:p\\text{ prime }, p < 10000, p\\equiv 3 \\mod 8 \\text{ or }p\\equiv 5\\mod 8\\}}\n",
    "$$"
   ]
  },
  {
   "cell_type": "code",
   "execution_count": 0,
   "metadata": {
    "collapsed": false
   },
   "outputs": [
   ],
   "source": [
    "#Code here"
   ]
  },
  {
   "cell_type": "markdown",
   "metadata": {
    "collapsed": false
   },
   "source": [
    "What you are seeing is a combination of *Quadratic Reciprocity* and the *Cebotarev Density Theorem* (there are no other possibilities for what $p$ could be mod $8$, except for the prime $p = 2$, which is just an exception)."
   ]
  },
  {
   "cell_type": "markdown",
   "metadata": {
    "collapsed": false
   },
   "source": [
    "## Problem 4: Artin's Conjecture on Primitive Roots"
   ]
  },
  {
   "cell_type": "markdown",
   "metadata": {
    "collapsed": false
   },
   "source": [
    "a.)\n",
    "\n",
    "Define a *primitive root* mod $p$, where $p$ is a prime number."
   ]
  },
  {
   "cell_type": "markdown",
   "metadata": {
    "collapsed": false
   },
   "source": [
    "Answer here"
   ]
  },
  {
   "cell_type": "markdown",
   "metadata": {
    "collapsed": false
   },
   "source": [
    "b.) \n",
    "\n",
    "Take a quick look at *Artin's Conjecture on primitive roots* here: https://en.wikipedia.org/wiki/Artin%27s_conjecture_on_primitive_roots\n",
    "\n",
    "Numerically compute Artin's constant accurately to at least $5$ decimal places using the formula that is in the Wikipedia page (don't just copy in the numeric value)."
   ]
  },
  {
   "cell_type": "code",
   "execution_count": 0,
   "metadata": {
    "collapsed": false
   },
   "outputs": [
   ],
   "source": [
    "#Your code here"
   ]
  },
  {
   "cell_type": "markdown",
   "metadata": {
    "collapsed": false
   },
   "source": [
    "c.) \n",
    "\n",
    "Write a function `artin(N)` which takes in a positive integer $N$ and outputs the ratio\n",
    "$$\n",
    "\\frac{\\#\\{p: p\\leq N, p\\text{ prime and }2\\text{ is a primitive root mod }p\\}}\n",
    "{\\#\\{p: p\\leq N, p\\text{ prime }\\}}\n",
    "$$"
   ]
  },
  {
   "cell_type": "code",
   "execution_count": 0,
   "metadata": {
    "collapsed": false
   },
   "outputs": [
   ],
   "source": [
    "def artin(N):\n",
    "    #Your code here\n",
    "\n",
    "artin(1000)"
   ]
  },
  {
   "cell_type": "markdown",
   "metadata": {
    "collapsed": false
   },
   "source": [
    "d.)\n",
    "\n",
    "Let $c$ be the constant you computed in part b.). For $n$ in $[10,50,100,500,1000,5000,10000,50000,100000]$, compute `artin(n)/c`. Display a listplot of the values `(log(n),artin(n)/c)` for $n$ in this range."
   ]
  },
  {
   "cell_type": "code",
   "execution_count": 0,
   "metadata": {
    "collapsed": false
   },
   "outputs": [
   ],
   "source": [
    "#Your code here"
   ]
  },
  {
   "cell_type": "markdown",
   "metadata": {
    "collapsed": false
   },
   "source": [
    "## Problem 5: Selfridge's Conjecture\n",
    "\n",
    "Let $N$ be an odd number. A conjecture of John Selfridge: https://en.wikipedia.org/wiki/John_Selfridge states that if \n",
    "- $N \\equiv 2 \\mod 5 \\text{ or } N \\equiv 4 \\mod 5$\n",
    "- $2^{N-1}\\equiv 1\\mod N$\n",
    "- $f_{N} \\equiv 0\\mod N$\n",
    "\n",
    "then $N$ is prime. Here $f_N$ is the $N$th Fibonacci number; recall that in this class we are using the indexing \n",
    "$$\n",
    "f_0 = f_1 = 1, \\;\\;f_{N}=f_{N-1}+f_{N-2} \\;\\;N\\geq 2\n",
    "$$\n",
    "but that this may differ from indexing used in other sources.\n",
    "\n",
    "There are no known counterexamples to this claim. Selfridge and two of his collaborators, Carl Pomerance and Samuel Wagstaff, have offered \\$620 to anyone able to produce a counterexample.\n",
    "\n",
    "a.) \n",
    "\n",
    "Write a function `selfridge` which takes as input a positive integer $N$ and returns a tuple $(a,b,c)$ with \n",
    "- a given by the residue of $N \\mod 5$\n",
    "- b given by the residue of $2^{N-1} \\mod N$\n",
    "- c given by the residue of $f_{N} \\mod N$.\n",
    "\n",
    "You are welcome to use your Fibonacci function from Homework 1, although it is much more efficient to slightly modify it so that it always works mod $N$ instead of simply computing the Fibonacci number as an integer (similar to how modular exponentiation is much more efficient than computing the exponentiation as an integer and then reducing)"
   ]
  },
  {
   "cell_type": "code",
   "execution_count": 0,
   "metadata": {
    "collapsed": false
   },
   "outputs": [
   ],
   "source": [
    "def selfridge(N):\n",
    "    #Your code here\n",
    "    \n",
    "selfridge(323)"
   ]
  },
  {
   "cell_type": "markdown",
   "metadata": {
    "collapsed": false
   },
   "source": [
    "b.) \n",
    "\n",
    "A number $N$ for which $f_N \\equiv 0\\mod N$ but with $N$ *not prime* is called a *Fibonacci pseudoprime*. Print the number of Fibonacci pseudoprimes which are less than or equal to $100000$."
   ]
  },
  {
   "cell_type": "code",
   "execution_count": 0,
   "metadata": {
    "collapsed": false
   },
   "outputs": [
   ],
   "source": [
    "#Your code here"
   ]
  },
  {
   "cell_type": "markdown",
   "metadata": {
    "collapsed": false
   },
   "source": [
    "c.) \n",
    "\n",
    "Prove that there are no counterexamples to Selfridge's conjecture with $N\\leq 100000$."
   ]
  },
  {
   "cell_type": "code",
   "execution_count": 0,
   "metadata": {
    "collapsed": false
   },
   "outputs": [
   ],
   "source": [
    "#Your code here"
   ]
  }
 ],
 "metadata": {
  "kernelspec": {
   "display_name": "SageMath 9.2",
   "language": "sagemath",
   "metadata": {
    "cocalc": {
     "description": "Open-source mathematical software system",
     "priority": 10,
     "url": "https://www.sagemath.org/"
    }
   },
   "name": "sage-9.2",
   "resource_dir": "/ext/jupyter/kernels/sage-9.2"
  },
  "language_info": {
   "codemirror_mode": {
    "name": "ipython",
    "version": 3
   },
   "file_extension": ".py",
   "mimetype": "text/x-python",
   "name": "python",
   "nbconvert_exporter": "python",
   "pygments_lexer": "ipython3",
   "version": "3.8.5"
  }
 },
 "nbformat": 4,
 "nbformat_minor": 4
}