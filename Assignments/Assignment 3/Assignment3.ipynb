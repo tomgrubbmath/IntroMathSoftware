{
 "cells": [
  {
   "cell_type": "markdown",
   "metadata": {
    "collapsed": false
   },
   "source": [
    "### Math 157: Intro to Mathematical Software\n",
    "### UC San Diego, Winter 2021"
   ]
  },
  {
   "cell_type": "markdown",
   "metadata": {
    "collapsed": false
   },
   "source": [
    "### Homework 3: due Thursday, Jan 21 at 8PM Pacific\n",
    "\n",
    "### Kernel: \n",
    "All computations in this notebook should use the SageMath kernel."
   ]
  },
  {
   "cell_type": "markdown",
   "metadata": {
    "collapsed": false
   },
   "source": [
    "### Collaborators/resources used:\n",
    "To start, please list all students you worked with in the box below. Additionally, include basic citations to resources you used along the way (it can be as simple as Title: hyperlink_to_the_webpage). You do not need to add citations to hyperlinks of resources that I have already added.\n",
    "\n",
    "Remember! Collaboration is *encouraged*, but *you must write up answers in your own words*. "
   ]
  },
  {
   "cell_type": "markdown",
   "metadata": {
    "collapsed": false
   },
   "source": [
    "References/collaborators here:"
   ]
  },
  {
   "cell_type": "markdown",
   "metadata": {
    "collapsed": false
   },
   "source": [
    "## Problem 1: Numerical Instability\n",
    "\n",
    "a.) 4 points\n",
    "The *n dimensional Hilbert matrix* is a matrix $H_n$ whose $(i,j)$ entry equals $\\frac{1}{i+j-1}$. For example, $H_3$ equals \n",
    "$$\n",
    "\\begin{pmatrix}\n",
    "1&1/2&1/3\\\\\n",
    "1/2&1/3&1/4\\\\\n",
    "1/3&1/4&1/5\n",
    "\\end{pmatrix}.\n",
    "$$\n",
    "The scipy stack has functions `hilbert()` and `invhilbert()` which creates a floating point approximation of Hilbert matrices and their inverses:"
   ]
  },
  {
   "cell_type": "code",
   "execution_count": 0,
   "metadata": {
    "collapsed": false
   },
   "outputs": [
   ],
   "source": [
    "# This creates the 20x20 Hilbert and inverse Hilbert matrices \n",
    "from scipy.linalg import hilbert, invhilbert\n",
    "A = hilbert(20)\n",
    "B = invhilbert(20)"
   ]
  },
  {
   "cell_type": "markdown",
   "metadata": {
    "collapsed": false
   },
   "source": [
    "The following code cell computes the matrix product $AB$ and prints the first row. In the markdown cell below it, explain what is \"wrong,\" and what the first row *should have been*. Why was the printed row so different than what should have been printed?"
   ]
  },
  {
   "cell_type": "code",
   "execution_count": 0,
   "metadata": {
    "collapsed": false
   },
   "outputs": [
   ],
   "source": [
    "import numpy\n",
    "product = numpy.matmul(A,B)\n",
    "show(product[0])"
   ]
  },
  {
   "cell_type": "markdown",
   "metadata": {
    "collapsed": false
   },
   "source": [
    "YOUR ANSWER HERE"
   ]
  },
  {
   "cell_type": "markdown",
   "metadata": {
    "collapsed": false
   },
   "source": [
    "b.) 4 pts\n",
    "\n",
    "Write a function `sageHilb` which\n",
    "- Takes as input a positive integer $n$\n",
    "- Returns a Sage matrix of the $n$th Hilbert matrix with *rational entries* (not floats!) \n",
    "\n",
    "Do not use any built in functions here! One way to do this by hand is to start by making an $n\\times n$ matrix of just zeroes. Then using a double for loop, iterate over the rows and columns and update each position according to the formula for the Hilbert matrix."
   ]
  },
  {
   "cell_type": "code",
   "execution_count": 0,
   "metadata": {
    "collapsed": false
   },
   "outputs": [
   ],
   "source": [
    "def sageHilb(n):\n",
    "    #Your code here\n",
    "    "
   ]
  },
  {
   "cell_type": "markdown",
   "metadata": {
    "collapsed": false
   },
   "source": [
    "Run this code cell to check your answer:"
   ]
  },
  {
   "cell_type": "code",
   "execution_count": 0,
   "metadata": {
    "collapsed": false
   },
   "outputs": [
   ],
   "source": [
    "M = sageHilb(3)\n",
    "show(M)"
   ]
  },
  {
   "cell_type": "markdown",
   "metadata": {
    "collapsed": false
   },
   "source": [
    "c.) 2 pts\n",
    "\n",
    "Run the code cell below to recreate the calculation from 1a.) using your `sageHilb` function. Why is this version of the calculation so much more accurate?"
   ]
  },
  {
   "cell_type": "code",
   "execution_count": 0,
   "metadata": {
    "collapsed": false
   },
   "outputs": [
   ],
   "source": [
    "A = sageHilb(20)\n",
    "B = sageHilb(20)^(-1)\n",
    "product = A*B\n",
    "show(product[0])"
   ]
  },
  {
   "cell_type": "markdown",
   "metadata": {
    "collapsed": false
   },
   "source": [
    "## Problem 2: Image Compression\n",
    "This problem is an introduction to image manipulation and compression in Python.\n",
    "The code below imports a photo of the famous Mona Lisa painting, and stores the photo data into a NumPy array."
   ]
  },
  {
   "cell_type": "code",
   "execution_count": 0,
   "metadata": {
    "collapsed": false
   },
   "outputs": [
   ],
   "source": [
    "from PIL import Image\n",
    "import numpy as np\n",
    "import matplotlib.pyplot as plt\n",
    "\n",
    "image = Image.open('MonaLisa.png')    #Read in the file\n",
    "monaLisa = np.array(image)[:,:,:3]    #Convert the file to a numpy array"
   ]
  },
  {
   "cell_type": "markdown",
   "metadata": {
    "collapsed": false
   },
   "source": [
    "Run the code cell below to recreate the photo in your Jupyter Notebook (you do not have to worry about the syntax here):"
   ]
  },
  {
   "cell_type": "code",
   "execution_count": 0,
   "metadata": {
    "collapsed": false
   },
   "outputs": [
   ],
   "source": [
    "photo = plt.figure(figsize = (10,10)) # create a 10 x 10 figure \n",
    "mona = photo.add_subplot(111) #Add a frame for Mona into the figure\n",
    "mona.imshow(monaLisa)         #Add Mona into her frame\n",
    "mona.axis('off')              #Remove axes from the plot\n",
    "plt.show()                    #Show the plot"
   ]
  },
  {
   "cell_type": "code",
   "execution_count": 0,
   "metadata": {
    "collapsed": false
   },
   "outputs": [
   ],
   "source": [
    "print(monaLisa[0,0,0])"
   ]
  },
  {
   "cell_type": "markdown",
   "metadata": {
    "collapsed": false
   },
   "source": [
    "a.) 2 pts\n",
    "\n",
    "Running the code cell below, we can see that the data is being stored in a numpy array of shape $(768,514,3)$. What do the dimensions $768$, $514$, and $3$ represent? Hint: https://en.wikipedia.org/wiki/RGB_color_model . For another hint, go to the plot cell above and comment out the `mona.axis('off')` command."
   ]
  },
  {
   "cell_type": "code",
   "execution_count": 0,
   "metadata": {
    "collapsed": false
   },
   "outputs": [
   ],
   "source": [
    "monaLisa.shape"
   ]
  },
  {
   "cell_type": "markdown",
   "metadata": {
    "collapsed": false
   },
   "source": [
    "YOUR ANSWER HERE"
   ]
  },
  {
   "cell_type": "markdown",
   "metadata": {
    "collapsed": false
   },
   "source": [
    "b.) 4 pts\n",
    "\n",
    "Write a function `compressSVD(matrix, k)` which\n",
    "- Takes as input a 2 dimensional numpy array `matrix` and a positive integer `k`\n",
    "- Performs svd on `matrix` using the builtin `linalg.svd` function (I have already added the necessary import statements)\n",
    "- Retains the information related to the largest `k` singular values in the svd and returns the corresponding inverse transform\n",
    "\n",
    "In other words, if our matrix is $M$ and the singular value decomposition of $M$ is given by \n",
    "$$\n",
    "M = U\\Sigma V^T,\n",
    "$$\n",
    "then you should return the product \n",
    "$$\n",
    "M_k = U_k \\Sigma_k V_k^T\n",
    "$$\n",
    "where $U_k$ consists of the first $k$ columns of $U$ (in order), $\\Sigma_k$ is a diagonal matrix whose values are the largest $k$ singular values of $M$ (in order), and $V_k^T$ consists of the first $k$ rows of $V^T$ (in order). Hint: Look at the end of Lecture 8 for a special case of this.\n"
   ]
  },
  {
   "cell_type": "code",
   "execution_count": 0,
   "metadata": {
    "collapsed": false
   },
   "outputs": [
   ],
   "source": [
    "from numpy import linalg\n",
    "def compressSVD(matrix, k):\n",
    "#Your code here"
   ]
  },
  {
   "cell_type": "markdown",
   "metadata": {
    "collapsed": false
   },
   "source": [
    "c.) 2 pt\n",
    "\n",
    "The `compressPhoto` function below uses your `compressSVD` function to compress the Mona Lisa photo by individually compressing the individual color intensities and then recombining them. Beneath the function definition I have copied the code to display the compressed photos. By playing around with various values of $k$, $1\\leq k\\leq 514$, find a \"small\" value of $k$ for which you cannot identify a difference between your compressed photo and the original photo; display the compressed photo for that value of $k$. Obviously everyone's value of $k$ will be different as it depends on your visual acuity. This is mainly just a cool thing that you can play around with to actually see how the compression is working.\n",
    "\n",
    "*PLEASE DO NOT* show all the plots that you experimented with for varying values of $k$ in separate code cells; having a bunch of plots of Mona Lisa at varying resolutions will be a pain during grading. Only use the code cell below, and tinker with the value of $k$ by hand. Once you have found a \"good\" choice of $k$, please only display the corresponding plot for that value of $k$."
   ]
  },
  {
   "cell_type": "code",
   "execution_count": 0,
   "metadata": {
    "collapsed": false
   },
   "outputs": [
   ],
   "source": [
    "#NOTE TO FUTURE SELF: THE COMPRESS PHOTO FUNCTION IS NOT GREAT AS IT DOES NOT TRANSLATE TO THE INTERVAL [0,1] CORRECTLY\n",
    "\n",
    "def compressPhoto(matrix, k):\n",
    "    red, green, blue = compressSVD(matrix[:,:,0],k), compressSVD(matrix[:,:,1],k), compressSVD(matrix[:,:,2],k)\n",
    "    for color in [red,green,blue]:\n",
    "        color -= color.min()\n",
    "        color /= 255\n",
    "    Z = np.zeros((768,514,3))\n",
    "    Z[:,:,0],Z[:,:,1],Z[:,:,2]= red,green,blue\n",
    "    return(Z)\n",
    "\n",
    "compressedMona = compressPhoto(monaLisa, k=514)    #<-------------- This is the only line that needs to be modified for this problem! Everything else is done for you! Right now $k$ is set to 514, the max value\n",
    "\n",
    "fig2 = plt.figure(figsize = (10,10)) \n",
    "ax3 = fig2.add_subplot(111)\n",
    "ax3.imshow(compressedMona)\n",
    "ax3.axis('off')\n",
    "plt.show()"
   ]
  },
  {
   "cell_type": "markdown",
   "metadata": {
    "collapsed": false
   },
   "source": [
    "d.) 2 points\n",
    "\n",
    "Let $M$ be a matrix with SVD $M = U\\Sigma V^T$. If $M$ has $r$ rows and $c$ columns, There are $r*c$ numbers in that matrix. Recall from 2b.) the notation of the truncated SVD, $M_k = U_k\\Sigma_k V_k^T$. As a function of $r,$ $c$, and $k$, how many numbers are required to store the information of $U_k, \\Sigma_k$, and $V_k^T$?\n",
    "\n",
    "For the Mona Lisa image, we stored $3$ matrices corresponding to different color intensities. The individual matrices had $768$ rows and $514$ columns, so in total we had to store $768*514*3=1,184,256$ numbers in total. For the value of $k$ that you selected in 2c.), how many numbers did you have to store in the compressed version? (Just use your answer to the first part of this question and plug in the specific values of $r$, $c$, and $k$ to get the information for a single matrix, and then multiply by $3$ to account for the different colors)."
   ]
  },
  {
   "cell_type": "markdown",
   "metadata": {
    "collapsed": false
   },
   "source": [
    "YOUR ANSWER HERE"
   ]
  },
  {
   "cell_type": "markdown",
   "metadata": {
    "collapsed": false
   },
   "source": [
    "## Problem 3: Multivariate Calculus: Gradient Fields\n",
    "\n",
    "A *vector field* on $\\mathbb{R}^2$ is a function $F:\\mathbb{R}^2\\to\\mathbb{R}^2$. You can instantiate a vector field in Sage symbolically using the syntax\n",
    "```\n",
    "F(x,y) = (f_1(x,y),f_2(x,y))\n",
    "```\n",
    "where `f_1` and `f_2` are two symbolic functions $\\mathbb{R}^2\\to\\mathbb{R}$. "
   ]
  },
  {
   "cell_type": "markdown",
   "metadata": {
    "collapsed": false
   },
   "source": [
    "2a.) 2 pts\n",
    "\n",
    "Below I have defined a symbolic function `f` which depends on the variables `x` and `y`. Using Sage's builtin function, compute and display the gradient of $f$. Gradients form a special class of vector fields!"
   ]
  },
  {
   "cell_type": "code",
   "execution_count": 0,
   "metadata": {
    "collapsed": false
   },
   "outputs": [
   ],
   "source": [
    "var('x','y')\n",
    "f(x,y) = e^(x*y) - sin(x-y) + x^2\n",
    "#Your code here"
   ]
  },
  {
   "cell_type": "markdown",
   "metadata": {
    "collapsed": false
   },
   "source": [
    "b.) 4 pts\n",
    "\n",
    "Plot the vector field corresponding to the gradient of `f`. Use the ranges $-2\\leq x\\leq 2$ and $-2\\leq y\\leq 2$. Hint: you will use the `plot_vector_field` command. Use introspection or look through the documentation to figure out the parameters."
   ]
  },
  {
   "cell_type": "code",
   "execution_count": 0,
   "metadata": {
    "collapsed": false
   },
   "outputs": [
   ],
   "source": [
    "#Your code here"
   ]
  },
  {
   "cell_type": "markdown",
   "metadata": {
    "collapsed": false
   },
   "source": [
    "c.) 4 pts\n",
    "\n",
    "Plot the vector field `F(x,y) = (-y, x)` on the same domain, $-2\\leq x\\leq 2$ and $-2\\leq y\\leq 2$. You don't have to write anything down for this, but do you notice anything different? You should see that this one is a bit more whirly twirly, whereas following the arrows in the previous plot always led \"to infinity\". This is in some sense a visual depiction of *curl* in the vector field. The presence of curl tells you that in fact there is no function with gradient given by this vector field, `F(x,y) = (-y,x)`. Pretty cool!"
   ]
  },
  {
   "cell_type": "code",
   "execution_count": 0,
   "metadata": {
    "collapsed": false
   },
   "outputs": [
   ],
   "source": [
    "#Your code here"
   ]
  },
  {
   "cell_type": "markdown",
   "metadata": {
    "collapsed": false
   },
   "source": [
    "## Problem 4: Some Theorems from Linear Algebra\n",
    "In this question you will be using Sage to verify some theorems from linear algebra in specific instances.\n",
    "\n",
    "For each of part of this question, you do not need to add any text \"explaining\" your answers, but you need to add enough print statements so that the results are \"obvious\" from the output of your code. There are many builtin functions which allow these questions to be done quite quickly; I recommend using them. You can search for methods to calculate characteristic polynomials, eigenvalues/eigenvalues, etc. here: https://doc.sagemath.org/html/en/constructions/linear_algebra.html"
   ]
  },
  {
   "cell_type": "markdown",
   "metadata": {
    "collapsed": false
   },
   "source": [
    "a.) 3 pts\n",
    "\n",
    "The Cayley Hamilton Theorem states that any matrix satisfies its own characteristic polynomial. In the code cell below I have instantiated a matrix `M`. Print the characteristic polynomial `p(x)` of `M` and print the result of evaluating `p(x)` at `M` to verify that the Cayley Hamilton Theorem is true in this specific instance."
   ]
  },
  {
   "cell_type": "code",
   "execution_count": 0,
   "metadata": {
    "collapsed": false
   },
   "outputs": [
   ],
   "source": [
    "M = matrix([[3,1,3,-5],[0,1,2,-1],[4,4,1,0],[1,1,1,1]])"
   ]
  },
  {
   "cell_type": "markdown",
   "metadata": {
    "collapsed": false
   },
   "source": [
    "b.) 4 pts\n",
    "\n",
    "The Perron Frobenius Theorem states that if a square $n\\times n$ matrix $M$ has positive real entries, then (among other things)\n",
    "- $M$ has a positive real eigenvalue $r$.\n",
    "- The corresponding eigenvector of $r$ can be chosen to have strictly positive entries.\n",
    "- If the entry of $M$ in the $i$th row and $j$th column is labeled $m_{i,j}$, then \n",
    "$$\n",
    "\\min_{1\\leq i \\leq n}\\sum_{1\\leq j\\leq n}m_{i,j} \\leq r \\leq \\max_{1\\leq i \\leq n}m_{i,j} \\sum_{1\\leq j\\leq n} m_{i,j}.\n",
    "$$\n",
    "\n",
    "In the code cell below I have instantiated a matrix `M` with positive real entries. Find the eigenvalue $r$ that the Perron Frobenius Theorem is talking about for `M`. Verify that the three statements  above hold for this choice of $r$ and `M`."
   ]
  },
  {
   "cell_type": "code",
   "execution_count": 0,
   "metadata": {
    "collapsed": false
   },
   "outputs": [
   ],
   "source": [
    "M = matrix([[3,3],[5,1]])"
   ]
  },
  {
   "cell_type": "markdown",
   "metadata": {
    "collapsed": false
   },
   "source": [
    "c.) 3 pts\n",
    "\n",
    "If `M` is any square matrix, then \n",
    "- The eigenvalues of `M` equal the eigenvalues of `M^T`, where `M^T` is the transpose matrix.\n",
    "- If `M` is invertible and if $\\lambda$ is an eigenvalue of `M` then $1/\\lambda$ is an eigenvalue of the inverse matrix `M^-1`\n",
    "\n",
    "Below I have instantiated a matrix `M`. Verify that `M` is invertible, and then verify the two statements above regarding `M`, `M^T`, and `M^-1`."
   ]
  },
  {
   "cell_type": "code",
   "execution_count": 0,
   "metadata": {
    "collapsed": false
   },
   "outputs": [
   ],
   "source": [
    "M = matrix([[-3,0,-1],[1,-4,2],[1,0,2]])"
   ]
  },
  {
   "cell_type": "markdown",
   "metadata": {
    "collapsed": false
   },
   "source": [
    "## Problem 5: Conjecture and Proof: The Fibonacci Numbers Revisited\n",
    "\n",
    "Recall the Fibonacci numbers, defined by \n",
    "$$\n",
    "f_0 = f_1 = 1, \\;\\; f_n = f_{n-1}+f_{n-2}\\text{ for }n\\geq 2.\n",
    "$$\n",
    "It is often convenient to simply define $f_n = 0$ for any $n<0$. (WARNING: As you move into other classes, some people may prefer different indexing, such as $f_0=0$, $f_1=1,f_2=1$, etc. Just be aware of that, as it changes some of the theorem statements in an unimportant but still apparent way).\n",
    "\n",
    "The first few Fibonacci numbers are $f_0=1,f_1=1,f_2=2,f_3=3,f_4=5,f_5=8,f_6=13$.\n",
    "\n",
    "a.) 2 pts\n",
    "\n",
    "Below I have defined a matrix $F$. Print the first 5 powers of $F$ (i.e. $F$, $F^2$, $F^3$, $F^4$, $F^5$) and then make a conjecture regarding the general form of $F^n$ for any $n\\geq 1$. You *do not need to prove or justify your conjecture*, although it is not hard to do so using induction. Please format your conjecture using LaTex; you can see how to write a matrix in LaTex from Problem 1a.)."
   ]
  },
  {
   "cell_type": "code",
   "execution_count": 0,
   "metadata": {
    "collapsed": false
   },
   "outputs": [
   ],
   "source": [
    "F = matrix([[1,1],[1,0]])\n",
    "#Your code here"
   ]
  },
  {
   "cell_type": "markdown",
   "metadata": {
    "collapsed": false
   },
   "source": [
    "State your conjecture here."
   ]
  },
  {
   "cell_type": "markdown",
   "metadata": {
    "collapsed": false
   },
   "source": [
    "b.) 4 pts\n",
    "\n",
    "Assume your conjecture in 5a.) is correct. Use that formula to derive the *Cassini identity*, which states that for $n\\geq 1$,\n",
    "$$\n",
    "f_{n}f_{n-2} - f_{n-1}^2 = (-1)^n.\n",
    "$$\n",
    "For example, $f_4 = 5,f_5 = 8, f_6 = 13$, and \n",
    "$$\n",
    "13\\cdot 5 - 8^2 = 65 - 64 = 1 = (-1)^6.\n",
    "$$\n",
    "Hint: Relate the expression $f_{n}f_{n-2} - f_{n-1}^2$ to a property of your matrix $F^n$. Your proof can fit into one or two sentences."
   ]
  },
  {
   "cell_type": "markdown",
   "metadata": {
    "collapsed": false
   },
   "source": [
    "Your answer here."
   ]
  },
  {
   "cell_type": "markdown",
   "metadata": {
    "collapsed": false
   },
   "source": [
    "c.) 4 pts\n",
    "\n",
    "As in the previous part, assume your conjecture in part a.) is true. Use this to derive the identity \n",
    "\n",
    "$$\n",
    "f_nf_m + f_{n-1}f_{m-1} = f_{m+n}.\n",
    "$$\n",
    "As a special case, show $f_{2n} = f_n^2 + f_{n-1}^2$.\n",
    "\n",
    "For example, $f_4 = 5, f_5 = 8, f_6 = 13, f_{11} = 144$, and \n",
    "$$\n",
    "8\\cdot 13 + 5 \\cdot 8 =104 + 40 = 144.\n",
    "$$\n",
    "\n",
    "Hint: Matrix multiplication is associative, so $F^n\\cdot F^m = F^{n+m}$. As with part b.), this only needs a couple lines to prove."
   ]
  },
  {
   "cell_type": "markdown",
   "metadata": {
    "collapsed": false
   },
   "source": [
    "Your answer here. "
   ]
  }
 ],
 "metadata": {
  "kernelspec": {
   "display_name": "SageMath 9.2",
   "language": "sagemath",
   "metadata": {
    "cocalc": {
     "description": "Open-source mathematical software system",
     "priority": 10,
     "url": "https://www.sagemath.org/"
    }
   },
   "name": "sage-9.2",
   "resource_dir": "/ext/jupyter/kernels/sage-9.2"
  },
  "language_info": {
   "codemirror_mode": {
    "name": "ipython",
    "version": 3
   },
   "file_extension": ".py",
   "mimetype": "text/x-python",
   "name": "python",
   "nbconvert_exporter": "python",
   "pygments_lexer": "ipython3",
   "version": "3.8.5"
  }
 },
 "nbformat": 4,
 "nbformat_minor": 4
}