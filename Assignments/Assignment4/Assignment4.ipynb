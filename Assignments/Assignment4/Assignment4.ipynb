{
 "cells": [
  {
   "cell_type": "markdown",
   "metadata": {
    "collapsed": false
   },
   "source": [
    "### Math 157: Intro to Mathematical Software\n",
    "### UC San Diego, Winter 2021"
   ]
  },
  {
   "cell_type": "markdown",
   "metadata": {
    "collapsed": false
   },
   "source": [
    "### Homework 4: due Thursday, Feb 4 at 8PM Pacific\n",
    "\n",
    "### Kernel: \n",
    "All computations in this notebook should use the SageMath kernel."
   ]
  },
  {
   "cell_type": "markdown",
   "metadata": {
    "collapsed": false
   },
   "source": [
    "### Collaborators/resources used:\n",
    "To start, please list all students you worked with in the box below. Additionally, include basic citations to resources you used along the way (it can be as simple as Title: hyperlink_to_the_webpage). You do not need to add citations to hyperlinks of resources that I have already added.\n",
    "\n",
    "Remember! Collaboration is *encouraged*, but *you must write up answers in your own words*. "
   ]
  },
  {
   "cell_type": "markdown",
   "metadata": {
    "collapsed": false
   },
   "source": [
    "References/collaborators here:"
   ]
  },
  {
   "cell_type": "markdown",
   "metadata": {
    "collapsed": false
   },
   "source": [
    "## Problem 1: The Chicken Nugget Problem \n",
    "\n",
    "At one point in time, McDonald's only sold chicken nuggets in packs of 6, 9 or 20. The Chicken Nugget problem asks: what total number of nuggets can or cannot be bought, only using combinations of these packs? See this video: https://www.youtube.com/watch?v=vNTSugyS038 if you don't believe that this is a real thing!\n",
    "\n",
    "This is a special case of the so called *Frobenius problem* or *coin problem*: https://en.wikipedia.org/wiki/Coin_problem\n",
    "\n",
    "1a.) \n",
    "\n",
    "Given a list of $k$ positive integers $S = [a_1,\\dots,a_k]$, it is known that *if* the numbers in $S$ have no common factor, i.e. $gcd(a_1,\\dots,a_k)=1$, then there are only finitely many integers $N$ which cannot be written as a linear combination \n",
    "$$\n",
    "N = \\sum_{j=1}^k c_ja_j\n",
    "$$\n",
    "with $c_j$ all positive integers. You can (and should) think of the above sum as an integer partition whose parts are restricted to the list $S$. This is called *Schur's Theorem*. The largest $N$ which cannot be written as such is called the *Frobenius number* of $S$, denoted $g(S)$.\n",
    "\n",
    "It is known that if you order your values $a_1 < a_2 < \\dots < a_k$, then \n",
    "$$\n",
    "g(S)\\leq (a_1-1)\\cdot(a_2+a_3+\\dots+a_k-1).\n",
    "$$\n",
    "Write a function which takes as input a list of positive integers $S$ and returns this upper bound on $g(S)$ (you may assume that the gcd of the numbers equals 1, but you *should not* assume the list is sorted)."
   ]
  },
  {
   "cell_type": "code",
   "execution_count": 0,
   "metadata": {
    "collapsed": false
   },
   "outputs": [
   ],
   "source": [
    "def boundFrobenius(S):\n",
    "    #Your code here\n",
    "\n",
    "print(boundFrobenius([6,9,20]))  #Run this code to get a bound on the chicken nugget problem\n",
    "\n",
    "print(boundFrobenius([103,5,16,1024,75]))  #Run this code to bound a different instance of this problem"
   ]
  },
  {
   "cell_type": "markdown",
   "metadata": {
    "collapsed": false
   },
   "source": [
    "1b.) \n",
    "\n",
    "Now that you have a bound on the Frobenius number of a set $S$, you can compute it explicitly. Write a function which \n",
    "- Takes as input a list $S$ of positive integers (assumed to satisfy the gcd = 1 condition)\n",
    "- Returns the Frobenius number of $S$"
   ]
  },
  {
   "cell_type": "code",
   "execution_count": 0,
   "metadata": {
    "collapsed": false
   },
   "outputs": [
   ],
   "source": [
    "def computeFrobenius(S):\n",
    "    #Your code here\n",
    "\n",
    "print(computeFrobenius([6,9,20]))  #Run this code to solve the chicken nugget problem\n",
    "\n",
    "print(computeFrobenius([103,5,16,1024,75]))  #Run this code to solve a different instance of this problem"
   ]
  },
  {
   "cell_type": "markdown",
   "metadata": {
    "collapsed": false
   },
   "source": [
    "1c.) \n",
    "\n",
    "Below I have used your code to compute the Frobenius numbers of several two element lists $S= [a,b]$. As a function of $a$ and $b$, *roughly* how big is the Frobenius number $g([a,b])$? "
   ]
  },
  {
   "cell_type": "code",
   "execution_count": 0,
   "metadata": {
    "collapsed": false
   },
   "outputs": [
   ],
   "source": [
    "print(computeFrobenius([10,11]))\n",
    "\n",
    "print(computeFrobenius([100,101]))\n",
    "\n",
    "print(computeFrobenius([1000,1001]))"
   ]
  },
  {
   "cell_type": "markdown",
   "metadata": {
    "collapsed": false
   },
   "source": [
    "It turns out there is an explicit formula for two element lists; in general an explicit formula for the Frobenius number of a general list is unknown. You can see more on the Wikipedia page linked above if you are interested."
   ]
  },
  {
   "cell_type": "markdown",
   "metadata": {
    "collapsed": false
   },
   "source": [
    "## Problem 2 Travelling College Student Problem\n",
    "\n",
    "In the code cell below I have read in information about the location of each of the US state capitals (including Puerto Rico and DC) into a dictionary. The data was obtained from here: https://people.sc.fsu.edu/~jburkardt/datasets/states/states.html . The dictionary `capitalDict` has \n",
    "- keys: a state abbreviation string (i.e. 'AL' for ALABAMA)\n",
    "- values: a tuple of floats `(latitude,longitude)` representing the coordinates of the state capital."
   ]
  },
  {
   "cell_type": "code",
   "execution_count": 0,
   "metadata": {
    "collapsed": false,
    "scrolled": true
   },
   "outputs": [
   ],
   "source": [
    "with open('state_capitals_ll.txt','r') as file:\n",
    "    capitalDict = {line.split()[0]:(float(line.split()[1]),float(line.split()[2])) for line in file}\n",
    "\n",
    "capitalDict['AL'] #Here is an example of how the data is formatted."
   ]
  },
  {
   "cell_type": "markdown",
   "metadata": {
    "collapsed": false
   },
   "source": [
    "2a.) \n",
    "\n",
    "Write a function which implements the *haversine* function in order to compute the distance between two points on earth in terms of their latitudes and longitudes. Namely, the function `greatCircleDistance` will \n",
    "- Take as input two coordinates `coord1` and `coord2`. Each coordinate will be a tuple `coord1 = (lat1,long1)` of latitudes and longitudes *in degrees*\n",
    "- Convert the coordinates to their corresponding latitude and longitude *in radians*, to give `coord1 = (x_1,y_1)`, `coord2 = (x_2,y_2)`\n",
    "- Returns the distance in miles between the two points as a float, given by $$\n",
    "d = 2\\cdot 3959 \\cdot \\arcsin\\left(\\sqrt{\\sin^2(\\tfrac{x_2-x_1}{2})+\\cos(x_1)\\cos(x_2)\\sin^2(\\tfrac{y_2-y_1}{2})}\\right)\n",
    "$$\n",
    "Here 3959 is the radius of the earth in miles.\n",
    "\n",
    "WARNING! Many people will get tripped up, potentially because you forgot to work in radians...be sure that your test answers are sensical! Illinois and Michigan are not too far away! And be sure your answer is a float! I have imported Python's math module; you can convert from degrees to radians using the `math.radians()` function. Sage has builtin functions for the rest."
   ]
  },
  {
   "cell_type": "code",
   "execution_count": 0,
   "metadata": {
    "collapsed": false
   },
   "outputs": [
   ],
   "source": [
    "import math\n",
    "def greatCircleDistance(coord1,coord2):\n",
    "    x1,x2 = math.radians(coord1[0]), math.radians(coord2[0])\n",
    "    y1,y2 = math.radians(coord1[1]), math.radians(coord2[1])\n",
    "    return int(2 * 3959 * arcsin(sqrt(sin((x2-x1)/2)^2 + cos(x1)*cos(x2)*sin((y2-y1)/2)^2)))\n",
    "\n",
    "greatCircleDistance(capitalDict['IL'],capitalDict['MI'])"
   ]
  },
  {
   "cell_type": "code",
   "execution_count": 0,
   "metadata": {
    "collapsed": false
   },
   "outputs": [
   ],
   "source": [
    "print(greatCircleDistance(capitalDict['MI'],capitalDict['IL']))  #Test your answer by computing this distance; make sure it makes sense!"
   ]
  },
  {
   "cell_type": "markdown",
   "metadata": {
    "collapsed": false
   },
   "source": [
    "2b.) \n",
    "\n",
    "Create a complete graph $G$ in Sage whose \n",
    "- vertices are labeled by the state abbreviations (the keys of capitalDict)\n",
    "- edges going between State A and State B are weighted by the distance between the capitals of those states (as computed by your function in 2a)"
   ]
  },
  {
   "cell_type": "code",
   "execution_count": 0,
   "metadata": {
    "collapsed": false
   },
   "outputs": [
   ],
   "source": [
    "#Your code here"
   ]
  },
  {
   "cell_type": "markdown",
   "metadata": {
    "collapsed": false
   },
   "source": [
    "2c.) \n",
    "\n",
    "Use Sage's builtin functionality to find the shortest way to \n",
    "- Start in Lansing, MI (the capital of Michigan)\n",
    "- Visit every other state capital city exactly once\n",
    "- Return to Lansing, MI\n",
    "\n",
    "What states are connected to Michigan on this cycle? \n",
    "\n",
    "Hint: Sage calls this problem the *travelling salesman problem*. You can find details for solving it in the \"Algorithmically hard stuff\" section here: https://doc.sagemath.org/html/en/reference/graphs/sage/graphs/generic_graph.html . You do not have to print the entire cycle, although you can show it if you are curious about the path."
   ]
  },
  {
   "cell_type": "code",
   "execution_count": 0,
   "metadata": {
    "collapsed": false
   },
   "outputs": [
   ],
   "source": [
    "#Your code here"
   ]
  },
  {
   "cell_type": "markdown",
   "metadata": {
    "collapsed": false
   },
   "source": [
    "## Problem 3: Thresholds in Random Graphs\n",
    "\n",
    "The Erdos-Renyi model of random graphs $G(n,p)$ is a method for producing a random graph on $n$ vertices. The idea is to start with a graph on $n$ vertices with *no edges*, and then for every possible pair of vertices, you add an edge between them with probability $p$. Sage has a builtin function to create such graphs, and throughout this problem you should use this builtin function. Run it a few times to see the kind of graphs that are produced (feel free to play around with n and p to see how the graph changes):"
   ]
  },
  {
   "cell_type": "code",
   "execution_count": 0,
   "metadata": {
    "collapsed": false
   },
   "outputs": [
   ],
   "source": [
    "G = graphs.RandomGNP(10,.25)\n",
    "show(G)"
   ]
  },
  {
   "cell_type": "markdown",
   "metadata": {
    "collapsed": false
   },
   "source": [
    "3a.) \n",
    "\n",
    "In a random graph $G(n,p)$, a higher value of $p$ will lead to a higher number of edges in $G$. Accordingly, a higher value of $p$ will make $G$ more likely to be a connected graph. Write a function `connectedGNP(n,p)` which \n",
    "- Takes as input a positive integer $n$ and a probability $p$, $0\\leq p\\leq 1$. \n",
    "- Outputs an approximation of the probability that $G(n,p)$ is connected. This should be approximated by calling $G(n,p)$ 100 times and basing your answer off of this; for instance, if 53 of the graphs you create are connected, you should ouput float(53/100) = .53."
   ]
  },
  {
   "cell_type": "code",
   "execution_count": 0,
   "metadata": {
    "collapsed": false
   },
   "outputs": [
   ],
   "source": [
    "def connectedGNP(n,p):\n",
    "    #Your code here"
   ]
  },
  {
   "cell_type": "code",
   "execution_count": 0,
   "metadata": {
    "collapsed": false
   },
   "outputs": [
   ],
   "source": [
    "connectedGNP(8,.25)"
   ]
  },
  {
   "cell_type": "markdown",
   "metadata": {
    "collapsed": false
   },
   "source": [
    "3b.) \n",
    "\n",
    "Use your function `connectedGNP` to approximate the value of $p$ for which $G(100,p)$ is connected with probability $\\sim.5$. I.e. when you call `connectedGNP(100,p),` you should get an answer *reasonably close* to 1/2. To successfully approximate $p$, you will need to use *at least* two significant figures (i.e. just trying $p = .1,.2,.3,...,.9$ will not suffice)."
   ]
  },
  {
   "cell_type": "code",
   "execution_count": 0,
   "metadata": {
    "collapsed": false
   },
   "outputs": [
   ],
   "source": [
    "#Experiment with your function here"
   ]
  },
  {
   "cell_type": "markdown",
   "metadata": {
    "collapsed": false
   },
   "source": [
    "Your answer here"
   ]
  },
  {
   "cell_type": "markdown",
   "metadata": {
    "collapsed": false
   },
   "source": [
    "3c.) \n",
    "\n",
    "Let $p_0$ be the value you selected in 3b. Draw a list plot of the points `(p,connectedGNP(100,p))` for $p \\in\\{ p_0 - .05, p_0 - .04, ..., p_0, ..., p_0 + .04, p_0 +.05\\}.$"
   ]
  },
  {
   "cell_type": "code",
   "execution_count": 0,
   "metadata": {
    "collapsed": false
   },
   "outputs": [
   ],
   "source": [
    "#Your code here"
   ]
  },
  {
   "cell_type": "markdown",
   "metadata": {
    "collapsed": false
   },
   "source": [
    "3d.) Repeat steps 3b.) and 3c.) for $n= 1000$. This time your approximation for $p$ will require at least three significant figures, and your list plot should be for the values $p \\in\\{ p_0 - .005, p_0 - .004, ..., p_0, ..., p_0 + .004, p_0 +.005\\}.$"
   ]
  },
  {
   "cell_type": "code",
   "execution_count": 0,
   "metadata": {
    "collapsed": false
   },
   "outputs": [
   ],
   "source": [
    "#Your code here"
   ]
  },
  {
   "cell_type": "markdown",
   "metadata": {
    "collapsed": false
   },
   "source": [
    "In general there is a formula which predicts this value of $p$ very accurately. It might be hard to guess, so I won't ask you to do it, but if you're interested in this it is a fun calculation to run through."
   ]
  },
  {
   "cell_type": "markdown",
   "metadata": {
    "collapsed": false
   },
   "source": [
    "## Problem 4: Spectral Properties of Graphs"
   ]
  },
  {
   "cell_type": "markdown",
   "metadata": {
    "collapsed": false
   },
   "source": [
    "Given a graph $G$, the *Cheeger constant* of $G$ is a measure of the \"bottlenecks\" in that graph. The Cheeger constant $h(G)$ satisfies a few rules:\n",
    "- $h(G)$ is a nonnegative number. It is strictly positive if and only if $G$ is connected\n",
    "- If you *fix the number of vertices in a graph* and only vary the edges, then: $h(G)$ is \"large\" if $G$ is well connected. $h(G)$ is \"small\" if there are areas of poor connection in $G$.\n",
    "\n",
    "An analogy is to think of cars driving in traffic. If a road system has a high Cheeger constant, there will be less traffic, since there are many different ways to get to your destination. If the Cheeger constant is low, then there will be huge traffic jams as everyone needs to use the same street.\n",
    "\n",
    "If you want to know the exact formula for the Cheeger constant, you may look here: https://en.wikipedia.org/wiki/Cheeger_constant_(graph_theory)\n",
    "\n",
    "SageMath has a builtin function which computes the Cheeger constant of a graph $G$:"
   ]
  },
  {
   "cell_type": "code",
   "execution_count": 0,
   "metadata": {
    "collapsed": false
   },
   "outputs": [
   ],
   "source": [
    "G = graphs.CycleGraph(5)\n",
    "show(G)"
   ]
  },
  {
   "cell_type": "code",
   "execution_count": 0,
   "metadata": {
    "collapsed": false
   },
   "outputs": [
   ],
   "source": [
    "print(G.cheeger_constant())"
   ]
  },
  {
   "cell_type": "markdown",
   "metadata": {
    "collapsed": false
   },
   "source": [
    "4a.) \n",
    "\n",
    "In the code cells below I have instantiated 3 graphs, all on the same number of vertices (twenty). Compute their Cheeger constants using Sage, and rank them by their Cheeger constant. Based on my brief discussion above, why does this answer make sense?"
   ]
  },
  {
   "cell_type": "code",
   "execution_count": 0,
   "metadata": {
    "collapsed": false
   },
   "outputs": [
   ],
   "source": [
    "G1 = graphs.CompleteGraph(20)\n",
    "show(G1)"
   ]
  },
  {
   "cell_type": "code",
   "execution_count": 0,
   "metadata": {
    "collapsed": false
   },
   "outputs": [
   ],
   "source": [
    "G2 = graphs.BarbellGraph(8,4)\n",
    "show(G2)"
   ]
  },
  {
   "cell_type": "code",
   "execution_count": 0,
   "metadata": {
    "collapsed": false
   },
   "outputs": [
   ],
   "source": [
    "G3 = graphs.Grid2dGraph(4,5)\n",
    "show(G3)"
   ]
  },
  {
   "cell_type": "markdown",
   "metadata": {
    "collapsed": false
   },
   "source": [
    "Your answer here"
   ]
  },
  {
   "cell_type": "markdown",
   "metadata": {
    "collapsed": false
   },
   "source": [
    "4b.)\n",
    "\n",
    "Suppose $G$ is an Erdos Renyi random graph $G = G(n,p)$. *Assuming that $G$ is connected*, would you expect the Cheeger constant of $G$ to be high or low? Why or why not? Compute the Cheeger constants of a few random graphs $G(20,.25)$ and compare this to the graphs above to help you form your answer (note: $G(20,.25)$ will yield a graph with *roughly* 50 edges)."
   ]
  },
  {
   "cell_type": "code",
   "execution_count": 0,
   "metadata": {
    "collapsed": false
   },
   "outputs": [
   ],
   "source": [
    "#Experimentation here"
   ]
  },
  {
   "cell_type": "markdown",
   "metadata": {
    "collapsed": false
   },
   "source": [
    "Answer here:"
   ]
  },
  {
   "cell_type": "markdown",
   "metadata": {
    "collapsed": false
   },
   "source": [
    "4c.) \n",
    "The *Normalized Laplacian* of $G$ is defined by \n",
    "$$\n",
    "\\Delta(G) = D^{-1/2}(D-A)D^{-1/2},\n",
    "$$\n",
    "where $D$ is a diagonal matrix whose $i$th diagonal entry equals the degree of vertex $i$, and $A$ is the adjacency matrix of $G$. Here $D^{-1/2}$ just means doing the operation $x\\to x^{-1/2}$ entrywise on the diagonal entries. You can compute the matrix $(D-A)$ directly in Sage using the `.kirchhoff_matrix()` function, but I think $D^{-1/2}$ will have to be hard coded. Use this to write a function `spectralGap` which \n",
    "- Takes as input a graph $G$\n",
    "- Computes the eigenvalues of the Normalized Laplacian matrix $\\Delta(G)$\n",
    "- Returns the the second smallest eigenvalue of $\\Delta(G)$.\n",
    "\n",
    "To check your answer, there are several calls below"
   ]
  },
  {
   "cell_type": "code",
   "execution_count": 0,
   "metadata": {
    "collapsed": false
   },
   "outputs": [
   ],
   "source": [
    "def spectralGap(G):\n",
    "    #Your code here"
   ]
  },
  {
   "cell_type": "code",
   "execution_count": 0,
   "metadata": {
    "collapsed": false
   },
   "outputs": [
   ],
   "source": [
    "G = graphs.CycleGraph(10)\n",
    "print(spectralGap(G))"
   ]
  },
  {
   "cell_type": "code",
   "execution_count": 0,
   "metadata": {
    "collapsed": false
   },
   "outputs": [
   ],
   "source": [
    "G = graphs.CompleteGraph(8)\n",
    "print(spectralGap(G))"
   ]
  },
  {
   "cell_type": "markdown",
   "metadata": {
    "collapsed": false
   },
   "source": [
    "4d.) \n",
    "\n",
    "The *Cheeger inequality* states that \n",
    "$$\n",
    "\\tfrac{\\lambda}{2}\\leq h(G)\n",
    "$$\n",
    "where $\\lambda$ is the eigenvalue found in part 4c.) and $h(G)$ is the Cheeger constant of $G$. Verify this inequality on the three graphs from 4a.) using your function from 4c.)."
   ]
  },
  {
   "cell_type": "code",
   "execution_count": 0,
   "metadata": {
    "collapsed": false
   },
   "outputs": [
   ],
   "source": [
    "# Your code here"
   ]
  },
  {
   "cell_type": "markdown",
   "metadata": {
    "collapsed": false
   },
   "source": [
    "Theorems like the Cheeger Inequality are very nice, because you can use them to actually *prove* that random graphs have pretty good network properties. I guess that's a story for a different class though."
   ]
  },
  {
   "cell_type": "markdown",
   "metadata": {
    "collapsed": false
   },
   "source": [
    "## Problem 5: Permutations\n",
    "\n",
    "5a.)\n",
    "\n",
    "A *fixed point* in a permutation $\\pi = \\pi_1\\dots\\pi_n$ is an index $i$ for which $\\pi_i = i$ (WARNING: Remember that indexing in permutations is shifted from standard Python list indexing! Permutations start at the index 1 when we talk about them mathematically). Sage has a builtin method for this: `p.fixed_points()` outputs a list of the fixed points in a permutation `p`.\n",
    "\n",
    "A *derangement* is a permutation with no fixed points. Write a function `derange` that takes in a positive integer $n$ and returns a list of the length $n$ derangements."
   ]
  },
  {
   "cell_type": "code",
   "execution_count": 0,
   "metadata": {
    "collapsed": false
   },
   "outputs": [
   ],
   "source": [
    "def derange(n):\n",
    "    #Your code here"
   ]
  },
  {
   "cell_type": "code",
   "execution_count": 0,
   "metadata": {
    "collapsed": false
   },
   "outputs": [
   ],
   "source": [
    "print(derange(3))"
   ]
  },
  {
   "cell_type": "markdown",
   "metadata": {
    "collapsed": false
   },
   "source": [
    "5b.) \n",
    "\n",
    "By using your code in 5a.), print the ratio\n",
    "$$\n",
    "\\frac{\\text{number of  derangements of length n}}{\\text{number of permutations of length n }}\n",
    "$$\n",
    "for $n=1,2,3,\\dots,8$. Do you notice anything?"
   ]
  },
  {
   "cell_type": "code",
   "execution_count": 0,
   "metadata": {
    "collapsed": false
   },
   "outputs": [
   ],
   "source": [
    "#Your code here"
   ]
  },
  {
   "cell_type": "markdown",
   "metadata": {
    "collapsed": false
   },
   "source": [
    "5c.) \n",
    "\n",
    "There was once great interest in examining the length of a longest increasing subsequence in a permutation $\\pi$, for various reasons. In particular, people wanted an answer to the question \"If I choose a random permutation of length $N$, how long will the longest increasing subsequence in it be?\"\n",
    "\n",
    "Sage allows you to create a random permutation as follows:"
   ]
  },
  {
   "cell_type": "code",
   "execution_count": 0,
   "metadata": {
    "collapsed": false
   },
   "outputs": [
   ],
   "source": [
    "Permutations(10).random_element()"
   ]
  },
  {
   "cell_type": "markdown",
   "metadata": {
    "collapsed": false
   },
   "source": [
    "Collect data of the longest increasing subsequence of $10^5$ random permutations of length $100$ by using the builtin syntax `.longest_increasing_subsequence_length()`. Plot a histogram of the results you have obtained on these lengths. The distribution you are approximating is called the *Tracy-Widom distribution*: https://en.wikipedia.org/wiki/Tracy%E2%80%93Widom_distribution. It is closely related to the size of the largest eigenvalue in a random Hermitian matrix. The mean of this sequence is tightly centered around $\\sqrt{2n}$, meaning that the vast majority of permutations of length $100$ have a longest increasing subsequence of length $\\sim 15$."
   ]
  },
  {
   "cell_type": "code",
   "execution_count": 0,
   "metadata": {
    "collapsed": false
   },
   "outputs": [
   ],
   "source": [
    "#Your code here"
   ]
  }
 ],
 "metadata": {
  "kernelspec": {
   "display_name": "SageMath 9.2",
   "language": "sagemath",
   "metadata": {
    "cocalc": {
     "description": "Open-source mathematical software system",
     "priority": 10,
     "url": "https://www.sagemath.org/"
    }
   },
   "name": "sage-9.2",
   "resource_dir": "/ext/jupyter/kernels/sage-9.2"
  },
  "language_info": {
   "codemirror_mode": {
    "name": "ipython",
    "version": 3
   },
   "file_extension": ".py",
   "mimetype": "text/x-python",
   "name": "python",
   "nbconvert_exporter": "python",
   "pygments_lexer": "ipython3",
   "version": "3.8.5"
  }
 },
 "nbformat": 4,
 "nbformat_minor": 4
}