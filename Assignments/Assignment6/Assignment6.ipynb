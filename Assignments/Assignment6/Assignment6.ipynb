{
 "cells": [
  {
   "cell_type": "markdown",
   "metadata": {
    "collapsed": false
   },
   "source": [
    "### Math 157: Intro to Mathematical Software\n",
    "### UC San Diego, Winter 2021"
   ]
  },
  {
   "cell_type": "markdown",
   "metadata": {
    "collapsed": false
   },
   "source": [
    "### Homework 6: due Thursday, Feb 18 at 8PM Pacific\n",
    "\n",
    "### Kernel: \n",
    "All computations in this notebook should use the SageMath kernel."
   ]
  },
  {
   "cell_type": "markdown",
   "metadata": {
    "collapsed": false
   },
   "source": [
    "### Collaborators/resources used:\n",
    "To start, please list all students you worked with in the box below. Additionally, include basic citations to resources you used along the way (it can be as simple as Title: hyperlink_to_the_webpage). You do not need to add citations to hyperlinks of resources that I have already added.\n",
    "\n",
    "Remember! Collaboration is *encouraged*, but *you must write up answers in your own words*. "
   ]
  },
  {
   "cell_type": "markdown",
   "metadata": {
    "collapsed": false
   },
   "source": [
    "References/collaborators here:"
   ]
  },
  {
   "cell_type": "markdown",
   "metadata": {
    "collapsed": false
   },
   "source": [
    "## Problem 1: Calculating the 2018/2019 EPL Champion (Lecture 12)\n",
    "\n",
    "In the directory of this homework assignment I have copied a csv file containing information regarding the 2018-2019 English Premier League season (\"soccer\" for Americans, \"football\" for the English, etc.). This information was obtained from https://sports-statistics.com/sports-data/soccer-datasets/ . \n",
    "\n",
    "a.) \n",
    "\n",
    "A line in this `premierleague.csv` is formatted: \n",
    "```\n",
    "Division, Date, Home Team, Away Team, Home Team Final Score, Away Team Final Score, ...\n",
    "```\n",
    "By iterating through `premierleague.csv` , create a *set* of the teams that were in the EPL during the 2018/2019 season. "
   ]
  },
  {
   "cell_type": "code",
   "execution_count": 0,
   "metadata": {
    "collapsed": false
   },
   "outputs": [
   ],
   "source": [
    "#Your code here"
   ]
  },
  {
   "cell_type": "markdown",
   "metadata": {
    "collapsed": false
   },
   "source": [
    "b.) \n",
    "\n",
    "Using the set you created in part a.), create a dictionary `recordDict` with \n",
    "- keys given by the teams in the EPL during the 2018/2019 season\n",
    "- values given by a list of three zeroes `[0,0,0]`."
   ]
  },
  {
   "cell_type": "code",
   "execution_count": 0,
   "metadata": {
    "collapsed": false
   },
   "outputs": [
   ],
   "source": [
    "#Your code here"
   ]
  },
  {
   "cell_type": "markdown",
   "metadata": {
    "collapsed": false
   },
   "source": [
    "c.) \n",
    "\n",
    "By iterating through `premierleague.csv`, modify `recordDict` so that it gives the *records* of each team during the 2018/2019 season. The record should be formatted `[wins, draws, losses]`. In case anyone is unfamiliar with this terminology:\n",
    "- a `win` is when your team scores more goals than the opponent\n",
    "- a `loss` is when your team scores fewer goals than the opponent\n",
    "- a `draw` is when your team scores the same number of goals as the opponent.\n",
    "\n",
    "To check your answer, calling \n",
    "```\n",
    "print(recordDict['Liverpool'])\n",
    "```\n",
    "should give the list \n",
    "```\n",
    "[30,7,1]\n",
    "```\n",
    "indicating that in the 2018/2019 season, Liverpool won 30 games, tied 7 games, and lost 1 game."
   ]
  },
  {
   "cell_type": "code",
   "execution_count": 0,
   "metadata": {
    "collapsed": false
   },
   "outputs": [
   ],
   "source": [
    "#Your code here"
   ]
  },
  {
   "cell_type": "code",
   "execution_count": 0,
   "metadata": {
    "collapsed": false
   },
   "outputs": [
   ],
   "source": [
    "recordDict['Liverpool']"
   ]
  },
  {
   "cell_type": "code",
   "execution_count": 0,
   "metadata": {
    "collapsed": false
   },
   "outputs": [
   ],
   "source": [
    "recordDict['Chelsea']"
   ]
  },
  {
   "cell_type": "markdown",
   "metadata": {
    "collapsed": false
   },
   "source": [
    "d.) \n",
    "\n",
    "In the EPL each team is assigned a \"score\" for their season based on their record. Each win during the season is worth 3 points, each draw is worth 1 point, and a loss is worth 0 points. For example, Liverpool's record was `[30,7,1]`, so their score was $3*30+1*7 + 0*1 = 97$ points.\n",
    "\n",
    "The Premier League Title is awarded to the team who has the most points at the end of the season. By using your `recordDict`, print out the 2018/2019 Premier League Champion (you can check your answer online, but you should be printing it based on your work in the previous parts, not just copying it in)"
   ]
  },
  {
   "cell_type": "code",
   "execution_count": 0,
   "metadata": {
    "collapsed": false
   },
   "outputs": [
   ],
   "source": [
    "#Your code here"
   ]
  },
  {
   "cell_type": "markdown",
   "metadata": {
    "collapsed": false
   },
   "source": [
    "## Problem 2: Reviewing Some Cryptosystems (Lectures 14,15,16)"
   ]
  },
  {
   "cell_type": "markdown",
   "metadata": {
    "collapsed": false
   },
   "source": [
    "a.)\n",
    "\n",
    "Suppose Alice and Bob want to communicate using a Diffie-Hellman-Merkle system. In the markdown cell below, write:\n",
    "- the *public data* that they will use\n",
    "- the *private keys* that they will use\n",
    "- the shared key that they will form"
   ]
  },
  {
   "cell_type": "markdown",
   "metadata": {
    "collapsed": false
   },
   "source": [
    "Answer here:\n",
    "\n",
    "- Public data:\n",
    "\n",
    "- Private data:\n",
    "\n",
    "- Shared key:"
   ]
  },
  {
   "cell_type": "markdown",
   "metadata": {
    "collapsed": false
   },
   "source": [
    "b.)\n",
    "\n",
    "Suppose a bank wants to use an RSA cryptosystem for public key cryptography. In the code cell below, write: \n",
    "- the *public data* the bank will publish\n",
    "- the *private data* that the bank will keep secret\n",
    "- the *encryption process*. I.e. if I want to send a message $m$ to the bank, how do I encode $m$ using the bank's information?"
   ]
  },
  {
   "cell_type": "markdown",
   "metadata": {
    "collapsed": false
   },
   "source": [
    "Answer here:\n",
    "\n",
    "- Public data:\n",
    "\n",
    "- Private data:\n",
    "\n",
    "- Encryption process:"
   ]
  },
  {
   "cell_type": "markdown",
   "metadata": {
    "collapsed": false
   },
   "source": [
    "## Problem 3: Attacks on RSA (Lectures 14,15)\n",
    "\n",
    "a.) \n",
    "\n",
    "In the code cell below I have copied two RSA moduli (i.e. numbers of the form $pq$ with $p, q$ prime). These moduli have the special property that \n",
    "$$\n",
    "N = pq, \\;\\; M = pr\n",
    "$$\n",
    "for some primes $p,q,r$. Use this fact to write down a proper factorization of both $N$ and $M$. Hint: How can you extract the common factor from $N$ and $M$?\n",
    "\n",
    "For more information regarding this vulnerability, you may want to check out Nadia Heninger's blog post here: https://freedom-to-tinker.com/2012/02/15/new-research-theres-no-need-panic-over-factorable-keys-just-mind-your-ps-and-qs/"
   ]
  },
  {
   "cell_type": "code",
   "execution_count": 0,
   "metadata": {
    "collapsed": false
   },
   "outputs": [
   ],
   "source": [
    "N = 448923598736959078013759860477760386672508220724201393343393262163317360862438352992356912965009637923503384680263793291837156300090951698858383723880967577337079084913043205701834696675345326351754549594733211495986250624594231280467988114699202543755690447172132805942902778561246395789857024374442848623844280634284170967601719488557990821372192654848609776276986945576000839045096663404389\n",
    "M = 8342378131801033186436319488347954384259311310249173679809076731028401878999979392206170316969446607587578850772574786656710721049963868976118196313311101694182015647436787145505477640401929796740715958245795230310909898044710437165581858255882605936018983968362548662474876783903517494711104372044072988370145362051476833992563208491079321682082915227610340995350202435811774592830595543811"
   ]
  },
  {
   "cell_type": "markdown",
   "metadata": {
    "collapsed": false
   },
   "source": [
    "b.)\n",
    "\n",
    "In the code cell below I have instantiated an RSA moduli $N$, together with $\\phi(N)$. Using this information, write down a proper factorization of $N$. Hint: write $N$ and $\\phi(N)$ in terms of the prime divisors of $N$. Using Sage's `solve` function, can you use this to solve for one of those primes somehow?"
   ]
  },
  {
   "cell_type": "code",
   "execution_count": 0,
   "metadata": {
    "collapsed": false
   },
   "outputs": [
   ],
   "source": [
    "N = 1000000000000000000000000000000000000000000000000000000000000000000000000000000000000000000000000026730000000000000000000000000000000000000000000000000000000000000000000000000000000000000000000000000801\n",
    "phiN = 1000000000000000000000000000000000000000000000000000000000000000000000000000000000000000000000000026620000000000000000000000000000000000000000000000000000000000000000000000000000000000000000000000000532"
   ]
  },
  {
   "cell_type": "markdown",
   "metadata": {
    "collapsed": false
   },
   "source": [
    "c.) \n",
    "\n",
    "In the code cell below I have instantiated an RSA moduli $N$, a public key $e$, and an encrypted message $M$. The plaintext message $m$ has the property that: $0< m < N^{1/e}$. Use this information to recover $m$."
   ]
  },
  {
   "cell_type": "code",
   "execution_count": 0,
   "metadata": {
    "collapsed": false
   },
   "outputs": [
   ],
   "source": [
    "#Modulus\n",
    "N = 100000000000000000000000000000000000000000000000000000000000000000000000000000000000000000000000000000000000000000000000000304900000000000000000000000000000000000000000000000000000000000000000000000000000000000000000000000000000000000000000000000160923\n",
    "#Public key\n",
    "e = 97\n",
    "#Encoded message\n",
    "M = 262526565481497746121492137812884859247728419440629755468567054590561546024583037329814880733566655858177029213291615040956496481869698688034366968807804763091541095578804648521095574871486569701"
   ]
  },
  {
   "cell_type": "code",
   "execution_count": 0,
   "metadata": {
    "collapsed": false
   },
   "outputs": [
   ],
   "source": [
    "#Your code here"
   ]
  },
  {
   "cell_type": "markdown",
   "metadata": {
    "collapsed": false
   },
   "source": [
    "## Problem 4: Linear Regression and the Hawaiian-Emperor chain (Lecture 17)\n",
    "\n",
    "The *Hawaiian-Emperor seamount chain* is an underwater mountain range which starts in the ocean by Hawaii and stretches northwest towards Russia. These underwater mountains were formed as oceanic crust moved across the *Hawaiian hotspot*. Here are two photos explaining the chain, taken from https://seattlecentral.edu/qelp/sets/073/073.html .\n",
    "\n",
    "![](hw1.png)\n",
    "![](hw2.png)\n",
    "\n",
    "As you can see from the picture, the newest seamounts are those which are closest to the Hawaiian hotspot. The older mountains slide away from the hotspot as the oceanic crust moves over time. The purpose of this problem is to explore this relationship.\n",
    "\n",
    "a.)\n",
    "\n",
    "The dataset `hawaiianChain.txt` contains space-separated data regarding the mountains in the Hawaiian-Emperor chain. This data was obtained from https://seattlecentral.edu/qelp/sets/073/073.html . Each line is formatted \n",
    "\n",
    "```\n",
    "age distance\n",
    "```\n",
    "The age is measured in *millions of years* and the distance is measured in *kilometers from Kilauea* (Kilauea is one of the youngest and most famous products of the Hawaiian hotspot, and is currently located \"at the hotspot\"). Open the dataset, extract the data, and make a listplot of the data."
   ]
  },
  {
   "cell_type": "code",
   "execution_count": 0,
   "metadata": {
    "collapsed": false
   },
   "outputs": [
   ],
   "source": [
    "import numpy as np\n",
    "from sklearn.linear_model import LinearRegression\n",
    "#Your code here"
   ]
  },
  {
   "cell_type": "markdown",
   "metadata": {
    "collapsed": false
   },
   "source": [
    "b.)\n",
    "\n",
    "Using Scikit Learn, run an OLS linear regression on the data to create a model\n",
    "$$\n",
    "distance = \\beta_0 + \\beta_1 age.\n",
    "$$\n",
    "\n",
    "Add a plot of the line your model creates to the list plot and display both in a single graph."
   ]
  },
  {
   "cell_type": "code",
   "execution_count": 0,
   "metadata": {
    "collapsed": false
   },
   "outputs": [
   ],
   "source": [
    "#Your code here"
   ]
  },
  {
   "cell_type": "markdown",
   "metadata": {
    "collapsed": false
   },
   "source": [
    "c.) Use your model to make a prediction regarding the following: Assume a seamount in the Hawaiian-Emperor chain was 16 million years old. Roughly how far from Kilauea would it be?"
   ]
  },
  {
   "cell_type": "code",
   "execution_count": 0,
   "metadata": {
    "collapsed": false
   },
   "outputs": [
   ],
   "source": [
    "#Your code here"
   ]
  },
  {
   "cell_type": "markdown",
   "metadata": {
    "collapsed": false
   },
   "source": [
    "Your answer here:"
   ]
  },
  {
   "cell_type": "markdown",
   "metadata": {
    "collapsed": false
   },
   "source": [
    "d.)\n",
    "\n",
    "As in the end of Lecture 17, give an interpretation of the coefficient on $age$ that you obtain.\n",
    "\n"
   ]
  },
  {
   "cell_type": "markdown",
   "metadata": {
    "collapsed": false
   },
   "source": [
    "Your answer here:"
   ]
  },
  {
   "cell_type": "markdown",
   "metadata": {
    "collapsed": false
   },
   "source": [
    "## Problem 5: Feature Engineering and Moore's Law (Lecture 17)\n",
    "\n",
    "Moore's Law is an empirical observation in computer science which states (roughly) that our \"computing power\" doubles every two years. Our computing power is measured as the number of transistors which we can fit onto a circuit board. See here for more information: https://en.wikipedia.org/wiki/Moore%27s_law\n",
    "\n",
    "a.) The file `moore.txt` contains data regarding the number of transistors that were on state of the art circuit boards at certain time points from 1970 to 2010. This data was obtained from Karl Rupp's Github Page: https://github.com/karlrupp.  \n",
    "\n",
    "The data is formatted using space-separation, i.e. each line in the file has the form:\n",
    "\n",
    "```\n",
    "year transistors\n",
    "```\n",
    "\n",
    "Extract the data from `moore.txt` and display a list plot of the data to visualize the growth in our computing power from 1970 to 2010."
   ]
  },
  {
   "cell_type": "code",
   "execution_count": 0,
   "metadata": {
    "collapsed": false
   },
   "outputs": [
   ],
   "source": [
    "import numpy as np\n",
    "from sklearn.linear_model import LinearRegression\n",
    "#Your code here"
   ]
  },
  {
   "cell_type": "markdown",
   "metadata": {
    "collapsed": false
   },
   "source": [
    "b.)\n",
    "\n",
    "From your plot, it might not look like linear regression would be useful here. However! What happens if you transform the data by taking the *logarithm* of the $y$ values? Make a new data set where each data point has the form \n",
    "\n",
    "`(year, log(number of transistors))`\n",
    "\n",
    "Make a list plot of the transformed data set. It should look much more linear!"
   ]
  },
  {
   "cell_type": "code",
   "execution_count": 0,
   "metadata": {
    "collapsed": false
   },
   "outputs": [
   ],
   "source": [
    "#Your code here"
   ]
  },
  {
   "cell_type": "markdown",
   "metadata": {
    "collapsed": false
   },
   "source": [
    "c.)\n",
    "\n",
    "Estimate a linear model \n",
    "$$\n",
    "\\log(\\text{number of transistors}) = \\beta_0+\\beta_1*year.\n",
    "$$\n",
    "Print the values of $\\beta_0$ and $\\beta_1$ that you obtain. "
   ]
  },
  {
   "cell_type": "code",
   "execution_count": 0,
   "metadata": {
    "collapsed": false
   },
   "outputs": [
   ],
   "source": [
    "#Your code here"
   ]
  },
  {
   "cell_type": "markdown",
   "metadata": {
    "collapsed": false
   },
   "source": [
    "d.) \n",
    "\n",
    "Using your work in part c.), solve for the number of transistors to obtain a function \n",
    "$$\n",
    "\\text{ number of transistors } = f(year).\n",
    "$$\n",
    "Plot this function together with your list plot in part a.)."
   ]
  },
  {
   "cell_type": "code",
   "execution_count": 0,
   "metadata": {
    "collapsed": false
   },
   "outputs": [
   ],
   "source": [
    "#Your code here"
   ]
  },
  {
   "cell_type": "markdown",
   "metadata": {
    "collapsed": false
   },
   "source": [
    "e.) \n",
    "\n",
    "What does the data say about how our computing power increases every two years? In other words, what is the relation between $f(year)$ and $f(year+2)$?"
   ]
  },
  {
   "cell_type": "code",
   "execution_count": 0,
   "metadata": {
    "collapsed": false
   },
   "outputs": [
   ],
   "source": [
    "#Your code here"
   ]
  },
  {
   "cell_type": "markdown",
   "metadata": {
    "collapsed": false
   },
   "source": [
    "Your answer here:"
   ]
  }
 ],
 "metadata": {
  "kernelspec": {
   "display_name": "SageMath 9.2",
   "language": "sagemath",
   "metadata": {
    "cocalc": {
     "description": "Open-source mathematical software system",
     "priority": 10,
     "url": "https://www.sagemath.org/"
    }
   },
   "name": "sage-9.2",
   "resource_dir": "/ext/jupyter/kernels/sage-9.2"
  },
  "language_info": {
   "codemirror_mode": {
    "name": "ipython",
    "version": 3
   },
   "file_extension": ".py",
   "mimetype": "text/x-python",
   "name": "python",
   "nbconvert_exporter": "python",
   "pygments_lexer": "ipython3",
   "version": "3.8.5"
  }
 },
 "nbformat": 4,
 "nbformat_minor": 4
}