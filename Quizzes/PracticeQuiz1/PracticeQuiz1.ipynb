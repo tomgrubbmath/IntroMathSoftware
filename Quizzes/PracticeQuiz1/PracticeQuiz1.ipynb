{
 "cells": [
  {
   "cell_type": "markdown",
   "metadata": {
    "collapsed": false
   },
   "source": [
    "## Practice Quiz 1: I recommend you enforce a 30 min time limit on yourself to practice the quiz setting."
   ]
  },
  {
   "cell_type": "markdown",
   "metadata": {
    "collapsed": false
   },
   "source": [
    "## Question 1\n",
    "\n",
    "Below is the syntax to define two variables equal to residue classes of $4$ and $3$ mod $7$:\n",
    "```\n",
    "a = mod(4,7)\n",
    "b = mod(3,7)\n",
    "```\n",
    "What would the result of the following code print if you ran it in SageMath:\n",
    "```\n",
    "print(a*b)\n",
    "```\n",
    "What would the result of the following code print if you ran it in SageMath:\n",
    "```\n",
    "print(a+b)\n",
    "```\n",
    "What would the result of the following code print if it could run in SageMath (`bigNumber` is too big to actually compute, so you *should not* try and run this in a cell):\n",
    "```\n",
    "bigNumber = 7*sum([i for i in range(10**15)])\n",
    "print(bigNumber*a)\n",
    "```"
   ]
  },
  {
   "cell_type": "markdown",
   "metadata": {
    "collapsed": false
   },
   "source": [
    "Your answer here:"
   ]
  },
  {
   "cell_type": "markdown",
   "metadata": {
    "collapsed": false
   },
   "source": [
    "## Question 2\n",
    "Answer the following about `range()` and list indexing.\n",
    "- Which numbers are encompassed by `range(54, 10**42+1)`? I.e. if you did a for loop with this `range`, which numbers would you be operating on? Express your answer either as some form of interval of integers, or using any of the symbols <,<=, =, >, >=. For example, the integers 3,4,5 could be represented in any of the following ways:\n",
    "    - the integers in `[3,5]`, \n",
    "    - the integers in `[3,6)`, \n",
    "    - The integers x with 3 <= x <= 5,\n",
    "    - The integers x with 3 <= x < 6,\n",
    "    - etc. Any correct answer will be accepted.\n",
    "- What is the index of `'Apple'` in the Python list `L = ['Banana','Apple','Grapes','Watermelon','Strawberry']`?\n",
    "- Let `L` be the list defined above. Using Python slice indexing, how could you extract the sublist `['Banana','Grapes','Strawberry']` from `L`?"
   ]
  },
  {
   "cell_type": "markdown",
   "metadata": {
    "collapsed": false
   },
   "source": [
    "Your answer here:"
   ]
  },
  {
   "cell_type": "markdown",
   "metadata": {
    "collapsed": false
   },
   "source": [
    "## Question 3\n",
    "\n",
    "How many elements are in the Python list `L = [x**2 for x in range(10**50) if x%5 == 2]`? (Note, this list is too large for you to actually construct it in CoCalc. Your notebook will crash if you try to actually create this list, so just use your knowledge of Python)"
   ]
  },
  {
   "cell_type": "markdown",
   "metadata": {
    "collapsed": false
   },
   "source": [
    "Your answer here:"
   ]
  },
  {
   "cell_type": "markdown",
   "metadata": {
    "collapsed": false
   },
   "source": [
    "## Question 4\n",
    "\n",
    "Name one difference between tuples and lists in Python. Name one similarity between tuples and lists in Python."
   ]
  },
  {
   "cell_type": "markdown",
   "metadata": {
    "collapsed": false
   },
   "source": [
    "Your answer here:"
   ]
  },
  {
   "cell_type": "markdown",
   "metadata": {
    "collapsed": false
   },
   "source": [
    "## Question 5\n",
    "If you tried to run the following code in Python, you would get an error:\n",
    "```\n",
    "for i in range(10):\n",
    "    if i % 5 == 0:\n",
    "    print('Divisible by 5')\n",
    "    else:\n",
    "    print('Not divisible by 5')\n",
    "```\n",
    "Give a short (one line) explanation for why."
   ]
  },
  {
   "cell_type": "markdown",
   "metadata": {
    "collapsed": false
   },
   "source": [
    "Your answer here:"
   ]
  },
  {
   "cell_type": "markdown",
   "metadata": {
    "collapsed": false
   },
   "source": [
    "## Question 6\n",
    "The function \n",
    "$$\n",
    "f(x) = \\sin(x)*\\sin(x^2)*\\sin(\\cos(x))\n",
    "$$\n",
    "has a unique critical point on the interval $[-1,1]$. Recall that a critical point is a zero of the derivative `f'`. Give a short explanation of how you could use Sage to approximate this critical point.\n",
    "\n",
    "You don't need to include syntax; your answer can be as simple as something like \"I would create *blank* kind of object in Sage, compute *blank* using Sage, and then do *blank* to that object using Sage's *blank* functionality\""
   ]
  },
  {
   "cell_type": "markdown",
   "metadata": {
    "collapsed": false
   },
   "source": [
    "Your answer here:"
   ]
  },
  {
   "cell_type": "markdown",
   "metadata": {
    "collapsed": false
   },
   "source": [
    "## Question 7\n",
    "Answer the following about Python dictionaries.\n",
    "\n",
    "Suppose `D` is a Python dictionary. The collection of keys of `D` can be accessed by calling `D.keys()`. What type of object most closely resembles `D.keys()`? Select your answer from the following list:\n",
    "- A.) A list\n",
    "- B.) A set\n",
    "- C.) A tuple\n",
    "- D.) A dictionary\n",
    "- E.) A string\n",
    "\n",
    "Can a set be used as a key in a Python dictionary? Can it be used as a value in a Python dictionary?\n"
   ]
  },
  {
   "cell_type": "markdown",
   "metadata": {
    "collapsed": false
   },
   "source": [
    "Your answer here:"
   ]
  }
 ],
 "metadata": {
  "kernelspec": {
   "display_name": "SageMath 9.2",
   "language": "sagemath",
   "metadata": {
    "cocalc": {
     "description": "Open-source mathematical software system",
     "priority": 10,
     "url": "https://www.sagemath.org/"
    }
   },
   "name": "sage-9.2",
   "resource_dir": "/ext/jupyter/kernels/sage-9.2"
  },
  "language_info": {
   "codemirror_mode": {
    "name": "ipython",
    "version": 3
   },
   "file_extension": ".py",
   "mimetype": "text/x-python",
   "name": "python",
   "nbconvert_exporter": "python",
   "pygments_lexer": "ipython3",
   "version": "3.8.5"
  }
 },
 "nbformat": 4,
 "nbformat_minor": 4
}