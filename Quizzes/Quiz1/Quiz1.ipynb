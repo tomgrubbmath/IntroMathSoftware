{
 "cells": [
  {
   "cell_type": "markdown",
   "metadata": {
    "collapsed": false
   },
   "source": [
    "### Question 1:\n",
    "Name 3 differences between sets and lists in Python (don't just say syntactical things such as \"sets use curly braces and lists uses square brackets\")"
   ]
  },
  {
   "cell_type": "markdown",
   "metadata": {
    "collapsed": false
   },
   "source": [
    "Your answer here:"
   ]
  },
  {
   "cell_type": "markdown",
   "metadata": {
    "collapsed": false
   },
   "source": [
    "### Question 2:\n",
    "\n",
    "Answer the following about `range()` and list indexing.\n",
    "- Which numbers are encompassed by `range(3, 10**29+1)`? I.e. if you did a for loop with this `range`, which numbers would you be operating on? Express your answer either as some form of interval of integers, or using any of the symbols <,<=, =, >, >=. For example, the integers 3,4,5 could be represented in any of the following ways:\n",
    "    - the integers in `[3,5]`, \n",
    "    - the integers in `[3,6)`, \n",
    "    - The integers x with 3 <= x <= 5,\n",
    "    - The integers x with 3 <= x < 6,\n",
    "    - etc. Any correct answer will be accepted.\n",
    "- What is the index of `'Apple'` in the Python list `L = ['Apple','Banana','Grapes','Watermelon','Strawberry']`?\n",
    "- Let `L` be the list defined above. Using Python slice indexing, how could you extract the sublist `['Banana','Grapes','Watermelon']` from `L`?"
   ]
  },
  {
   "cell_type": "markdown",
   "metadata": {
    "collapsed": false
   },
   "source": [
    "Your answer here:"
   ]
  },
  {
   "cell_type": "markdown",
   "metadata": {
    "collapsed": false
   },
   "source": [
    "### Question 3:\n",
    "\n",
    "Consider the following code block which could be run in a SageMath cell:\n",
    "\n",
    "```\n",
    "f(x) = x^3 + x + 1\n",
    "g(x) = diff(f, x)\n",
    "h(x) = integrate(g,x)\n",
    "print(f(x) , h(x))\n",
    "```\n",
    "The output of this code cell will print *two different functions*, i.e. `f(x)` and `h(x)` will not be the same. Give a short (one line) explanation for why this is."
   ]
  },
  {
   "cell_type": "markdown",
   "metadata": {
    "collapsed": false
   },
   "source": [
    "Your answer here:"
   ]
  },
  {
   "cell_type": "markdown",
   "metadata": {
    "collapsed": false
   },
   "source": [
    "### Question 4:\n",
    "\n",
    "Below are 5 objects that you could define in Python:\n",
    "\n",
    "```\n",
    "myTuple = (1,2)\n",
    "myList = [1,2]\n",
    "myStr = 'key'\n",
    "myDict = {1:'apple',2:'tomato'}\n",
    "emptyStr = ''\n",
    "```\n",
    "Answer the following:\n",
    "\n",
    "- Which of these 5 objects could be used as the *key* in a Python dictionary? (List all that apply)\n",
    "- Which of these 5 objects could be used as the *value* in a Python dictionary? (List all that apply)"
   ]
  },
  {
   "cell_type": "markdown",
   "metadata": {
    "collapsed": false
   },
   "source": [
    "Your answer here:"
   ]
  },
  {
   "cell_type": "markdown",
   "metadata": {
    "collapsed": false
   },
   "source": [
    "### Question 5:\n",
    "The following defines a list in Python using list comprehension (note, this list is too large for you to actually construct it in CoCalc. Your notebook will crash if you try to actually create this list, so just use your knowledge of Python):\n",
    "\n",
    "`L = [i for i in range(10**15) if i % 10 == 0 or i % 10 == 9]`\n",
    "\n",
    "Answer the following:\n",
    "\n",
    "-How many elements are contained in `L`? \n",
    "\n",
    "-What number is `L[-1]` equal to? (You do not have to simplify it)"
   ]
  },
  {
   "cell_type": "markdown",
   "metadata": {
    "collapsed": false
   },
   "source": [
    "Your answer here:"
   ]
  },
  {
   "cell_type": "markdown",
   "metadata": {
    "collapsed": false
   },
   "source": [
    "### Question 6:\n",
    "In the code block below I have defined a Python function. \n",
    "```\n",
    "def tomsFunction(x):\n",
    "    myList = []\n",
    "    for i in range(10):\n",
    "        myList.append(x**i)\n",
    "```\n",
    "If you ran the following code which calls the function, the output is `None`. Give a short (one line) reason for this.\n",
    "```\n",
    "myList = tomsFunction(5)\n",
    "print(myList)\n",
    "```"
   ]
  },
  {
   "cell_type": "markdown",
   "metadata": {
    "collapsed": false
   },
   "source": [
    "Your answer here:"
   ]
  },
  {
   "cell_type": "markdown",
   "metadata": {
    "collapsed": false
   },
   "source": [
    "## Question 7:\n",
    "\n",
    "In the code block below I have defined an object `x` in SageMath which is equal to the residue class of $2\\mod 7$.\n",
    "```\n",
    "x = mod(2,7)\n",
    "```\n",
    "What would the following code block print?\n",
    "```\n",
    "for i in range(1,7):\n",
    "    print(x**i)\n",
    "```\n",
    "\n",
    "If the following code could run, what would it print? (*This code would not actually run, as the numbers are too big*)\n",
    "```\n",
    "myExponent = 3*sum([i for i in range(10**15)])\n",
    "print(x**myExponent)\n",
    "```\n",
    "(Hint: do you see a pattern from the first part?)"
   ]
  },
  {
   "cell_type": "markdown",
   "metadata": {
    "collapsed": false
   },
   "source": [
    "Your answer here:"
   ]
  }
 ],
 "metadata": {
  "kernelspec": {
   "display_name": "SageMath 9.2",
   "language": "sagemath",
   "metadata": {
    "cocalc": {
     "description": "Open-source mathematical software system",
     "priority": 10,
     "url": "https://www.sagemath.org/"
    }
   },
   "name": "sage-9.2",
   "resource_dir": "/ext/jupyter/kernels/sage-9.2"
  },
  "language_info": {
   "codemirror_mode": {
    "name": "ipython",
    "version": 3
   },
   "file_extension": ".py",
   "mimetype": "text/x-python",
   "name": "python",
   "nbconvert_exporter": "python",
   "pygments_lexer": "ipython3",
   "version": "3.8.5"
  }
 },
 "nbformat": 4,
 "nbformat_minor": 4
}