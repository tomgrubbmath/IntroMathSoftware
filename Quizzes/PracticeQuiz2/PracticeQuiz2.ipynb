{
 "cells": [
  {
   "cell_type": "markdown",
   "metadata": {
    "collapsed": false
   },
   "source": [
    "This is a \"practice quiz\" for the upcoming Quiz 2. You *should not* think that this practice quiz represents all of the *material* that will or will not be on Quiz 2; rather, this practice quiz will represent the *style of question* that will be asked on Quiz 2. This will hopefully be a useful thing to look over, but you should not use this as your *only* method to study for the upcoming quiz."
   ]
  },
  {
   "cell_type": "markdown",
   "metadata": {
    "collapsed": false
   },
   "source": [
    "## Question 1\n",
    "\n",
    "The following would define a graph in Sage, if the cell could run:\n",
    "\n",
    "```\n",
    "N = 10**100\n",
    "G = Graph()\n",
    "G.add_vertices([i for i in range(N)])\n",
    "for i in G:\n",
    "    for j in G:\n",
    "        if i!=j and mod(i,2) == mod(j,2):\n",
    "            G.add_edge((i,j))\n",
    "```\n",
    "How many connected components would be in the resulting graph $G$?"
   ]
  },
  {
   "cell_type": "markdown",
   "metadata": {
    "collapsed": false
   },
   "source": [
    "Answer here:"
   ]
  },
  {
   "cell_type": "markdown",
   "metadata": {
    "collapsed": false
   },
   "source": [
    "## Question 2\n",
    "\n",
    "An electrician is designing a power grid. She has a a set of power stations that she needs to connect with wires. For certain pairs of power stations \\{A,B\\}, she can build a power line to connect station A with station B. Each potential power line has a corresponding *cost* that her company would have to pay to build that line.\n",
    "\n",
    "- What mathematical structure could the electrician use in order to analyze this problem? Your answer should address all of the relevant information above.\n",
    "- How could she use this structure in order to find a way to create a *connected power grid* in the cheapest way possible?"
   ]
  },
  {
   "cell_type": "markdown",
   "metadata": {
    "collapsed": false
   },
   "source": [
    "Answer here:"
   ]
  },
  {
   "cell_type": "markdown",
   "metadata": {
    "collapsed": false
   },
   "source": [
    "## Question 3\n",
    "\n",
    "Alice and Bob want to create a shared key with a Diffie-Hellman-Merkle key exchange. They choose the prime $p = 37$ and the primitive root $2$ to work with. Alice chooses the private key $a = 7$ and Bob chooses the private key $b = 13$.\n",
    "- What is the *first piece of information* that Alice will send to Bob?\n",
    "- What is the shared key that Alice and Bob will eventually create?"
   ]
  },
  {
   "cell_type": "markdown",
   "metadata": {
    "collapsed": false
   },
   "source": [
    "Answer here:"
   ]
  },
  {
   "cell_type": "markdown",
   "metadata": {
    "collapsed": false
   },
   "source": [
    "## Question 4\n",
    "\n",
    "Banks A and B publish RSA moduli $N = pq$ and $M = pr$ respectively, to set up a public key cryptosystem. Why is this a vulnerability? I.e. how could a \"hacker\" extract factorizations of their RSA moduli from this?"
   ]
  },
  {
   "cell_type": "markdown",
   "metadata": {
    "collapsed": false
   },
   "source": [
    "Answer here:"
   ]
  },
  {
   "cell_type": "markdown",
   "metadata": {
    "collapsed": false
   },
   "source": [
    "## Question 5\n",
    "\n",
    "Below is a hypothetical data set:\n",
    "\n",
    "![](dots.png)\n",
    "\n",
    "- Which of the 5 lines below most closely resemble the line that would be produced by running an OLS Linear Regression on this data set?\n",
    "\n",
    "![](lines.png)\n",
    "\n",
    "- Suppose the regression was trying to model a relationship of the form \n",
    "$$\n",
    "income = \\beta_0 + \\beta_1education,\n",
    "$$\n",
    "where $income$ measures a person's yearly income in thousands of dollars and $education$ measures the number of years of formal education a person has had. Give an interpretation of the coefficient $\\beta_1$.\n",
    "\n",
    "- Give one way that you would have to be *careful* in using the resulting model to make predictions."
   ]
  },
  {
   "cell_type": "markdown",
   "metadata": {
    "collapsed": false
   },
   "source": [
    "Answer here:"
   ]
  },
  {
   "cell_type": "markdown",
   "metadata": {
    "collapsed": false
   },
   "source": [
    "## Question 6\n",
    "\n",
    "Answer the following about the Chinese Remainder Theorem\n",
    "- Find an integer $N$ such that $N\\equiv 3 \\mod 6$ and $N\\equiv 13\\mod 19$.\n",
    "- There is no integer $N$ which satisfies $N \\equiv 2\\mod 4$ and $N\\equiv 7\\mod 12$. Why does this *not contradict* the Chinese Remainder Theorem?"
   ]
  },
  {
   "cell_type": "markdown",
   "metadata": {
    "collapsed": false
   },
   "source": [
    "Answer here:"
   ]
  }
 ],
 "metadata": {
  "kernelspec": {
   "display_name": "SageMath 9.2",
   "language": "sagemath",
   "metadata": {
    "cocalc": {
     "description": "Open-source mathematical software system",
     "priority": 10,
     "url": "https://www.sagemath.org/"
    }
   },
   "name": "sage-9.2",
   "resource_dir": "/ext/jupyter/kernels/sage-9.2"
  }
 },
 "nbformat": 4,
 "nbformat_minor": 4
}