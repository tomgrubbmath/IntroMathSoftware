{
 "cells": [
  {
   "cell_type": "markdown",
   "metadata": {
    "collapsed": false,
    "tags": [
     "Q1"
    ]
   },
   "source": [
    "## Question 1\n",
    "A company is performing research on how much money individuals donate to politics in a year. They are basing a person's yearly political donations in dollars (the $donations$ variable) on:\n",
    "- How much money the person earns (in dollars) in a year: the $income$ variable \n",
    "- What party the person belongs to: the $party$ variable\n",
    "\n",
    "The model they want to predict is a linear model,\n",
    "$$\n",
    "donation = \\beta_0 + \\beta_1*income + \\beta_2*party\n",
    "$$\n",
    "In this case party is a *categorical variable*, equal to $0$ if the person is in party $A$ and $1$ if the person is in party $B$ (assume that *everyone* in this scenario is either in party $A$ or party $B$).\n",
    "\n",
    "The model the company obtains is \n",
    "$$\n",
    "donation = -150 + .005 * income + 1000* party.\n",
    "$$\n",
    "Answer the following:\n",
    "- Based on the model predictions, how much money will an individual in party $B$ donate to politics in a year, if they earn \\$100,000 dollars a year?\n",
    "- The company CEO is confused at the model's prediction for the yearly donation of a person in party $A$ who only makes \\$25,000 a year. Give a short explanation to the CEO as to what could be happening here.\n",
    "- Give an interpretation of *both* the coefficient $\\beta_1 = .005$ and $\\beta_2 = 1000$."
   ]
  },
  {
   "cell_type": "markdown",
   "metadata": {
    "collapsed": false,
    "tags": [
     "A1"
    ]
   },
   "source": [
    "Answer here:\n",
    "- First part:\n",
    "- Second part:\n",
    "- Third part:"
   ]
  },
  {
   "cell_type": "markdown",
   "metadata": {
    "collapsed": false,
    "tags": [
     "Q2"
    ]
   },
   "source": [
    "## Question 2\n",
    "\n",
    "The following picture displays an elliptic curve, together with six points on that curve: $A$, $B$, $C$, $D$, $E$, and $F$. Which of the listed points is equal to $A+B$?\n",
    "![](ec.png)"
   ]
  },
  {
   "cell_type": "markdown",
   "metadata": {
    "collapsed": false,
    "tags": [
     "A2"
    ]
   },
   "source": [
    "Answer here:\n",
    "\n",
    "-  "
   ]
  },
  {
   "cell_type": "markdown",
   "metadata": {
    "collapsed": false,
    "tags": [
     "Q3"
    ]
   },
   "source": [
    "## Question 3\n",
    "\n",
    "Alice wants to set up an RSA cryptosystem. She chooses an RSA modulus $N = 91 = 7\\cdot 13$ and a public key $e = 5$.\n",
    "Answer the following:\n",
    "- What is Alice's private key $d$?\n",
    "- I want to send Alice the message $m = 17$ using this system. What encoded message will I actually send her?"
   ]
  },
  {
   "cell_type": "markdown",
   "metadata": {
    "collapsed": false,
    "tags": [
     "A3"
    ]
   },
   "source": [
    "Answer here:\n",
    "- First part:\n",
    "- Second part:"
   ]
  },
  {
   "cell_type": "markdown",
   "metadata": {
    "collapsed": false,
    "tags": [
     "Q4"
    ]
   },
   "source": [
    "## Question 4\n",
    "\n",
    "Delta Airlines has airports in many cities across the world. For *some pairs* of these airports (A,B), Delta offers flights which take you *from airport A to airport B*. Each flight has an associated *ticket cost* which a customer must pay in order to ride that flight.\n",
    "\n",
    "Give a short (one line) explanation for how Delta could represent their airports and the flights between them *as a graph*. Your line should address *all of the relevant information included above*."
   ]
  },
  {
   "cell_type": "markdown",
   "metadata": {
    "collapsed": false,
    "tags": [
     "A4"
    ]
   },
   "source": [
    "Answer here:\n",
    "\n",
    "-\n"
   ]
  },
  {
   "cell_type": "markdown",
   "metadata": {
    "collapsed": false,
    "tags": [
     "Q5"
    ]
   },
   "source": [
    "## Question 5\n",
    "\n",
    "Below are two types of prime numbers. For each type of prime number, list whether it is a *weak prime* or a *strong prime* with respect to the Diffie-Hellman-Merkle key exchange. You do not have to justify your answer.\n",
    "- A prime of the form $p = 6^n + 1$.\n",
    "- The larger prime in a *Sophie Germain pair*. Recall that a Sophie Germain pair is a pair of prime numbers of the form $(p, 2p+1)$."
   ]
  },
  {
   "cell_type": "markdown",
   "metadata": {
    "collapsed": false,
    "tags": [
     "A5"
    ]
   },
   "source": [
    "Answer here:\n",
    "- First part:\n",
    "- Second part:"
   ]
  },
  {
   "cell_type": "markdown",
   "metadata": {
    "collapsed": false,
    "tags": [
     "Q6"
    ]
   },
   "source": [
    "## Question 6\n",
    "\n",
    "The code chunk below would instantiate a graph in Sage, if it could run (the numbers are too large for it to actually run):\n",
    "```\n",
    "N = 10**100\n",
    "G = Graph()\n",
    "G.add_vertices([i for i in range(N)])\n",
    "for i in G:\n",
    "    for j in G:\n",
    "        if mod(i+1,N) == mod(j,N):\n",
    "            G.add_edge((i,j))\n",
    "```\n",
    "How many edges are in the resulting graph $G$? How many connected components are in the resulting graph $G$?"
   ]
  },
  {
   "cell_type": "markdown",
   "metadata": {
    "collapsed": false,
    "tags": [
     "A6"
    ]
   },
   "source": [
    "Answer here:\n",
    "- First part:\n",
    "- Second part:"
   ]
  },
  {
   "cell_type": "markdown",
   "metadata": {
    "collapsed": false,
    "tags": [
     "Q7"
    ]
   },
   "source": [
    "## Question 7\n",
    "\n",
    "The code chunk below would create a list of multiplicative orders mod $p$ for a very large prime $p$, if it could run:\n",
    "```\n",
    "myList = []\n",
    "p = 2**4423 - 1\n",
    "for i in range(1, p):\n",
    "    myList.append(mod(i,p).multiplicative_order())\n",
    "```\n",
    "If this cell could run, what would be the maximum value in `myList`? (You do not have to simplify your answer)"
   ]
  },
  {
   "cell_type": "markdown",
   "metadata": {
    "collapsed": false,
    "tags": [
     "A7"
    ]
   },
   "source": [
    "Answer here:\n",
    "\n",
    "-  "
   ]
  }
 ],
 "metadata": {
  "kernelspec": {
   "display_name": "SageMath 9.2",
   "language": "sagemath",
   "metadata": {
    "cocalc": {
     "description": "Open-source mathematical software system",
     "priority": 10,
     "url": "https://www.sagemath.org/"
    }
   },
   "name": "sage-9.2",
   "resource_dir": "/ext/jupyter/kernels/sage-9.2"
  },
  "language_info": {
   "codemirror_mode": {
    "name": "ipython",
    "version": 3
   },
   "file_extension": ".py",
   "mimetype": "text/x-python",
   "name": "python",
   "nbconvert_exporter": "python",
   "pygments_lexer": "ipython3",
   "version": "3.8.5"
  }
 },
 "nbformat": 4,
 "nbformat_minor": 4
}