{
 "cells": [
  {
   "cell_type": "markdown",
   "metadata": {
    "collapsed": false
   },
   "source": [
    "# Lecture 06: SageMath, the Basics\n",
    "\n",
    "### Please note: This lecture will be recorded and made available for viewing online. If you do not wish to be recorded, please adjust your camera settings accordingly. "
   ]
  },
  {
   "cell_type": "markdown",
   "metadata": {
    "collapsed": false
   },
   "source": [
    "# Reminders/Announcements:\n",
    "- Assignment 1 has been collected! Assignment 2 will be pushed soon.\n",
    "- Answers to questions from Assignment 0 have been provided in your new FAQ folder. They're unorganized, sorry in advance. If you have remaining questions, post in Zulip!\n",
    "- LOOOOOOOOOONGGGGGGGGG WEEEEEEEEEEEKEEEEEEEEND!\n",
    "\n",
    "- ![celebration](tenor.gif)\n",
    "\n",
    "- I know that long weekends don't really mean the same thing that they used to. But at the very least, there will be no lecture on Monday. Use that ~50 minutes to do some meditation, clean your room, go outside, cook some comfort food, call your grandparents, ...\n",
    "- I *will* still be available for my usual Monday Office Hours (5-6 pm Pacific), since unfortunately there will still be homework happening.\n",
    "- Discussions on Tuesday! Not required, but recommended!\n",
    "- Solutions for HW 1 will be pushed out to your projects. Please please check your answers! Some of you are confused with dictionaries. \n",
    "- Quiz 1 is on Jan 25th. \n",
    "    - It will cover Lectures 3 - 7 (in other words, Python and Intro SageMath). \n",
    "        - You *do not* have to study anything about Markdown, LaTex, how Jupyter works, ...\n",
    "        - You *do not* have to study the end of Lecture 5 (the stuff we zoomed thru; copying, user defined classes, string formatting)\n",
    "    - Remember: This is only worth 6% of your grade. \n",
    "    - The quiz is open lecture/open documentation **but** it must be completed on your own. \n",
    "        - No help from friends, no group work, no Zulip, no asking questions to Chegg/StackExchange, etc. This is 6% of your grade; please use it as an honest assessment of yourself\n",
    "        - *You will not have unlimited time to complete the quiz.* Use your time wisely; having to Google how the `range()` function works is maybe not the best use of time...\n",
    "    - More details on the logistics will come next week."
   ]
  },
  {
   "cell_type": "markdown",
   "metadata": {
    "collapsed": false
   },
   "source": [
    "### What is Sage?\n",
    "\n",
    "From the [SageMath home page](http://www.sagemath.org/):\n",
    "\n",
    "> SageMath is a free open-source mathematics software system licensed under the GPL.\n",
    "\n",
    "Note the distinction between *free* and *open-source*.\n",
    "- *free* means that there is no cost to use the software\n",
    "- *open-source* means that anyone can see the source code, modify it, and distribute the results (as long as it is licensed under GPL)\n",
    "\n",
    "Accordingly, SageMath doesn't have a dedicated programming team. It is largely built on volunteer efforts of scientists.\n",
    "\n",
    "> It builds on top of many existing open-source packages: NumPy, SciPy, matplotlib, Sympy, Maxima, GAP, FLINT, R and many more.\n",
    "\n",
    "One key feature of the open-source model is that it is very easy to incorporate existing software into new software. In particular, in lieu of developing many basic features from stratch, the SageMath developers have incorporated other mature, well-written software to accomplish these tasks. In most cases, these packages are themselves under active development; updates from \"upstream\" are periodically imported into Sage.\n",
    "\n",
    "> Access their combined power through a common, Python-based language or directly via interfaces or wrappers.\n",
    "\n",
    "The underlying language of Sage is Python (with some minor modifications). Some of the underlying packages can also be accessed more directly; this is sometimes important for high-performance computations, but we will not deal with such subtleties in this course.\n",
    "\n",
    "> Mission: *Creating a viable free open source alternative to Magma, Maple, Mathematica and Matlab.*\n",
    "\n",
    "The creator and lead developer of Sage is [William Stein](https://wstein.org/). Stein is also the creator of CoCalc, but these are different projects (albeit closely related)."
   ]
  },
  {
   "cell_type": "markdown",
   "metadata": {
    "collapsed": false
   },
   "source": [
    "### Getting started\n",
    "\n",
    "Since the underlying language of Sage is adapted from Python, most simple Python code will run unchanged in Sage. However, behind the scenes there are some subtle changes."
   ]
  },
  {
   "cell_type": "code",
   "execution_count": 0,
   "metadata": {
    "collapsed": false
   },
   "outputs": [
   ],
   "source": [
    "print('Hello World!')"
   ]
  },
  {
   "cell_type": "code",
   "execution_count": 0,
   "metadata": {
    "collapsed": false
   },
   "outputs": [
   ],
   "source": [
    "for i in range(5):\n",
    "    if i%2==0:\n",
    "        print('EVEN STEVEN')\n",
    "    else:\n",
    "        print('ODD TODD')"
   ]
  },
  {
   "cell_type": "code",
   "execution_count": 0,
   "metadata": {
    "collapsed": false
   },
   "outputs": [
   ],
   "source": [
    "def f(x):\n",
    "    return(x+3)\n",
    "f(5)"
   ]
  },
  {
   "cell_type": "markdown",
   "metadata": {
    "collapsed": false
   },
   "source": [
    "There *are* some differences. Sage preprocesses your code. Note for instance that the carat symbol works \"like you think it should\" now:"
   ]
  },
  {
   "cell_type": "code",
   "execution_count": 0,
   "metadata": {
    "collapsed": false
   },
   "outputs": [
   ],
   "source": [
    "print([number^2 for number in range(10)])"
   ]
  },
  {
   "cell_type": "markdown",
   "metadata": {
    "collapsed": false
   },
   "source": [
    "This is because Sage is built *with math in mind*. Integers also default to something else now!"
   ]
  },
  {
   "cell_type": "code",
   "execution_count": 0,
   "metadata": {
    "collapsed": false
   },
   "outputs": [
   ],
   "source": [
    "u = 57         #In Sage, integers default to a \"sage.rings.integer.Integer\" type\n",
    "type(u)"
   ]
  },
  {
   "cell_type": "code",
   "execution_count": 0,
   "metadata": {
    "collapsed": false
   },
   "outputs": [
   ],
   "source": [
    "v = int(57)   #This is what a Python integer looked like\n",
    "type(v)"
   ]
  },
  {
   "cell_type": "markdown",
   "metadata": {
    "collapsed": false
   },
   "source": [
    "Sage integers are way cooler than the lame Python integers!"
   ]
  },
  {
   "cell_type": "code",
   "execution_count": 0,
   "metadata": {
    "collapsed": false
   },
   "outputs": [
   ],
   "source": [
    "print(u,type(u))\n",
    "print(v,type(v))"
   ]
  },
  {
   "cell_type": "code",
   "execution_count": 0,
   "metadata": {
    "collapsed": false
   },
   "outputs": [
   ],
   "source": [
    "u.prime_divisors()"
   ]
  },
  {
   "cell_type": "code",
   "execution_count": 0,
   "metadata": {
    "collapsed": false
   },
   "outputs": [
   ],
   "source": [
    "v.prime_divisors()"
   ]
  },
  {
   "cell_type": "markdown",
   "metadata": {
    "collapsed": false
   },
   "source": [
    "Although this really isn't an issue, because Sage will often try to implicitly cast Python integers into Sage integers:"
   ]
  },
  {
   "cell_type": "code",
   "execution_count": 0,
   "metadata": {
    "collapsed": false
   },
   "outputs": [
   ],
   "source": [
    "prime_divisors(v)"
   ]
  },
  {
   "cell_type": "markdown",
   "metadata": {
    "collapsed": false
   },
   "source": [
    "You can also directly cast Python integers into Sage integers:"
   ]
  },
  {
   "cell_type": "code",
   "execution_count": 0,
   "metadata": {
    "collapsed": false
   },
   "outputs": [
   ],
   "source": [
    "print(type(ZZ(v)))\n",
    "\n",
    "print(type(Integer(v)))"
   ]
  },
  {
   "cell_type": "code",
   "execution_count": 0,
   "metadata": {
    "collapsed": false
   },
   "outputs": [
   ],
   "source": [
    "type(ZZ)"
   ]
  },
  {
   "cell_type": "markdown",
   "metadata": {
    "collapsed": false
   },
   "source": [
    "Note: If you are working with integers coming from the `range()` function, you will implicitly get Python integers, as `range` is a Python builtin. You can directly cast these to Sage integers if you want, or you can use `srange()`"
   ]
  },
  {
   "cell_type": "code",
   "execution_count": 0,
   "metadata": {
    "collapsed": false
   },
   "outputs": [
   ],
   "source": [
    "for i in range(5):\n",
    "    print(i,type(i))"
   ]
  },
  {
   "cell_type": "code",
   "execution_count": 0,
   "metadata": {
    "collapsed": false
   },
   "outputs": [
   ],
   "source": [
    "for i in srange(5):\n",
    "    print(i,type(i))"
   ]
  },
  {
   "cell_type": "markdown",
   "metadata": {
    "collapsed": false
   },
   "source": [
    "# *** Participation Check ***\n",
    "Sage has a builtin `is_prime` function which will operate on Sage integers or Python integers. It is displayed in the code cell below:"
   ]
  },
  {
   "cell_type": "code",
   "execution_count": 0,
   "metadata": {
    "collapsed": false
   },
   "outputs": [
   ],
   "source": [
    "print(is_prime(37))\n",
    "\n",
    "print(is_prime(10))"
   ]
  },
  {
   "cell_type": "markdown",
   "metadata": {
    "collapsed": false
   },
   "source": [
    "In the code cell below, write a function `primesLessThan` which takes as input a positive integer $N$ and returns a list of the prime numbers $p$ with $1\\leq p \\leq N$"
   ]
  },
  {
   "cell_type": "code",
   "execution_count": 0,
   "metadata": {
    "collapsed": false
   },
   "outputs": [
   ],
   "source": [
    "def primesLessThan(N):\n",
    "    #Your code here"
   ]
  },
  {
   "cell_type": "markdown",
   "metadata": {
    "collapsed": false
   },
   "source": [
    "To check your answer, run the following cell, and make sure you obtain `[2,3,5,7,11]`."
   ]
  },
  {
   "cell_type": "code",
   "execution_count": 0,
   "metadata": {
    "collapsed": false
   },
   "outputs": [
   ],
   "source": [
    "print(primesLessThan(12))"
   ]
  },
  {
   "cell_type": "markdown",
   "metadata": {
    "collapsed": false
   },
   "source": [
    "# ****************************"
   ]
  },
  {
   "cell_type": "markdown",
   "metadata": {
    "collapsed": false
   },
   "source": [
    "Gotcha! Sage already had a builtin function for that!"
   ]
  },
  {
   "cell_type": "code",
   "execution_count": 0,
   "metadata": {
    "collapsed": false
   },
   "outputs": [
   ],
   "source": [
    "prime_range(12)"
   ]
  },
  {
   "cell_type": "markdown",
   "metadata": {
    "collapsed": false
   },
   "source": [
    "And many more!"
   ]
  },
  {
   "cell_type": "code",
   "execution_count": 0,
   "metadata": {
    "collapsed": false
   },
   "outputs": [
   ],
   "source": [
    "for i in Primes():\n",
    "    print(i)\n",
    "    if i > 100:\n",
    "        break"
   ]
  },
  {
   "cell_type": "code",
   "execution_count": 0,
   "metadata": {
    "collapsed": false
   },
   "outputs": [
   ],
   "source": [
    "next_prime(22)"
   ]
  },
  {
   "cell_type": "markdown",
   "metadata": {
    "collapsed": false
   },
   "source": [
    "In general, Sage has an absurd amount of builtin functions that are available to you. The Sage documentation is really good: https://doc.sagemath.org/\n",
    "\n",
    "Also, Google is your friend!\n",
    "\n",
    "A quick way to learn about a function is *introspection* (this works in Python as well)."
   ]
  },
  {
   "cell_type": "code",
   "execution_count": 0,
   "metadata": {
    "collapsed": false
   },
   "outputs": [
   ],
   "source": [
    "prime_divisors??"
   ]
  },
  {
   "cell_type": "markdown",
   "metadata": {
    "collapsed": false
   },
   "source": [
    "These functions let you collect a lot of fun arithmetic data. For example; the next function takes as input an integer $N$ and returns the next largest integer which has *exactly 4 distinct prime factors*. "
   ]
  },
  {
   "cell_type": "code",
   "execution_count": 0,
   "metadata": {
    "collapsed": false
   },
   "outputs": [
   ],
   "source": [
    "def fourPrimeDivisors(N):\n",
    "    curr = Integer(N+1)\n",
    "    while len(prime_divisors(curr))!= 4:\n",
    "        curr += 1\n",
    "    return(curr)"
   ]
  },
  {
   "cell_type": "code",
   "execution_count": 0,
   "metadata": {
    "collapsed": false
   },
   "outputs": [
   ],
   "source": [
    "x = fourPrimeDivisors(1)\n",
    "print(x)\n",
    "print(prime_divisors(x))"
   ]
  },
  {
   "cell_type": "code",
   "execution_count": 0,
   "metadata": {
    "collapsed": false
   },
   "outputs": [
   ],
   "source": [
    "print(fourPrimeDivisors(210))\n",
    "print(prime_divisors(fourPrimeDivisors(210)))"
   ]
  },
  {
   "cell_type": "code",
   "execution_count": 0,
   "metadata": {
    "collapsed": false
   },
   "outputs": [
   ],
   "source": [
    "print(fourPrimeDivisors(330))\n",
    "print(prime_divisors(fourPrimeDivisors(330)))"
   ]
  },
  {
   "cell_type": "code",
   "execution_count": 0,
   "metadata": {
    "collapsed": false
   },
   "outputs": [
   ],
   "source": [
    "print(fourPrimeDivisors(390))\n",
    "print(prime_divisors(fourPrimeDivisors(390)))"
   ]
  },
  {
   "cell_type": "code",
   "execution_count": 0,
   "metadata": {
    "collapsed": false
   },
   "outputs": [
   ],
   "source": [
    "2^2*3*5*7"
   ]
  },
  {
   "cell_type": "markdown",
   "metadata": {
    "collapsed": false
   },
   "source": [
    "Here is a fun one. Which positive integers can be written as a sum of 2 integers squared? We can use the builtin `two_squares` function for this:"
   ]
  },
  {
   "cell_type": "code",
   "execution_count": 0,
   "metadata": {
    "collapsed": false
   },
   "outputs": [
   ],
   "source": [
    "two_squares(5)    # 5 = 1+4 = 1^2 + 2^2"
   ]
  },
  {
   "cell_type": "code",
   "execution_count": 0,
   "metadata": {
    "collapsed": false
   },
   "outputs": [
   ],
   "source": [
    "two_squares(7)    #7 is not a sum of two squares"
   ]
  },
  {
   "cell_type": "code",
   "execution_count": 0,
   "metadata": {
    "collapsed": false
   },
   "outputs": [
   ],
   "source": [
    "bad_numbers = []\n",
    "for i in range(10^6):\n",
    "    try:\n",
    "        two_squares(i)\n",
    "    except ValueError:\n",
    "        bad_numbers.append(i)\n",
    "show(bad_numbers[:20])"
   ]
  },
  {
   "cell_type": "code",
   "execution_count": 0,
   "metadata": {
    "collapsed": false
   },
   "outputs": [
   ],
   "source": [
    "for num in bad_numbers[:20]:\n",
    "    print(prime_divisors(num))"
   ]
  },
  {
   "cell_type": "code",
   "execution_count": 0,
   "metadata": {
    "collapsed": false
   },
   "outputs": [
   ],
   "source": [
    "badSet = set(bad_numbers)\n",
    "for i in range(13):\n",
    "    if 7^i in badSet:\n",
    "        print('The power 3^{} cannot be written as a sum of two squares'.format(i))"
   ]
  },
  {
   "cell_type": "markdown",
   "metadata": {
    "collapsed": false
   },
   "source": [
    "Notice a pattern? What about 7?"
   ]
  },
  {
   "cell_type": "code",
   "execution_count": 0,
   "metadata": {
    "collapsed": false
   },
   "outputs": [
   ],
   "source": [
    "for i in range(9):\n",
    "    if 7^i in badSet:\n",
    "        print('The power 7^{} cannot be written as a sum of two squares'.format(i))"
   ]
  },
  {
   "cell_type": "markdown",
   "metadata": {
    "collapsed": false
   },
   "source": [
    "What about 11?"
   ]
  },
  {
   "cell_type": "code",
   "execution_count": 0,
   "metadata": {
    "collapsed": false
   },
   "outputs": [
   ],
   "source": [
    "for i in range(6):\n",
    "    if 11^i in badSet:\n",
    "        print('The power 11^{} cannot be written as a sum of two squares'.format(i))"
   ]
  },
  {
   "cell_type": "markdown",
   "metadata": {
    "collapsed": false
   },
   "source": [
    "We are only getting odd powers of these primes!\n",
    "\n",
    "But note that there are no powers of 5 that are in the list!"
   ]
  },
  {
   "cell_type": "code",
   "execution_count": 0,
   "metadata": {
    "collapsed": false
   },
   "outputs": [
   ],
   "source": [
    "for i in range(10):\n",
    "    if 5^i in badSet:\n",
    "        print(i)"
   ]
  },
  {
   "cell_type": "markdown",
   "metadata": {
    "collapsed": false
   },
   "source": [
    "Nor 13!"
   ]
  },
  {
   "cell_type": "code",
   "execution_count": 0,
   "metadata": {
    "collapsed": false
   },
   "outputs": [
   ],
   "source": [
    "for i in range(10):\n",
    "    if 13^i in badSet:\n",
    "        print(i)"
   ]
  },
  {
   "cell_type": "markdown",
   "metadata": {
    "collapsed": false
   },
   "source": [
    "What is the difference between the primes like 3, 7, and 11, and the primes like 5 or 13?"
   ]
  },
  {
   "cell_type": "code",
   "execution_count": 0,
   "metadata": {
    "collapsed": false
   },
   "outputs": [
   ],
   "source": [
    "for i in [3,7,11]:\n",
    "    print(i%4)\n",
    "    \n",
    "for i in [5,13]:\n",
    "    print(i%4)"
   ]
  },
  {
   "cell_type": "markdown",
   "metadata": {
    "collapsed": false
   },
   "source": [
    "Theorem: Let $N$ be a positive integer. $N$ can be written as $N = a^2 + b^2$ if and only if there is not a prime $p$ with $p \\equiv 3\\mod 4$ and with an *odd power* of $p$ appearing in the prime decomposition of $N$. \n",
    "\n",
    "This problem dates back to Fermat and Euler: http://eulerarchive.maa.org/docs/translations/E228en.pdf . They didn't have a computer to help; poor Fermat and Euler :("
   ]
  },
  {
   "cell_type": "markdown",
   "metadata": {
    "collapsed": false
   },
   "source": [
    "## Rationals!\n",
    "\n",
    "When you divide two Python integers, you're forced to start doing floating point arithmetic. This is not good because this implies you are rounding."
   ]
  },
  {
   "cell_type": "code",
   "execution_count": 0,
   "metadata": {
    "collapsed": false
   },
   "outputs": [
   ],
   "source": [
    "x = int(5)/int(3)\n",
    "\n",
    "print(x)\n",
    "print(type(x))"
   ]
  },
  {
   "cell_type": "markdown",
   "metadata": {
    "collapsed": false
   },
   "source": [
    "If you don't think that rounding would be that big of an issue..."
   ]
  },
  {
   "cell_type": "code",
   "execution_count": 0,
   "metadata": {
    "collapsed": false
   },
   "outputs": [
   ],
   "source": [
    "print(100*x)"
   ]
  },
  {
   "cell_type": "markdown",
   "metadata": {
    "collapsed": false
   },
   "source": [
    "Now imagine you were multiplying matrices and you were doing *hundreds or thousands or millions* of these small multiplications, each with their own rounding error! This will be explored in more detail in Assignment 3."
   ]
  },
  {
   "cell_type": "markdown",
   "metadata": {
    "collapsed": false
   },
   "source": [
    "In Sage, what happens?"
   ]
  },
  {
   "cell_type": "code",
   "execution_count": 0,
   "metadata": {
    "collapsed": false
   },
   "outputs": [
   ],
   "source": [
    "x = 5/3\n",
    "\n",
    "print(x)\n",
    "print(type(x))"
   ]
  },
  {
   "cell_type": "code",
   "execution_count": 0,
   "metadata": {
    "collapsed": false
   },
   "outputs": [
   ],
   "source": [
    "5/3 + 7/11"
   ]
  },
  {
   "cell_type": "code",
   "execution_count": 0,
   "metadata": {
    "collapsed": false
   },
   "outputs": [
   ],
   "source": [
    "5/3*7/11"
   ]
  },
  {
   "cell_type": "code",
   "execution_count": 0,
   "metadata": {
    "collapsed": false
   },
   "outputs": [
   ],
   "source": [
    "(5/3).parent()"
   ]
  },
  {
   "cell_type": "markdown",
   "metadata": {
    "collapsed": false
   },
   "source": [
    "This is *way* useful. Doing exact calculations with rational types is very preferable to doing floating point calculations, if possible."
   ]
  },
  {
   "cell_type": "markdown",
   "metadata": {
    "collapsed": false
   },
   "source": [
    "### What if you actually want floating point numbers/approximations?\n",
    "\n",
    "An easy way is as follows:"
   ]
  },
  {
   "cell_type": "code",
   "execution_count": 0,
   "metadata": {
    "collapsed": false
   },
   "outputs": [
   ],
   "source": [
    "x = 5/3\n",
    "print(x)\n",
    "y = x*1.0\n",
    "print(y)\n",
    "print(y.parent())"
   ]
  },
  {
   "cell_type": "markdown",
   "metadata": {
    "collapsed": false
   },
   "source": [
    "You can also manually specify the precision"
   ]
  },
  {
   "cell_type": "code",
   "execution_count": 0,
   "metadata": {
    "collapsed": false
   },
   "outputs": [
   ],
   "source": [
    "RF = RealField(200)  #Real numbers with 200 bits of precision"
   ]
  },
  {
   "cell_type": "code",
   "execution_count": 0,
   "metadata": {
    "collapsed": false
   },
   "outputs": [
   ],
   "source": [
    "RF(5/3)"
   ]
  },
  {
   "cell_type": "markdown",
   "metadata": {
    "collapsed": false
   },
   "source": [
    "You can convert numbers to a rational number...kinda?"
   ]
  },
  {
   "cell_type": "code",
   "execution_count": 0,
   "metadata": {
    "collapsed": false
   },
   "outputs": [
   ],
   "source": [
    "y = RF(5/3)\n",
    "print(y)\n",
    "print(QQ(y))"
   ]
  },
  {
   "cell_type": "code",
   "execution_count": 0,
   "metadata": {
    "collapsed": false
   },
   "outputs": [
   ],
   "source": [
    "print(pi)\n",
    "print(type(pi))\n",
    "print(RF(pi))"
   ]
  },
  {
   "cell_type": "code",
   "execution_count": 0,
   "metadata": {
    "collapsed": false
   },
   "outputs": [
   ],
   "source": [
    "QQ(pi)"
   ]
  },
  {
   "cell_type": "markdown",
   "metadata": {
    "collapsed": false
   },
   "source": [
    "### Modular Arithmetic!"
   ]
  },
  {
   "cell_type": "code",
   "execution_count": 0,
   "metadata": {
    "collapsed": false
   },
   "outputs": [
   ],
   "source": [
    "x = mod(2, 11)\n",
    "print(x)\n",
    "print(type(x))"
   ]
  },
  {
   "cell_type": "code",
   "execution_count": 0,
   "metadata": {
    "collapsed": false
   },
   "outputs": [
   ],
   "source": [
    "for i in range(10):\n",
    "    print(2^i)"
   ]
  },
  {
   "cell_type": "code",
   "execution_count": 0,
   "metadata": {
    "collapsed": false
   },
   "outputs": [
   ],
   "source": [
    "for i in range(10):\n",
    "    print(x^i)"
   ]
  },
  {
   "cell_type": "markdown",
   "metadata": {
    "collapsed": false
   },
   "source": [
    "Just to make sure we are all on the same page; when you work modulo 11, $2^4$ gives $5$ because \n",
    "$$\n",
    "2^4 = 16 = 11 + 5.\n",
    "$$\n",
    "In other words, Sage is doing standard arithmetic, and then taking remainders mod 11.\n",
    "\n",
    "*Except*, there are better ways to do exponents when you care about modular arithmetic!"
   ]
  },
  {
   "cell_type": "code",
   "execution_count": 0,
   "metadata": {
    "collapsed": false
   },
   "outputs": [
   ],
   "source": [
    "pow(39,128,5)  #This computes the remainder of 39^128 when divided by 5. "
   ]
  },
  {
   "cell_type": "markdown",
   "metadata": {
    "collapsed": false
   },
   "source": [
    "The naive way of doing this would be to do 128 multiplications: \n",
    "\n",
    "- $39$\n",
    "- $39\\cdot 39$\n",
    "- $(39\\cdot39)\\cdot 39$\n",
    "- $((39\\cdot39)\\cdot 39)\\cdot 39$\n",
    "- ...\n",
    "\n",
    "Sage's pow function does *repeated squaring* to do this in $\\log_2(128) = 7$ multiplications:\n",
    "- $39$\n",
    "- $39^2$\n",
    "- $(39^2)\\cdot (39^2)$\n",
    "- $((39^2)\\cdot (39^2))\\cdot((39^2)\\cdot (39^2))$\n",
    "- ...\n",
    "It also saves time by reducing each result mod 5 after each step."
   ]
  },
  {
   "cell_type": "code",
   "execution_count": 0,
   "metadata": {
    "collapsed": false
   },
   "outputs": [
   ],
   "source": [
    "a = 5\n",
    "print('step 0')\n",
    "print(a)\n",
    "for i in range(1,9):\n",
    "    print('step {}'.format(i))\n",
    "    a=a*5\n",
    "    print(a)\n",
    "\n",
    "print('result {}'.format(a % 7))"
   ]
  },
  {
   "cell_type": "code",
   "execution_count": 0,
   "metadata": {
    "collapsed": false
   },
   "outputs": [
   ],
   "source": [
    "print('step 0')\n",
    "a = 5\n",
    "print(a)\n",
    "for i in range(1,4):\n",
    "    print('step {}'.format(i))\n",
    "    a = a^2\n",
    "    print(a)\n",
    "    \n",
    "print('step 4')\n",
    "a = a*5\n",
    "print(a)\n",
    "print('result {}'.format(a%7))"
   ]
  },
  {
   "cell_type": "code",
   "execution_count": 0,
   "metadata": {
    "collapsed": false
   },
   "outputs": [
   ],
   "source": [
    "print('step 0')\n",
    "a = mod(5,7)\n",
    "print(a)\n",
    "for i in range(1,4):\n",
    "    print('step {}'.format(i))\n",
    "    a = a^2\n",
    "    print(a)\n",
    "    \n",
    "print('step 4')\n",
    "a = a*5\n",
    "print(a)\n",
    "print('result {}'.format(a%7))"
   ]
  },
  {
   "cell_type": "markdown",
   "metadata": {
    "collapsed": false
   },
   "source": [
    "### Symbolic Calculus"
   ]
  },
  {
   "cell_type": "code",
   "execution_count": 0,
   "metadata": {
    "collapsed": false
   },
   "outputs": [
   ],
   "source": [
    "reset()  #Clears out all the variable assignments"
   ]
  },
  {
   "cell_type": "code",
   "execution_count": 0,
   "metadata": {
    "collapsed": false
   },
   "outputs": [
   ],
   "source": [
    "myVar = 12\n",
    "print(myVar)"
   ]
  },
  {
   "cell_type": "code",
   "execution_count": 0,
   "metadata": {
    "collapsed": false
   },
   "outputs": [
   ],
   "source": [
    "reset()\n",
    "print(myVar)"
   ]
  },
  {
   "cell_type": "markdown",
   "metadata": {
    "collapsed": false
   },
   "source": [
    "SageMath thinks of `x` as a special thing:"
   ]
  },
  {
   "cell_type": "code",
   "execution_count": 0,
   "metadata": {
    "collapsed": false
   },
   "outputs": [
   ],
   "source": [
    "print(x)\n",
    "type(x)"
   ]
  },
  {
   "cell_type": "markdown",
   "metadata": {
    "collapsed": false
   },
   "source": [
    "You can reassign it and use it as a variable if you want"
   ]
  },
  {
   "cell_type": "code",
   "execution_count": 0,
   "metadata": {
    "collapsed": false
   },
   "outputs": [
   ],
   "source": [
    "x = 4\n",
    "print(x)\n",
    "print(type(x))"
   ]
  },
  {
   "cell_type": "markdown",
   "metadata": {
    "collapsed": false
   },
   "source": [
    "But `x` is unique in that it can be used as a symbolic variable from the get go!"
   ]
  },
  {
   "cell_type": "code",
   "execution_count": 0,
   "metadata": {
    "collapsed": false
   },
   "outputs": [
   ],
   "source": [
    "reset()"
   ]
  },
  {
   "cell_type": "code",
   "execution_count": 0,
   "metadata": {
    "collapsed": false
   },
   "outputs": [
   ],
   "source": [
    "print(x^3 + x + 1)"
   ]
  },
  {
   "cell_type": "code",
   "execution_count": 0,
   "metadata": {
    "collapsed": false
   },
   "outputs": [
   ],
   "source": [
    "print(y^3 + y + 1)"
   ]
  },
  {
   "cell_type": "markdown",
   "metadata": {
    "collapsed": false
   },
   "source": [
    "This is because `x` is often used (mathematically) as a symbolic variable in polynomials, calculus, trig, etc. Sage developers know this, so they made it easy on us!"
   ]
  },
  {
   "cell_type": "code",
   "execution_count": 0,
   "metadata": {
    "collapsed": false
   },
   "outputs": [
   ],
   "source": [
    "expand((x^2+1)*(x+1))"
   ]
  },
  {
   "cell_type": "code",
   "execution_count": 0,
   "metadata": {
    "collapsed": false
   },
   "outputs": [
   ],
   "source": [
    "factor(x^3 + x^2 + x + 1)"
   ]
  },
  {
   "cell_type": "markdown",
   "metadata": {
    "collapsed": false
   },
   "source": [
    "You can instantiate other variables as follows:"
   ]
  },
  {
   "cell_type": "code",
   "execution_count": 0,
   "metadata": {
    "collapsed": false
   },
   "outputs": [
   ],
   "source": [
    "var('y','theta','zeta')"
   ]
  },
  {
   "cell_type": "code",
   "execution_count": 0,
   "metadata": {
    "collapsed": false
   },
   "outputs": [
   ],
   "source": [
    "expand((theta+zeta+y+x)^2)"
   ]
  },
  {
   "cell_type": "markdown",
   "metadata": {
    "collapsed": false
   },
   "source": [
    "They will even appear prettily if you use the builtin `show` command"
   ]
  },
  {
   "cell_type": "code",
   "execution_count": 0,
   "metadata": {
    "collapsed": false
   },
   "outputs": [
   ],
   "source": [
    "show(expand((theta+zeta+y+x)^2))"
   ]
  },
  {
   "cell_type": "markdown",
   "metadata": {
    "collapsed": false
   },
   "source": [
    "# *** Participation Check ***\n",
    "If `poly` is a polynomial then `poly.degree(variable_name)` will give you the highest power of `variable_name` appearing in the polynomial. See below:"
   ]
  },
  {
   "cell_type": "code",
   "execution_count": 0,
   "metadata": {
    "collapsed": false
   },
   "outputs": [
   ],
   "source": [
    "poly = x^3 + 2*x^2+x + 4\n",
    "poly.degree(x)"
   ]
  },
  {
   "cell_type": "markdown",
   "metadata": {
    "collapsed": false
   },
   "source": [
    "Similarly, `poly.coefficient(variable_name^power)` gives the coefficient of `variable_name^power` in `poly`. See below:"
   ]
  },
  {
   "cell_type": "code",
   "execution_count": 0,
   "metadata": {
    "collapsed": false
   },
   "outputs": [
   ],
   "source": [
    "poly.coefficient(x^2)"
   ]
  },
  {
   "cell_type": "markdown",
   "metadata": {
    "collapsed": false
   },
   "source": [
    "Write a function that takes as input two univariate polynomials in the variable `x`, computes their product `f*g`, and returns the leading coefficient (the coefficient of the highest power of `x`)."
   ]
  },
  {
   "cell_type": "code",
   "execution_count": 0,
   "metadata": {
    "collapsed": false
   },
   "outputs": [
   ],
   "source": [
    "def productLeadingTerm(f,g):\n",
    "    #Your code here"
   ]
  },
  {
   "cell_type": "markdown",
   "metadata": {
    "collapsed": false
   },
   "source": [
    "# ****************************"
   ]
  },
  {
   "cell_type": "markdown",
   "metadata": {
    "collapsed": false
   },
   "source": [
    "We will see more fun things with polynomial rings throughout the course! Write now we are just defining *symbolic expressions*"
   ]
  },
  {
   "cell_type": "code",
   "execution_count": 0,
   "metadata": {
    "collapsed": false
   },
   "outputs": [
   ],
   "source": [
    "poly = x^3 + x + 1\n",
    "type(poly)"
   ]
  },
  {
   "cell_type": "markdown",
   "metadata": {
    "collapsed": false
   },
   "source": [
    "They can be evaluated like Python functions!"
   ]
  },
  {
   "cell_type": "code",
   "execution_count": 0,
   "metadata": {
    "collapsed": false
   },
   "outputs": [
   ],
   "source": [
    "poly(3)"
   ]
  },
  {
   "cell_type": "code",
   "execution_count": 0,
   "metadata": {
    "collapsed": false
   },
   "outputs": [
   ],
   "source": [
    "poly(poly(x))"
   ]
  },
  {
   "cell_type": "code",
   "execution_count": 0,
   "metadata": {
    "collapsed": false
   },
   "outputs": [
   ],
   "source": [
    "expand(poly(poly(x)))"
   ]
  },
  {
   "cell_type": "code",
   "execution_count": 0,
   "metadata": {
    "collapsed": false
   },
   "outputs": [
   ],
   "source": [
    "multivariatePoly(x,y) = x*y*(x-y)"
   ]
  },
  {
   "cell_type": "code",
   "execution_count": 0,
   "metadata": {
    "collapsed": false
   },
   "outputs": [
   ],
   "source": [
    "print(multivariatePoly)\n",
    "multivariatePoly(3,1)"
   ]
  },
  {
   "cell_type": "markdown",
   "metadata": {
    "collapsed": false
   },
   "source": [
    "And you can graph them very easily!"
   ]
  },
  {
   "cell_type": "code",
   "execution_count": 0,
   "metadata": {
    "collapsed": false
   },
   "outputs": [
   ],
   "source": [
    "myPic = plot(poly,(-2,2))\n",
    "myPic += plot(lambda x: 5*cos(x), (-2,2), color = 'chartreuse')\n",
    "myPic += text('This is my sweet plot', (1,8), color = 'black')"
   ]
  },
  {
   "cell_type": "code",
   "execution_count": 0,
   "metadata": {
    "collapsed": false
   },
   "outputs": [
   ],
   "source": [
    "show(myPic)"
   ]
  },
  {
   "cell_type": "markdown",
   "metadata": {
    "collapsed": false
   },
   "source": [
    "# *** (Time Permitting) Participation Check ***\n",
    "Using introspection on the plot command (in the code cell below) try to find what the `alpha` parameter does (you will have to do some scrolling!). Modify the plot above for various values of `alpha` to see the effects!"
   ]
  },
  {
   "cell_type": "code",
   "execution_count": 0,
   "metadata": {
    "collapsed": false
   },
   "outputs": [
   ],
   "source": [
    "plot??"
   ]
  },
  {
   "cell_type": "markdown",
   "metadata": {
    "collapsed": false
   },
   "source": [
    "# ****************************"
   ]
  },
  {
   "cell_type": "markdown",
   "metadata": {
    "collapsed": false
   },
   "source": [
    "Sage also allows you to differentiate and integrate symbolic functions:"
   ]
  },
  {
   "cell_type": "code",
   "execution_count": 0,
   "metadata": {
    "collapsed": false
   },
   "outputs": [
   ],
   "source": [
    "reset()\n",
    "\n",
    "myPoly = x^3 + x + 1\n",
    "\n",
    "g = diff(myPoly,x)\n",
    "print(g)"
   ]
  },
  {
   "cell_type": "code",
   "execution_count": 0,
   "metadata": {
    "collapsed": false
   },
   "outputs": [
   ],
   "source": [
    "integrate(g,x)  #Do we get back to the same polynomial?!"
   ]
  },
  {
   "cell_type": "markdown",
   "metadata": {
    "collapsed": false
   },
   "source": [
    "Sage has a good amount of knowledge regarding various \"standard\" functions:"
   ]
  },
  {
   "cell_type": "code",
   "execution_count": 0,
   "metadata": {
    "collapsed": false
   },
   "outputs": [
   ],
   "source": [
    "f(x) = exp(x)\n",
    "g(x) = sin(x)\n",
    "h(x) = log(x)"
   ]
  },
  {
   "cell_type": "code",
   "execution_count": 0,
   "metadata": {
    "collapsed": false
   },
   "outputs": [
   ],
   "source": [
    "diff(h,x)"
   ]
  },
  {
   "cell_type": "code",
   "execution_count": 0,
   "metadata": {
    "collapsed": false
   },
   "outputs": [
   ],
   "source": [
    "diff(g,x)"
   ]
  },
  {
   "cell_type": "code",
   "execution_count": 0,
   "metadata": {
    "collapsed": false
   },
   "outputs": [
   ],
   "source": [
    "diff(f,x)"
   ]
  },
  {
   "cell_type": "code",
   "execution_count": 0,
   "metadata": {
    "collapsed": false
   },
   "outputs": [
   ],
   "source": [
    "integrate(h,x)"
   ]
  },
  {
   "cell_type": "code",
   "execution_count": 0,
   "metadata": {
    "collapsed": false
   },
   "outputs": [
   ],
   "source": [
    "integrate(g,x)"
   ]
  },
  {
   "cell_type": "code",
   "execution_count": 0,
   "metadata": {
    "collapsed": false
   },
   "outputs": [
   ],
   "source": [
    "integrate(f,x)"
   ]
  },
  {
   "cell_type": "markdown",
   "metadata": {
    "collapsed": false
   },
   "source": [
    "What base does the builtin log function use?"
   ]
  },
  {
   "cell_type": "code",
   "execution_count": 0,
   "metadata": {
    "collapsed": false
   },
   "outputs": [
   ],
   "source": [
    "h(e)"
   ]
  },
  {
   "cell_type": "code",
   "execution_count": 0,
   "metadata": {
    "collapsed": false
   },
   "outputs": [
   ],
   "source": [
    "h(10)"
   ]
  },
  {
   "cell_type": "code",
   "execution_count": 0,
   "metadata": {
    "collapsed": false
   },
   "outputs": [
   ],
   "source": [
    "RR(h(10))"
   ]
  },
  {
   "cell_type": "markdown",
   "metadata": {
    "collapsed": false
   },
   "source": [
    "You can also make really pretty complex plots, although I don't know how helpful they actually are:"
   ]
  },
  {
   "cell_type": "code",
   "execution_count": 0,
   "metadata": {
    "collapsed": false
   },
   "outputs": [
   ],
   "source": [
    "complex_plot(sin(x),(-1,1),(-1,1))"
   ]
  },
  {
   "cell_type": "code",
   "execution_count": 0,
   "metadata": {
    "collapsed": false
   },
   "outputs": [
   ],
   "source": [
    "complex_plot(x^3+x+1,(-1,1),(-1,1))"
   ]
  },
  {
   "cell_type": "code",
   "execution_count": 0,
   "metadata": {
    "collapsed": false
   },
   "outputs": [
   ],
   "source": [
    "complex_plot(1+log(x),(-1,1),(-1,1))"
   ]
  },
  {
   "cell_type": "code",
   "execution_count": 0,
   "metadata": {
    "collapsed": false
   },
   "outputs": [
   ],
   "source": [
    "complex_plot(zeta(x),(-1,1),(-1,1))"
   ]
  },
  {
   "cell_type": "code",
   "execution_count": 0,
   "metadata": {
    "collapsed": false
   },
   "outputs": [
   ],
   "source": [
    "zeta??"
   ]
  },
  {
   "cell_type": "code",
   "execution_count": 0,
   "metadata": {
    "collapsed": false
   },
   "outputs": [
   ],
   "source": [
    "zeta(-1)"
   ]
  },
  {
   "cell_type": "markdown",
   "metadata": {
    "collapsed": false
   },
   "source": [
    "### (Time Permitting) Polynomial Rings\n",
    "\n",
    "Occasionally one wants to work with polynomials with certain coefficients (commutative algebra, number theory, Galois theory, ...). "
   ]
  },
  {
   "cell_type": "code",
   "execution_count": 0,
   "metadata": {
    "collapsed": false
   },
   "outputs": [
   ],
   "source": [
    "R = ZZ[x]   #Polynomials with coefficients which are integers\n",
    "R"
   ]
  },
  {
   "cell_type": "code",
   "execution_count": 0,
   "metadata": {
    "collapsed": false
   },
   "outputs": [
   ],
   "source": [
    "S = QQ[x]   #Polynomials with coefficients which are rational numbers\n",
    "S"
   ]
  },
  {
   "cell_type": "code",
   "execution_count": 0,
   "metadata": {
    "collapsed": false
   },
   "outputs": [
   ],
   "source": [
    "T = GF(5)[x] #Polynomials with coefficients in a \"finite field of 5\" (which you may think of as the integers mod 5)\n",
    "T"
   ]
  },
  {
   "cell_type": "markdown",
   "metadata": {
    "collapsed": false
   },
   "source": [
    "To cast a polynomial into this ring, call `T(f)`:"
   ]
  },
  {
   "cell_type": "code",
   "execution_count": 0,
   "metadata": {
    "collapsed": false
   },
   "outputs": [
   ],
   "source": [
    "f = 5*x^3 + x + 1"
   ]
  },
  {
   "cell_type": "code",
   "execution_count": 0,
   "metadata": {
    "collapsed": false
   },
   "outputs": [
   ],
   "source": [
    "reduced_f = T(f)\n",
    "print(reduced_f)"
   ]
  },
  {
   "cell_type": "code",
   "execution_count": 0,
   "metadata": {
    "collapsed": false
   },
   "outputs": [
   ],
   "source": [
    "print(reduced_f^3)"
   ]
  },
  {
   "cell_type": "code",
   "execution_count": 0,
   "metadata": {
    "collapsed": false
   },
   "outputs": [
   ],
   "source": [
    "print(expand(f^3))\n",
    "print(T(f^3))"
   ]
  },
  {
   "cell_type": "markdown",
   "metadata": {
    "collapsed": false
   },
   "source": [
    "### Next Time: Graphics in SageMath"
   ]
  },
  {
   "cell_type": "code",
   "execution_count": 0,
   "metadata": {
    "collapsed": false
   },
   "outputs": [
   ],
   "source": [
   ]
  }
 ],
 "metadata": {
  "kernelspec": {
   "display_name": "SageMath 9.2",
   "language": "sagemath",
   "metadata": {
    "cocalc": {
     "description": "Open-source mathematical software system",
     "priority": 10,
     "url": "https://www.sagemath.org/"
    }
   },
   "name": "sage-9.2",
   "resource_dir": "/ext/jupyter/kernels/sage-9.2"
  },
  "language_info": {
   "codemirror_mode": {
    "name": "ipython",
    "version": 3
   },
   "file_extension": ".py",
   "mimetype": "text/x-python",
   "name": "python",
   "nbconvert_exporter": "python",
   "pygments_lexer": "ipython3",
   "version": "3.8.5"
  }
 },
 "nbformat": 4,
 "nbformat_minor": 4
}