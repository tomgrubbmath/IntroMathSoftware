{
 "cells": [
  {
   "cell_type": "markdown",
   "metadata": {
    "collapsed": false
   },
   "source": [
    "# Lecture 03: Programming in Python (1 of 3)\n",
    "\n",
    "### Please note: This lecture will be recorded and made available for viewing online. If you do not wish to be recorded, please adjust your camera settings accordingly. "
   ]
  },
  {
   "cell_type": "markdown",
   "metadata": {
    "collapsed": false
   },
   "source": [
    "# Reminders:\n",
    "- Assignment 0 will be \"collected\" on Sunday night (Jan 10). This is not for a grade, but *please* do it! It serves two major purposes:\n",
    "    - Makes sure everyone understands how the homework process works, so that when things *are* graded there will be no (or at least, less) confusion\n",
    "    - Helps me understand your backgrounds so that I can tailor the class to you\n",
    "- Remember to look for Participation Checks throughout this lecture! As with Assignment 0, participation will not be graded until next week's lectures. But it will be good to get in the habit of doing these, as eventually they *will* be graded!\n",
    "- You can edit/play around with this file as much as you want throughout the lecture. It will not change anyone else's lecture file.\n",
    "- Please ask questions in the chat if you have any!\n",
    "- Assignment 1 has been pushed out to your projects! Please take a look over the weekend. "
   ]
  },
  {
   "cell_type": "markdown",
   "metadata": {
    "collapsed": false
   },
   "source": [
    "# What is Python?"
   ]
  },
  {
   "cell_type": "markdown",
   "metadata": {
    "collapsed": false
   },
   "source": [
    "From the [Python documentation](https://docs.python.org/3/faq/general.html#what-is-python), Python is: \"an interpreted, interactive, object-oriented programming language...Python combines remarkable power with very clear syntax.\"\n",
    "\n",
    "In English: Python is a high-level general purpose coding language which emphasizes human understanding of written code.\n",
    "That is to say, even if you have never coded before, you can probably *guess* what the program below is doing. You would probably be largely correct, but maybe confused on the details (why is there no output for 12?!):"
   ]
  },
  {
   "cell_type": "code",
   "execution_count": 0,
   "metadata": {
    "collapsed": false
   },
   "outputs": [
   ],
   "source": [
    "for i in range(1,12):\n",
    "    if (i-3)*(i-9) > 0:\n",
    "        print('The function f(x) = (x-3)*(x-9) is positive when evaluated at: ',i)\n",
    "    elif (i-3)*(i-9) == 0:\n",
    "        print('The function f(x) = (x-3)*(x-9) is zero when evaluated at: ',i)\n",
    "    else:\n",
    "        print('The function f(x) = (x-3)*(x-9) is negative when evaluated at: ',i)"
   ]
  },
  {
   "cell_type": "markdown",
   "metadata": {
    "collapsed": false
   },
   "source": [
    "# Why Python?\n",
    "\n",
    "#### Python is (fairly) easy to learn/relearn.\n",
    "- Understanding 4 key concepts can get you *very* far:\n",
    "    - Basic data structures (strings, lists, sets, dictionaries, etc.)\n",
    "    - Iteration (for/while loops)\n",
    "    - Conditionals (if, elif, else statements)\n",
    "    - Writing your own functions\n",
    "- The language is very well documented: see https://docs.python.org/3/ or https://stackoverflow.com/questions/tagged/python\n",
    "\n",
    "#### Many open source libraries extend Python's applicability to *many* situations.\n",
    "- Pandas: Library for statistics\n",
    "- NumPy: Library for fast linear algebra computations\n",
    "- SageMath: *Many* different packages combined into one system for mathematical computations and experimentation\n",
    "- Scikit-learn: Library for machine learning\n",
    "- Geopandas: Project for geospatial analysis\n",
    "- ...\n",
    "\n",
    "#### Python is marketable. \n",
    "- The language is used by:\n",
    "    - Mathematical researchers\n",
    "    - Google\n",
    "    - Spotify\n",
    "    - Wikipedia\n",
    "    - JP Morgan Chase & Co.\n",
    "    - ...\n",
    "- The language is useful for:\n",
    "    - Data analysis\n",
    "    - Basic scripts to improve quality of life\n",
    "    - Developing APIs\n",
    "    - Writing bots/web scraping\n",
    "    - ..."
   ]
  },
  {
   "cell_type": "markdown",
   "metadata": {
    "collapsed": false
   },
   "source": [
    "# Hello, World! \n",
    "\n",
    "Following tradition, the first program we will execute in this class will be a \"Hello, World!\" program (see here: https://en.wikipedia.org/wiki/%22Hello,_World!%22_program)\n",
    "\n",
    "Remember: to execute the code cell below, use the \"Shift+Enter\" keyboard shortcut:"
   ]
  },
  {
   "cell_type": "code",
   "execution_count": 0,
   "metadata": {
    "collapsed": false
   },
   "outputs": [
   ],
   "source": [
    "print('Hello, World')"
   ]
  },
  {
   "cell_type": "markdown",
   "metadata": {
    "collapsed": false
   },
   "source": [
    "What just happened? \n",
    "- The \"print\" function is Python's way of outputting some object onto your computer screen. \n",
    "- The parentheses following the print function collect the input that is passed into the print function.\n",
    "- The object 'Hello, World' is a *string*. It is a basic data type in Python which can hold unicode characters (more on this later). A string always is some series of characters surrounded by quotation marks (single or double quotation marks both work, i.e. 'Hello world' and \"Hello world\" are both valid.)\n",
    "- When we evaluate the cell, Python calls print on our string, and outputs it to your screen.\n",
    "\n",
    "Longer programs in Python work by chaining together statements in \"lines,\" which are then evaluated top to bottom (with various exceptions which we will see later). For example:"
   ]
  },
  {
   "cell_type": "code",
   "execution_count": 0,
   "metadata": {
    "collapsed": false
   },
   "outputs": [
   ],
   "source": [
    "print('Hello world!')\n",
    "print('My name is Thomas.')\n",
    "print('I like Python.')"
   ]
  },
  {
   "cell_type": "markdown",
   "metadata": {
    "collapsed": false
   },
   "source": [
    "Important note, which we'll discuss in more detail later: there is a difference between *printing* the results of a calculation and *returning* the results of a calculation. *Printing* something tells the *user* of the program (you!) what the result is. *Returning* the results will tell *the computer* what the results of the program is. "
   ]
  },
  {
   "cell_type": "code",
   "execution_count": 0,
   "metadata": {
    "collapsed": false
   },
   "outputs": [
   ],
   "source": [
    "x = print(5+5)  #Don't do this"
   ]
  },
  {
   "cell_type": "code",
   "execution_count": 0,
   "metadata": {
    "collapsed": false
   },
   "outputs": [
   ],
   "source": [
    "print(x)"
   ]
  },
  {
   "cell_type": "code",
   "execution_count": 0,
   "metadata": {
    "collapsed": false
   },
   "outputs": [
   ],
   "source": [
    "x = 5+5   #Do this"
   ]
  },
  {
   "cell_type": "code",
   "execution_count": 0,
   "metadata": {
    "collapsed": false
   },
   "outputs": [
   ],
   "source": [
    "print(x)"
   ]
  },
  {
   "cell_type": "markdown",
   "metadata": {
    "collapsed": false
   },
   "source": [
    "# *** Participation Check ***\n",
    "There are three blank code cells below. \n",
    "- In the first code cell, write a print statement in Python and evaluate it (use a string of your choosing! It can be Hello World or whatever else you want)\n",
    "- In the second code cell, write an *empty* print statement (i.e. a print statement with no input). Remember your parentheses! What do you think is happening here? Is anything being printed? It might help to write an empty print statement in between two other nonempty print statements to see what happens.\n",
    "- In the third code cell, write a print statement with *two input strings,* separated by commas. I.e. print(A,B) where A and B are replaced by python strings. What happens here?"
   ]
  },
  {
   "cell_type": "code",
   "execution_count": 0,
   "metadata": {
    "collapsed": false
   },
   "outputs": [
   ],
   "source": [
   ]
  },
  {
   "cell_type": "code",
   "execution_count": 0,
   "metadata": {
    "collapsed": false
   },
   "outputs": [
   ],
   "source": [
   ]
  },
  {
   "cell_type": "code",
   "execution_count": 0,
   "metadata": {
    "collapsed": false
   },
   "outputs": [
   ],
   "source": [
   ]
  },
  {
   "cell_type": "markdown",
   "metadata": {
    "collapsed": false
   },
   "source": [
    "# ****************************"
   ]
  },
  {
   "cell_type": "markdown",
   "metadata": {
    "collapsed": false
   },
   "source": [
    "# Variables\n",
    "Much like in algebra, we use *variables* in programming to make programs more concise and readable. A variable name in Python can consist of:\n",
    "- Upper case characters\n",
    "- Lower case characters\n",
    "- digits (0 - 9)\n",
    "- The underscore character, _\n",
    "\n",
    "You *do not* have to declare the type of a variable in Python (the catchphrase here is that Python is *dynamically typed*, if that means anything to you)."
   ]
  },
  {
   "cell_type": "code",
   "execution_count": 0,
   "metadata": {
    "collapsed": false
   },
   "outputs": [
   ],
   "source": [
    "x = 1\n",
    "X = 2\n",
    "theNumberThree = 3\n",
    "theNumber6 = 6\n",
    "string_to_print = 'Hello World!'\n",
    "\n",
    "print(x)\n",
    "print(X)\n",
    "print(theNumberThree)\n",
    "print(theNumber6)\n",
    "print(string_to_print)"
   ]
  },
  {
   "cell_type": "markdown",
   "metadata": {
    "collapsed": false
   },
   "source": [
    "Warning: although a variable name *can contain* digits,  variable name *cannot start with a digit*:"
   ]
  },
  {
   "cell_type": "code",
   "execution_count": 0,
   "metadata": {
    "collapsed": false
   },
   "outputs": [
   ],
   "source": [
    "3invalid_variable_name = 123123\n",
    "print(3invalid_variable_name)"
   ]
  },
  {
   "cell_type": "markdown",
   "metadata": {
    "collapsed": false
   },
   "source": [
    "Since I am just giving small examples to highlight variables right now, they might not look very useful. Eventually we will see their true power:\n",
    "- Variables can be instantiated to hold *a large amount of information*, without having to manually type that information by hand.\n",
    "    - Example: The following code produces a list of 1000 numbers. It took ~30 characters to write: ``` x = [i for i in range(1000)] ```\n",
    "- Variables can (occasionally) be updated on the fly, making it very easy to create objects iteratively.\n",
    "- Variables can be assigned to the output of very complicated function, and then passed into other complicated functions.\n",
    "- ..."
   ]
  },
  {
   "cell_type": "code",
   "execution_count": 0,
   "metadata": {
    "collapsed": false
   },
   "outputs": [
   ],
   "source": [
    "x = [i for i in range(1000)]\n",
    "print(x)"
   ]
  },
  {
   "cell_type": "code",
   "execution_count": 0,
   "metadata": {
    "collapsed": false
   },
   "outputs": [
   ],
   "source": [
    "sum(x)"
   ]
  },
  {
   "cell_type": "code",
   "execution_count": 0,
   "metadata": {
    "collapsed": false
   },
   "outputs": [
   ],
   "source": [
    "999*(1000)/2"
   ]
  },
  {
   "cell_type": "markdown",
   "metadata": {
    "collapsed": false
   },
   "source": [
    "Be careful though! In Jupyter Notebook, variables can be assigned in multiple places throughout the document:"
   ]
  },
  {
   "cell_type": "code",
   "execution_count": 0,
   "metadata": {
    "collapsed": false
   },
   "outputs": [
   ],
   "source": [
    "x=3"
   ]
  },
  {
   "cell_type": "code",
   "execution_count": 0,
   "metadata": {
    "collapsed": false
   },
   "outputs": [
   ],
   "source": [
    "x=2"
   ]
  },
  {
   "cell_type": "code",
   "execution_count": 0,
   "metadata": {
    "collapsed": false,
    "scrolled": true
   },
   "outputs": [
   ],
   "source": [
    "print(x)"
   ]
  },
  {
   "cell_type": "markdown",
   "metadata": {
    "collapsed": false
   },
   "source": [
    "Sometimes your program will think that a variable is different than what you think it is. It is always recommended to write and evaluate (the final version of your) Jupyter notebooks \"top down.\" "
   ]
  },
  {
   "cell_type": "markdown",
   "metadata": {
    "collapsed": false
   },
   "source": [
    "# Comments\n",
    "\n",
    "A comment in a piece of code is a note to the *human* who is reading the code. It is not evaluated by the computer. \n",
    "- Good use of comments can drastically increase the readability of long code, and I recommend you take advantage of this!\n",
    "- Good use of comments help me and the TAs proofread and improve your code, as they tell us what you think the code is doing.\n",
    "- Having said that, comments are not required/part of your grade.\n",
    "- In Python, comments are initiated by the hashtag symbol, #"
   ]
  },
  {
   "cell_type": "code",
   "execution_count": 0,
   "metadata": {
    "collapsed": false
   },
   "outputs": [
   ],
   "source": [
    "print('Random print statement')    #This line will print a string. I wrote it to highlight the use of comments.\n",
    "\n",
    "# I can even put comments on this line. Note that nothing after the hashtags is relevant for the program. Note that the print statement below does nothing!\n",
    "\n",
    "#print('Hello world!')"
   ]
  },
  {
   "cell_type": "markdown",
   "metadata": {
    "collapsed": false
   },
   "source": [
    "# Basic Arithmetic in Python\n",
    "\n",
    "Arithmetic in Python works just the way it looks, *when your variables are numbers*:"
   ]
  },
  {
   "cell_type": "code",
   "execution_count": 0,
   "metadata": {
    "collapsed": false
   },
   "outputs": [
   ],
   "source": [
    "x = 43\n",
    "y = 3\n",
    "print(x+y)    # Addition\n",
    "print(x*y)    # Multiplication\n",
    "print(x/y)    # Division (note! the result of division is now no longer an integer...)\n",
    "print(x**y)   # Exponentiation\n",
    "print(x%y)    # Modular arithmetic; i.e. it finds an integer q and a remainder r, 0<= r < y, with x = q*y + r"
   ]
  },
  {
   "cell_type": "markdown",
   "metadata": {
    "collapsed": false
   },
   "source": [
    "### On division...\n",
    "\n",
    "There is an important distinction between *floating point arithmetic*  and *integer arithmetic* in programming languages. \n",
    "\n",
    "Why? You can store an integer fully in computer memory. You cannot store a real number in memory, without rounding. We will see more on this in Week 2.\n",
    "\n",
    "If you want to work solely with integer arithmetic, you can use a \"double division sign,\" which is division followed by rounding down. "
   ]
  },
  {
   "cell_type": "code",
   "execution_count": 0,
   "metadata": {
    "collapsed": false
   },
   "outputs": [
   ],
   "source": [
    "type(8/2)"
   ]
  },
  {
   "cell_type": "code",
   "execution_count": 0,
   "metadata": {
    "collapsed": false
   },
   "outputs": [
   ],
   "source": [
    "type(8//2)"
   ]
  },
  {
   "cell_type": "code",
   "execution_count": 0,
   "metadata": {
    "collapsed": false
   },
   "outputs": [
   ],
   "source": [
    "5/3"
   ]
  },
  {
   "cell_type": "code",
   "execution_count": 0,
   "metadata": {
    "collapsed": false
   },
   "outputs": [
   ],
   "source": [
    "5//3"
   ]
  },
  {
   "cell_type": "markdown",
   "metadata": {
    "collapsed": false
   },
   "source": [
    "Be careful! Python operators are \"overloaded,\" and may mean different things in different contexts. If your variables are strings, then the + sign is \"concatenation\""
   ]
  },
  {
   "cell_type": "code",
   "execution_count": 0,
   "metadata": {
    "collapsed": false
   },
   "outputs": [
   ],
   "source": [
    "x = '6'\n",
    "y = '7'\n",
    "x+y"
   ]
  },
  {
   "cell_type": "markdown",
   "metadata": {
    "collapsed": false
   },
   "source": [
    "# *** Participation Check ***\n",
    "There are four code cells below. \n",
    "- In the first code cell, initialize 2 variables, x and y. Make x a string (anything you want, except for the empty string) and y an integer variable (something below 100).\n",
    "- The second code cell exhibits the use of the \"type\" function in Python. Add two lines of code which print the type of your variables x and y. \n",
    "- In the third code cell, try to multiply x and y. What happens?\n",
    "- In the fourth code cell, try to add x and y. What happens?\n",
    "\n",
    "Keep the \"type\" function in mind as you do homework this quarter! It can be very helpful in debugging. "
   ]
  },
  {
   "cell_type": "code",
   "execution_count": 0,
   "metadata": {
    "collapsed": false
   },
   "outputs": [
   ],
   "source": [
   ]
  },
  {
   "cell_type": "code",
   "execution_count": 0,
   "metadata": {
    "collapsed": false
   },
   "outputs": [
   ],
   "source": [
   ]
  },
  {
   "cell_type": "code",
   "execution_count": 0,
   "metadata": {
    "collapsed": false
   },
   "outputs": [
   ],
   "source": [
   ]
  },
  {
   "cell_type": "code",
   "execution_count": 0,
   "metadata": {
    "collapsed": false
   },
   "outputs": [
   ],
   "source": [
   ]
  },
  {
   "cell_type": "markdown",
   "metadata": {
    "collapsed": false
   },
   "source": [
    "# ****************************"
   ]
  },
  {
   "cell_type": "markdown",
   "metadata": {
    "collapsed": false
   },
   "source": [
    "# Basic Loops\n",
    "Sometimes you might want to do an operation (or very similar operations) multiple times. \n",
    "- Print all the names in a list of names \n",
    "- Iterate through the rows in an Excel file, and extract data from the row entries\n",
    "- Add 1 to a counter variable every time you see a specific name in a list\n",
    "- ...\n",
    "\n",
    "It would be obnoxious to have to simply copy and paste your code (or rewrite it) 1000 times."
   ]
  },
  {
   "cell_type": "code",
   "execution_count": 0,
   "metadata": {
    "collapsed": false
   },
   "outputs": [
   ],
   "source": [
    "print(0)\n",
    "print(1)\n",
    "print(2)\n",
    "print(3)\n",
    "print(4)\n",
    "print(5)"
   ]
  },
  {
   "cell_type": "markdown",
   "metadata": {
    "collapsed": false
   },
   "source": [
    "The most basic solution to this is a \"for loop.\""
   ]
  },
  {
   "cell_type": "code",
   "execution_count": 0,
   "metadata": {
    "collapsed": false
   },
   "outputs": [
   ],
   "source": [
    "for i in range(15):\n",
    "    print(i)"
   ]
  },
  {
   "cell_type": "markdown",
   "metadata": {
    "collapsed": false
   },
   "source": [
    "What is happening? Every for loop in Python uses the following basic format:\n",
    "\n",
    "![](Loop.png)"
   ]
  },
  {
   "cell_type": "markdown",
   "metadata": {
    "collapsed": false
   },
   "source": [
    "IMPORTANT! Python uses 0-based indexing. Calling range(6) gives 6 numbers, *starting with* 0. So range(6) *does not entail the number* 6. It is equivalent to the integers in the *half open interval* $[0,6)$\n",
    "\n",
    "Python allows iteration over many objects. For example:"
   ]
  },
  {
   "cell_type": "code",
   "execution_count": 0,
   "metadata": {
    "collapsed": false
   },
   "outputs": [
   ],
   "source": [
    "alphabet = 'abcdefghijklmnopqrstuvwxyz'\n",
    "print(alphabet)"
   ]
  },
  {
   "cell_type": "code",
   "execution_count": 0,
   "metadata": {
    "collapsed": false
   },
   "outputs": [
   ],
   "source": [
    "for character in alphabet:\n",
    "    print(character)"
   ]
  },
  {
   "cell_type": "markdown",
   "metadata": {
    "collapsed": false
   },
   "source": [
    "The code inside of a for loop can be as complicated as you'd like. You can even nest loops! "
   ]
  },
  {
   "cell_type": "code",
   "execution_count": 0,
   "metadata": {
    "collapsed": false
   },
   "outputs": [
   ],
   "source": [
    "for i in range(3):\n",
    "    print('This statement is in the outer loop:', i)\n",
    "    for j in range(3):\n",
    "        print('This statement is in the inner loop:', j)"
   ]
  },
  {
   "cell_type": "markdown",
   "metadata": {
    "collapsed": false
   },
   "source": [
    "### Warning! Be VERY careful about your whitespace!\n",
    "If you are lucky, a mistake in whitespace will cause your program to crash. "
   ]
  },
  {
   "cell_type": "code",
   "execution_count": 0,
   "metadata": {
    "collapsed": false
   },
   "outputs": [
   ],
   "source": [
    "# This is bad code\n",
    "for i in range(3):\n",
    "    print('This statement is in the outer loop:', i)\n",
    "    for j in range(3):\n",
    "    print('This statement is in the inner loop:', j)"
   ]
  },
  {
   "cell_type": "markdown",
   "metadata": {
    "collapsed": false
   },
   "source": [
    "If you are unlucky, the program will still run, but it will do something you don't intend for it to do! This has been the cause of *numerous* headaches for 157 students in the past. These \"silent bugs\" will cause you to get wrong answers *without knowing you are getting wrong answers*."
   ]
  },
  {
   "cell_type": "code",
   "execution_count": 0,
   "metadata": {
    "collapsed": false
   },
   "outputs": [
   ],
   "source": [
    "# This is bad code\n",
    "\n",
    "for i in range(3):\n",
    "    print('This statement is in the outer loop:', i)\n",
    "    for j in range(3):\n",
    "        pass\n",
    "    print('This statement is in the inner loop:', j)"
   ]
  },
  {
   "cell_type": "markdown",
   "metadata": {
    "collapsed": false
   },
   "source": [
    "### Warning! Be VERY careful about your variable names!\n",
    "Do not repeat variable names in nested loops unless you really know what you are doing. In general, you want to be able to access \"both layers\" of the loop. To do this, you need two distinct variables."
   ]
  },
  {
   "cell_type": "raw",
   "metadata": {
    "collapsed": false
   },
   "source": [
    "### DO NOT WRITE NESTED LOOPS LIKE THIS!!! DISTINCT LAYERS OF LOOPS GET DISTINCT VARIABLES!!!\n",
    "for i in range(3):\n",
    "    for i in range(3):\n",
    "        print('This statement is in the inner loop:', i)\n",
    "    print('This statement is in the outer loop:', i)"
   ]
  },
  {
   "cell_type": "markdown",
   "metadata": {
    "collapsed": false
   },
   "source": [
    "### The inner for loop can even depend on the outer for loop, like so:"
   ]
  },
  {
   "cell_type": "code",
   "execution_count": 0,
   "metadata": {
    "collapsed": false
   },
   "outputs": [
   ],
   "source": [
    "for i in range(5):\n",
    "    print('This statement is in the outer loop:', i)\n",
    "    for j in range(i):\n",
    "        print('This statement is in the inner loop:', j)"
   ]
  },
  {
   "cell_type": "code",
   "execution_count": 0,
   "metadata": {
    "collapsed": false
   },
   "outputs": [
   ],
   "source": [
    "matrix = [['r0c0','r0c1'],['r1c0','r1c1']]\n",
    "\n",
    "for row in matrix:\n",
    "    for entry in row:\n",
    "        print(entry)\n",
    "        \n",
    "        \n",
    "# for entry in listLikeObject:\n",
    "    #do something to the entry"
   ]
  },
  {
   "cell_type": "markdown",
   "metadata": {
    "collapsed": false
   },
   "source": [
    "### Common uses of for loops\n",
    "For loops are often used if you are iteratively doing some operation. As an example, below we compute the product of the first 5 positive even integers. You can \"uncomment\" the print statements if you want to see more details about what happens at each step in the loop."
   ]
  },
  {
   "cell_type": "code",
   "execution_count": 0,
   "metadata": {
    "collapsed": false
   },
   "outputs": [
   ],
   "source": [
    "evenNumber = 2\n",
    "product = 1\n",
    "for step in range(20):\n",
    "    print('On step {} we multiply the partial product by {}'.format(step,evenNumber))\n",
    "    product = product * evenNumber\n",
    "    print('The current product is {}'.format(product))\n",
    "    evenNumber = evenNumber+2\n",
    "\n",
    "print(product)"
   ]
  },
  {
   "cell_type": "code",
   "execution_count": 0,
   "metadata": {
    "collapsed": false
   },
   "outputs": [
   ],
   "source": [
    "2*4*6*8*10"
   ]
  },
  {
   "cell_type": "markdown",
   "metadata": {
    "collapsed": false
   },
   "source": [
    "# *** Participation Check (Time Permitting)***\n",
    "There is an empty code cell below. By using a for loop, compute the sum of the first 25 *positive* integers (1+2+3+...+25). You may want to mimic the code for the product calculation done above. To check your answer, you should get $$\\frac{26\\cdot25}{2} = 325$$"
   ]
  },
  {
   "cell_type": "code",
   "execution_count": 0,
   "metadata": {
    "collapsed": false
   },
   "outputs": [
   ],
   "source": [
   ]
  },
  {
   "cell_type": "markdown",
   "metadata": {
    "collapsed": false
   },
   "source": [
    "# ****************************"
   ]
  },
  {
   "cell_type": "markdown",
   "metadata": {
    "collapsed": false
   },
   "source": [
    "For loops are commonly used in combination with *lists*. In Python, a list is an ordered sequence of values (you may have heard of this as an *array* in other programming languages). The syntax for declaring a list is to use square brackets surrounding a comma separated sequence of values:"
   ]
  },
  {
   "cell_type": "code",
   "execution_count": 0,
   "metadata": {
    "collapsed": false
   },
   "outputs": [
   ],
   "source": [
    "listOfNames = ['Elizabeth','Tom', 'Nancy', 'Nathan', 'Frederick', 'Joseph']\n",
    "for name in listOfNames:\n",
    "    print(name)"
   ]
  },
  {
   "cell_type": "code",
   "execution_count": 0,
   "metadata": {
    "collapsed": false
   },
   "outputs": [
   ],
   "source": [
    "for name in listOfNames:\n",
    "    print(name,len(name))   #The len() operator takes in a string and returns the length of the string (the number of characters). You can also use it with lists"
   ]
  },
  {
   "cell_type": "code",
   "execution_count": 0,
   "metadata": {
    "collapsed": false
   },
   "outputs": [
   ],
   "source": [
    "longNames = 0\n",
    "for name in listOfNames:\n",
    "    if (len(name) > 5):       #This ``if'' statement is a *conditional* operator. We will learn more about it in the next lecture, but it basically does exactly what you think it should.\n",
    "        longNames = longNames+1\n"
   ]
  },
  {
   "cell_type": "code",
   "execution_count": 0,
   "metadata": {
    "collapsed": false
   },
   "outputs": [
   ],
   "source": [
    "print(longNames)"
   ]
  },
  {
   "cell_type": "markdown",
   "metadata": {
    "collapsed": false
   },
   "source": [
    "# Next time: Conditional statements, lists, and more advanced loops. Have a good day!"
   ]
  }
 ],
 "metadata": {
  "kernelspec": {
   "display_name": "Python 3 (system-wide)",
   "language": "python",
   "metadata": {
    "cocalc": {
     "description": "Python 3 programming language",
     "priority": 100,
     "url": "https://www.python.org/"
    }
   },
   "name": "python3",
   "resource_dir": "/ext/jupyter/kernels/python3"
  },
  "language_info": {
   "codemirror_mode": {
    "name": "ipython",
    "version": 3
   },
   "file_extension": ".py",
   "mimetype": "text/x-python",
   "name": "python",
   "nbconvert_exporter": "python",
   "pygments_lexer": "ipython3",
   "version": "3.8.5"
  }
 },
 "nbformat": 4,
 "nbformat_minor": 4
}