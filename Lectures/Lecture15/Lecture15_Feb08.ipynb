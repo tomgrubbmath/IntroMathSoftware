{
 "cells": [
  {
   "cell_type": "markdown",
   "metadata": {
    "collapsed": false
   },
   "source": [
    "# Lecture 15: Number Theory/Cryptography (3 of 4?)\n",
    "\n",
    "### Please note: This lecture will be recorded and made available for viewing online. If you do not wish to be recorded, please adjust your camera settings accordingly. \n",
    "\n",
    "# Reminders/Announcements:\n",
    "- Assignment 5 is due Thursday at 8 pm\n",
    "    - For problem 1b.), you can run it for $N = 2,3,...,100$ if you have problems with $N=2,3,...,200$. This is an issue with Sage's \"garbage collection\"\n",
    "- Please fill out this survey regarding your preferred final project topic: https://docs.google.com/forms/d/e/1FAIpQLSeByoY87ENkYyM0MIeC3MmQKO9JKO7m83jR-6Fk0cyLzucqkA/viewform?usp=sf_link\n",
    "    - This survey will close *Sunday Feb 14 at 8pm*. If you do not know the best project for your background/interests, please email me or a TA!\n",
    "    - If you do not fill out this survey, you will \n",
    "        - be assigned into a *random* time zone!\n",
    "        - be assigned a *random* topic!\n",
    "- Halfway point! If you have any feedback/concerns/complaints regarding the class, please feel free to fill out this survey https://forms.gle/fV8MiyZ922fJkXHY7"
   ]
  },
  {
   "cell_type": "markdown",
   "metadata": {
    "collapsed": false
   },
   "source": [
    "## Final Projects: A Quick Overview\n",
    "\n",
    "What will you have to do for the final project? You will:\n",
    "- Write a 40-50 minute lecture on your chosen topic, consisting of\n",
    "    - An exposition of some of the mathematical *theory* surrounding your topic\n",
    "    - A discussion of how that topic can be studied *computationally*, using Sage or some other computing platform\n",
    "        - This discussion must include examples of code snippets that run and produce output\n",
    "        - These code snippets should highlight the theory\n",
    "    - An *application* of this mathematical topic to the real world\n",
    "    - At least one \"Participation Check\" (a short, interactive ~2 minute exercise)\n",
    "        - Note: You *do not* have to solve your groupmate's participation checks\n",
    "    - How you choose to split up your time between these three topics is up to you! You have to have *some* aspects of everything. \n",
    "- Write a \"mini-homework\" consisting of\n",
    "    - Two questions, roughly at the level of the questions you have been solving this quarter\n",
    "    - Solutions to those questions\n",
    "    - Note: you *do not* have to solve your groupmate's homework exercises\n",
    "- Present your lectures in groups of ~3\n",
    "    - You can set up this presentation at whatever time is convenient for your group\n",
    "    - The easiest way to do this is probably screensharing over Zoom\n",
    "    - This is meant to be a low pressure introduction to the art of mathematical presentation. As such, you will be expected to treat your groupmates with respect during their presentations\n",
    "- Write short feedback for each of your groupmate's presentations, consisting of\n",
    "    - A *short* summary of their topic (Which topic did they present on? What were the key ideas or applications?)\n",
    "    - One thing that *you liked* about their presentation\n",
    "    - One (respectfully worded) piece of constructive criticism/idea for what they could improve on for \"next time\"\n",
    "    \n",
    "How you choose to spend your time in your lecture is up to you! Some people will prefer to focus more on the theory, other people will want to rush through the theory and get to the applications. Both methods are ok, as long as you don't skip any of the three requirements entirely!\n",
    "\n",
    "Links will be provided to you as *places to start* learning about your topic. You are free to take it in whatever direction you want!\n",
    "\n",
    "Examples from last year will be provided, to give you an idea of what your project should look like when it is done (you can also model your lectures off of one of the lectures from the class!)"
   ]
  },
  {
   "cell_type": "markdown",
   "metadata": {
    "collapsed": false
   },
   "source": [
    "## Grading criteria\n",
    "Your grade on the final project will be broken down as such:\n",
    " - Presentation (55%):\n",
    "   - Extent: Did you include enough material for 40-50 minutes? Is your material at a suitable depth (mathematically and computationally)?\n",
    "   - Topic coverage:\n",
    "        - Did you present some relevant mathematics?\n",
    "        - Did you make a genuine link between the mathematics and computations regarding this math?\n",
    "        - Did you mention an application of this topic to the real world?\n",
    "   - Correctness: Do your examples work?\n",
    "   - Exposition: Does your text actually explain what is going on?\n",
    "   - Did you include a participation check?\n",
    " - Exercises and solutions (30%):\n",
    "   - Extent: Did you include enough material for two exercises? Is your material at a suitable depth (mathematically and computationally) for this course?\n",
    "   - Correctness: Are your solutions correct?\n",
    "   - Exposition: Do your problems serve to elucidate your chosen topic?\n",
    " - Feedback (15%):\n",
    "   - Thoroughness: Did you provide comments on all of your assigned presentations?\n",
    "   - Thoughtfulness: Were you paying attention? Are your comments germane and constructive?\n",
    "\n",
    "### Due Date: The Final Project will tentatively be due on Wednesday, March 17th.\n",
    "Your last homework for the class will be due on March 4th. This will leave Week 10 and part of Finals Week for you to work on the project, although you are welcome (and encouraged!) to work on it before then."
   ]
  },
  {
   "cell_type": "markdown",
   "metadata": {
    "collapsed": false
   },
   "source": [
    "## Diffie-Hellman-Merkle: A Quick Review\n",
    "\n",
    "Recall that if $p$ is a prime and $g$ is a primitive root mod $p$, then the *discrete log* of $m$ with respect to $g\\mod p$ is the unique integer $d\\in \\{0,\\dots,p-2\\}$ with \n",
    "$$\n",
    "g^d \\equiv m \\mod p.\n",
    "$$"
   ]
  },
  {
   "cell_type": "code",
   "execution_count": 0,
   "metadata": {
    "collapsed": false
   },
   "outputs": [
   ],
   "source": [
    "p = random_prime(5000)\n",
    "g = primitive_root(p)\n",
    "m = 439"
   ]
  },
  {
   "cell_type": "code",
   "execution_count": 0,
   "metadata": {
    "collapsed": false
   },
   "outputs": [
   ],
   "source": [
    "mod(m,p).log(mod(g,p))"
   ]
  },
  {
   "cell_type": "code",
   "execution_count": 0,
   "metadata": {
    "collapsed": false
   },
   "outputs": [
   ],
   "source": [
    "power_mod(g,3431,p)"
   ]
  },
  {
   "cell_type": "markdown",
   "metadata": {
    "collapsed": false
   },
   "source": [
    "It is widely believed that there are no \"good\" algorithms for computing discrete logarithms in general. This led to the Diffie-Hellman-Merkle key exchange:\n",
    "\n",
    "- Step 1: Alice and Bob publicly choose a large prime $p$ and a multiplicative generator $g\\mod p$.\n",
    "- Step 2: Alice and Bob independently (and secretly) choose a random integer in the range $0,\\dots,p-2$. These are called their *private keys*. Alice's will be called $a$ and Bob's will be called $b$.\n",
    "- Step 3: Alice and Bob publicly transmit $A = g^a\\mod p$ and $B = g^b \\mod p$.\n",
    "- Step 4: Alice receives $B$ and computes $B^a \\mod p$. Bob receives $A$ and computes $A^b\\mod p$. Modulo $p$,\n",
    "$$\n",
    "B^a \\equiv (g^b)^a \\equiv g^{ab} \\equiv (g^a)^b\\equiv A^b,\n",
    "$$\n",
    "so Alice and Bob have created a shared key $K$."
   ]
  },
  {
   "cell_type": "markdown",
   "metadata": {
    "collapsed": false
   },
   "source": [
    "## ***** Participation Check ***************************\n",
    "In the code cell below I have initialized a random large prime $p$ and a primitive root of $p$. Fill out the subsequent cell to carry out an example of a Diffie-Hellman-Merkle key exchange."
   ]
  },
  {
   "cell_type": "code",
   "execution_count": 0,
   "metadata": {
    "collapsed": false
   },
   "outputs": [
   ],
   "source": [
    "p = next_prime(10^30)\n",
    "g = primitive_root(p)\n",
    "print(p)\n",
    "print(g)\n",
    "randint(5,10)"
   ]
  },
  {
   "cell_type": "code",
   "execution_count": 0,
   "metadata": {
    "collapsed": false
   },
   "outputs": [
   ],
   "source": [
    "#Your code here; at the end of your code, print the shared key that Alice and Bob have created."
   ]
  },
  {
   "cell_type": "markdown",
   "metadata": {
    "collapsed": false
   },
   "source": [
    "## ***********************************************************"
   ]
  },
  {
   "cell_type": "markdown",
   "metadata": {
    "collapsed": false
   },
   "source": [
    "Now we will move to attacking the Diffie-Hellman-Merkle key exchange.\n",
    "\n",
    "## CRT Attack on the Discrete Log Problem\n",
    "\n",
    "A prime number $p$ for which $p-1$ factors as $p-1 = q_1q_2$ with \n",
    "- $\\gcd(q_1,q_2)=1$\n",
    "- $q_1\\approx \\sqrt{p}$\n",
    "\n",
    "is called a *weak prime*. The reason is that it is a weak choice for cryptographic protocols, as the discrete log problem is easier to solve for this prime. The reason is that any element which is a $q_1$st power has multiplicative order $\\leq q_2$:\n",
    "$$\n",
    "(x^{q_1})^{q_2} = x^{q_1q_2}=x^{p-1}=x^{\\phi(p)} \\equiv 1\\mod p\n",
    "$$"
   ]
  },
  {
   "cell_type": "code",
   "execution_count": 0,
   "metadata": {
    "collapsed": false
   },
   "outputs": [
   ],
   "source": [
    "p = 29\n",
    "p in Primes()"
   ]
  },
  {
   "cell_type": "code",
   "execution_count": 0,
   "metadata": {
    "collapsed": false
   },
   "outputs": [
   ],
   "source": [
    "factor(p-1)"
   ]
  },
  {
   "cell_type": "code",
   "execution_count": 0,
   "metadata": {
    "collapsed": false
   },
   "outputs": [
   ],
   "source": [
    "q_1, q_2 = 4, 7\n",
    "\n",
    "for i in range(1,29):\n",
    "    print(mod(i^q_1,p).multiplicative_order())"
   ]
  },
  {
   "cell_type": "markdown",
   "metadata": {
    "collapsed": false
   },
   "source": [
    "A similar statement holds if we reverse the roles of $q_1$ and $q_2$:"
   ]
  },
  {
   "cell_type": "code",
   "execution_count": 0,
   "metadata": {
    "collapsed": false
   },
   "outputs": [
   ],
   "source": [
    "for i in range(1,29):\n",
    "    print(mod(i^q_2,p).multiplicative_order())"
   ]
  },
  {
   "cell_type": "markdown",
   "metadata": {
    "collapsed": false
   },
   "source": [
    "Suppose we are trying to solve the mod $p$ discrete log problem for $A = g^a$, i.e. we want to recover $a$.\n",
    "\n",
    "The idea is to recover $a\\mod q_1$ and $a\\mod q_2$, from which we can use the Chinese Remainder Theorem to recover $a$.\n",
    "- Find the discrete logarithm of $A^{q_1}$ with respect to $g^{q_1}$, i.e. $a_2$ such that $g^{a_2*q_1} \\equiv A^{q_1}\\equiv g^{a*q_1}\\mod p$. This implies that $a_2*q_1 \\equiv a*q_1\\mod p-1$, i.e. $a_2\\equiv a\\mod q_2$.\n",
    "- Find the discrete logarithm of $A^{q_2}$ with respect to $g^{q_2}$, i.e. $a_1$ such that $g^{a_1*q_2} \\equiv A^{q_2}\\equiv g^{a*q_2}\\mod p$. This implies that $a_1*q_2 \\equiv a*q_2\\mod p-1$, i.e. $a_1\\equiv a\\mod q_1$.\n",
    "- Compute $a = CRT(a_1, a_2, q_1, q_2)$."
   ]
  },
  {
   "cell_type": "code",
   "execution_count": 0,
   "metadata": {
    "collapsed": false
   },
   "outputs": [
   ],
   "source": [
    "p = 1298074214633668968809363113301611\n",
    "factor(p-1)"
   ]
  },
  {
   "cell_type": "code",
   "execution_count": 0,
   "metadata": {
    "collapsed": false
   },
   "outputs": [
   ],
   "source": [
    "q1 = 2 * 3 * 5 * 2487977 * 482705387\n",
    "q2 = 36028797018963913"
   ]
  },
  {
   "cell_type": "code",
   "execution_count": 0,
   "metadata": {
    "collapsed": false
   },
   "outputs": [
   ],
   "source": [
    "exponent = 983902092654374580967281794418725\n",
    "g = primitive_root(p)\n",
    "print(g)\n",
    "print(power_mod(g,exponent,p))"
   ]
  },
  {
   "cell_type": "code",
   "execution_count": 0,
   "metadata": {
    "collapsed": false
   },
   "outputs": [
   ],
   "source": [
    "A = power_mod(g,exponent,p)\n",
    "\n",
    "A1 = power_mod(A,q1,p)\n",
    "A2 = power_mod(A,q2,p)\n",
    "\n",
    "g1 = power_mod(g,q1,p)\n",
    "g2 = power_mod(g,q2,p)"
   ]
  },
  {
   "cell_type": "code",
   "execution_count": 0,
   "metadata": {
    "collapsed": false
   },
   "outputs": [
   ],
   "source": [
    "a2 = mod(A1,p).log(mod(g1,p))\n",
    "a1 = mod(A2,p).log(mod(g2,p))\n",
    "crt([a1,a2],[q1,q2])"
   ]
  },
  {
   "cell_type": "markdown",
   "metadata": {
    "collapsed": false
   },
   "source": [
    "## Baby Steps Giant Steps\n",
    "\n",
    "Next we will describe one of the best general algorithms for solving discrete logarithms mod $p$. The runtime of this algorithm is polynomial in $\\sqrt{p}$, as opposed to polynomial in $p$ (which our naive solver was). This is a great improvement, although it is still exponential in the input size $\\log(p)$.\n",
    "\n",
    "The BSGS algorithm relies on *the birthday paradox*. The birthday paradox revolves around the following question: how many people do you need in a room so that the probability of two people sharing a birthday is at least $50\\%$?"
   ]
  },
  {
   "cell_type": "markdown",
   "metadata": {
    "collapsed": false
   },
   "source": [
    "## ***** Participation Check ***************************\n",
    "In the code cell below write a function `birthday(n)` which takes as input a positive integer $n$. Then it should:\n",
    "- initialize a `count` variable to 0\n",
    "- run 1000 tests\n",
    "- each test will generate a list of $n$ random integers from the range `[0,364]` using `random.randint(0,364)`. If there is a repeat in the list of numbers, add one to `count`\n",
    "- return `float(count/1000)` after all tests have run"
   ]
  },
  {
   "cell_type": "code",
   "execution_count": 0,
   "metadata": {
    "collapsed": false
   },
   "outputs": [
   ],
   "source": [
    "import random\n",
    "randint(0,364)"
   ]
  },
  {
   "cell_type": "code",
   "execution_count": 0,
   "metadata": {
    "collapsed": false
   },
   "outputs": [
   ],
   "source": [
    "import random\n",
    "\n",
    "def birthday(n):\n",
    "    #Your code here\n",
    "\n",
    "print(birthday(6))\n",
    "print(birthday(23))\n",
    "print(birthday(50))"
   ]
  },
  {
   "cell_type": "code",
   "execution_count": 0,
   "metadata": {
    "collapsed": false
   },
   "outputs": [
   ],
   "source": [
    "float(365^(1/2))"
   ]
  },
  {
   "cell_type": "markdown",
   "metadata": {
    "collapsed": false
   },
   "source": [
    "## ***********************************************************\n",
    "\n",
    "It turns out that you only need $\\approx 23$ people in the room! In general if a year had $N$ days, you would need $\\approx \\sqrt{N}$ people in the room. This is the basis of many so called *collision algorithms*. One of the most well known is the following:\n",
    "\n",
    "- Compute $m=\\lfloor\\sqrt{p-1}\\rfloor$.\n",
    "- For $e=0,\\ldots,m-1$, compute and store $g^e\\mod p$ along with the index $e$.\n",
    "- For $f=0,\\ldots,m-1$, compute $A*g^{-fm}\\mod p$, and check if it's in the list above. If it is, stop, and output the pair $(e,f)$.\n",
    "\n",
    "If the above produces an output, we know that $g^e \\equiv g^{a-fm}\\mod p$, i.e. $e \\equiv a-fm\\mod p-1$, i.e. $a \\equiv e+fm\\mod p-1$. Moreover, since we can always write $a < p -1$ as $e+fm$ for $e,f < m$, this algorithm should always output.\n",
    "\n",
    "Here is the picture to keep in mind:\n",
    "\n",
    "![](bsgs1.png)\n",
    "\n",
    "We then look for a collision in these lists:\n",
    "\n",
    "![](bsgs2.png)\n"
   ]
  },
  {
   "cell_type": "code",
   "execution_count": 0,
   "metadata": {
    "collapsed": false
   },
   "outputs": [
   ],
   "source": [
    "p=4294967291 \n",
    "exponent = 1000101010\n",
    "g = primitive_root(p)\n",
    "A = power_mod(g,exponent,p)\n",
    "def bsgs(p, g, A):\n",
    "    # Step 1\n",
    "    m = floor(sqrt(p-1))\n",
    "    # Step 2\n",
    "    small_g_powers = {power_mod(g,e,p):e for e in range(m)}\n",
    "    # Step 3\n",
    "    gpow = A\n",
    "    mult = power_mod(g,-m,p)\n",
    "    for f in range(m):\n",
    "        if gpow in small_g_powers:\n",
    "            return small_g_powers[gpow]+f*m\n",
    "        gpow = mod(gpow*mult,p)\n",
    "bsgs(p,g,A)"
   ]
  },
  {
   "cell_type": "code",
   "execution_count": 0,
   "metadata": {
    "collapsed": false
   },
   "outputs": [
   ],
   "source": [
    "import time\n",
    "a = time.time()\n",
    "print(bsgs(p,g,A))\n",
    "print(time.time()-a)"
   ]
  },
  {
   "cell_type": "markdown",
   "metadata": {
    "collapsed": false
   },
   "source": [
    "The BSGS algorithm is particularly useful if you use it in combination with other ideas, such as the CRT attack. "
   ]
  },
  {
   "cell_type": "markdown",
   "metadata": {
    "collapsed": false
   },
   "source": [
    "## RSA\n",
    "\n",
    "One of the most common cryptosystems nowadays is the *RSA cryptosystem* (named after Ron Rivest, Adi Shamir, and Leonard Adleman, although the algorithm had been in use by Britain's secret service several years prior)\n",
    "\n",
    "The RSA cryptosystem relies on the difficulty of factoring large numbers. We start by selecting a *RSA modulus*. Loosely speaking, this is a product of two \"large\" and \"random\" prime numbers. Crucially, we keep $p$ and $q$ secret."
   ]
  },
  {
   "cell_type": "code",
   "execution_count": 0,
   "metadata": {
    "collapsed": false
   },
   "outputs": [
   ],
   "source": [
    "p = random_prime(2^512)\n",
    "q = random_prime(2^512)\n",
    "N = p*q\n",
    "print(N)"
   ]
  },
  {
   "cell_type": "code",
   "execution_count": 0,
   "metadata": {
    "collapsed": false
   },
   "outputs": [
   ],
   "source": [
    "factor(N) #This wont work!"
   ]
  },
  {
   "cell_type": "markdown",
   "metadata": {
    "collapsed": false
   },
   "source": [
    "Since we know the factorization of $N$, we can compute the Euler totient function of $N$. Nobody else will know this!"
   ]
  },
  {
   "cell_type": "code",
   "execution_count": 0,
   "metadata": {
    "collapsed": false
   },
   "outputs": [
   ],
   "source": [
    "ph = (p-1)*(q-1)\n",
    "print(ph)"
   ]
  },
  {
   "cell_type": "markdown",
   "metadata": {
    "collapsed": false
   },
   "source": [
    "Then we select a *public key* value $e$, which is a random number coprime to $\\phi(N)$. We publish $e$, and secretly compute $d = e^{-1} \\mod \\phi(N)$. The value $d$ is known as our *private key*."
   ]
  },
  {
   "cell_type": "code",
   "execution_count": 0,
   "metadata": {
    "collapsed": false
   },
   "outputs": [
   ],
   "source": [
    "e = random_prime(2^64)\n",
    "d = e^(-1) % ph\n",
    "print(e) \n",
    "print(d)"
   ]
  },
  {
   "cell_type": "code",
   "execution_count": 0,
   "metadata": {
    "collapsed": false
   },
   "outputs": [
   ],
   "source": [
    "print(e*d%ph)"
   ]
  },
  {
   "cell_type": "markdown",
   "metadata": {
    "collapsed": false
   },
   "source": [
    "Now suppose a bank wants to send us a private message. It converts the message to a number $m$, and computes $m^e$ mod $N$."
   ]
  },
  {
   "cell_type": "code",
   "execution_count": 0,
   "metadata": {
    "collapsed": false
   },
   "outputs": [
   ],
   "source": [
    "s = \"LETS GO GET TACOS\"\n",
    "m = Integer(\"\".join(str(ord(i)) for i in s))\n",
    "m"
   ]
  },
  {
   "cell_type": "code",
   "execution_count": 0,
   "metadata": {
    "collapsed": false
   },
   "outputs": [
   ],
   "source": [
    "M = power_mod(m,e,N)\n",
    "M"
   ]
  },
  {
   "cell_type": "markdown",
   "metadata": {
    "collapsed": false
   },
   "source": [
    "The message $M$ is sent. When we receive it, we compute $M^d\\mod N$."
   ]
  },
  {
   "cell_type": "code",
   "execution_count": 0,
   "metadata": {
    "collapsed": false
   },
   "outputs": [
   ],
   "source": [
    "decoded = power_mod(M,d,N)\n",
    "decoded"
   ]
  },
  {
   "cell_type": "markdown",
   "metadata": {
    "collapsed": false
   },
   "source": [
    "Then we simply translate back to a string."
   ]
  },
  {
   "cell_type": "code",
   "execution_count": 0,
   "metadata": {
    "collapsed": false
   },
   "outputs": [
   ],
   "source": [
    "s1 = str(decoded)\n",
    "l = [int(s1[i:i+2]) for i in range(0, len(s1), 2)]\n",
    "s2 = \"\".join(str(chr(int(i))) for i in l)\n",
    "s2"
   ]
  },
  {
   "cell_type": "markdown",
   "metadata": {
    "collapsed": false
   },
   "source": [
    "In order for someone to break this system, they would have to recreate $m$ from the following data:\n",
    "$$\n",
    "e, N, m^e\\mod N.\n",
    "$$\n",
    "\n",
    "As with the Diffie-Hellman-Merkle exchange, this is believed to be very difficult, as this would likely involve factoring $N$. (Note that this is *different* than the discrete log problem, as there is no generator involved here)\n",
    "\n",
    "For example, the *RSA laboratories* (named after the same three mathematicians as above) sponsors a challenge to factor several published RSA moduli: https://en.wikipedia.org/wiki/RSA_Factoring_Challenge\n",
    "\n",
    "The current record was the factorization of RSA-250, factored in February 2020 by Fabrice Boudot, Pierrick Gaudry, Aurore Guillevic, Nadia Heninger, Emmanuel Thomé, and Paul Zimmermann:"
   ]
  },
  {
   "cell_type": "code",
   "execution_count": 0,
   "metadata": {
    "collapsed": false
   },
   "outputs": [
   ],
   "source": [
    "RSA250 = 2140324650240744961264423072839333563008614715144755017797754920881418023447140136643345519095804679610992851872470914587687396261921557363047454770520805119056493106687691590019759405693457452230589325976697471681738069364894699871578494975937497937"
   ]
  },
  {
   "cell_type": "code",
   "execution_count": 0,
   "metadata": {
    "collapsed": false
   },
   "outputs": [
   ],
   "source": [
    "p = 64135289477071580278790190170577389084825014742943447208116859632024532344630238623598752668347708737661925585694639798853367\n",
    "q = 33372027594978156556226010605355114227940760344767554666784520987023841729210037080257448673296881877565718986258036932062711"
   ]
  },
  {
   "cell_type": "code",
   "execution_count": 0,
   "metadata": {
    "collapsed": false
   },
   "outputs": [
   ],
   "source": [
    "RSA250 - p*q"
   ]
  },
  {
   "cell_type": "markdown",
   "metadata": {
    "collapsed": false
   },
   "source": [
    "RSA-250 has 250 decimal digits (829 bits):"
   ]
  },
  {
   "cell_type": "code",
   "execution_count": 0,
   "metadata": {
    "collapsed": false
   },
   "outputs": [
   ],
   "source": [
    "RSA250.ndigits\n",
    "()"
   ]
  },
  {
   "cell_type": "code",
   "execution_count": 0,
   "metadata": {
    "collapsed": false
   },
   "outputs": [
   ],
   "source": [
    "RSA250.binary()"
   ]
  },
  {
   "cell_type": "code",
   "execution_count": 0,
   "metadata": {
    "collapsed": false
   },
   "outputs": [
   ],
   "source": [
    "len(RSA250.binary())"
   ]
  },
  {
   "cell_type": "markdown",
   "metadata": {
    "collapsed": false
   },
   "source": [
    "In practice, RSA moduli are required to be at least 2048 bits: https://nvlpubs.nist.gov/nistpubs/SpecialPublications/NIST.SP.800-56Br2.pdf to pass NIST cryptographic standards."
   ]
  },
  {
   "cell_type": "markdown",
   "metadata": {
    "collapsed": false
   },
   "source": [
    "## Some Comments\n",
    "\n",
    "What does \"random\" mean? (I.e. how do we create RSA moduli?)"
   ]
  },
  {
   "cell_type": "code",
   "execution_count": 0,
   "metadata": {
    "collapsed": false
   },
   "outputs": [
   ],
   "source": [
    "p = random_prime(53)\n",
    "p"
   ]
  },
  {
   "cell_type": "markdown",
   "metadata": {
    "collapsed": false
   },
   "source": [
    "Computers cannot generate things truly randomly. They rely on *pseudorandom* generators, which rely on a random seed. This can lead to issues if things are not implemented properly:"
   ]
  },
  {
   "cell_type": "code",
   "execution_count": 0,
   "metadata": {
    "collapsed": false
   },
   "outputs": [
   ],
   "source": [
    "set_random_seed(42)\n",
    "p = random_prime(53)\n",
    "p"
   ]
  },
  {
   "cell_type": "code",
   "execution_count": 0,
   "metadata": {
    "collapsed": false
   },
   "outputs": [
   ],
   "source": [
    "set_random_seed(2021)\n",
    "p = random_prime(53)\n",
    "p"
   ]
  },
  {
   "cell_type": "code",
   "execution_count": 0,
   "metadata": {
    "collapsed": false
   },
   "outputs": [
   ],
   "source": [
    "set_random_seed(2021)\n",
    "p = random_prime(53)\n",
    "p"
   ]
  },
  {
   "cell_type": "code",
   "execution_count": 0,
   "metadata": {
    "collapsed": false
   },
   "outputs": [
   ],
   "source": [
    "for i in range(10):\n",
    "    set_random_seed(2021)\n",
    "    p = random_prime(53)\n",
    "    print(p)"
   ]
  },
  {
   "cell_type": "code",
   "execution_count": 0,
   "metadata": {
    "collapsed": false
   },
   "outputs": [
   ],
   "source": [
    "set_random_seed(2021)\n",
    "for i in range(10):\n",
    "    p = random_prime(53)\n",
    "    print(p)"
   ]
  },
  {
   "cell_type": "markdown",
   "metadata": {
    "collapsed": false
   },
   "source": [
    "This is a crucial thing to get right in practice. We don't have time to get into it here, but for those interested: https://en.wikipedia.org/wiki/Pseudorandom_number_generator\n",
    "\n",
    "Is encryption really this straightforward? \n",
    "\n",
    "Well, kinda.\n",
    "\n",
    "From the Wikipedia page:\n",
    ">RSA is a relatively slow algorithm. Because of this, it is not commonly used to directly encrypt user data. More often, RSA is used to transmit shared keys for symmetric key cryptography, which are then used for bulk encryption-decryption.\n",
    "\n",
    "In practice, both Diffie-Hellman-Merkle and RSA are mainly used as *key exchanges*. Alice and Bob use these methods to generate a shared key, $K$. This key is then used in a *symmetric key cryptosystem* such as AES: https://en.wikipedia.org/wiki/Advanced_Encryption_Standard\n",
    "\n",
    "In addition to this, there are *many* ways to get encryption/key generation wrong. For example. Suppose Big Bank A publishes an RSA moduli $N_1 = pq$, and Big Bank B publishes an RSA moduli $N_2 = pr$. Note $p$ is shared in the two moduli. This is a *big big weakness* that will be explored in HW 6. For more on this, see, for instance, \n",
    "- https://en.wikipedia.org/wiki/RSA_(cryptosystem)#Attacks_against_plain_RSA\n",
    "- https://en.wikipedia.org/wiki/Coppersmith%27s_attack\n",
    "- https://en.wikipedia.org/wiki/Wiener%27s_attack\n",
    "- https://www.nytimes.com/2012/02/15/technology/researchers-find-flaw-in-an-online-encryption-method.html\n",
    "\n",
    "If you think people are always smart about this, well...Nadia Heninger of the CSE department may have some words for you. From a blog post of hers from 2012,\n",
    ">We have been able to remotely compromise about 0.4% of all the public keys used for SSL web site security. The keys we were able to compromise were generated incorrectly–using predictable “random” numbers that were sometimes repeated. There were two kinds of problems: keys that were generated with predictable randomness, and a subset of these, where the lack of randomness allows a remote attacker to efficiently factor the public key and obtain the private key. With the private key, an attacker can impersonate a web site or possibly decrypt encrypted traffic to that web site. We’ve developed a tool that can factor these keys and give us the private keys to all the hosts vulnerable to this attack on the Internet in only a few hours.\n",
    "\n",
    "In addition, there exist *quantum algorithms* to attack the discrete log problem, and hence the Diffie-Hellman-Merkle key exchange:\n",
    "- https://en.wikipedia.org/wiki/Shor%27s_algorithm\n",
    "\n",
    "Having said that, these ideas *are* used in practice, and there is no real reason to worry or suspect that cryptography is broken (as of now)\n",
    "- The Diffie-Hellman-Merkle exchange is usually bolstered through the use of *elliptic curves*, which we will discuss Wednesday. This is often employed in *blockchain technologies*\n",
    "- RSA is often used in *smart cards*, as well as for *digital signatures.*"
   ]
  },
  {
   "cell_type": "markdown",
   "metadata": {
    "collapsed": false
   },
   "source": [
    "## Time Permitting: RSA Key Gen in a Terminal (Be much more careful than this if you actually need a RSA key!)"
   ]
  },
  {
   "cell_type": "code",
   "execution_count": 0,
   "metadata": {
    "collapsed": false
   },
   "outputs": [
   ],
   "source": [
    "N = "
   ]
  },
  {
   "cell_type": "code",
   "execution_count": 0,
   "metadata": {
    "collapsed": false
   },
   "outputs": [
   ],
   "source": [
    "int(N,16)"
   ]
  },
  {
   "cell_type": "code",
   "execution_count": 0,
   "metadata": {
    "collapsed": false
   },
   "outputs": [
   ],
   "source": [
    "e = \n",
    "int(e,16)"
   ]
  },
  {
   "cell_type": "code",
   "execution_count": 0,
   "metadata": {
    "collapsed": false
   },
   "outputs": [
   ],
   "source": [
    "d = \n",
    "int(d,16)"
   ]
  },
  {
   "cell_type": "code",
   "execution_count": 0,
   "metadata": {
    "collapsed": false
   },
   "outputs": [
   ],
   "source": [
    "p1 = \n",
    "p2 = \n",
    "int(p1,16)*int(p2,16) - int(N,16)"
   ]
  },
  {
   "cell_type": "code",
   "execution_count": 0,
   "metadata": {
    "collapsed": false
   },
   "outputs": [
   ],
   "source": [
    "int(e,16)*int(d,16)%((int(p1,16)-1)*(int(p2,16)-1))"
   ]
  }
 ],
 "metadata": {
  "kernelspec": {
   "display_name": "SageMath 9.2",
   "language": "sagemath",
   "metadata": {
    "cocalc": {
     "description": "Open-source mathematical software system",
     "priority": 10,
     "url": "https://www.sagemath.org/"
    }
   },
   "name": "sage-9.2",
   "resource_dir": "/ext/jupyter/kernels/sage-9.2"
  },
  "language_info": {
   "codemirror_mode": {
    "name": "ipython",
    "version": 3
   },
   "file_extension": ".py",
   "mimetype": "text/x-python",
   "name": "python",
   "nbconvert_exporter": "python",
   "pygments_lexer": "ipython3",
   "version": "3.8.5"
  }
 },
 "nbformat": 4,
 "nbformat_minor": 4
}