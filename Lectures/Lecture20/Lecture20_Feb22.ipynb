{
 "cells": [
  {
   "cell_type": "markdown",
   "metadata": {
    "collapsed": false
   },
   "source": [
    "# Lecture 20: Introduction to Natural Language Processing\n",
    "\n",
    "### Please note: This lecture will be recorded and made available for viewing online. If you do not wish to be recorded, please adjust your camera settings accordingly. \n",
    "\n",
    "# Reminders/Announcements:\n",
    "- Assignment 7 due tomorrow at 8pm Pacific\n",
    "- Quiz 2 is being graded\n",
    "- More Final Project details have been pushed out\n",
    "- Lots of banking fraud recently, maybe check your accounts "
   ]
  },
  {
   "cell_type": "markdown",
   "metadata": {
    "collapsed": false
   },
   "source": [
    "## What is Natural Language Processing?\n",
    "\n",
    "Natural Language Processing revolves around using computational or statistical techniques to study human language. Subtopics of interest include:\n",
    "- Stylometry: Who wrote what? -> Not James Patterson...\n",
    "- Machine Translation: Hola, cómo estás? -> Hi, how are you?\n",
    "- Sentiment Analysis: \"That movie was awesome!\" -> Positive\n",
    "- Question Answering: \"Where was Barack Obama born?\" -> Hawaii\n",
    "- Personal Assistants: \"Hey Siri, find me a gas station\" -> List of gas stations near you\n",
    "\n",
    "Before we go into any details regarding NLP, it's worth discussing *the difficulties* of the field. To get you started thinking about this, let's make this a participation check:\n",
    "\n",
    "## ****** Participation Check ******************************\n",
    "In this markdown cell list at least two *difficulties* that you think would arise in natural language processing; consider questions such as:\n",
    "- what parts of human language would be most difficult for computers to \"understand\" and why? \n",
    "- what words/types of words would be difficult for a computer to \"understand\" and why?\n",
    "\n",
    "Answer here:\n",
    "\n",
    "- RED: Color, angry, undercooked (raw)\n",
    "- CLIP: To cut apart, to put together\n",
    "## **************************************************************\n",
    "\n",
    "\n",
    "\n",
    "Let's start with some of the earlier notions of NLP, which relied on statistical analysis of texts. A nice introduction to this is the following blog post of Justin Rice: https://www.litcharts.com/blog/analitics/what-makes-hemingway/ , which explores the writings of Ernest Hemingway. \n",
    "\n",
    "## Stylometry: The Basics\n",
    "\n",
    "How can you analyze writings systematically? Here are some basic questions you can ask (I have informally split this up into two categories; this is not a hard and fast rule):\n",
    "- Structural questions:\n",
    "    - How long are your sentences? 10 words? 20 words?\n",
    "    - What type of voice are you writing in? Active? Passive? First Person? Third Person?\n",
    "    - How long are the words in your sentences? 5 letters? 10 letters?\n",
    "    - What punctuation do you use?\n",
    "- Stylistic questions:\n",
    "    - What words are you using? \n",
    "    - What are you writing about?\n",
    "    - What emotions are you invoking? \n",
    "\n",
    "Here are some observations about Hemingway's writing, taken from the above blog post of Justin Rice.\n",
    "\n",
    "Hemingway uses (relatively) short sentences:\n",
    "\n",
    "<img src=\"hway1.png\" alt=\"drawing\" width=\"500\"/>\n",
    "\n",
    "Hemingway uses (relatively) short words:\n",
    "\n",
    "<img src=\"hway2.png\" alt=\"drawing\" width=\"700\"/>\n",
    "\n",
    "Hemingway uses relatively few nouns, but a lot of adverbs and pronouns:\n",
    "\n",
    "<img src=\"hway3.png\" alt=\"drawing\" width=\"500\"/>\n",
    "\n",
    "The following words are \"distinctly\" Hemingwayesque (with a loose definition of distinctly)\n",
    "\n",
    "<img src=\"hway4.png\" alt=\"drawing\" width=\"500\"/>\n",
    "\n",
    "Let's do some of this analysis on our own!"
   ]
  },
  {
   "cell_type": "markdown",
   "metadata": {
    "collapsed": false
   },
   "source": [
    "## The Federalist Papers\n",
    "\n",
    "Brief history lesson: In the 1780's, a bunch of old dudes were trying to create a new government for America. There were two camps: Federalists and Anti-Federalists. \n",
    "- Federalists wanted *more central (federal) powers*\n",
    "- Anti-Federalists wanted *less central (federal) powers*\n",
    "\n",
    "Alexander Hamilton, James Madison, and John Jay were three notable Federalists; they wrote a series of papers in favor of central governance: The Federalist Papers. There were 85 such papers. Originally they were written anonymously under the pen name \"Publius.\" Later it turned out that:\n",
    "- Hamilton *probably* wrote 51 of the papers\n",
    "- Madison *probably* wrote 15 of the papers\n",
    "- Jay *probably* wrote 5 of the papers\n",
    "- Hamilton and Madison *probably jointly* wrote 3 of the papers\n",
    "- This leaves 11 papers which are *disputed*.\n",
    "\n",
    "The estate of Hamilton claimed that Hamilton had written these 11 papers; the estate of Madison challenged these claims. Jay *definitely did not* write the papers.\n",
    "\n",
    "Can we apply statistics to figure out who was correct?"
   ]
  },
  {
   "cell_type": "code",
   "execution_count": 1,
   "metadata": {
    "collapsed": false
   },
   "outputs": [
    {
     "data": {
      "text/plain": [
       "{'author': 'HAMILTON',\n",
       " 'text': 'To the People of the State of New York:\\n\\nAFTER an unequivocal experience of the inefficacy of the\\nsubsisting federal government, you are called upon to deliberate on\\na new Constitution for the United States of America. The subject\\nspeaks its own importance; comprehending in its consequences\\nnothing less than the existence of the UNION, the safety and welfare\\nof the parts of which it is composed, the fate of an empire in many\\nrespects the most interesting in the world. It has been frequently\\nremarked that it seems to have been reserved to the people of this\\ncountry, by their conduct and example, to decide the important\\nquestion, whether societies of men are really capable or not of\\nestablishing good government from reflection and choice, or whether\\nthey are forever destined to depend for their political\\nconstitutions on accident and force. If there be any truth in the\\nremark, the crisis at which we are arrived may with propriety be\\nregarded as the era in which that decision is to be made; and a\\nwrong election of the part we shall act may, in this view, deserve\\nto be considered as the general misfortune of mankind.\\n\\nThis idea will add the inducements of philanthropy to those of\\npatriotism, to heighten the solicitude which all considerate and\\ngood men must feel for the event. Happy will it be if our choice\\nshould be directed by a judicious estimate of our true interests,\\nunperplexed and unbiased by considerations not connected with the\\npublic good. But this is a thing more ardently to be wished than\\nseriously to be expected. The plan offered to our deliberations\\naffects too many particular interests, innovates upon too many local\\ninstitutions, not to involve in its discussion a variety of objects\\nforeign to its merits, and of views, passions and prejudices little\\nfavorable to the discovery of truth.\\n\\nAmong the most formidable of the obstacles which the new\\nConstitution will have to encounter may readily be distinguished the\\nobvious interest of a certain class of men in every State to resist\\nall changes which may hazard a diminution of the power, emolument,\\nand consequence of the offices they hold under the State\\nestablishments; and the perverted ambition of another class of men,\\nwho will either hope to aggrandize themselves by the confusions of\\ntheir country, or will flatter themselves with fairer prospects of\\nelevation from the subdivision of the empire into several partial\\nconfederacies than from its union under one government.\\n\\nIt is not, however, my design to dwell upon observations of this\\nnature. I am well aware that it would be disingenuous to resolve\\nindiscriminately the opposition of any set of men (merely because\\ntheir situations might subject them to suspicion) into interested or\\nambitious views. Candor will oblige us to admit that even such men\\nmay be actuated by upright intentions; and it cannot be doubted\\nthat much of the opposition which has made its appearance, or may\\nhereafter make its appearance, will spring from sources, blameless\\nat least, if not respectable--the honest errors of minds led astray\\nby preconceived jealousies and fears. So numerous indeed and so\\npowerful are the causes which serve to give a false bias to the\\njudgment, that we, upon many occasions, see wise and good men on the\\nwrong as well as on the right side of questions of the first\\nmagnitude to society. This circumstance, if duly attended to, would\\nfurnish a lesson of moderation to those who are ever so much\\npersuaded of their being in the right in any controversy. And a\\nfurther reason for caution, in this respect, might be drawn from the\\nreflection that we are not always sure that those who advocate the\\ntruth are influenced by purer principles than their antagonists.\\nAmbition, avarice, personal animosity, party opposition, and many\\nother motives not more laudable than these, are apt to operate as\\nwell upon those who support as those who oppose the right side of a\\nquestion. Were there not even these inducements to moderation,\\nnothing could be more ill-judged than that intolerant spirit which\\nhas, at all times, characterized political parties. For in\\npolitics, as in religion, it is equally absurd to aim at making\\nproselytes by fire and sword. Heresies in either can rarely be\\ncured by persecution.\\n\\nAnd yet, however just these sentiments will be allowed to be, we\\nhave already sufficient indications that it will happen in this as\\nin all former cases of great national discussion. A torrent of\\nangry and malignant passions will be let loose. To judge from the\\nconduct of the opposite parties, we shall be led to conclude that\\nthey will mutually hope to evince the justness of their opinions,\\nand to increase the number of their converts by the loudness of\\ntheir declamations and the bitterness of their invectives. An\\nenlightened zeal for the energy and efficiency of government will be\\nstigmatized as the offspring of a temper fond of despotic power and\\nhostile to the principles of liberty. An over-scrupulous jealousy\\nof danger to the rights of the people, which is more commonly the\\nfault of the head than of the heart, will be represented as mere\\npretense and artifice, the stale bait for popularity at the expense\\nof the public good. It will be forgotten, on the one hand, that\\njealousy is the usual concomitant of love, and that the noble\\nenthusiasm of liberty is apt to be infected with a spirit of narrow\\nand illiberal distrust. On the other hand, it will be equally\\nforgotten that the vigor of government is essential to the security\\nof liberty; that, in the contemplation of a sound and well-informed\\njudgment, their interest can never be separated; and that a\\ndangerous ambition more often lurks behind the specious mask of zeal\\nfor the rights of the people than under the forbidden appearance of\\nzeal for the firmness and efficiency of government. History will\\nteach us that the former has been found a much more certain road to\\nthe introduction of despotism than the latter, and that of those men\\nwho have overturned the liberties of republics, the greatest number\\nhave begun their career by paying an obsequious court to the people;\\ncommencing demagogues, and ending tyrants.\\n\\nIn the course of the preceding observations, I have had an eye,\\nmy fellow-citizens, to putting you upon your guard against all\\nattempts, from whatever quarter, to influence your decision in a\\nmatter of the utmost moment to your welfare, by any impressions\\nother than those which may result from the evidence of truth. You\\nwill, no doubt, at the same time, have collected from the general\\nscope of them, that they proceed from a source not unfriendly to the\\nnew Constitution. Yes, my countrymen, I own to you that, after\\nhaving given it an attentive consideration, I am clearly of opinion\\nit is your interest to adopt it. I am convinced that this is the\\nsafest course for your liberty, your dignity, and your happiness. I\\naffect not reserves which I do not feel. I will not amuse you with\\nan appearance of deliberation when I have decided. I frankly\\nacknowledge to you my convictions, and I will freely lay before you\\nthe reasons on which they are founded. The consciousness of good\\nintentions disdains ambiguity. I shall not, however, multiply\\nprofessions on this head. My motives must remain in the depository\\nof my own breast. My arguments will be open to all, and may be\\njudged of by all. They shall at least be offered in a spirit which\\nwill not disgrace the cause of truth.\\n\\nI propose, in a series of papers, to discuss the following\\ninteresting particulars:\\n\\nTHE UTILITY OF THE UNION TO YOUR POLITICAL PROSPERITY\\n\\nTHE INSUFFICIENCY OF THE PRESENT CONFEDERATION\\nTO PRESERVE THAT UNION  THE NECESSITY OF A GOVERNMENT AT LEAST\\nEQUALLY ENERGETIC WITH THE ONE PROPOSED, TO THE ATTAINMENT OF THIS\\nOBJECT  THE CONFORMITY OF THE PROPOSED CONSTITUTION TO THE TRUE\\nPRINCIPLES OF REPUBLICAN GOVERNMENT\\nITS ANALOGY TO YOUR OWN STATE CONSTITUTION\\nand lastly, THE ADDITIONAL SECURITY WHICH ITS\\nADOPTION WILL AFFORD TO THE PRESERVATION OF THAT SPECIES OF\\nGOVERNMENT, TO LIBERTY, AND TO PROPERTY.\\n\\nIn the progress of this discussion I shall endeavor to give a\\nsatisfactory answer to all the objections which shall have made\\ntheir appearance, that may seem to have any claim to your attention.\\n\\nIt may perhaps be thought superfluous to offer arguments to\\nprove the utility of the UNION, a point, no doubt, deeply engraved\\non the hearts of the great body of the people in every State, and\\none, which it may be imagined, has no adversaries. But the fact is,\\nthat we already hear it whispered in the private circles of those\\nwho oppose the new Constitution, that the thirteen States are of too\\ngreat extent for any general system, and that we must of necessity\\nresort to separate confederacies of distinct portions of the\\nwhole. [1] This doctrine will, in all probability, be gradually\\npropagated, till it has votaries enough to countenance an open\\navowal of it. For nothing can be more evident, to those who are\\nable to take an enlarged view of the subject, than the alternative\\nof an adoption of the new Constitution or a dismemberment of the\\nUnion. It will therefore be of use to begin by examining the\\nadvantages of that Union, the certain evils, and the probable\\ndangers, to which every State will be exposed from its dissolution.\\nThis shall accordingly constitute the subject of my next address.\\n\\nPUBLIUS.\\n\\n1. The same idea, tracing the arguments to their consequences, is\\nheld out in several of the late publications against the new\\nConstitution.\\n',\n",
       " 'date': None,\n",
       " 'title': 'General Introduction',\n",
       " 'paper_id': 1,\n",
       " 'venue': 'For the Independent Journal'}"
      ]
     },
     "execution_count": 1,
     "metadata": {
     },
     "output_type": "execute_result"
    }
   ],
   "source": [
    "import json\n",
    "papers = []\n",
    "with open('federalist.json', 'r') as f:\n",
    "    for line in f:\n",
    "        papers.append(json.loads(line))\n",
    "papers[0]"
   ]
  },
  {
   "cell_type": "code",
   "execution_count": 2,
   "metadata": {
    "collapsed": false
   },
   "outputs": [
    {
     "data": {
      "text/plain": [
       "{'HAMILTON': [],\n",
       " 'JAY': [],\n",
       " 'MADISON': [],\n",
       " 'HAMILTON AND MADISON': [],\n",
       " 'HAMILTON OR MADISON': []}"
      ]
     },
     "execution_count": 2,
     "metadata": {
     },
     "output_type": "execute_result"
    }
   ],
   "source": [
    "authors = {}\n",
    "for paper in papers:\n",
    "    authors[paper['author']] = []\n",
    "authors"
   ]
  },
  {
   "cell_type": "code",
   "execution_count": 3,
   "metadata": {
    "collapsed": false
   },
   "outputs": [
    {
     "name": "stdout",
     "output_type": "stream",
     "text": [
      "HAMILTON 51\n",
      "JAY 5\n",
      "MADISON 15\n",
      "HAMILTON AND MADISON 3\n",
      "HAMILTON OR MADISON 11\n"
     ]
    }
   ],
   "source": [
    "for paper in papers:\n",
    "    authors[paper['author']].append(paper['text'])\n",
    "for key in authors:\n",
    "    print(key,len(authors[key]))"
   ]
  },
  {
   "cell_type": "code",
   "execution_count": 4,
   "metadata": {
    "collapsed": false
   },
   "outputs": [
    {
     "data": {
      "text/plain": [
       "'To the People of the State of New York:\\n\\nAMONG the numerous advantages promised by a wellconstructed\\nUnion, none deserves to be'"
      ]
     },
     "execution_count": 4,
     "metadata": {
     },
     "output_type": "execute_result"
    }
   ],
   "source": [
    "authors['MADISON'][0][:127]"
   ]
  },
  {
   "cell_type": "markdown",
   "metadata": {
    "collapsed": false
   },
   "source": [
    "To study these papers we will use the *Natural Language ToolKit* (NLTK). This is an open source package for NLP, based on Python."
   ]
  },
  {
   "cell_type": "code",
   "execution_count": 5,
   "metadata": {
    "collapsed": false
   },
   "outputs": [
   ],
   "source": [
    "import nltk"
   ]
  },
  {
   "cell_type": "markdown",
   "metadata": {
    "collapsed": false
   },
   "source": [
    "The first tool we will use is NLTK's *tokenize* method:"
   ]
  },
  {
   "cell_type": "code",
   "execution_count": 6,
   "metadata": {
    "collapsed": false
   },
   "outputs": [
    {
     "data": {
      "text/plain": [
       "['To',\n",
       " 'the',\n",
       " 'People',\n",
       " 'of',\n",
       " 'the',\n",
       " 'State',\n",
       " 'of',\n",
       " 'New',\n",
       " 'York',\n",
       " ':',\n",
       " 'AMONG',\n",
       " 'the',\n",
       " 'numerous',\n",
       " 'advantages',\n",
       " 'promised',\n",
       " 'by',\n",
       " 'a',\n",
       " 'wellconstructed',\n",
       " 'Union',\n",
       " ',']"
      ]
     },
     "execution_count": 6,
     "metadata": {
     },
     "output_type": "execute_result"
    }
   ],
   "source": [
    "madison = []\n",
    "for paper in authors['MADISON']:\n",
    "    madison+=nltk.word_tokenize(paper)\n",
    "madison[:20]"
   ]
  },
  {
   "cell_type": "markdown",
   "metadata": {
    "collapsed": false
   },
   "source": [
    "Be careful! Tokenize works a bit different than we might expect:"
   ]
  },
  {
   "cell_type": "code",
   "execution_count": 7,
   "metadata": {
    "collapsed": false
   },
   "outputs": [
    {
     "data": {
      "text/plain": [
       "['ca', \"n't\"]"
      ]
     },
     "execution_count": 7,
     "metadata": {
     },
     "output_type": "execute_result"
    }
   ],
   "source": [
    "nltk.word_tokenize(\"can't\")"
   ]
  },
  {
   "cell_type": "markdown",
   "metadata": {
    "collapsed": false
   },
   "source": [
    "Let's throw away the punctuation for now (you might not always want to do this!)"
   ]
  },
  {
   "cell_type": "code",
   "execution_count": 8,
   "metadata": {
    "collapsed": false
   },
   "outputs": [
    {
     "data": {
      "text/plain": [
       "['To',\n",
       " 'the',\n",
       " 'People',\n",
       " 'of',\n",
       " 'the',\n",
       " 'State',\n",
       " 'of',\n",
       " 'New',\n",
       " 'York',\n",
       " 'AMONG',\n",
       " 'the',\n",
       " 'numerous',\n",
       " 'advantages',\n",
       " 'promised',\n",
       " 'by',\n",
       " 'a',\n",
       " 'wellconstructed',\n",
       " 'Union',\n",
       " 'none',\n",
       " 'deserves']"
      ]
     },
     "execution_count": 8,
     "metadata": {
     },
     "output_type": "execute_result"
    }
   ],
   "source": [
    "madison = [word for word in madison if any(c.isalpha() for c in word)]\n",
    "madison[:20]"
   ]
  },
  {
   "cell_type": "markdown",
   "metadata": {
    "collapsed": false
   },
   "source": [
    "What kind of words does Madison use? Long words? Short words?"
   ]
  },
  {
   "cell_type": "code",
   "execution_count": 9,
   "metadata": {
    "collapsed": false
   },
   "outputs": [
    {
     "data": {
      "image/png": "[encoded data removed]",
      "text/plain": [
       "Graphics object consisting of 1 graphics primitive"
      ]
     },
     "execution_count": 9,
     "metadata": {
     },
     "output_type": "execute_result"
    }
   ],
   "source": [
    "madisonLengths = [len(word) for word in madison]\n",
    "histogram(madisonLengths, bins = [i for i in range(18)], density = True)"
   ]
  },
  {
   "cell_type": "markdown",
   "metadata": {
    "collapsed": false
   },
   "source": [
    "Here we start to see some of the traits of the English language; there are many short words which are used frequently: *it, is, the, and, they, us, our, but, ...*\n",
    "\n",
    "So is this method useful at all? Let's take a look at John Jay's articles:"
   ]
  },
  {
   "cell_type": "code",
   "execution_count": 10,
   "metadata": {
    "collapsed": false
   },
   "outputs": [
    {
     "data": {
      "text/plain": [
       "['To',\n",
       " 'the',\n",
       " 'People',\n",
       " 'of',\n",
       " 'the',\n",
       " 'State',\n",
       " 'of',\n",
       " 'New',\n",
       " 'York',\n",
       " ':',\n",
       " 'WHEN',\n",
       " 'the',\n",
       " 'people',\n",
       " 'of',\n",
       " 'America',\n",
       " 'reflect',\n",
       " 'that',\n",
       " 'they',\n",
       " 'are',\n",
       " 'now']"
      ]
     },
     "execution_count": 10,
     "metadata": {
     },
     "output_type": "execute_result"
    }
   ],
   "source": [
    "jay = []\n",
    "for paper in authors['JAY']:\n",
    "    jay+=nltk.word_tokenize(paper)\n",
    "jay[:20]"
   ]
  },
  {
   "cell_type": "code",
   "execution_count": 11,
   "metadata": {
    "collapsed": false
   },
   "outputs": [
    {
     "data": {
      "text/plain": [
       "['To',\n",
       " 'the',\n",
       " 'People',\n",
       " 'of',\n",
       " 'the',\n",
       " 'State',\n",
       " 'of',\n",
       " 'New',\n",
       " 'York',\n",
       " 'WHEN',\n",
       " 'the',\n",
       " 'people',\n",
       " 'of',\n",
       " 'America',\n",
       " 'reflect',\n",
       " 'that',\n",
       " 'they',\n",
       " 'are',\n",
       " 'now',\n",
       " 'called']"
      ]
     },
     "execution_count": 11,
     "metadata": {
     },
     "output_type": "execute_result"
    }
   ],
   "source": [
    "jay = [word for word in jay if any(c.isalpha() for c in word)]\n",
    "jay[:20]"
   ]
  },
  {
   "cell_type": "code",
   "execution_count": 12,
   "metadata": {
    "collapsed": false
   },
   "outputs": [
    {
     "data": {
      "image/png": "[encoded data removed]",
      "text/plain": [
       "Graphics object consisting of 1 graphics primitive"
      ]
     },
     "execution_count": 12,
     "metadata": {
     },
     "output_type": "execute_result"
    }
   ],
   "source": [
    "jayLengths = [len(word) for word in jay]\n",
    "histogram(jayLengths, bins = [i for i in range(18)], density = True)"
   ]
  },
  {
   "cell_type": "markdown",
   "metadata": {
    "collapsed": false
   },
   "source": [
    "Hmmm...Let's try to superpose the plots together:"
   ]
  },
  {
   "cell_type": "code",
   "execution_count": 13,
   "metadata": {
    "collapsed": false
   },
   "outputs": [
    {
     "data": {
      "image/png": "[encoded data removed]",
      "text/plain": [
       "Graphics object consisting of 2 graphics primitives"
      ]
     },
     "execution_count": 13,
     "metadata": {
     },
     "output_type": "execute_result"
    }
   ],
   "source": [
    "histogram(jayLengths, bins = [i for i in range(18)], density = True, alpha = .5)+histogram(madisonLengths, bins = [i for i in range(18)], density = True, color = 'orange', alpha = .5)"
   ]
  },
  {
   "cell_type": "markdown",
   "metadata": {
    "collapsed": false
   },
   "source": [
    "## ******** Participation Check**************************\n",
    "\n",
    "Repeat the same analysis above to create a list `unknownLengths` of the lengths of the words used in the disputed Federalist papers. Remember; the disputed papers are located in `authors[\"HAMILTON OR MADISON\"]`. Don't forget to remove the punctuation! \n",
    "\n",
    "Then plot two histograms as above:\n",
    "- The first one consisting of *both the unknownLengths and the jayLengths*.\n",
    "- The second one consisting of *both the unknownLengths and the madisonLengths*."
   ]
  },
  {
   "cell_type": "code",
   "execution_count": 15,
   "metadata": {
    "collapsed": false
   },
   "outputs": [
   ],
   "source": [
    "#Create unknownLengths here\n",
    "unknown = []\n",
    "for paper in authors['HAMILTON OR MADISON']:\n",
    "    unknown+=nltk.word_tokenize(paper)\n",
    "unknown = [word for word in unknown if any(c.isalpha() for c in word)]\n",
    "unknownLengths = [len(word) for word in unknown]"
   ]
  },
  {
   "cell_type": "code",
   "execution_count": 16,
   "metadata": {
    "collapsed": false
   },
   "outputs": [
    {
     "data": {
      "image/png": "[encoded data removed]",
      "text/plain": [
       "Graphics object consisting of 2 graphics primitives"
      ]
     },
     "execution_count": 16,
     "metadata": {
     },
     "output_type": "execute_result"
    }
   ],
   "source": [
    "#plot histogram1 here\n",
    "histogram(jayLengths, bins = [i for i in range(18)], density = True, alpha = .5)+histogram(unknownLengths, bins = [i for i in range(18)], density = True, color = 'orange', alpha = .5)"
   ]
  },
  {
   "cell_type": "code",
   "execution_count": 17,
   "metadata": {
    "collapsed": false
   },
   "outputs": [
    {
     "data": {
      "image/png": "[encoded data removed]",
      "text/plain": [
       "Graphics object consisting of 2 graphics primitives"
      ]
     },
     "execution_count": 17,
     "metadata": {
     },
     "output_type": "execute_result"
    }
   ],
   "source": [
    "#plot histogram2 here\n",
    "histogram(madisonLengths, bins = [i for i in range(18)], density = True, alpha = .5)+histogram(unknownLengths, bins = [i for i in range(18)], density = True, color = 'orange', alpha = .5)"
   ]
  },
  {
   "cell_type": "markdown",
   "metadata": {
    "collapsed": false
   },
   "source": [
    "## *******************************************************"
   ]
  },
  {
   "cell_type": "markdown",
   "metadata": {
    "collapsed": false
   },
   "source": [
    "It certainly looks like the author was *not* John Jay! This is a good start...although we already knew Jay wasn't the author! Unfortunately this does not distinguish Hamilton and Madison..."
   ]
  },
  {
   "cell_type": "code",
   "execution_count": 18,
   "metadata": {
    "collapsed": false
   },
   "outputs": [
   ],
   "source": [
    "hamilton = []\n",
    "for paper in authors['HAMILTON']:\n",
    "    hamilton+=nltk.word_tokenize(paper)\n",
    "hamiltonLengths = [len(word) for word in hamilton if any(c.isalpha() for c in word)]"
   ]
  },
  {
   "cell_type": "code",
   "execution_count": 19,
   "metadata": {
    "collapsed": false
   },
   "outputs": [
    {
     "data": {
      "image/png": "[encoded data removed]",
      "text/plain": [
       "Graphics object consisting of 2 graphics primitives"
      ]
     },
     "execution_count": 19,
     "metadata": {
     },
     "output_type": "execute_result"
    }
   ],
   "source": [
    "histogram(madisonLengths, bins = [i for i in range(18)], density = True, color = 'orange', alpha = .5)+histogram(hamiltonLengths, bins = [i for i in range(18)], density = True ,alpha = .5)"
   ]
  },
  {
   "cell_type": "code",
   "execution_count": 21,
   "metadata": {
    "collapsed": false,
    "scrolled": true
   },
   "outputs": [
    {
     "data": {
      "image/png": "[encoded data removed]",
      "text/plain": [
       "Graphics object consisting of 3 graphics primitives"
      ]
     },
     "execution_count": 21,
     "metadata": {
     },
     "output_type": "execute_result"
    }
   ],
   "source": [
    "histogram(hamiltonLengths, bins = [i for i in range(18)], density = True, alpha = .3)+histogram(madisonLengths, bins = [i for i in range(18)], density = True, color = 'orange', alpha = .3)+histogram(unknownLengths, bins = [i for i in range(18)], density = True, color = 'green', alpha = .3)"
   ]
  },
  {
   "cell_type": "markdown",
   "metadata": {
    "collapsed": false
   },
   "source": [
    "Unfortunately it doesn't seem like words will be able to distinguish the two..."
   ]
  },
  {
   "cell_type": "markdown",
   "metadata": {
    "collapsed": false
   },
   "source": [
    "## Sentence Lengths"
   ]
  },
  {
   "cell_type": "markdown",
   "metadata": {
    "collapsed": false
   },
   "source": [
    "Let's try the same analysis, but for *sentence lengths* to see if we can distinguish Madison from Hamilton..."
   ]
  },
  {
   "cell_type": "code",
   "execution_count": 22,
   "metadata": {
    "collapsed": false
   },
   "outputs": [
    {
     "data": {
      "text/plain": [
       "['To the People of the State of New York:\\n\\nAMONG the numerous advantages promised by a wellconstructed\\nUnion, none deserves to be more accurately developed than its\\ntendency to break and control the violence of faction.',\n",
       " 'The friend\\nof popular governments never finds himself so much alarmed for their\\ncharacter and fate, as when he contemplates their propensity to this\\ndangerous vice.',\n",
       " 'He will not fail, therefore, to set a due value on\\nany plan which, without violating the principles to which he is\\nattached, provides a proper cure for it.',\n",
       " 'The instability,\\ninjustice, and confusion introduced into the public councils, have,\\nin truth, been the mortal diseases under which popular governments\\nhave everywhere perished; as they continue to be the favorite and\\nfruitful topics from which the adversaries to liberty derive their\\nmost specious declamations.',\n",
       " 'The valuable improvements made by the\\nAmerican constitutions on the popular models, both ancient and\\nmodern, cannot certainly be too much admired; but it would be an\\nunwarrantable partiality, to contend that they have as effectually\\nobviated the danger on this side, as was wished and expected.']"
      ]
     },
     "execution_count": 22,
     "metadata": {
     },
     "output_type": "execute_result"
    }
   ],
   "source": [
    "madison = []\n",
    "for paper in authors['MADISON']:\n",
    "    madison+=nltk.sent_tokenize(paper)\n",
    "madison[:5]"
   ]
  },
  {
   "cell_type": "code",
   "execution_count": 23,
   "metadata": {
    "collapsed": false
   },
   "outputs": [
    {
     "data": {
      "image/png": "[encoded data removed]",
      "text/plain": [
       "Graphics object consisting of 1 graphics primitive"
      ]
     },
     "execution_count": 23,
     "metadata": {
     },
     "output_type": "execute_result"
    }
   ],
   "source": [
    "madisonLengths = [len(item.split()) for item in madison if len(item.split())>2]\n",
    "histogram(madisonLengths, bins = [2*i for i in range(50)], density = True)"
   ]
  },
  {
   "cell_type": "code",
   "execution_count": 24,
   "metadata": {
    "collapsed": false
   },
   "outputs": [
    {
     "data": {
      "image/png": "[encoded data removed]",
      "text/plain": [
       "Graphics object consisting of 2 graphics primitives"
      ]
     },
     "execution_count": 24,
     "metadata": {
     },
     "output_type": "execute_result"
    }
   ],
   "source": [
    "jay = []\n",
    "for paper in authors['JAY']:\n",
    "    jay+=nltk.sent_tokenize(paper)\n",
    "jayLengths = [len(item.split()) for item in jay if len(item.split())>2]\n",
    "histogram(jayLengths, bins = [2*i for i in range(50)], density = True,alpha = .5)+histogram(madisonLengths, bins = [2*i for i in range(50)], density = True, alpha = .5, color = 'orange')"
   ]
  },
  {
   "cell_type": "code",
   "execution_count": 25,
   "metadata": {
    "collapsed": false
   },
   "outputs": [
    {
     "data": {
      "image/png": "[encoded data removed]",
      "text/plain": [
       "Graphics object consisting of 2 graphics primitives"
      ]
     },
     "execution_count": 25,
     "metadata": {
     },
     "output_type": "execute_result"
    }
   ],
   "source": [
    "hamilton = []\n",
    "for paper in authors['HAMILTON']:\n",
    "    hamilton+=nltk.sent_tokenize(paper)\n",
    "hamiltonLengths = [len(item.split()) for item in hamilton if len(item.split())>2]\n",
    "histogram(hamiltonLengths, bins = [2*i for i in range(50)], density = True,alpha = .5)+histogram(madisonLengths, bins = [2*i for i in range(50)], density = True, alpha = .5, color = 'orange')"
   ]
  },
  {
   "cell_type": "code",
   "execution_count": 26,
   "metadata": {
    "collapsed": false
   },
   "outputs": [
    {
     "name": "stdout",
     "output_type": "stream",
     "text": [
      "33.82798921186695\n",
      "34.01162790697674\n",
      "39.13023255813953\n"
     ]
    }
   ],
   "source": [
    "print(float(mean(hamiltonLengths)))\n",
    "print(float(mean(madisonLengths)))\n",
    "print(float(mean(jayLengths)))"
   ]
  },
  {
   "cell_type": "code",
   "execution_count": 27,
   "metadata": {
    "collapsed": false
   },
   "outputs": [
    {
     "name": "stdout",
     "output_type": "stream",
     "text": [
      "20.003306574742712\n",
      "21.272913658819274\n",
      "18.494044695468876\n"
     ]
    }
   ],
   "source": [
    "print(float(std(hamiltonLengths)))\n",
    "print(float(std(madisonLengths)))\n",
    "print(float(std(jayLengths)))"
   ]
  },
  {
   "cell_type": "markdown",
   "metadata": {
    "collapsed": false
   },
   "source": [
    "No luck here either!"
   ]
  },
  {
   "cell_type": "markdown",
   "metadata": {
    "collapsed": false
   },
   "source": [
    "## Marker Words\n",
    "\n",
    "Another comparison point that we can use is the type of words that appear in each paper, and the frequency with which they appear. First, we should probably *standardize* the words:"
   ]
  },
  {
   "cell_type": "code",
   "execution_count": 28,
   "metadata": {
    "collapsed": false
   },
   "outputs": [
    {
     "data": {
      "text/plain": [
       "['Blue',\n",
       " 'is',\n",
       " 'my',\n",
       " 'favorite',\n",
       " 'color',\n",
       " ';',\n",
       " 'I',\n",
       " 'really',\n",
       " 'love',\n",
       " 'blue',\n",
       " '.']"
      ]
     },
     "execution_count": 28,
     "metadata": {
     },
     "output_type": "execute_result"
    }
   ],
   "source": [
    "sentence = 'Blue is my favorite color; I really love blue.'\n",
    "nltk.word_tokenize(sentence)"
   ]
  },
  {
   "cell_type": "markdown",
   "metadata": {
    "collapsed": false
   },
   "source": [
    "Thankfully Python makes this easy!"
   ]
  },
  {
   "cell_type": "code",
   "execution_count": 29,
   "metadata": {
    "collapsed": false
   },
   "outputs": [
    {
     "data": {
      "text/plain": [
       "['blue',\n",
       " 'is',\n",
       " 'my',\n",
       " 'favorite',\n",
       " 'color',\n",
       " ';',\n",
       " 'i',\n",
       " 'really',\n",
       " 'love',\n",
       " 'blue',\n",
       " '.']"
      ]
     },
     "execution_count": 29,
     "metadata": {
     },
     "output_type": "execute_result"
    }
   ],
   "source": [
    "[word.lower() for word in nltk.word_tokenize(sentence)]"
   ]
  },
  {
   "cell_type": "markdown",
   "metadata": {
    "collapsed": false
   },
   "source": [
    "Ok. Let's extract *all of the words that were used in the Federalist papers*:"
   ]
  },
  {
   "cell_type": "code",
   "execution_count": 30,
   "metadata": {
    "collapsed": false
   },
   "outputs": [
    {
     "data": {
      "text/plain": [
       "8780"
      ]
     },
     "execution_count": 30,
     "metadata": {
     },
     "output_type": "execute_result"
    }
   ],
   "source": [
    "language = set()\n",
    "for author in authors:\n",
    "    for paper in authors[author]:\n",
    "        for word in nltk.word_tokenize(paper):\n",
    "            language.add(word.lower())\n",
    "len(language)"
   ]
  },
  {
   "cell_type": "code",
   "execution_count": 31,
   "metadata": {
    "collapsed": false
   },
   "outputs": [
    {
     "data": {
      "text/plain": [
       "False"
      ]
     },
     "execution_count": 31,
     "metadata": {
     },
     "output_type": "execute_result"
    }
   ],
   "source": [
    "'frog' in language"
   ]
  },
  {
   "cell_type": "code",
   "execution_count": 32,
   "metadata": {
    "collapsed": false
   },
   "outputs": [
    {
     "data": {
      "text/plain": [
       "True"
      ]
     },
     "execution_count": 32,
     "metadata": {
     },
     "output_type": "execute_result"
    }
   ],
   "source": [
    "'america' in language"
   ]
  },
  {
   "cell_type": "markdown",
   "metadata": {
    "collapsed": false
   },
   "source": [
    "Now we will count *how many times Madison used a specific word*"
   ]
  },
  {
   "cell_type": "code",
   "execution_count": 33,
   "metadata": {
    "collapsed": false
   },
   "outputs": [
   ],
   "source": [
    "madisonCounts = {word:0 for word in language}\n",
    "for paper in authors['MADISON']:\n",
    "    for word in nltk.word_tokenize(paper):\n",
    "        madisonCounts[word.lower()]+=1"
   ]
  },
  {
   "cell_type": "code",
   "execution_count": 34,
   "metadata": {
    "collapsed": false
   },
   "outputs": [
    {
     "data": {
      "text/plain": [
       "30"
      ]
     },
     "execution_count": 34,
     "metadata": {
     },
     "output_type": "execute_result"
    }
   ],
   "source": [
    "madisonCounts['america']"
   ]
  },
  {
   "cell_type": "markdown",
   "metadata": {
    "collapsed": false
   },
   "source": [
    "Similarly for Hamilton"
   ]
  },
  {
   "cell_type": "code",
   "execution_count": 35,
   "metadata": {
    "collapsed": false
   },
   "outputs": [
   ],
   "source": [
    "hamiltonCounts = {word:0 for word in language}\n",
    "for paper in authors['HAMILTON']:\n",
    "    for word in nltk.word_tokenize(paper):\n",
    "        hamiltonCounts[word.lower()]+=1"
   ]
  },
  {
   "cell_type": "code",
   "execution_count": 36,
   "metadata": {
    "collapsed": false
   },
   "outputs": [
    {
     "data": {
      "text/plain": [
       "46"
      ]
     },
     "execution_count": 36,
     "metadata": {
     },
     "output_type": "execute_result"
    }
   ],
   "source": [
    "hamiltonCounts['america']"
   ]
  },
  {
   "cell_type": "markdown",
   "metadata": {
    "collapsed": false
   },
   "source": [
    "Be careful! We better remember that Hamilton wrote many more papers than Madison did:"
   ]
  },
  {
   "cell_type": "code",
   "execution_count": 37,
   "metadata": {
    "collapsed": false
   },
   "outputs": [
    {
     "data": {
      "text/plain": [
       "45765"
      ]
     },
     "execution_count": 37,
     "metadata": {
     },
     "output_type": "execute_result"
    }
   ],
   "source": [
    "sum(madisonCounts.values())"
   ]
  },
  {
   "cell_type": "code",
   "execution_count": 38,
   "metadata": {
    "collapsed": false
   },
   "outputs": [
    {
     "data": {
      "text/plain": [
       "125678"
      ]
     },
     "execution_count": 38,
     "metadata": {
     },
     "output_type": "execute_result"
    }
   ],
   "source": [
    "sum(hamiltonCounts.values())"
   ]
  },
  {
   "cell_type": "markdown",
   "metadata": {
    "collapsed": false
   },
   "source": [
    "This leads to the concept of a *word rate*: the word rate of $w$ is:\n",
    "$$\n",
    "rate(w) = \\frac{\\text{number of times w was used in a group of text}}{\\text{total number of words in that group of text}}\n",
    "$$"
   ]
  },
  {
   "cell_type": "code",
   "execution_count": 39,
   "metadata": {
    "collapsed": false
   },
   "outputs": [
   ],
   "source": [
    "madisonRates = {word:float(madisonCounts[word]/45765) for word in language}\n",
    "hamiltonRates = {word:float(hamiltonCounts[word]/125678) for word in language}"
   ]
  },
  {
   "cell_type": "code",
   "execution_count": 40,
   "metadata": {
    "collapsed": false
   },
   "outputs": [
    {
     "data": {
      "text/plain": [
       "0.0006555227794165847"
      ]
     },
     "execution_count": 40,
     "metadata": {
     },
     "output_type": "execute_result"
    }
   ],
   "source": [
    "madisonRates['america']"
   ]
  },
  {
   "cell_type": "code",
   "execution_count": 41,
   "metadata": {
    "collapsed": false
   },
   "outputs": [
    {
     "data": {
      "text/plain": [
       "0.0003660147360715479"
      ]
     },
     "execution_count": 41,
     "metadata": {
     },
     "output_type": "execute_result"
    }
   ],
   "source": [
    "hamiltonRates['america']"
   ]
  },
  {
   "cell_type": "markdown",
   "metadata": {
    "collapsed": false
   },
   "source": [
    "Ok! Let's start looking at the *most common* words that each author uses:"
   ]
  },
  {
   "cell_type": "code",
   "execution_count": 42,
   "metadata": {
    "collapsed": false
   },
   "outputs": [
    {
     "data": {
      "text/plain": [
       "['the', ',', 'of', 'to', 'and', '.', 'in', 'a', 'be', 'that']"
      ]
     },
     "execution_count": 42,
     "metadata": {
     },
     "output_type": "execute_result"
    }
   ],
   "source": [
    "madWords = sorted([w for w in madisonCounts], key = lambda x: madisonCounts[x] , reverse = True)\n",
    "madWords[:10]"
   ]
  },
  {
   "cell_type": "code",
   "execution_count": 43,
   "metadata": {
    "collapsed": false
   },
   "outputs": [
    {
     "data": {
      "text/plain": [
       "['the', ',', 'of', 'to', '.', 'in', 'and', 'a', 'be', 'that']"
      ]
     },
     "execution_count": 43,
     "metadata": {
     },
     "output_type": "execute_result"
    }
   ],
   "source": [
    "hamWords = sorted([w for w in hamiltonCounts], key = lambda x: hamiltonCounts[x] , reverse = True)\n",
    "hamWords[:10]"
   ]
  },
  {
   "cell_type": "markdown",
   "metadata": {
    "collapsed": false
   },
   "source": [
    "That was boring!!! \n",
    "\n",
    "We can try and go through this list to find a set of *marker words*. A *marker word* is a word which has *a high rate with respect to one author* but a *low rate with respect to another author*:"
   ]
  },
  {
   "cell_type": "code",
   "execution_count": 44,
   "metadata": {
    "collapsed": false
   },
   "outputs": [
   ],
   "source": [
    "markers =['on','upon','while','whilst']"
   ]
  },
  {
   "cell_type": "code",
   "execution_count": 45,
   "metadata": {
    "collapsed": false
   },
   "outputs": [
    {
     "data": {
      "text/plain": [
       "[0.003016, 0.002976, 0.000286, 8e-06]"
      ]
     },
     "execution_count": 45,
     "metadata": {
     },
     "output_type": "execute_result"
    }
   ],
   "source": [
    "[round(hamiltonRates[word], 6) for word in markers]"
   ]
  },
  {
   "cell_type": "code",
   "execution_count": 47,
   "metadata": {
    "collapsed": false
   },
   "outputs": [
    {
     "data": {
      "text/plain": [
       "[0.006839, 0.000153, 0.0, 0.000262]"
      ]
     },
     "execution_count": 47,
     "metadata": {
     },
     "output_type": "execute_result"
    }
   ],
   "source": [
    "[round(madisonRates[word], 6) for word in markers]"
   ]
  },
  {
   "cell_type": "markdown",
   "metadata": {
    "collapsed": false
   },
   "source": [
    "How could we go about looking for these? Often marker words come from prior knowledge: an author in the 1700's probably used the word \"rapscallion\" much more than an author from current times. Another way is to simply do an exhaustive search:"
   ]
  },
  {
   "cell_type": "code",
   "execution_count": 48,
   "metadata": {
    "collapsed": false
   },
   "outputs": [
    {
     "name": "stdout",
     "output_type": "stream",
     "text": [
      "on\n",
      "federal\n",
      "powers\n"
     ]
    }
   ],
   "source": [
    "for word in language:\n",
    "    if madisonCounts[word]>100 and madisonRates[word]>2*hamiltonRates[word]:\n",
    "        print(word)"
   ]
  },
  {
   "cell_type": "code",
   "execution_count": 49,
   "metadata": {
    "collapsed": false
   },
   "outputs": [
    {
     "name": "stdout",
     "output_type": "stream",
     "text": [
      "courts\n",
      "there\n",
      "he\n",
      "upon\n",
      "man\n",
      "men\n"
     ]
    }
   ],
   "source": [
    "for word in language:\n",
    "    if hamiltonCounts[word]>100  and hamiltonRates[word]>2*madisonRates[word]:\n",
    "        print(word)"
   ]
  },
  {
   "cell_type": "code",
   "execution_count": 50,
   "metadata": {
    "collapsed": false
   },
   "outputs": [
    {
     "name": "stdout",
     "output_type": "stream",
     "text": [
      "although\n",
      "sphere\n",
      "composing\n",
      "whilst\n",
      "coin\n"
     ]
    }
   ],
   "source": [
    "for word in language:\n",
    "    if madisonRates[word] and hamiltonRates[word] and madisonRates[word]>20*hamiltonRates[word]:\n",
    "        print(word)"
   ]
  },
  {
   "cell_type": "code",
   "execution_count": 51,
   "metadata": {
    "collapsed": false
   },
   "outputs": [
    {
     "name": "stdout",
     "output_type": "stream",
     "text": [
      "kind\n"
     ]
    }
   ],
   "source": [
    "for word in language:\n",
    "    if madisonRates[word] and hamiltonRates[word] and madisonRates[word]<1/20*hamiltonRates[word]:\n",
    "        print(word)"
   ]
  },
  {
   "cell_type": "markdown",
   "metadata": {
    "collapsed": false
   },
   "source": [
    "Ok. We've got a set of marker words; let's do a comparison to the disputed papers now:"
   ]
  },
  {
   "cell_type": "code",
   "execution_count": 52,
   "metadata": {
    "collapsed": false
   },
   "outputs": [
    {
     "data": {
      "text/plain": [
       "24441"
      ]
     },
     "execution_count": 52,
     "metadata": {
     },
     "output_type": "execute_result"
    }
   ],
   "source": [
    "unkCounts = {word:0 for word in language}\n",
    "for paper in authors['HAMILTON OR MADISON']:\n",
    "    for word in nltk.word_tokenize(paper):\n",
    "        unkCounts[word.lower()]+=1\n",
    "sum(unkCounts.values())"
   ]
  },
  {
   "cell_type": "code",
   "execution_count": 53,
   "metadata": {
    "collapsed": false
   },
   "outputs": [
   ],
   "source": [
    "unkRates = {word:unkCounts[word]/24441 for word in language}"
   ]
  },
  {
   "cell_type": "code",
   "execution_count": 54,
   "metadata": {
    "collapsed": false
   },
   "outputs": [
   ],
   "source": [
    "markers = 'on,federal,powers,whilst,coin,sphere,composing,although,upon,there,courts,man,men,while'.split(',')"
   ]
  },
  {
   "cell_type": "code",
   "execution_count": 55,
   "metadata": {
    "collapsed": false
   },
   "outputs": [
    {
     "data": {
      "text/plain": [
       "['on',\n",
       " 'federal',\n",
       " 'powers',\n",
       " 'whilst',\n",
       " 'coin',\n",
       " 'sphere',\n",
       " 'composing',\n",
       " 'although',\n",
       " 'upon',\n",
       " 'there',\n",
       " 'courts',\n",
       " 'man',\n",
       " 'men',\n",
       " 'while']"
      ]
     },
     "execution_count": 55,
     "metadata": {
     },
     "output_type": "execute_result"
    }
   ],
   "source": [
    "markers"
   ]
  },
  {
   "cell_type": "code",
   "execution_count": 0,
   "metadata": {
    "collapsed": false
   },
   "outputs": [
   ],
   "source": [
    "list_plot([madisonRates[w] for w in markers], legend_label = 'Madison', size = 30)+list_plot([hamiltonRates[w] for w in markers], color = 'green',legend_label = 'Hamilton', size = 30)"
   ]
  },
  {
   "cell_type": "code",
   "execution_count": 56,
   "metadata": {
    "collapsed": false
   },
   "outputs": [
    {
     "data": {
      "image/png": "[encoded data removed]",
      "text/plain": [
       "Graphics object consisting of 3 graphics primitives"
      ]
     },
     "execution_count": 56,
     "metadata": {
     },
     "output_type": "execute_result"
    }
   ],
   "source": [
    "list_plot([madisonRates[w] for w in markers],size = 30,legend_label = 'Madison')+list_plot([hamiltonRates[w] for w in markers], color = 'green',size = 30, legend_label = 'Hamilton')+list_plot([unkRates[w] for w in markers], color = 'red', axes = False,size = 30, legend_label = 'Disputed')"
   ]
  },
  {
   "cell_type": "markdown",
   "metadata": {
    "collapsed": false
   },
   "source": [
    "It's a bit hard to say, but it looks like maybe blue is winning out here..."
   ]
  },
  {
   "cell_type": "markdown",
   "metadata": {
    "collapsed": false
   },
   "source": [
    "## Quantifying the Results\n",
    "\n",
    "We can quantify our observations with various methods. One would be a *Chi Squared* test. A Chi Squared test is a statistical method for hypothesis testing. It basically \"assigns a number\" to the scatter plot above, by saying \"if Madison actually wrote the disputed papers, how likely is it that his word usage would be this far off?\" (This is a *very handwavy* explanation; see here for more: https://en.wikipedia.org/wiki/Chi-squared_test)\n",
    "\n",
    "A higher tech version of this would be a *classifier algorithm*. The idea of a classifier algorithm is *similar* to the idea of a linear regression, but with a different end goal.\n",
    "\n",
    "- Regression Model: feed data in, get a *numeric prediction* out\n",
    "- Classifier Model: feed data in, get a *categorical prediction* out"
   ]
  },
  {
   "cell_type": "code",
   "execution_count": 57,
   "metadata": {
    "collapsed": false
   },
   "outputs": [
    {
     "name": "stdout",
     "output_type": "stream",
     "text": [
      "['on', 'federal', 'powers', 'whilst', 'coin', 'sphere', 'composing', 'although', 'upon', 'there', 'courts', 'man', 'men', 'while']\n"
     ]
    }
   ],
   "source": [
    "print(markers)"
   ]
  },
  {
   "cell_type": "markdown",
   "metadata": {
    "collapsed": false
   },
   "source": [
    "Let's turn our *known data* into a *training set*. We can then *test* on the unknown papers to see what the computer thinks! To do this, we want to calculate the word rates *for each individual paper*, not for the author as a whole:"
   ]
  },
  {
   "cell_type": "code",
   "execution_count": 58,
   "metadata": {
    "collapsed": false
   },
   "outputs": [
   ],
   "source": [
    "training = []\n",
    "for paper in authors['MADISON']:\n",
    "    counts = {word:0 for word in language}\n",
    "    for word in nltk.word_tokenize(paper):\n",
    "        counts[word.lower()]+=1\n",
    "    total = sum(counts.values())\n",
    "    training.append([float(0)]+[float(counts[word]/total) for word in markers])"
   ]
  },
  {
   "cell_type": "code",
   "execution_count": 59,
   "metadata": {
    "collapsed": false
   },
   "outputs": [
    {
     "name": "stdout",
     "output_type": "stream",
     "text": [
      "[0.0, 0.005365126676602086, 0.00029806259314456036, 0.0, 0.0, 0.0, 0.0005961251862891207, 0.0008941877794336811, 0.0, 0.0, 0.0017883755588673621, 0.0, 0.0008941877794336811, 0.0011922503725782414, 0.0]\n"
     ]
    }
   ],
   "source": [
    "print(training[0])"
   ]
  },
  {
   "cell_type": "code",
   "execution_count": 60,
   "metadata": {
    "collapsed": false
   },
   "outputs": [
   ],
   "source": [
    "for paper in authors['HAMILTON']:\n",
    "    counts = {word:0 for word in language}\n",
    "    for word in nltk.word_tokenize(paper):\n",
    "        counts[word.lower()]+=1\n",
    "    total = sum(counts.values())\n",
    "    training.append([float(1)]+[float(counts[word]/total) for word in markers])"
   ]
  },
  {
   "cell_type": "code",
   "execution_count": 61,
   "metadata": {
    "collapsed": false
   },
   "outputs": [
    {
     "name": "stdout",
     "output_type": "stream",
     "text": [
      "[1.0, 0.005897771952817824, 0.0, 0.000327653997378768, 0.0, 0.0, 0.0, 0.0, 0.0, 0.003931847968545216, 0.00327653997378768, 0.0, 0.00163826998689384, 0.000982961992136304, 0.0]\n"
     ]
    }
   ],
   "source": [
    "print(training[-1])"
   ]
  },
  {
   "cell_type": "code",
   "execution_count": 62,
   "metadata": {
    "collapsed": false
   },
   "outputs": [
    {
     "data": {
      "text/html": [
       "<div>\n",
       "<style scoped>\n",
       "    .dataframe tbody tr th:only-of-type {\n",
       "        vertical-align: middle;\n",
       "    }\n",
       "\n",
       "    .dataframe tbody tr th {\n",
       "        vertical-align: top;\n",
       "    }\n",
       "\n",
       "    .dataframe thead th {\n",
       "        text-align: right;\n",
       "    }\n",
       "</style>\n",
       "<table border=\"1\" class=\"dataframe\">\n",
       "  <thead>\n",
       "    <tr style=\"text-align: right;\">\n",
       "      <th></th>\n",
       "      <th>0</th>\n",
       "      <th>1</th>\n",
       "      <th>2</th>\n",
       "      <th>3</th>\n",
       "      <th>4</th>\n",
       "      <th>5</th>\n",
       "      <th>6</th>\n",
       "      <th>7</th>\n",
       "      <th>8</th>\n",
       "      <th>9</th>\n",
       "      <th>10</th>\n",
       "      <th>11</th>\n",
       "      <th>12</th>\n",
       "      <th>13</th>\n",
       "      <th>14</th>\n",
       "    </tr>\n",
       "  </thead>\n",
       "  <tbody>\n",
       "    <tr>\n",
       "      <th>0</th>\n",
       "      <td>0.0</td>\n",
       "      <td>0.005365</td>\n",
       "      <td>0.000298</td>\n",
       "      <td>0.000000</td>\n",
       "      <td>0.000000</td>\n",
       "      <td>0.0</td>\n",
       "      <td>0.000596</td>\n",
       "      <td>0.000894</td>\n",
       "      <td>0.000000</td>\n",
       "      <td>0.000000</td>\n",
       "      <td>0.001788</td>\n",
       "      <td>0.000000</td>\n",
       "      <td>0.000894</td>\n",
       "      <td>0.001192</td>\n",
       "      <td>0.0</td>\n",
       "    </tr>\n",
       "    <tr>\n",
       "      <th>1</th>\n",
       "      <td>0.0</td>\n",
       "      <td>0.007176</td>\n",
       "      <td>0.000422</td>\n",
       "      <td>0.000000</td>\n",
       "      <td>0.000422</td>\n",
       "      <td>0.0</td>\n",
       "      <td>0.000422</td>\n",
       "      <td>0.000000</td>\n",
       "      <td>0.000000</td>\n",
       "      <td>0.000000</td>\n",
       "      <td>0.000000</td>\n",
       "      <td>0.000000</td>\n",
       "      <td>0.000000</td>\n",
       "      <td>0.000000</td>\n",
       "      <td>0.0</td>\n",
       "    </tr>\n",
       "    <tr>\n",
       "      <th>2</th>\n",
       "      <td>0.0</td>\n",
       "      <td>0.006319</td>\n",
       "      <td>0.000333</td>\n",
       "      <td>0.000665</td>\n",
       "      <td>0.000333</td>\n",
       "      <td>0.0</td>\n",
       "      <td>0.000000</td>\n",
       "      <td>0.000333</td>\n",
       "      <td>0.000333</td>\n",
       "      <td>0.000333</td>\n",
       "      <td>0.000665</td>\n",
       "      <td>0.000333</td>\n",
       "      <td>0.001330</td>\n",
       "      <td>0.001663</td>\n",
       "      <td>0.0</td>\n",
       "    </tr>\n",
       "    <tr>\n",
       "      <th>3</th>\n",
       "      <td>0.0</td>\n",
       "      <td>0.004054</td>\n",
       "      <td>0.001351</td>\n",
       "      <td>0.002973</td>\n",
       "      <td>0.000541</td>\n",
       "      <td>0.0</td>\n",
       "      <td>0.000000</td>\n",
       "      <td>0.000000</td>\n",
       "      <td>0.000541</td>\n",
       "      <td>0.001081</td>\n",
       "      <td>0.000811</td>\n",
       "      <td>0.000000</td>\n",
       "      <td>0.000541</td>\n",
       "      <td>0.001622</td>\n",
       "      <td>0.0</td>\n",
       "    </tr>\n",
       "    <tr>\n",
       "      <th>4</th>\n",
       "      <td>0.0</td>\n",
       "      <td>0.008463</td>\n",
       "      <td>0.007109</td>\n",
       "      <td>0.004062</td>\n",
       "      <td>0.000000</td>\n",
       "      <td>0.0</td>\n",
       "      <td>0.000339</td>\n",
       "      <td>0.001354</td>\n",
       "      <td>0.000000</td>\n",
       "      <td>0.000000</td>\n",
       "      <td>0.000000</td>\n",
       "      <td>0.000000</td>\n",
       "      <td>0.000000</td>\n",
       "      <td>0.000000</td>\n",
       "      <td>0.0</td>\n",
       "    </tr>\n",
       "  </tbody>\n",
       "</table>\n",
       "</div>"
      ],
      "text/plain": [
       "    0         1         2         3         4    5         6         7   \\\n",
       "0  0.0  0.005365  0.000298  0.000000  0.000000  0.0  0.000596  0.000894   \n",
       "1  0.0  0.007176  0.000422  0.000000  0.000422  0.0  0.000422  0.000000   \n",
       "2  0.0  0.006319  0.000333  0.000665  0.000333  0.0  0.000000  0.000333   \n",
       "3  0.0  0.004054  0.001351  0.002973  0.000541  0.0  0.000000  0.000000   \n",
       "4  0.0  0.008463  0.007109  0.004062  0.000000  0.0  0.000339  0.001354   \n",
       "\n",
       "         8         9         10        11        12        13   14  \n",
       "0  0.000000  0.000000  0.001788  0.000000  0.000894  0.001192  0.0  \n",
       "1  0.000000  0.000000  0.000000  0.000000  0.000000  0.000000  0.0  \n",
       "2  0.000333  0.000333  0.000665  0.000333  0.001330  0.001663  0.0  \n",
       "3  0.000541  0.001081  0.000811  0.000000  0.000541  0.001622  0.0  \n",
       "4  0.000000  0.000000  0.000000  0.000000  0.000000  0.000000  0.0  "
      ]
     },
     "execution_count": 62,
     "metadata": {
     },
     "output_type": "execute_result"
    }
   ],
   "source": [
    "import pandas as pd\n",
    "df = pd.DataFrame(training)\n",
    "df.head()"
   ]
  },
  {
   "cell_type": "code",
   "execution_count": 0,
   "metadata": {
    "collapsed": false
   },
   "outputs": [
   ],
   "source": [
   ]
  },
  {
   "cell_type": "code",
   "execution_count": 63,
   "metadata": {
    "collapsed": false
   },
   "outputs": [
    {
     "data": {
      "text/html": [
       "<div>\n",
       "<style scoped>\n",
       "    .dataframe tbody tr th:only-of-type {\n",
       "        vertical-align: middle;\n",
       "    }\n",
       "\n",
       "    .dataframe tbody tr th {\n",
       "        vertical-align: top;\n",
       "    }\n",
       "\n",
       "    .dataframe thead th {\n",
       "        text-align: right;\n",
       "    }\n",
       "</style>\n",
       "<table border=\"1\" class=\"dataframe\">\n",
       "  <thead>\n",
       "    <tr style=\"text-align: right;\">\n",
       "      <th></th>\n",
       "      <th>0</th>\n",
       "      <th>1</th>\n",
       "      <th>2</th>\n",
       "      <th>3</th>\n",
       "      <th>4</th>\n",
       "      <th>5</th>\n",
       "      <th>6</th>\n",
       "      <th>7</th>\n",
       "      <th>8</th>\n",
       "      <th>9</th>\n",
       "      <th>10</th>\n",
       "      <th>11</th>\n",
       "      <th>12</th>\n",
       "      <th>13</th>\n",
       "      <th>14</th>\n",
       "    </tr>\n",
       "  </thead>\n",
       "  <tbody>\n",
       "    <tr>\n",
       "      <th>61</th>\n",
       "      <td>1.0</td>\n",
       "      <td>0.003642</td>\n",
       "      <td>0.001821</td>\n",
       "      <td>0.000228</td>\n",
       "      <td>0.000228</td>\n",
       "      <td>0.0</td>\n",
       "      <td>0.0</td>\n",
       "      <td>0.0</td>\n",
       "      <td>0.0</td>\n",
       "      <td>0.002959</td>\n",
       "      <td>0.004325</td>\n",
       "      <td>0.006374</td>\n",
       "      <td>0.000228</td>\n",
       "      <td>0.001821</td>\n",
       "      <td>0.000455</td>\n",
       "    </tr>\n",
       "    <tr>\n",
       "      <th>62</th>\n",
       "      <td>1.0</td>\n",
       "      <td>0.000000</td>\n",
       "      <td>0.006932</td>\n",
       "      <td>0.000000</td>\n",
       "      <td>0.000000</td>\n",
       "      <td>0.0</td>\n",
       "      <td>0.0</td>\n",
       "      <td>0.0</td>\n",
       "      <td>0.0</td>\n",
       "      <td>0.002311</td>\n",
       "      <td>0.000000</td>\n",
       "      <td>0.015598</td>\n",
       "      <td>0.000000</td>\n",
       "      <td>0.000578</td>\n",
       "      <td>0.000000</td>\n",
       "    </tr>\n",
       "    <tr>\n",
       "      <th>63</th>\n",
       "      <td>1.0</td>\n",
       "      <td>0.002785</td>\n",
       "      <td>0.001083</td>\n",
       "      <td>0.000464</td>\n",
       "      <td>0.000000</td>\n",
       "      <td>0.0</td>\n",
       "      <td>0.0</td>\n",
       "      <td>0.0</td>\n",
       "      <td>0.0</td>\n",
       "      <td>0.003094</td>\n",
       "      <td>0.003403</td>\n",
       "      <td>0.004022</td>\n",
       "      <td>0.000155</td>\n",
       "      <td>0.001083</td>\n",
       "      <td>0.000619</td>\n",
       "    </tr>\n",
       "    <tr>\n",
       "      <th>64</th>\n",
       "      <td>1.0</td>\n",
       "      <td>0.004447</td>\n",
       "      <td>0.000424</td>\n",
       "      <td>0.001059</td>\n",
       "      <td>0.000000</td>\n",
       "      <td>0.0</td>\n",
       "      <td>0.0</td>\n",
       "      <td>0.0</td>\n",
       "      <td>0.0</td>\n",
       "      <td>0.002753</td>\n",
       "      <td>0.003600</td>\n",
       "      <td>0.000000</td>\n",
       "      <td>0.000212</td>\n",
       "      <td>0.001059</td>\n",
       "      <td>0.000212</td>\n",
       "    </tr>\n",
       "    <tr>\n",
       "      <th>65</th>\n",
       "      <td>1.0</td>\n",
       "      <td>0.005898</td>\n",
       "      <td>0.000000</td>\n",
       "      <td>0.000328</td>\n",
       "      <td>0.000000</td>\n",
       "      <td>0.0</td>\n",
       "      <td>0.0</td>\n",
       "      <td>0.0</td>\n",
       "      <td>0.0</td>\n",
       "      <td>0.003932</td>\n",
       "      <td>0.003277</td>\n",
       "      <td>0.000000</td>\n",
       "      <td>0.001638</td>\n",
       "      <td>0.000983</td>\n",
       "      <td>0.000000</td>\n",
       "    </tr>\n",
       "  </tbody>\n",
       "</table>\n",
       "</div>"
      ],
      "text/plain": [
       "     0         1         2         3         4    5    6    7    8         9   \\\n",
       "61  1.0  0.003642  0.001821  0.000228  0.000228  0.0  0.0  0.0  0.0  0.002959   \n",
       "62  1.0  0.000000  0.006932  0.000000  0.000000  0.0  0.0  0.0  0.0  0.002311   \n",
       "63  1.0  0.002785  0.001083  0.000464  0.000000  0.0  0.0  0.0  0.0  0.003094   \n",
       "64  1.0  0.004447  0.000424  0.001059  0.000000  0.0  0.0  0.0  0.0  0.002753   \n",
       "65  1.0  0.005898  0.000000  0.000328  0.000000  0.0  0.0  0.0  0.0  0.003932   \n",
       "\n",
       "          10        11        12        13        14  \n",
       "61  0.004325  0.006374  0.000228  0.001821  0.000455  \n",
       "62  0.000000  0.015598  0.000000  0.000578  0.000000  \n",
       "63  0.003403  0.004022  0.000155  0.001083  0.000619  \n",
       "64  0.003600  0.000000  0.000212  0.001059  0.000212  \n",
       "65  0.003277  0.000000  0.001638  0.000983  0.000000  "
      ]
     },
     "execution_count": 63,
     "metadata": {
     },
     "output_type": "execute_result"
    }
   ],
   "source": [
    "df.tail()"
   ]
  },
  {
   "cell_type": "markdown",
   "metadata": {
    "collapsed": false
   },
   "source": [
    "## Here's a really stupid side comment...\n",
    "\n",
    "using pandas in the SageMath kernel can be a bit obnoxious..."
   ]
  },
  {
   "cell_type": "code",
   "execution_count": 64,
   "metadata": {
    "collapsed": false
   },
   "outputs": [
    {
     "ename": "KeyError",
     "evalue": "0",
     "output_type": "error",
     "traceback": [
      "\u001b[0;31m---------------------------------------------------------------------------\u001b[0m",
      "\u001b[0;31mKeyError\u001b[0m                                  Traceback (most recent call last)",
      "\u001b[0;32m<ipython-input-64-e7647c5685f9>\u001b[0m in \u001b[0;36m<module>\u001b[0;34m\u001b[0m\n\u001b[0;32m----> 1\u001b[0;31m \u001b[0mdf\u001b[0m\u001b[0;34m[\u001b[0m\u001b[0mInteger\u001b[0m\u001b[0;34m(\u001b[0m\u001b[0;36m0\u001b[0m\u001b[0;34m)\u001b[0m\u001b[0;34m]\u001b[0m\u001b[0;34m\u001b[0m\u001b[0;34m\u001b[0m\u001b[0m\n\u001b[0m",
      "\u001b[0;32m/ext/sage/sage-9.2/local/lib/python3.8/site-packages/pandas/core/frame.py\u001b[0m in \u001b[0;36m__getitem__\u001b[0;34m(self, key)\u001b[0m\n\u001b[1;32m   2876\u001b[0m                 \u001b[0;32mif\u001b[0m \u001b[0mself\u001b[0m\u001b[0;34m.\u001b[0m\u001b[0mcolumns\u001b[0m\u001b[0;34m.\u001b[0m\u001b[0mnlevels\u001b[0m \u001b[0;34m>\u001b[0m \u001b[0;36m1\u001b[0m\u001b[0;34m:\u001b[0m\u001b[0;34m\u001b[0m\u001b[0;34m\u001b[0m\u001b[0m\n\u001b[1;32m   2877\u001b[0m                     \u001b[0;32mreturn\u001b[0m \u001b[0mself\u001b[0m\u001b[0;34m.\u001b[0m\u001b[0m_getitem_multilevel\u001b[0m\u001b[0;34m(\u001b[0m\u001b[0mkey\u001b[0m\u001b[0;34m)\u001b[0m\u001b[0;34m\u001b[0m\u001b[0;34m\u001b[0m\u001b[0m\n\u001b[0;32m-> 2878\u001b[0;31m                 \u001b[0;32mreturn\u001b[0m \u001b[0mself\u001b[0m\u001b[0;34m.\u001b[0m\u001b[0m_get_item_cache\u001b[0m\u001b[0;34m(\u001b[0m\u001b[0mkey\u001b[0m\u001b[0;34m)\u001b[0m\u001b[0;34m\u001b[0m\u001b[0;34m\u001b[0m\u001b[0m\n\u001b[0m\u001b[1;32m   2879\u001b[0m \u001b[0;34m\u001b[0m\u001b[0m\n\u001b[1;32m   2880\u001b[0m         \u001b[0;31m# Do we have a slicer (on rows)?\u001b[0m\u001b[0;34m\u001b[0m\u001b[0;34m\u001b[0m\u001b[0;34m\u001b[0m\u001b[0m\n",
      "\u001b[0;32m/ext/sage/sage-9.2/local/lib/python3.8/site-packages/pandas/core/generic.py\u001b[0m in \u001b[0;36m_get_item_cache\u001b[0;34m(self, item)\u001b[0m\n\u001b[1;32m   3538\u001b[0m             \u001b[0;31m#  pending resolution of GH#33047\u001b[0m\u001b[0;34m\u001b[0m\u001b[0;34m\u001b[0m\u001b[0;34m\u001b[0m\u001b[0m\n\u001b[1;32m   3539\u001b[0m \u001b[0;34m\u001b[0m\u001b[0m\n\u001b[0;32m-> 3540\u001b[0;31m             \u001b[0mloc\u001b[0m \u001b[0;34m=\u001b[0m \u001b[0mself\u001b[0m\u001b[0;34m.\u001b[0m\u001b[0mcolumns\u001b[0m\u001b[0;34m.\u001b[0m\u001b[0mget_loc\u001b[0m\u001b[0;34m(\u001b[0m\u001b[0mitem\u001b[0m\u001b[0;34m)\u001b[0m\u001b[0;34m\u001b[0m\u001b[0;34m\u001b[0m\u001b[0m\n\u001b[0m\u001b[1;32m   3541\u001b[0m             \u001b[0mvalues\u001b[0m \u001b[0;34m=\u001b[0m \u001b[0mself\u001b[0m\u001b[0;34m.\u001b[0m\u001b[0m_mgr\u001b[0m\u001b[0;34m.\u001b[0m\u001b[0miget\u001b[0m\u001b[0;34m(\u001b[0m\u001b[0mloc\u001b[0m\u001b[0;34m)\u001b[0m\u001b[0;34m\u001b[0m\u001b[0;34m\u001b[0m\u001b[0m\n\u001b[1;32m   3542\u001b[0m             \u001b[0mres\u001b[0m \u001b[0;34m=\u001b[0m \u001b[0mself\u001b[0m\u001b[0;34m.\u001b[0m\u001b[0m_box_col_values\u001b[0m\u001b[0;34m(\u001b[0m\u001b[0mvalues\u001b[0m\u001b[0;34m,\u001b[0m \u001b[0mloc\u001b[0m\u001b[0;34m)\u001b[0m\u001b[0;34m\u001b[0m\u001b[0;34m\u001b[0m\u001b[0m\n",
      "\u001b[0;32m/ext/sage/sage-9.2/local/lib/python3.8/site-packages/pandas/core/indexes/range.py\u001b[0m in \u001b[0;36mget_loc\u001b[0;34m(self, key, method, tolerance)\u001b[0m\n\u001b[1;32m    356\u001b[0m                 \u001b[0;32mexcept\u001b[0m \u001b[0mValueError\u001b[0m \u001b[0;32mas\u001b[0m \u001b[0merr\u001b[0m\u001b[0;34m:\u001b[0m\u001b[0;34m\u001b[0m\u001b[0;34m\u001b[0m\u001b[0m\n\u001b[1;32m    357\u001b[0m                     \u001b[0;32mraise\u001b[0m \u001b[0mKeyError\u001b[0m\u001b[0;34m(\u001b[0m\u001b[0mkey\u001b[0m\u001b[0;34m)\u001b[0m \u001b[0;32mfrom\u001b[0m \u001b[0merr\u001b[0m\u001b[0;34m\u001b[0m\u001b[0;34m\u001b[0m\u001b[0m\n\u001b[0;32m--> 358\u001b[0;31m             \u001b[0;32mraise\u001b[0m \u001b[0mKeyError\u001b[0m\u001b[0;34m(\u001b[0m\u001b[0mkey\u001b[0m\u001b[0;34m)\u001b[0m\u001b[0;34m\u001b[0m\u001b[0;34m\u001b[0m\u001b[0m\n\u001b[0m\u001b[1;32m    359\u001b[0m         \u001b[0;32mreturn\u001b[0m \u001b[0msuper\u001b[0m\u001b[0;34m(\u001b[0m\u001b[0;34m)\u001b[0m\u001b[0;34m.\u001b[0m\u001b[0mget_loc\u001b[0m\u001b[0;34m(\u001b[0m\u001b[0mkey\u001b[0m\u001b[0;34m,\u001b[0m \u001b[0mmethod\u001b[0m\u001b[0;34m=\u001b[0m\u001b[0mmethod\u001b[0m\u001b[0;34m,\u001b[0m \u001b[0mtolerance\u001b[0m\u001b[0;34m=\u001b[0m\u001b[0mtolerance\u001b[0m\u001b[0;34m)\u001b[0m\u001b[0;34m\u001b[0m\u001b[0;34m\u001b[0m\u001b[0m\n\u001b[1;32m    360\u001b[0m \u001b[0;34m\u001b[0m\u001b[0m\n",
      "\u001b[0;31mKeyError\u001b[0m: 0"
     ]
    }
   ],
   "source": [
    "df[0]"
   ]
  },
  {
   "cell_type": "code",
   "execution_count": 65,
   "metadata": {
    "collapsed": false
   },
   "outputs": [
    {
     "data": {
      "text/plain": [
       "0     0.0\n",
       "1     0.0\n",
       "2     0.0\n",
       "3     0.0\n",
       "4     0.0\n",
       "     ... \n",
       "61    1.0\n",
       "62    1.0\n",
       "63    1.0\n",
       "64    1.0\n",
       "65    1.0\n",
       "Name: 0, Length: 66, dtype: float64"
      ]
     },
     "execution_count": 65,
     "metadata": {
     },
     "output_type": "execute_result"
    }
   ],
   "source": [
    "df[int(0)]"
   ]
  },
  {
   "cell_type": "markdown",
   "metadata": {
    "collapsed": false
   },
   "source": [
    "pandas doesn't know how to use Sage integers, so it freaks out. You can fix this by calling \"int\" everywhere, or..."
   ]
  },
  {
   "cell_type": "code",
   "execution_count": 66,
   "metadata": {
    "collapsed": false
   },
   "outputs": [
   ],
   "source": [
    "preparser(False)"
   ]
  },
  {
   "cell_type": "markdown",
   "metadata": {
    "collapsed": false
   },
   "source": [
    "Now life works:"
   ]
  },
  {
   "cell_type": "code",
   "execution_count": 0,
   "metadata": {
    "collapsed": false
   },
   "outputs": [
   ],
   "source": [
    "df[0]"
   ]
  },
  {
   "cell_type": "code",
   "execution_count": 0,
   "metadata": {
    "collapsed": false
   },
   "outputs": [
   ],
   "source": [
    "preparser(True)"
   ]
  },
  {
   "cell_type": "code",
   "execution_count": 0,
   "metadata": {
    "collapsed": false
   },
   "outputs": [
   ],
   "source": [
    "type(0)"
   ]
  },
  {
   "cell_type": "code",
   "execution_count": 0,
   "metadata": {
    "collapsed": false
   },
   "outputs": [
   ],
   "source": [
    "preparser(False)"
   ]
  },
  {
   "cell_type": "code",
   "execution_count": 0,
   "metadata": {
    "collapsed": false
   },
   "outputs": [
   ],
   "source": [
    "type(0)"
   ]
  },
  {
   "cell_type": "markdown",
   "metadata": {
    "collapsed": false
   },
   "source": [
    "## Back to reality\n",
    "\n",
    "Ok, we've got the data, the preparser is off, now what are these \"classifiers\" we're going to use?! The earliest classifiers people usually learn about come out of *logistic regressions* which some of you are doing for your final project, so I'll skip those! Here are three new classifiers which are \"medium to advanced\" level...\n",
    "- Support Vector Machines: Find the \"best\" hyperplane which splits your data, and then classify points based on which side of the hyperplane they lie on\n",
    "- Decision Trees: Ask a bunch of yes/no questions about the data and classify based on the answers\n",
    "- Random Forests: Put a bunch of decision trees together and use \"majority rules\"\n",
    "\n",
    "There is a lot to learn here which I will not really discuss; the important thing is that *even if you don't know what these are, you can use them fairly easily*"
   ]
  },
  {
   "cell_type": "code",
   "execution_count": 67,
   "metadata": {
    "collapsed": false
   },
   "outputs": [
   ],
   "source": [
    "from sklearn import svm\n",
    "clf = svm.SVC()"
   ]
  },
  {
   "cell_type": "code",
   "execution_count": 68,
   "metadata": {
    "collapsed": false
   },
   "outputs": [
    {
     "data": {
      "text/plain": [
       "SVC()"
      ]
     },
     "execution_count": 68,
     "metadata": {
     },
     "output_type": "execute_result"
    }
   ],
   "source": [
    "clf.fit(df[[i for i in range(1,15)]], df[0])"
   ]
  },
  {
   "cell_type": "code",
   "execution_count": 69,
   "metadata": {
    "collapsed": false
   },
   "outputs": [
    {
     "data": {
      "text/plain": [
       "array([0.])"
      ]
     },
     "execution_count": 69,
     "metadata": {
     },
     "output_type": "execute_result"
    }
   ],
   "source": [
    "clf.predict([df.iloc[4,1:]])"
   ]
  },
  {
   "cell_type": "code",
   "execution_count": 70,
   "metadata": {
    "collapsed": false
   },
   "outputs": [
   ],
   "source": [
    "testing = []\n",
    "for paper in authors['HAMILTON OR MADISON']:\n",
    "    counts = {word:0 for word in language}\n",
    "    for word in nltk.word_tokenize(paper):\n",
    "        counts[word.lower()]+=1\n",
    "    total = sum(counts.values())\n",
    "    testing.append([float(counts[word]/total) for word in markers])\n",
    "testdf = pd.DataFrame(testing)"
   ]
  },
  {
   "cell_type": "code",
   "execution_count": 71,
   "metadata": {
    "collapsed": false
   },
   "outputs": [
    {
     "data": {
      "text/html": [
       "<div>\n",
       "<style scoped>\n",
       "    .dataframe tbody tr th:only-of-type {\n",
       "        vertical-align: middle;\n",
       "    }\n",
       "\n",
       "    .dataframe tbody tr th {\n",
       "        vertical-align: top;\n",
       "    }\n",
       "\n",
       "    .dataframe thead th {\n",
       "        text-align: right;\n",
       "    }\n",
       "</style>\n",
       "<table border=\"1\" class=\"dataframe\">\n",
       "  <thead>\n",
       "    <tr style=\"text-align: right;\">\n",
       "      <th></th>\n",
       "      <th>0</th>\n",
       "      <th>1</th>\n",
       "      <th>2</th>\n",
       "      <th>3</th>\n",
       "      <th>4</th>\n",
       "      <th>5</th>\n",
       "      <th>6</th>\n",
       "      <th>7</th>\n",
       "      <th>8</th>\n",
       "      <th>9</th>\n",
       "      <th>10</th>\n",
       "      <th>11</th>\n",
       "      <th>12</th>\n",
       "      <th>13</th>\n",
       "    </tr>\n",
       "  </thead>\n",
       "  <tbody>\n",
       "    <tr>\n",
       "      <th>0</th>\n",
       "      <td>0.008705</td>\n",
       "      <td>0.000000</td>\n",
       "      <td>0.001088</td>\n",
       "      <td>0.000544</td>\n",
       "      <td>0.0</td>\n",
       "      <td>0.000000</td>\n",
       "      <td>0.0</td>\n",
       "      <td>0.000000</td>\n",
       "      <td>0.000000</td>\n",
       "      <td>0.001088</td>\n",
       "      <td>0.0</td>\n",
       "      <td>0.001088</td>\n",
       "      <td>0.001088</td>\n",
       "      <td>0.0</td>\n",
       "    </tr>\n",
       "    <tr>\n",
       "      <th>1</th>\n",
       "      <td>0.008737</td>\n",
       "      <td>0.000000</td>\n",
       "      <td>0.000000</td>\n",
       "      <td>0.000000</td>\n",
       "      <td>0.0</td>\n",
       "      <td>0.000000</td>\n",
       "      <td>0.0</td>\n",
       "      <td>0.000794</td>\n",
       "      <td>0.000794</td>\n",
       "      <td>0.000000</td>\n",
       "      <td>0.0</td>\n",
       "      <td>0.000000</td>\n",
       "      <td>0.001589</td>\n",
       "      <td>0.0</td>\n",
       "    </tr>\n",
       "    <tr>\n",
       "      <th>2</th>\n",
       "      <td>0.009882</td>\n",
       "      <td>0.002353</td>\n",
       "      <td>0.001412</td>\n",
       "      <td>0.000941</td>\n",
       "      <td>0.0</td>\n",
       "      <td>0.000941</td>\n",
       "      <td>0.0</td>\n",
       "      <td>0.000000</td>\n",
       "      <td>0.000000</td>\n",
       "      <td>0.001882</td>\n",
       "      <td>0.0</td>\n",
       "      <td>0.000471</td>\n",
       "      <td>0.001882</td>\n",
       "      <td>0.0</td>\n",
       "    </tr>\n",
       "    <tr>\n",
       "      <th>3</th>\n",
       "      <td>0.009197</td>\n",
       "      <td>0.003872</td>\n",
       "      <td>0.000000</td>\n",
       "      <td>0.000000</td>\n",
       "      <td>0.0</td>\n",
       "      <td>0.000000</td>\n",
       "      <td>0.0</td>\n",
       "      <td>0.000000</td>\n",
       "      <td>0.000000</td>\n",
       "      <td>0.000000</td>\n",
       "      <td>0.0</td>\n",
       "      <td>0.000000</td>\n",
       "      <td>0.000000</td>\n",
       "      <td>0.0</td>\n",
       "    </tr>\n",
       "    <tr>\n",
       "      <th>4</th>\n",
       "      <td>0.003303</td>\n",
       "      <td>0.003716</td>\n",
       "      <td>0.000000</td>\n",
       "      <td>0.000413</td>\n",
       "      <td>0.0</td>\n",
       "      <td>0.000000</td>\n",
       "      <td>0.0</td>\n",
       "      <td>0.000413</td>\n",
       "      <td>0.000000</td>\n",
       "      <td>0.000826</td>\n",
       "      <td>0.0</td>\n",
       "      <td>0.001239</td>\n",
       "      <td>0.000826</td>\n",
       "      <td>0.0</td>\n",
       "    </tr>\n",
       "  </tbody>\n",
       "</table>\n",
       "</div>"
      ],
      "text/plain": [
       "         0         1         2         3    4         5    6         7   \\\n",
       "0  0.008705  0.000000  0.001088  0.000544  0.0  0.000000  0.0  0.000000   \n",
       "1  0.008737  0.000000  0.000000  0.000000  0.0  0.000000  0.0  0.000794   \n",
       "2  0.009882  0.002353  0.001412  0.000941  0.0  0.000941  0.0  0.000000   \n",
       "3  0.009197  0.003872  0.000000  0.000000  0.0  0.000000  0.0  0.000000   \n",
       "4  0.003303  0.003716  0.000000  0.000413  0.0  0.000000  0.0  0.000413   \n",
       "\n",
       "         8         9    10        11        12   13  \n",
       "0  0.000000  0.001088  0.0  0.001088  0.001088  0.0  \n",
       "1  0.000794  0.000000  0.0  0.000000  0.001589  0.0  \n",
       "2  0.000000  0.001882  0.0  0.000471  0.001882  0.0  \n",
       "3  0.000000  0.000000  0.0  0.000000  0.000000  0.0  \n",
       "4  0.000000  0.000826  0.0  0.001239  0.000826  0.0  "
      ]
     },
     "execution_count": 71,
     "metadata": {
     },
     "output_type": "execute_result"
    }
   ],
   "source": [
    "testdf.head()"
   ]
  },
  {
   "cell_type": "code",
   "execution_count": 72,
   "metadata": {
    "collapsed": false
   },
   "outputs": [
    {
     "data": {
      "text/plain": [
       "array([0., 0., 0., 0., 1., 0., 1., 0., 0., 0., 0.])"
      ]
     },
     "execution_count": 72,
     "metadata": {
     },
     "output_type": "execute_result"
    }
   ],
   "source": [
    "clf.predict(testdf)"
   ]
  },
  {
   "cell_type": "markdown",
   "metadata": {
    "collapsed": false
   },
   "source": [
    "It looks like the SVM thinks most of these were written by Madison!\n",
    "\n",
    "How about the Decision Tree?"
   ]
  },
  {
   "cell_type": "code",
   "execution_count": 74,
   "metadata": {
    "collapsed": false
   },
   "outputs": [
    {
     "data": {
      "text/plain": [
       "DecisionTreeClassifier(random_state=0)"
      ]
     },
     "execution_count": 74,
     "metadata": {
     },
     "output_type": "execute_result"
    }
   ],
   "source": [
    "from sklearn.tree import DecisionTreeClassifier\n",
    "clf = DecisionTreeClassifier(random_state=0)\n",
    "clf.fit(df[[i for i in range(1,15)]], df[0])"
   ]
  },
  {
   "cell_type": "code",
   "execution_count": 75,
   "metadata": {
    "collapsed": false
   },
   "outputs": [
    {
     "data": {
      "text/plain": [
       "array([0., 0., 0., 0., 0., 1., 0., 0., 0., 0., 0.])"
      ]
     },
     "execution_count": 75,
     "metadata": {
     },
     "output_type": "execute_result"
    }
   ],
   "source": [
    "clf.predict(testdf)"
   ]
  },
  {
   "cell_type": "markdown",
   "metadata": {
    "collapsed": false
   },
   "source": [
    "The decision tree agrees!\n",
    "\n",
    "What about the random forest?"
   ]
  },
  {
   "cell_type": "code",
   "execution_count": 76,
   "metadata": {
    "collapsed": false
   },
   "outputs": [
    {
     "data": {
      "text/plain": [
       "RandomForestClassifier(random_state=0)"
      ]
     },
     "execution_count": 76,
     "metadata": {
     },
     "output_type": "execute_result"
    }
   ],
   "source": [
    "from sklearn.ensemble import RandomForestClassifier\n",
    "clf = RandomForestClassifier(random_state=0)\n",
    "clf.fit(df[[i for i in range(1,15)]], df[int(0)])"
   ]
  },
  {
   "cell_type": "code",
   "execution_count": 77,
   "metadata": {
    "collapsed": false
   },
   "outputs": [
    {
     "data": {
      "text/plain": [
       "array([0., 0., 0., 0., 0., 0., 0., 0., 0., 0., 0.])"
      ]
     },
     "execution_count": 77,
     "metadata": {
     },
     "output_type": "execute_result"
    }
   ],
   "source": [
    "clf.predict(testdf)"
   ]
  },
  {
   "cell_type": "markdown",
   "metadata": {
    "collapsed": false
   },
   "source": [
    "From our preliminary analysis of marker words, it seems that *Madison* wrote the disputed Federalist Papers, not Hamilton. Cool!"
   ]
  },
  {
   "cell_type": "markdown",
   "metadata": {
    "collapsed": false
   },
   "source": [
    "## Time Permitting: Let's see how good Google is at human language!"
   ]
  },
  {
   "cell_type": "markdown",
   "metadata": {
    "collapsed": false
   },
   "source": [
    "## Next Time: Word Embeddings"
   ]
  }
 ],
 "metadata": {
  "kernelspec": {
   "display_name": "SageMath 9.2",
   "language": "sagemath",
   "metadata": {
    "cocalc": {
     "description": "Open-source mathematical software system",
     "priority": 10,
     "url": "https://www.sagemath.org/"
    }
   },
   "name": "sage-9.2",
   "resource_dir": "/ext/jupyter/kernels/sage-9.2"
  },
  "language_info": {
   "codemirror_mode": {
    "name": "ipython",
    "version": 3
   },
   "file_extension": ".py",
   "mimetype": "text/x-python",
   "name": "python",
   "nbconvert_exporter": "python",
   "pygments_lexer": "ipython3",
   "version": "3.8.5"
  }
 },
 "nbformat": 4,
 "nbformat_minor": 4
}