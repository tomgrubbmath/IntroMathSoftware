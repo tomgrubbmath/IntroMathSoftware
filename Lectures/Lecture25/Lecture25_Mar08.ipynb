{
 "cells": [
  {
   "cell_type": "markdown",
   "metadata": {
    "collapsed": false
   },
   "source": [
    "## Lecture 25: Course Wrap Up\n",
    "\n",
    "\n",
    "### Please note: This lecture will be recorded and made available for viewing online. If you do not wish to be recorded, please adjust your camera settings accordingly. \n",
    "\n",
    "# Reminders/Announcements:\n",
    "- Today will be the last official lecture for Math 157, Winter 2021. \n",
    "- *Please still take the time to fill out CAPES/TA evals* if you have not done so!\n",
    "- Final Projects will be *collected at 8pm Pacific on Wednesday, March 17th*. Presentations need to be done *before that*.\n"
   ]
  },
  {
   "cell_type": "markdown",
   "metadata": {
    "collapsed": false
   },
   "source": [
    "## Final Project Summary (Ask your questions during this if you have them!!!)\n",
    "\n",
    "Let's take a brief look at my mock 157 student to make sure we are all on the same page regarding final projects.\n",
    "\n",
    "## ***** Participation Check **************\n",
    "\n",
    "This participation check is *for you* to determine how close you are to finishing your 157 project. It is not important for you to have finished all of these currently, but hopefully it can be used as a good organizational tool for you. For each of these, answer Yes or No on the corresponding line. This is not an exhaustive checklist, but it's a good start:\n",
    "\n",
    "- My final project directory has a presentation file and two feedback files\n",
    "    - Answer:\n",
    "- I have reached out to my group and scheduled a time to present:\n",
    "    - Answer:\n",
    "- I understand and have defined the *main theorem/definition/algorithm/tool/etc* which is relevant to my project topic:\n",
    "    - Answer:\n",
    "- I have *at least one* relevant code example in my presentation which highlights the theory:\n",
    "    - Answer:\n",
    "- My presentation seems *close to* the length of a normal 157 lecture (it can be a bit shorter, but remember: the goal is 40-50 minutes)\n",
    "    - Answer:\n",
    "- I included a *visualization* in my presentation, like a graph, chart, table, picture, etc. (This is not *necessary*, but is a *really good idea* to help make your presentation more digestible. A picture is worth a thousand words!)\n",
    "    - Answer:\n",
    "- My presentation contains a ~2 minute participation check which is *relevant to* and *builds on* my lecture\n",
    "    - Answer:\n",
    "- I have my *first* exercise typed out and solved. It is relevant to my topic and at roughly the same level as a Math 157 exercise:\n",
    "    - Answer:\n",
    "- I have my *second* exercise typed out and solved. It is relevant to my topic and at roughly the same level as a Math 157 exercise:\n",
    "    - Answer:\n",
    "## *****************************************"
   ]
  },
  {
   "cell_type": "markdown",
   "metadata": {
    "collapsed": false
   },
   "source": [
    "Here are two good resources for scientific/mathematical presentations, if you want some more help:\n",
    "- Terry Tao's Blog: https://terrytao.wordpress.com/career-advice/talks-are-not-the-same-as-papers/\n",
    "- Gian Carlo Rota's \"Ten Lessons I Wish I Had Been Taught\" : https://www.ams.org/notices/199701/comm-rota.pdf"
   ]
  },
  {
   "cell_type": "markdown",
   "metadata": {
    "collapsed": false
   },
   "source": [
    "## Math 157: A Summary\n",
    "\n",
    "Looking back on the quarter it is easy to get lost on \"what we did.\" If you think about it, this was a course on...\n",
    "- Programming\n",
    "- Visualization\n",
    "- Linear Algebra\n",
    "- Calculus\n",
    "- Discrete Mathematics\n",
    "- Graph Theory\n",
    "- Number Theory\n",
    "- Cryptography\n",
    "- Statistics\n",
    "- Natural Language Processing\n",
    "- Machine Learning\n",
    "- ..."
   ]
  },
  {
   "cell_type": "markdown",
   "metadata": {
    "collapsed": false
   },
   "source": [
    "I hope that all of you found at least one topic that interested you. But truthfully, the topics themselves are less important than the *theme* of this class: problem solving with technology. Being computer literate in this day and age is one of the most critical skills you can leave UCSD with. Here is a real life example. \n",
    "\n",
    "My cousin is a lawyer in Minnesota. She spent \n",
    "- 4 years in undergrad\n",
    "- 3 years in law school\n",
    "- several summers interning\n",
    "- several months studying for/passing the bar. \n",
    "\n",
    "When she got her first job at Big Law Firms R Us, she *literally* was given the task of going into a directory containing loads of law related files (precedent, case history, etc.) and *renaming the files* by hand. \n",
    "\n",
    "I don't know her exact pay rate, but *I can guarantee you* that Big Law Firms R Us were wasting *an absurd* amount of money paying for her to do this. After several months of this being part of her responsibility, her husband convinced her to tell IT to write a script for this. It took ~15 minutes."
   ]
  },
  {
   "cell_type": "markdown",
   "metadata": {
    "collapsed": false
   },
   "source": [
    "## Problem Solving with Technology\n",
    "\n",
    "Throughout this class we have been learning how to problem solve with technology. I hope that the questions were slightly more interesting than simply renaming the files in a directory, but truthfully the techniques for solving them are very similar:\n",
    "- Identify the *overarching problem/goal*\n",
    "    - Rename a file\n",
    "    - Compute some information about an electrical network\n",
    "    - Securely send information to someone\n",
    "    - Visualize/find trends in a dataset\n",
    "- Identify the *key hangups*\n",
    "    - There are too many files to do this by hand\n",
    "    - There are a lot of power stations/connections in the network (even using a computer)\n",
    "    - The information needs to be sent *quickly* and there is no prior communication allowed\n",
    "    - The dataset is noisy/missing some information\n",
    "- Identify the *right tools/data structures* to help analyze the problem\n",
    "    - Python's OS module\n",
    "    - Create a discrete graph with nodes given by stations and edges given by connections\n",
    "    - Perhaps we can use a key exchange to establish a symmetric key cipher; maybe RSA would work\n",
    "    - Pandas to read and handle the data, ScikitLearn to analyze it?\n",
    "- Read through the documentation/online resources to find out how this works in practice. Keep in mind things like:\n",
    "    - Online Q&A sites (if you have a problem, someone else has probably had it before as well):\n",
    "        - StackOverflow\n",
    "        - MathStackExchange\n",
    "        - Quora\n",
    "        - CryptoStackExchange\n",
    "        - CrossValidated (StatsStackExchange)\n",
    "        - ...\n",
    "    - Documentation\n",
    "        - Even just clever Googling will lead you to the right place eventually\n",
    "        - Introspection can be useful!\n",
    "    - Databases\n",
    "        - OEIS: http://oeis.org/\n",
    "        - LMFDB: https://www.lmfdb.org/\n",
    "        - ...\n",
    "    - *Occasionally* go to more serious references, such as:\n",
    "        - NIST Cryptographic Standards\n",
    "        - Publications in ML/CS/Math\n",
    "- Experiment!\n",
    "    - Instead of working with files in a directory, first try renaming strings in a list\n",
    "    - Start with 5% of the network, instead of the entire network\n",
    "    - Play around with different values for your scheme and make sure there are no obvious weaknesses\n",
    "    - Start by analyzing ~1% of your data\n",
    "- Implement a *first pass* at a solution\n",
    "    - os.rename()\n",
    "    - find a minimal spanning tree in the graph\n",
    "    - use RSA to get a symmetric key, go from there\n",
    "    - impute data, plot, linear regression, etc.\n",
    "- Maybe this is good enough! Maybe you need more subtle analysis for speedups, etc.\n",
    "    - Optimize your code for efficiency if you need it to run over and over and over again\n",
    "        - Cython\n",
    "        - Profile your code: prun, lprun\n",
    "        - Parallelize?\n",
    "    - Maybe you cannot find a *perfect* solution.\n",
    "        - Random/approximate structures and algorithms can be *very good*"
   ]
  },
  {
   "cell_type": "markdown",
   "metadata": {
    "collapsed": false
   },
   "source": [
    "## Let's be Lawyers\n",
    "\n",
    "A useful tool to know is how to interact with the os in Python. This is given by the `os` library. This lets you use Python instead of shell in many instances.\n",
    "\n",
    "In particular, you can iterate over the files in a directory using the `walk` function:"
   ]
  },
  {
   "cell_type": "code",
   "execution_count": 2,
   "metadata": {
    "collapsed": false
   },
   "outputs": [
    {
     "name": "stdout",
     "output_type": "stream",
     "text": [
      "('.', ['law'], ['Lecture25_Mar08.ipynb', '.Lecture25_Mar08.ipynb.sage-jupyter2'])\n",
      "('./law', [], ['lawFile2Smith.txt', 'lawFile1Grubb.txt', 'lawFile15Bunge.txt'])\n"
     ]
    }
   ],
   "source": [
    "import os\n",
    "for data in os.walk('.'):\n",
    "    print(data)"
   ]
  },
  {
   "cell_type": "markdown",
   "metadata": {
    "collapsed": false
   },
   "source": [
    "To interpret this, each tuple has:\n",
    "- the current directory name\n",
    "- the list of subdirectories\n",
    "- the files in the current directory"
   ]
  },
  {
   "cell_type": "markdown",
   "metadata": {
    "collapsed": false
   },
   "source": [
    "Let's say we wanted to \"anonymize\" the law files by replacing each name with a string of XXXXXXs of the same length. So \n",
    "`lawFile1Grubb.txt` -> `lawFile1XXXXX.txt`"
   ]
  },
  {
   "cell_type": "markdown",
   "metadata": {
    "collapsed": false
   },
   "source": [
    "## ***** LAST PARTICIPATION CHECK OF 157 :( ****************\n",
    "Write a function `anonymize(lawStr)` which achieves this. Be careful! The \"prefix\" may have varying length if the number is large!"
   ]
  },
  {
   "cell_type": "code",
   "execution_count": 7,
   "metadata": {
    "collapsed": false
   },
   "outputs": [
   ],
   "source": [
    "def anonymize(lawStr):\n",
    "    return(lawStr[1:])"
   ]
  },
  {
   "cell_type": "markdown",
   "metadata": {
    "collapsed": false
   },
   "source": [
    "## *******************************************************"
   ]
  },
  {
   "cell_type": "markdown",
   "metadata": {
    "collapsed": false
   },
   "source": [
    "*Important*: Before we actually mess up our directory, we better make sure it works how it should! Unit testing is crucial to not mess things up in the real world:"
   ]
  },
  {
   "cell_type": "code",
   "execution_count": 0,
   "metadata": {
    "collapsed": false
   },
   "outputs": [
   ],
   "source": [
    "anonymize('lawFile1Grubb.txt')"
   ]
  },
  {
   "cell_type": "code",
   "execution_count": 0,
   "metadata": {
    "collapsed": false
   },
   "outputs": [
   ],
   "source": [
    "anonymize('lawFile675Stevenson.txt')"
   ]
  },
  {
   "cell_type": "markdown",
   "metadata": {
    "collapsed": false
   },
   "source": [
    "Ok! Let's do it! The `os` module has a `rename` function (which is essentially just the `mv` function if you know terminal commands)"
   ]
  },
  {
   "cell_type": "code",
   "execution_count": 8,
   "metadata": {
    "collapsed": false
   },
   "outputs": [
   ],
   "source": [
    "for data in os.walk('.'):\n",
    "    if data[0] == './law':\n",
    "        for file in data[2]:\n",
    "            os.rename(data[0]+'/'+file,data[0]+'/'+anonymize(file))"
   ]
  },
  {
   "cell_type": "markdown",
   "metadata": {
    "collapsed": false
   },
   "source": [
    "Boom. We're all lawyers now."
   ]
  },
  {
   "cell_type": "markdown",
   "metadata": {
    "collapsed": false
   },
   "source": [
    "## Where to go from here?\n",
    "\n",
    "Depending on your interests, you could follow up this class with more extensive study of a particular topic. But here are some things that I think are *new* and would be fun to study up on if you just want to keep exploring:\n",
    "- APIs and bots: You can't do this in CoCalc easily, but I can show you on my local machine!\n",
    "    - Tweepy is a good one for twitter\n",
    "- Topological Data Analysis: You can't do this in CoCalc easily, but I can show you on my local machine!\n",
    "    - ripser is a good Python package\n",
    "- Game development/analysis\n",
    "    - pygame for game development in Python\n",
    "    - alphazero/alphago/stockfish etc.\n",
    "- Web development/Web apps\n",
    "    - flask, jinja, etc.\n",
    "- Databases\n",
    "    - MongoDB, SQL, etc."
   ]
  }
 ],
 "metadata": {
  "kernelspec": {
   "display_name": "SageMath 9.2",
   "language": "sagemath",
   "metadata": {
    "cocalc": {
     "description": "Open-source mathematical software system",
     "priority": 10,
     "url": "https://www.sagemath.org/"
    }
   },
   "name": "sage-9.2",
   "resource_dir": "/ext/jupyter/kernels/sage-9.2"
  }
 },
 "nbformat": 4,
 "nbformat_minor": 4
}