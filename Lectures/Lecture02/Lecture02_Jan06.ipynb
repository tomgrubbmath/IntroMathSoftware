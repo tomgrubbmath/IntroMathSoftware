{
 "cells": [
  {
   "cell_type": "markdown",
   "metadata": {
    "collapsed": false
   },
   "source": [
    "# Lecture 02: Jupyter Notebooks, Markdown, and LaTex\n",
    "\n",
    "### Please note: This lecture will be recorded and made available for viewing online. If you do not wish to be recorded, please adjust your camera settings accordingly. "
   ]
  },
  {
   "cell_type": "markdown",
   "metadata": {
    "collapsed": false
   },
   "source": [
    "# Reminders:\n",
    "\n",
    "![bernie](bernie.png)\n",
    "\n",
    "- If you do not have access to an upgraded 157 Project, email me or a TA as soon as possible.\n",
    "- Assignment 0 will be \"collected\" on Sunday night (Jan 10) at 8pm. This is not for a grade, but *please* do it! It serves two major purposes:\n",
    "    - Makes sure everyone understands how the homework process works, so that when things *are* graded there will be no (or at least, less) confusion\n",
    "    - Helps me understand your backgrounds so that I can tailor the class to you\n",
    "- Remember to look for Participation Checks throughout this lecture! As with Assignment 0, participation will not be graded until next week's lectures. But it will be good to get in the habit of doing these, as eventually they *will* be graded!\n",
    "- You can edit/play around with this file as much as you want throughout the lecture. It will not change anyone else's lecture file.\n",
    "- Please ask questions in the chat if you have any!"
   ]
  },
  {
   "cell_type": "markdown",
   "metadata": {
    "collapsed": false
   },
   "source": [
    "# What are Jupyter Notebooks?\n",
    "\n",
    "From the [Jupyter website](https://jupyter.org/): \"The Jupyter Notebook is an open-source web application that allows you to create and share documents that contain live code, equations, visualizations and narrative text. Uses include: data cleaning and transformation, numerical simulation, statistical modeling, data visualization, machine learning, and much more.\"\n",
    "\n",
    "Think Microsoft Word but for STEM folks. \n",
    "\n",
    "Jupyter Notebooks look a little complicated at first, but they are *very* nice to use once you get used to it.\n",
    "- You can format very complicated mathematics using builtin LaTex rendering: $$\\frac{d}{dx}\\int_{a}^x f(t) dt = f(x).$$\n",
    "- When set up correctly, code cells in multiple different programming languages (C, Python, R, Julia, SageMath, ...) can run in the *same* document.\n",
    "- Text, code, and equation can be split into \"cells,\" allowing for easy organization of your document.\n",
    "- ...\n",
    "\n",
    "Thankfully, the Cocalc platform *includes* Jupyter Notebook functionality in it. There is *very little* that you have to set up personally!"
   ]
  },
  {
   "cell_type": "markdown",
   "metadata": {
    "collapsed": false
   },
   "source": [
    "# Jupyter Basics\n",
    "\n",
    "Jupyter Notebooks allow for three different types of cell: markdown, code, and raw. To view the details of a cell, click on it and look in the top toolbar:\n",
    "\n",
    "![Cell Type](markdown.png)\n",
    "\n"
   ]
  },
  {
   "cell_type": "markdown",
   "metadata": {
    "collapsed": false
   },
   "source": [
    "A markdown cell is one which allows text formatting. You can also include images, hyperlinks, etc. This text is written in a markdown cell. Markdown differs from something like a Word Document or a text file, in that the markdown is *processed* to allow for formatting of equations, etc. To process a markdown cell, one hits Shift+Enter.\n",
    "\n",
    "A code cell is one which allows execution of programs. In a code cell one types in code as one normally would in a general IDE. To execute a code cell, one hits Shift+Enter. See below for an example:"
   ]
  },
  {
   "cell_type": "code",
   "execution_count": 0,
   "metadata": {
    "collapsed": false
   },
   "outputs": [
   ],
   "source": [
    "ListOfNumbers = [1,2,3,4,5]\n",
    "for number in ListOfNumbers:\n",
    "    print(number**2)"
   ]
  },
  {
   "cell_type": "markdown",
   "metadata": {
    "collapsed": false
   },
   "source": [
    "The final type of cell is a raw cell. For the purposes of this class, *you do not have to ever worry about raw cells*. They allow one to format \"code-like\" text that will not execute, like below:"
   ]
  },
  {
   "cell_type": "raw",
   "metadata": {
    "collapsed": false
   },
   "source": [
    "ListOfNumbers = [1,2,3,4,5]\n",
    "for number in ListOfNumbers:\n",
    "    print(number**2)"
   ]
  },
  {
   "cell_type": "markdown",
   "metadata": {
    "collapsed": false
   },
   "source": [
    "Note that nothing printed to the screen after \"executing\" the above cell."
   ]
  },
  {
   "cell_type": "markdown",
   "metadata": {
    "collapsed": false
   },
   "source": [
    "# *** Participation Check ***\n",
    "There is a blank code cell below. \n",
    "- Using the Jupyter drop down menu, change the code cell into a markdown cell. \n",
    "- Input some text into the markdown cell, and hit Shift+Enter to evaluate.\n",
    "- Add a photo into the markdown cell. Hint: I have added several pictures into this lecture; you can copy that format. Perhaps you can find out what is in the very important SecretPhoto.png file this way..."
   ]
  },
  {
   "cell_type": "code",
   "execution_count": 0,
   "metadata": {
    "collapsed": false
   },
   "outputs": [
   ],
   "source": [
   ]
  },
  {
   "cell_type": "markdown",
   "metadata": {
    "collapsed": false
   },
   "source": [
    "# ****************************"
   ]
  },
  {
   "cell_type": "markdown",
   "metadata": {
    "collapsed": false
   },
   "source": [
    "# TimeTravel\n",
    "\n",
    "Cocalc allows for very easy version control using the *Time Travel* feature. Think of this as a very simple \"version control\" for your personal files. \n",
    "\n",
    "When a file is being edited, Cocalc takes \"snapshots\" every second (roughly). These snapshots are then saved, so that you can revert a file back to a previous state. In particular, if you make a big mistake (delete something, try to improve your code but actually end up ruining it, ...) or edit a file and want to go back to its original state, you can do so very easily!"
   ]
  },
  {
   "cell_type": "markdown",
   "metadata": {
    "collapsed": false
   },
   "source": [
    "# *** Participation Check ***\n",
    "- Double click on this participation check cell, and make edits to the bottom of it (delete some text, add some text, whatever you want!). \n",
    "- Try clicking on ![the TimeTravel button](TimeTravel.png) near the top of the window. \n",
    "- Using the scroll bar, find a state of this file *before* you made these edits.\n",
    "- Try to revert your file to this state by clicking on the \"Revert\" button.\n",
    "# ****************************"
   ]
  },
  {
   "cell_type": "markdown",
   "metadata": {
    "collapsed": false
   },
   "source": [
    "Note: When/if you copy a file to a different location, the edit history is *not copied by default*. So for instance, you will not see my personal edit history of this lecture file."
   ]
  },
  {
   "cell_type": "markdown",
   "metadata": {
    "collapsed": false
   },
   "source": [
    "# Markdown Formatting\n",
    "For more information, see here: https://www.markdownguide.org/basic-syntax/\n",
    "\n",
    "Similar to HTML, Markdown is a language for producing formatted text using a plain text editor (like this).\n",
    "\n",
    "Markdown is in contrast to a *what you see is what you get* format: https://en.wikipedia.org/wiki/WYSIWYG . In other words, if I type in two dollar signs surrounding a letter x, I get: $x$  \n",
    "as opposed to \\$x\\$\n",
    "\n",
    "In this class Markdown is not a critical skill to pick up; but, it is useful to know that it exists."
   ]
  },
  {
   "cell_type": "markdown",
   "metadata": {
    "collapsed": false
   },
   "source": [
    "# LaTex Formatting\n",
    "\n",
    "LaTex is similar to Markdown in that it allows one to format text. LaTex is particularly useful for mathematical and scientific documents. In Jupyter notebook, markdown cells will also evaluate basic LaTex code.\n",
    "\n",
    "The short introduction to LaTex is as follows: Normal text in LaTex appears like you think it would in a Microsoft Document. You can enter *math mode* by surrounding a piece of text with dollar signs. There are two basic math modes: \n",
    "- Inline math mode (single dollar signs): used for formatting basic math, such as $x^2 = y+6$.\n",
    "- Displayed math mode (double dollar signs): used for formatting longer equations, such as $$\\sum_{k=1}^\\infty \\frac{1}{k(k+1)} = 1. $$\n",
    "\n",
    "In math mode you can display various signs and symbols using a slash together with their operator name. For instance, the greek letters can be written as a forward slash, followed by their name:\n",
    "$$\n",
    "\\alpha,\\beta,\\gamma,\\delta,\\epsilon,\\dots\n",
    "$$"
   ]
  },
  {
   "cell_type": "markdown",
   "metadata": {
    "collapsed": false
   },
   "source": [
    "Their capital versions are written the same way, but with their name capitalized:\n",
    "$$\n",
    "\\Alpha, \\Beta, \\Gamma, \\Delta, \\Epsilon, \\dots\n",
    "$$"
   ]
  },
  {
   "cell_type": "markdown",
   "metadata": {
    "collapsed": false
   },
   "source": [
    "Figuring out the operator name can be difficult unless you have used LaTex for a while. A useful resource is [Detexify](https://detexify.kirelabs.org/classify.html).\n",
    "\n",
    "$$\n",
    "\\rightarrow\n",
    "$$\n",
    "\n",
    "Three useful operators are the fraction, sum, and integral symbols: \n",
    "$$\n",
    "\\frac{a}{b},\\;\\sum, \\;\\int.\n",
    "$$\n",
    "You can add limits to them with an underscore and a carat:\n",
    "\n",
    "$$\n",
    "\\sum_{k=1}^{\\infty}\\frac{1}{k^2} = \\frac{\\pi^2}{6}.\n",
    "$$\n",
    "$$\n",
    "\\int_{t = 0}^{t = 12}\\sin(t)dt \\approx .15.\n",
    "$$\n",
    "\n"
   ]
  },
  {
   "cell_type": "markdown",
   "metadata": {
    "collapsed": false
   },
   "source": [
    "Carats also allow for exponentiation:\n",
    "$$\n",
    "(x^a)^b = x^{ab}.\n",
    "$$\n",
    "This often leads to pretty messy formulae! You can group this via the \\left and \\right functionality. This gives dynamically sized parentheses around a group of symbols. You can also use \\\\; (backslash semicolon) to add horizontal spacing:\n",
    "$$\n",
    "\\sum_{k = 1}^{10}\\left(\\int_{t = 0}^{t=k} t\\; dt\\right).\n",
    "$$"
   ]
  },
  {
   "cell_type": "markdown",
   "metadata": {
    "collapsed": false
   },
   "source": [
    "# *** Participation Check ***\n",
    "There are two empty Markdown cells below.\n",
    "- In the first one, display a simple equation using LaTex formatting (quadratic formula, Pythagorean theorem, any sort of algebra, etc.)\n",
    "- In the second one, write an integral equality you know from calculus."
   ]
  },
  {
   "cell_type": "markdown",
   "metadata": {
    "collapsed": false
   },
   "source": [
    "Enter LaTex here:"
   ]
  },
  {
   "cell_type": "markdown",
   "metadata": {
    "collapsed": false
   },
   "source": [
    "Enter LaTex here:"
   ]
  },
  {
   "cell_type": "markdown",
   "metadata": {
    "collapsed": false
   },
   "source": [
    "# ****************************"
   ]
  },
  {
   "cell_type": "markdown",
   "metadata": {
    "collapsed": false
   },
   "source": [
    "If you ever end up writing a scientific paper, you will likely use LaTex, in which case you will also want to know about *environments*. This allows grouping of text in your paper. For instance:\n",
    "\n",
    "The *itemize* environment allows a bulleted list in LaTex. The *enumerate* environment allows a numbered list in LaTex:"
   ]
  },
  {
   "cell_type": "raw",
   "metadata": {
    "collapsed": false
   },
   "source": [
    "\\begin{itemize}\n",
    "\\item\n",
    "\\item\n",
    "\\item\n",
    "\\end{itemize}\n",
    "\n",
    "\\begin{enumerate}\n",
    "\\item\n",
    "\\item\n",
    "\\item\n",
    "\\end{enumerate}"
   ]
  },
  {
   "cell_type": "markdown",
   "metadata": {
    "collapsed": false
   },
   "source": [
    "A *theorem*, *proposition*, *lemma*, *corollary*, etc. environment allows you to highlight a specific mathematical statement. And these are usually followed by a *proof* environment:"
   ]
  },
  {
   "cell_type": "raw",
   "metadata": {
    "collapsed": false
   },
   "source": [
    "\\begin{theorem}\n",
    "This is my theorem statement.\n",
    "\\end{theorem}\n",
    "\n",
    "\\begin{proof}\n",
    "This is the proof of my theorem.\n",
    "\\end{proof}\n"
   ]
  },
  {
   "cell_type": "markdown",
   "metadata": {
    "collapsed": false
   },
   "source": [
    "Other useful environments: align, tabular, array, tikz, etc.\n",
    "\n",
    "Downloading LaTex onto your local machine can be a pain. I recommend [Overleaf](https://www.overleaf.com/). They also have very many useful [tutorials](https://www.overleaf.com/learn). There is also [beamer](https://www.overleaf.com/learn/latex/beamer), which is essentially PowerPoint on steroids."
   ]
  },
  {
   "cell_type": "markdown",
   "metadata": {
    "collapsed": false
   },
   "source": [
    "## Coding in Jupyter Notebooks\n",
    "\n",
    "Code cells in Jupyter Notebooks are executed in one of various *kernels*. We will largely use *Python3* or *SageMath* kernels. You can see them in the top right corner; below is a screenshot of a jupyter notebook in which I have circled the kernel data\n",
    "\n",
    "![kernel photo](redkernel.png)\n",
    "\n"
   ]
  },
  {
   "cell_type": "markdown",
   "metadata": {
    "collapsed": false
   },
   "source": [
    "To execute code in a code cell, type the code in and hit Shift+Enter, just as with markdown cells."
   ]
  },
  {
   "cell_type": "code",
   "execution_count": 0,
   "metadata": {
    "collapsed": false
   },
   "outputs": [
   ],
   "source": [
    "34+5"
   ]
  },
  {
   "cell_type": "markdown",
   "metadata": {
    "collapsed": false
   },
   "source": [
    "# *** Optional Participation Check ***\n",
    "(You do not have to do this, but if you want to learn a bit more about kernels you can come back to this later)\n",
    "\n",
    "The SageMath programming language is built on Python, but has a few subtle differences. Below are two code cells with \"the same\" code in it. Execute the first code cell using the current Python3 kernel. Then change the kernel to SageMath 9.2 using the dropdown button and execute the second code cell. "
   ]
  },
  {
   "cell_type": "code",
   "execution_count": 0,
   "metadata": {
    "collapsed": false
   },
   "outputs": [
   ],
   "source": [
    "x = 4\n",
    "print(x^2)"
   ]
  },
  {
   "cell_type": "code",
   "execution_count": 0,
   "metadata": {
    "collapsed": false
   },
   "outputs": [
   ],
   "source": [
    "x = 4\n",
    "print(x^2)"
   ]
  },
  {
   "cell_type": "markdown",
   "metadata": {
    "collapsed": false
   },
   "source": [
    "What happened here!? In Python, the carat operator ^ is a bitwise \"symmetric difference\" operator (it is irrelevant to know what this means; we will never use it). SageMath is, well, math based, so it chooses to parse the carat operator as you might \"expect\" it: an exponential sign. The correct syntax for exponentiation in Python is double asterisks. Switch your kernel back to Python3 and run this cell:"
   ]
  },
  {
   "cell_type": "code",
   "execution_count": 0,
   "metadata": {
    "collapsed": false
   },
   "outputs": [
   ],
   "source": [
    "print(x**2)"
   ]
  },
  {
   "cell_type": "markdown",
   "metadata": {
    "collapsed": false
   },
   "source": [
    "Ultimately for this class, the differences between Python and SageMath are inconsequential (and eventually we will simply default to SageMath). But it is good to be aware that differences exist!\n",
    "\n",
    "# ****************************"
   ]
  },
  {
   "cell_type": "markdown",
   "metadata": {
    "collapsed": false
   },
   "source": [
    "The different cells in a Jupyter Notebook \"talk to\" each other:"
   ]
  },
  {
   "cell_type": "code",
   "execution_count": 0,
   "metadata": {
    "collapsed": false
   },
   "outputs": [
   ],
   "source": [
    "x = 5"
   ]
  },
  {
   "cell_type": "code",
   "execution_count": 0,
   "metadata": {
    "collapsed": false
   },
   "outputs": [
   ],
   "source": [
    "print(x+5)"
   ]
  },
  {
   "cell_type": "markdown",
   "metadata": {
    "collapsed": false
   },
   "source": [
    "This also means you cannot execute more than one cell at once:"
   ]
  },
  {
   "cell_type": "code",
   "execution_count": 0,
   "metadata": {
    "collapsed": false
   },
   "outputs": [
   ],
   "source": [
    "x = 0\n",
    "while True:\n",
    "    x+=1"
   ]
  },
  {
   "cell_type": "code",
   "execution_count": 0,
   "metadata": {
    "collapsed": false
   },
   "outputs": [
   ],
   "source": [
    "print(x + 6)"
   ]
  },
  {
   "cell_type": "markdown",
   "metadata": {
    "collapsed": false
   },
   "source": [
    "You can stop kernel execution using the \"Stop\" button. Occasionally you will need to \"Restart.\" \n",
    "\n",
    "![](execute.png)\n",
    "\n",
    "Be careful! If you restart, you will need to reinitialize all of your variables again:"
   ]
  },
  {
   "cell_type": "code",
   "execution_count": 0,
   "metadata": {
    "collapsed": false
   },
   "outputs": [
   ],
   "source": [
    "print(x + 6)"
   ]
  },
  {
   "cell_type": "markdown",
   "metadata": {
    "collapsed": false
   },
   "source": [
    "## Next time: Starting to learn some more useful programming!"
   ]
  }
 ],
 "metadata": {
  "kernelspec": {
   "display_name": "Python 3 (system-wide)",
   "language": "python",
   "metadata": {
    "cocalc": {
     "description": "Python 3 programming language",
     "priority": 100,
     "url": "https://www.python.org/"
    }
   },
   "name": "python3",
   "resource_dir": "/ext/jupyter/kernels/python3"
  },
  "language_info": {
   "codemirror_mode": {
    "name": "ipython",
    "version": 3
   },
   "file_extension": ".py",
   "mimetype": "text/x-python",
   "name": "python",
   "nbconvert_exporter": "python",
   "pygments_lexer": "ipython3",
   "version": "3.8.5"
  }
 },
 "nbformat": 4,
 "nbformat_minor": 4
}