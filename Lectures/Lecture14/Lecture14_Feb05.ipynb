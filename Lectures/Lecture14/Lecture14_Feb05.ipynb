{
 "cells": [
  {
   "cell_type": "markdown",
   "metadata": {
    "collapsed": false
   },
   "source": [
    "# Lecture 14: Number Theory/Cryptography (2 of ...?)\n",
    "\n",
    "### Please note: This lecture will be recorded and made available for viewing online. If you do not wish to be recorded, please adjust your camera settings accordingly. \n",
    "\n",
    "# Reminders/Announcements:\n",
    "- Assignment 4 has been collected. Assignment 5 out soon. (has been pushed)\n",
    "- Final Project Topics are available. Take a look!\n",
    "- Halfway point! https://forms.gle/fV8MiyZ922fJkXHY7"
   ]
  },
  {
   "cell_type": "markdown",
   "metadata": {
    "collapsed": false
   },
   "source": [
    "## Last Time...\n",
    "Recall last time we discussed the *multiplicative order* of elements mod $N$. Namely, if $a$ is an integer coprime to $N$, then the multiplicative order of $a$ mod $N$ is the smallest positive integer $d$ with\n",
    "$$\n",
    "a^d \\equiv 1 \\mod N.\n",
    "$$"
   ]
  },
  {
   "cell_type": "code",
   "execution_count": 0,
   "metadata": {
    "collapsed": false
   },
   "outputs": [
   ],
   "source": [
    "N = 53\n",
    "a = 4\n",
    "gcd(a,N)"
   ]
  },
  {
   "cell_type": "code",
   "execution_count": 0,
   "metadata": {
    "collapsed": false
   },
   "outputs": [
   ],
   "source": [
    "mod(a,N).multiplicative_order()"
   ]
  },
  {
   "cell_type": "code",
   "execution_count": 0,
   "metadata": {
    "collapsed": false
   },
   "outputs": [
   ],
   "source": [
    "power_mod(a,26,N)"
   ]
  },
  {
   "cell_type": "markdown",
   "metadata": {
    "collapsed": false
   },
   "source": [
    "Euler's Theorem told us that $d$ is always bounded above by $\\phi(N)$, where $\\phi$ is the Euler totient function. In fact, $d$ will always divide $\\phi(N)$."
   ]
  },
  {
   "cell_type": "code",
   "execution_count": 0,
   "metadata": {
    "collapsed": false
   },
   "outputs": [
   ],
   "source": [
    "euler_phi(N)"
   ]
  },
  {
   "cell_type": "code",
   "execution_count": 0,
   "metadata": {
    "collapsed": false
   },
   "outputs": [
   ],
   "source": [
    "52%26"
   ]
  },
  {
   "cell_type": "markdown",
   "metadata": {
    "collapsed": false
   },
   "source": [
    "Finally, we learned that if $p$ is prime, there *is always* a number $a$ with multiplicative order mod $p$ equal to $\\phi(p)$. Such an integer is called a *primitive root* mod $p$."
   ]
  },
  {
   "cell_type": "code",
   "execution_count": 0,
   "metadata": {
    "collapsed": false
   },
   "outputs": [
   ],
   "source": [
    "p = 19\n",
    "euler_phi(p)"
   ]
  },
  {
   "cell_type": "code",
   "execution_count": 0,
   "metadata": {
    "collapsed": false
   },
   "outputs": [
   ],
   "source": [
    "primitive_root(p)"
   ]
  },
  {
   "cell_type": "code",
   "execution_count": 0,
   "metadata": {
    "collapsed": false
   },
   "outputs": [
   ],
   "source": [
    "for i in range(19):\n",
    "    print(power_mod(2,i,19))"
   ]
  },
  {
   "cell_type": "markdown",
   "metadata": {
    "collapsed": false
   },
   "source": [
    "## ***** Participation Check ***************************\n",
    "\n",
    "In the code cell below, find and display *all of the primitive roots* mod $53$."
   ]
  },
  {
   "cell_type": "code",
   "execution_count": 0,
   "metadata": {
    "collapsed": false
   },
   "outputs": [
   ],
   "source": [
    "# your code here"
   ]
  },
  {
   "cell_type": "markdown",
   "metadata": {
    "collapsed": false
   },
   "source": [
    "In the code cell below, compute $\\phi(52)$, where $\\phi$ is Euler's totient function. How does this relate to the answer in the previous part?"
   ]
  },
  {
   "cell_type": "code",
   "execution_count": 0,
   "metadata": {
    "collapsed": false
   },
   "outputs": [
   ],
   "source": [
    "# your code here\n",
    "euler_phi(52)"
   ]
  },
  {
   "cell_type": "markdown",
   "metadata": {
    "collapsed": false
   },
   "source": [
    "General fact: If $p$ is prime, there are $\\phi(p-1)$ primitive roots mod $p$."
   ]
  },
  {
   "cell_type": "markdown",
   "metadata": {
    "collapsed": false
   },
   "source": [
    "## ***********************************************************"
   ]
  },
  {
   "cell_type": "markdown",
   "metadata": {
    "collapsed": false
   },
   "source": [
    "## This Time...\n",
    "We want to start talking about \"difficult\" things from the lens of computation. The reason is that \"difficult\" things will often directly lead to cryptographic protocols. Our end goal: how can two users communicate securely through public channels? \n",
    "\n",
    "If they are allowed to conspire before hand, this is very easy to imagine. People collude together in secret and agree on a method to encode and decode their message; for instance, a \"one-time pad\" is a common way of doing this (or at least; *used* to be a common way of doing this):"
   ]
  },
  {
   "cell_type": "code",
   "execution_count": 0,
   "metadata": {
    "collapsed": false
   },
   "outputs": [
   ],
   "source": [
    "binaryMsg = '01110100 01101000 01101001 01110011 00100000 01101001 01110011 00100000 01101101 01111001 00100000 01110011 01100101 01100011 01110010 01100101 01110100 00100000 01101101 01100101 01110011 01110011 01100001 01100111 01100101 00100001'\n",
    "\n",
    "chars = binaryMsg.split()\n",
    "chars = [chr(int(char,2)) for char in chars]\n",
    "print(''.join(chars))"
   ]
  },
  {
   "cell_type": "code",
   "execution_count": 0,
   "metadata": {
    "collapsed": false
   },
   "outputs": [
   ],
   "source": [
    "import random\n",
    "myPad = [random.randint(0,1) for char in binaryMsg if char in ['0','1']]   #This is our shared secret key\n",
    "show(myPad[0:10])"
   ]
  },
  {
   "cell_type": "code",
   "execution_count": 0,
   "metadata": {
    "collapsed": false
   },
   "outputs": [
   ],
   "source": [
    "encodedMsg = ''\n",
    "i = 0\n",
    "for char in binaryMsg:\n",
    "    if char == ' ':\n",
    "        encodedMsg += char\n",
    "    else:\n",
    "        encodedMsg += str((int(char)+myPad[i])%2)\n",
    "        i+=1"
   ]
  },
  {
   "cell_type": "code",
   "execution_count": 0,
   "metadata": {
    "collapsed": false
   },
   "outputs": [
   ],
   "source": [
    "encodedMsg"
   ]
  },
  {
   "cell_type": "code",
   "execution_count": 0,
   "metadata": {
    "collapsed": false
   },
   "outputs": [
   ],
   "source": [
    "binaryMsg"
   ]
  },
  {
   "cell_type": "code",
   "execution_count": 0,
   "metadata": {
    "collapsed": false
   },
   "outputs": [
   ],
   "source": [
    "chars = encodedMsg.split()\n",
    "chars = [chr(int(char,2)) for char in chars]\n",
    "print(''.join(chars))"
   ]
  },
  {
   "cell_type": "code",
   "execution_count": 0,
   "metadata": {
    "collapsed": false
   },
   "outputs": [
   ],
   "source": [
    "decodedMsg = ''\n",
    "i = 0\n",
    "for char in encodedMsg:\n",
    "    if char == ' ':\n",
    "        decodedMsg += char\n",
    "    else:\n",
    "        decodedMsg += str((int(char)+myPad[i])%2)\n",
    "        i+=1"
   ]
  },
  {
   "cell_type": "code",
   "execution_count": 0,
   "metadata": {
    "collapsed": false
   },
   "outputs": [
   ],
   "source": [
    "chars = decodedMsg.split()\n",
    "chars = [chr(int(char,2)) for char in chars]\n",
    "print(''.join(chars))"
   ]
  },
  {
   "cell_type": "markdown",
   "metadata": {
    "collapsed": false
   },
   "source": [
    "A one time pad is effectively impossible to decode, as long as:\n",
    "- The key is truly random\n",
    "- The key is kept secret\n",
    "- The key is as long as the plaintext\n",
    "- The key is never reused.\n",
    "\n",
    "What if those individuals had never met before, so they couldn't even agree on a secret code or password to use?\n",
    "\n",
    "This seems impossible! To communicate securely they need some sort of key, but how can they share the key without first being able to communicate securely?!\n",
    "\n",
    "In fact, it's very easy to imagine how to do this:\n",
    "\n",
    "![](crypto2.png)\n",
    "\n",
    "![](crypto1.png)\n",
    "\n",
    "In other words: \n",
    "- Alice encrypts. \n",
    "- Then Bob doubly encrypts. \n",
    "- Then Alice partially decrypts. \n",
    "- Then Bob fully decrypts. \n",
    "\n",
    "At every stage, Eve cannot unlock the box to read what's inside. This is a depiction of *asymmetric key cryptography*. What's even more impressive is that we can even do better than this. We can communicate publicly and actually create a shared key, without any eavesdroppers getting the info.\n",
    "\n",
    "## Discrete Logarithms\n",
    "\n",
    "Recall the standard logarithm and exponential functions from calculus:"
   ]
  },
  {
   "cell_type": "code",
   "execution_count": 0,
   "metadata": {
    "collapsed": false
   },
   "outputs": [
   ],
   "source": [
    "plot(log(x), (x, 0, 7))+plot(exp(x), (x, -6, 2), color = 'green')+plot(x, (-6,6), color = 'red')"
   ]
  },
  {
   "cell_type": "code",
   "execution_count": 0,
   "metadata": {
    "collapsed": false
   },
   "outputs": [
   ],
   "source": [
    "a = exp(7.53)\n",
    "RR(log(a))"
   ]
  },
  {
   "cell_type": "code",
   "execution_count": 0,
   "metadata": {
    "collapsed": false
   },
   "outputs": [
   ],
   "source": [
    "b = 10^15\n",
    "RR(log(b))"
   ]
  },
  {
   "cell_type": "code",
   "execution_count": 0,
   "metadata": {
    "collapsed": false
   },
   "outputs": [
   ],
   "source": [
    "RR(log(b))/RR(log(10))"
   ]
  },
  {
   "cell_type": "markdown",
   "metadata": {
    "collapsed": false
   },
   "source": [
    "There are many fast algorithms for approximating $\\log(a)$ for any constant $a$ (for example, there are power series approximations which can be computed fairly easily)\n",
    "\n",
    "Given the discussion from Wednesday; what if we tried to extend these notions to modular arithmetic? (By the way: for those with algebra background, this conversation directly generalizes to *finite fields*, but I want to try and avoid using that term)\n",
    "\n",
    "Let $p$ be a prime number and let $a$ be a primitive root $\\mod p$. We already know exponentiation:"
   ]
  },
  {
   "cell_type": "code",
   "execution_count": 0,
   "metadata": {
    "collapsed": false
   },
   "outputs": [
   ],
   "source": [
    "for i in range(0,19):\n",
    "    print(power_mod(2,i,19))"
   ]
  },
  {
   "cell_type": "markdown",
   "metadata": {
    "collapsed": false
   },
   "source": [
    "We will define the *discrete logarithm of $m$ with respect to $a \\mod p$* to be the unique integer $d$ in $\\{0,1,\\dots,p-2\\}$ such that $a^d \\equiv m\\mod p$."
   ]
  },
  {
   "cell_type": "code",
   "execution_count": 0,
   "metadata": {
    "collapsed": false
   },
   "outputs": [
   ],
   "source": [
    "p = random_prime(2000)\n",
    "print(p)"
   ]
  },
  {
   "cell_type": "code",
   "execution_count": 0,
   "metadata": {
    "collapsed": false
   },
   "outputs": [
   ],
   "source": [
    "a = primitive_root(p)\n",
    "print(a)"
   ]
  },
  {
   "cell_type": "code",
   "execution_count": 0,
   "metadata": {
    "collapsed": false
   },
   "outputs": [
   ],
   "source": [
    "import random\n",
    "exponent = random.randint(0,p-2)\n",
    "m = power_mod(a,exponent,p)\n",
    "print(m)"
   ]
  },
  {
   "cell_type": "code",
   "execution_count": 0,
   "metadata": {
    "collapsed": false
   },
   "outputs": [
   ],
   "source": [
    "mod(m,p).log(mod(a,p))"
   ]
  },
  {
   "cell_type": "code",
   "execution_count": 0,
   "metadata": {
    "collapsed": false
   },
   "outputs": [
   ],
   "source": [
    "print(exponent)"
   ]
  },
  {
   "cell_type": "code",
   "execution_count": 0,
   "metadata": {
    "collapsed": false
   },
   "outputs": [
   ],
   "source": [
    "print(power_mod(a,544, p))"
   ]
  },
  {
   "cell_type": "markdown",
   "metadata": {
    "collapsed": false
   },
   "source": [
    "This looks super easy! What's the big deal?\n",
    "\n",
    "Thanks for asking. The big deal is that discrete logarithms are *hard* to compute in general! What I mean by \"hard\" is that there is no efficient algorithm which can compute discrete logarithms in the general case. It is conjectured that this is a *NP-Intermediate* problem. \n",
    "\n",
    "A quick word on what this (heuristically) means. When we solve problems using a computer, we are interested in the number of operations it takes for our computer to spit out an answer. This is directly related to the *runtime* of the algorithm. \n",
    "\n",
    "The runtime of the algorithm is dependent on the size of the input. It's very fast to factor numbers that are smaller than $100$. It's very slow to factor numbers that are larger than $100000$. Etc.\n",
    "\n",
    "What is the size of the input? Well this depends on what your input is. For a number $N$, the size of the input is (roughly) the number of digits required to write that number down. This is basically logarithmic in $N$."
   ]
  },
  {
   "cell_type": "code",
   "execution_count": 0,
   "metadata": {
    "collapsed": false
   },
   "outputs": [
   ],
   "source": [
    "N = 100\n",
    "print(float(N.log(10)))\n",
    "N.ndigits()"
   ]
  },
  {
   "cell_type": "code",
   "execution_count": 0,
   "metadata": {
    "collapsed": false
   },
   "outputs": [
   ],
   "source": [
    "N = 55124\n",
    "print(float(N.log(10)))\n",
    "N.ndigits()"
   ]
  },
  {
   "cell_type": "code",
   "execution_count": 0,
   "metadata": {
    "collapsed": false
   },
   "outputs": [
   ],
   "source": [
    "N = 9992934923949\n",
    "print(float(N.log(10)))\n",
    "N.ndigits()"
   ]
  },
  {
   "cell_type": "markdown",
   "metadata": {
    "collapsed": false
   },
   "source": [
    "Let's try to solve the discrete logarithm problem in the most naive way possible, and then discuss the runtime."
   ]
  },
  {
   "cell_type": "markdown",
   "metadata": {
    "collapsed": false
   },
   "source": [
    "## ***** Participation Check ***************************\n",
    "\n",
    "In the code cell below, write a function which \n",
    "- takes as input a prime number $p$, a primitive root $a\\mod p$, and an integer $N$ which is coprime to $p$.\n",
    "- iterates through the exponents $0,1,2,\\dots,p-2$ and, at each step, tests if $a^e \\equiv N\\mod p$\n",
    "- once it finds such an exponent $e$, return $e$."
   ]
  },
  {
   "cell_type": "code",
   "execution_count": 0,
   "metadata": {
    "collapsed": false
   },
   "outputs": [
   ],
   "source": [
    "def discreteLog(p,a,N):\n",
    "    #Your code here"
   ]
  },
  {
   "cell_type": "markdown",
   "metadata": {
    "collapsed": false
   },
   "source": [
    "## ***********************************************************"
   ]
  },
  {
   "cell_type": "markdown",
   "metadata": {
    "collapsed": false
   },
   "source": [
    "What is the runtime of this algorithm? Well in general we are just iterating through the values $0,1,2,\\dots,p-2$ and doing a test at each step. If you implemented this as efficiently as possible, this would take ~$p$ operations in the worst case. We say this algorithm has a $O(p)$ runtime.\n",
    "\n",
    "But remember! The input size is *logarithmic* in $p$! What is the comparison of input to runtime? I.e. what is the comparison of $\\log(p)$ to $p$? Exponential!\n",
    "\n",
    "There are many more algorithms for computing discrete logarithms. All of them are known to be exponential (although some of them are very fast on certain special inputs). A major question in computability theory is whether or not there exists a *polynomial time algorithm* for computing the discrete logarithm in general inputs."
   ]
  },
  {
   "cell_type": "code",
   "execution_count": 0,
   "metadata": {
    "collapsed": false
   },
   "outputs": [
   ],
   "source": [
    "p = random_prime(10^30)\n",
    "print(p)"
   ]
  },
  {
   "cell_type": "code",
   "execution_count": 0,
   "metadata": {
    "collapsed": false
   },
   "outputs": [
   ],
   "source": [
    "a = primitive_root(p)\n",
    "print(a)"
   ]
  },
  {
   "cell_type": "code",
   "execution_count": 0,
   "metadata": {
    "collapsed": false
   },
   "outputs": [
   ],
   "source": [
    "import random\n",
    "exponent = random.randint(0,p-1)\n",
    "m = power_mod(a,exponent,p)\n",
    "print(m)"
   ]
  },
  {
   "cell_type": "code",
   "execution_count": 0,
   "metadata": {
    "collapsed": false
   },
   "outputs": [
   ],
   "source": [
    "import time\n",
    "t = time.time()\n",
    "print(mod(m,p).log(mod(a,p)))\n",
    "print('ran in roughly: ',time.time()-t,' seconds')"
   ]
  },
  {
   "cell_type": "code",
   "execution_count": 0,
   "metadata": {
    "collapsed": false
   },
   "outputs": [
   ],
   "source": [
    "print(exponent)"
   ]
  },
  {
   "cell_type": "markdown",
   "metadata": {
    "collapsed": false
   },
   "source": [
    "Practical implementations of Diffie-Hellman-Merkle use 1000 bit primes (or larger), for which this method would be entirely impossible.\n",
    "\n",
    "## Diffie-Hellman-Merkle Key Exchange\n",
    "\n",
    "Let's use this to our advantage to generate a key for secure communication.\n",
    "\n",
    "(Historical note: you will often see this simply referred to as the *Diffie-Hellman key exchange*, as the math behind this was originally *published* by Whitfield Diffie and Martin Hellman. But Ralph Merkle was integral to the process. You can read more about this in an interview of Hellman, transcribed here: https://conservancy.umn.edu/bitstream/handle/11299/107353/oh375mh.pdf;jsessionid=0DBC6185AFF7B816D0F1D85C0911D058?sequence=1)\n",
    "\n",
    "Let's say Alice and Bob want to communicate securely. To do so, they want to establish a key, or a \"shared secret\" that they can use to encode future messages.\n",
    "\n",
    "Here is the idea:\n",
    "\n",
    "- Step 1: Alice and Bob publicly choose a large prime $p$ and a multiplicative generator $g\\mod p$.\n",
    "- Step 2: Alice and Bob independently (and secretly) choose an integer in the range $0,\\dots,p-2$. These are called their *private keys*. Alice's will be called $a$ and Bob's will be called $b$.\n",
    "- Step 3: Alice and Bob publicly transmit $A = g^a\\mod p$ and $B = g^b \\mod p$.\n",
    "- Step 4: Alice receives $B$ and computes $B^a \\mod p$. Bob receives $A$ and computes $A^b\\mod p$. Modulo $p$,\n",
    "$$\n",
    "B^a \\equiv (g^b)^a \\equiv g^{ab} \\equiv (g^a)^b\\equiv A^b,\n",
    "$$\n",
    "so Alice and Bob have created a shared key $K$.\n",
    "\n",
    "If Eve wanted to break this protocol, she would have to be able to recreate $K$ from $g$, $g^a$, and $g^b$. This is believed to be as difficult as the discrete logarithm problem in general."
   ]
  },
  {
   "cell_type": "code",
   "execution_count": 0,
   "metadata": {
    "collapsed": false
   },
   "outputs": [
   ],
   "source": [
    "# Public stuff\n",
    "p = random_prime(2^64)\n",
    "g = primitive_root(p)\n",
    "\n",
    "# Alice's private and public keys\n",
    "a = Integers().random_element(p-2) \n",
    "A = power_mod(g,a,p)\n",
    "\n",
    "# Bob's private and public keys\n",
    "b = Integers().random_element(p-2) \n",
    "B = power_mod(g,b,p)\n",
    "\n",
    "# Alice computes the shared secret\n",
    "K_alice = power_mod(B,a,p)\n",
    "\n",
    "# Bob computes the shared secret\n",
    "K_bob = power_mod(A,b,p)\n",
    "\n",
    "# Finally, check that they are the same\n",
    "print(K_alice == K_bob)"
   ]
  },
  {
   "cell_type": "code",
   "execution_count": 0,
   "metadata": {
    "collapsed": false
   },
   "outputs": [
   ],
   "source": [
    "K_alice"
   ]
  },
  {
   "cell_type": "code",
   "execution_count": 0,
   "metadata": {
    "collapsed": false
   },
   "outputs": [
   ],
   "source": [
    "K_bob"
   ]
  },
  {
   "cell_type": "markdown",
   "metadata": {
    "collapsed": false
   },
   "source": [
    "## Weak Primes\n",
    "\n",
    "The Diffie-Hellman-Merkle is a very good algorithm in general. That doesn't mean you can apply the method blindly though. Here is an example of a terrible prime number:"
   ]
  },
  {
   "cell_type": "code",
   "execution_count": 0,
   "metadata": {
    "collapsed": false
   },
   "outputs": [
   ],
   "source": [
    "p = 1298074214633668968809363113301611"
   ]
  },
  {
   "cell_type": "markdown",
   "metadata": {
    "collapsed": false
   },
   "source": [
    "Why is it terrible? Well, look at it"
   ]
  },
  {
   "cell_type": "code",
   "execution_count": 0,
   "metadata": {
    "collapsed": false
   },
   "outputs": [
   ],
   "source": [
    "factor(p-1)"
   ]
  },
  {
   "cell_type": "markdown",
   "metadata": {
    "collapsed": false
   },
   "source": [
    "Whenever $p-1 = q_1*q_2$ for $q_1, q_2$ relatively prime factors of size $\\approx \\sqrt{p}$, the following happens. \n",
    "\n",
    "Recall Euler's Theorem: $x^{p-1}\\mod p = 1$ for any $x$. Thus $(x^{q_1})^{q_2}\\mod p = 1$ for any $x$. That is, if we only look at elements with are $q_1$-powers of something, they have order $q_2$. An analogous thing happens if we switch $q_1$ and $q_2$. \n",
    "\n",
    "Suppose we are trying to solve the mod $p$ discrete log problem for $A = g^a$, i.e. we want to recover $a$.\n",
    "\n",
    "The idea is to recover $a\\mod q_1$ and $a\\mod q_2$, from which we can use the Chinese Remainder Theorem to recover $a$.\n",
    "- Find the discrete logarithm of $A^{q_1}$ with respect to $g^{q_1}$, i.e. $a_2$ such that $g^{a_2*q_1} = A^{q_1}$. This implies that $a_2*q_1 \\equiv a*q_1\\mod p-1$, i.e. $a_2\\equiv a\\mod q_2$.\n",
    "- Find the discrete logarithm of $A^{q_2}$ with respect to $g^{q_2}$, i.e. $a_1$ such that $g^{a_1*q_2} = A^{q_2}$. This implies that $a_1*q_2 \\equiv a*q_2\\mod p-1$, i.e. $a_1\\equiv a\\mod q_1$.\n",
    "- Compute $a = CRT(a_1, a_2, q_1, q_2)$."
   ]
  },
  {
   "cell_type": "code",
   "execution_count": 0,
   "metadata": {
    "collapsed": false
   },
   "outputs": [
   ],
   "source": [
    "q1 = 2 * 3 * 5 * 2487977 * 482705387\n",
    "q2 = 36028797018963913"
   ]
  },
  {
   "cell_type": "code",
   "execution_count": 0,
   "metadata": {
    "collapsed": false
   },
   "outputs": [
   ],
   "source": [
    "exponent = 983902092654374580967281794418725\n",
    "g = primitive_root(p)\n",
    "print(g)\n",
    "print(power_mod(g,exponent,p))"
   ]
  },
  {
   "cell_type": "code",
   "execution_count": 0,
   "metadata": {
    "collapsed": false
   },
   "outputs": [
   ],
   "source": [
    "A = power_mod(g,exponent,p)\n",
    "\n",
    "A1 = power_mod(A,q1,p)\n",
    "A2 = power_mod(A,q2,p)\n",
    "\n",
    "g1 = power_mod(g,q1,p)\n",
    "g2 = power_mod(g,q2,p)"
   ]
  },
  {
   "cell_type": "code",
   "execution_count": 0,
   "metadata": {
    "collapsed": false
   },
   "outputs": [
   ],
   "source": [
    "import time\n",
    "t = time.time()\n",
    "a1 = mod(A1,p).log(mod(g1,p))\n",
    "a2 = mod(A2,p).log(mod(g2,p))\n",
    "print(time.time()-t)"
   ]
  },
  {
   "cell_type": "code",
   "execution_count": 0,
   "metadata": {
    "collapsed": false
   },
   "outputs": [
   ],
   "source": [
    "print(a1)\n",
    "print(a2)"
   ]
  },
  {
   "cell_type": "code",
   "execution_count": 0,
   "metadata": {
    "collapsed": false
   },
   "outputs": [
   ],
   "source": [
    "crt([a2,a1],[q1,q2])"
   ]
  },
  {
   "cell_type": "code",
   "execution_count": 0,
   "metadata": {
    "collapsed": false
   },
   "outputs": [
   ],
   "source": [
    "exponent"
   ]
  },
  {
   "cell_type": "code",
   "execution_count": 0,
   "metadata": {
    "collapsed": false
   },
   "outputs": [
   ],
   "source": [
    "import time\n",
    "t = time.time()\n",
    "print(mod(A,p).log(mod(g,p)))\n",
    "print(time.time()-t)"
   ]
  },
  {
   "cell_type": "markdown",
   "metadata": {
    "collapsed": false
   },
   "source": [
    "## Next Time: Baby Step Giant Step, Elliptic Curves"
   ]
  }
 ],
 "metadata": {
  "kernelspec": {
   "display_name": "SageMath 9.2",
   "language": "sagemath",
   "metadata": {
    "cocalc": {
     "description": "Open-source mathematical software system",
     "priority": 10,
     "url": "https://www.sagemath.org/"
    }
   },
   "name": "sage-9.2",
   "resource_dir": "/ext/jupyter/kernels/sage-9.2"
  },
  "language_info": {
   "codemirror_mode": {
    "name": "ipython",
    "version": 3
   },
   "file_extension": ".py",
   "mimetype": "text/x-python",
   "name": "python",
   "nbconvert_exporter": "python",
   "pygments_lexer": "ipython3",
   "version": "3.8.5"
  }
 },
 "nbformat": 4,
 "nbformat_minor": 4
}