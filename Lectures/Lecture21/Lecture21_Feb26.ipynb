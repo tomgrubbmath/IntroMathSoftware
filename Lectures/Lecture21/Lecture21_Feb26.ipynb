{
 "cells": [
  {
   "cell_type": "markdown",
   "metadata": {
    "collapsed": false
   },
   "source": [
    "# Lecture 21: Word Embeddings\n",
    "\n",
    "### Please note: This lecture will be recorded and made available for viewing online. If you do not wish to be recorded, please adjust your camera settings accordingly. \n",
    "\n",
    "# Reminders/Announcements:\n",
    "- Assignment 7 has been collected. One homework assignment left!"
   ]
  },
  {
   "cell_type": "markdown",
   "metadata": {
    "collapsed": false
   },
   "source": [
    "## Last Time: Stylometry\n",
    "\n",
    "We studied *how individuals use language*, and how that changes between different individuals. In particular, we studied things like \n",
    "- Distribution of sentence lengths\n",
    "- Distribution of word lengths\n",
    "- Distribution of word rates\n",
    "\n",
    "In particular, we introduced the idea of a *classifier*: given a bunch of numeric data, predict a *category* that a data point belongs to. Since we rushed through it a bit, I just want to give an overview to contextualize it a bit more. \n",
    "\n",
    "We had \n",
    "- 51 papers which were *definitely written by Hamilton* (First category!)\n",
    "- 15 papers which were *definitely written by Madison* (Second category!)\n",
    "- 11 papers which were written by *Hamilton or Madison* (Unknown category!)\n",
    "\n",
    "What did we do? We chose a list of *marker words*: on, upon, while, whilst, ... and noticed that different words were used with different frequencies when comparing Hamilton to Madison. To quantify this, we:\n",
    "- Went through *each paper of Hamilton* and computed the *rate* that each of our marker words were used.\n",
    "- Went through *each paper of Madison* and computed the *rate* that each of our marker words were used.\n",
    "\n",
    "Then we told a \"classifer\" to \"train itself\" on the known papers. We essentially said:\n",
    "- Hello classifier, this paper *was written by Hamilton* and look! It has a lot of instances of the marker word \"while\" in it\n",
    "- Hello classifier, this paper *was written by Madison* and look! It has almost no instances of \"while\" but a lot of instances of \"whilst\"\n",
    "\n",
    "The classifer then \"teaches itself\" that papers which use the word \"while\" are probably written by Hamilton and papers which use the word \"whilst\" are probably written by Madison. Then we\n",
    "- Went through the *disputed papers* and computed the rates of the marker words\n",
    "- Fed these rates into the classifier algorithm\n",
    "- Learned that the classifier probably thought *Madison* was the author of the papers.\n",
    "\n",
    "Different classifiers work in different ways, but this is the high level overview of what was going on. "
   ]
  },
  {
   "cell_type": "markdown",
   "metadata": {
    "collapsed": false
   },
   "source": [
    "## This Time: Word Embeddings\n",
    "\n",
    "Now we will transition a bit to studying *the language itself*, instead of how different authors *use the language*. Probably *the most* useful concept in this area is that of a *word embedding*. It works as follows.\n",
    "\n",
    "Let $L$ be the *language* we are working with. This doesn't necessarily mean \"English, French, etc.\" It means \"all the words we currently care about.\" So for instance, we might pick $L$ to be:\n",
    "- The words in the English Language (hot, cold, blue, ...), PLUS\n",
    "- Common names (Thomas, Sarah, ...), PLUS\n",
    "- Important companies (Gamestop, Nokia, ...), PLUS\n",
    "- Important acronyms (FBI, CIA, ...), PLUS\n",
    "- ...\n",
    "\n",
    "Pick a positive integer $N$. A *word embedding of $L$* is simply a map \n",
    "$$\n",
    "L\\to \\mathbb{R}^N.\n",
    "$$\n",
    "\n"
   ]
  },
  {
   "cell_type": "markdown",
   "metadata": {
    "collapsed": false
   },
   "source": [
    "In discussing word embeddings, we will usually use the notion \n",
    "$$\n",
    "w\\to v_w,\n",
    "$$\n",
    "so \n",
    "$$\n",
    "car\\to v_{car}\n",
    "$$"
   ]
  },
  {
   "cell_type": "markdown",
   "metadata": {
    "collapsed": false
   },
   "source": [
    "Seems simple enough! But, there are a few important things that we want to *try* and achieve with the map:\n",
    "- \"Similar\" words should map to \"similar\" vectors\n",
    "    - Chair, couch, sofa, and stool should be mapped to \"close\" vectors in $\\mathbb{R}^N$\n",
    "- \"Dissimilar\" words should map to \"dissimilar\" vectors\n",
    "    - Be careful about \"dissimilar\" though! Up and down *are opposites*, but they are fairly similar words...\n",
    "- N should be \"big enough\" to allow all the vectors to \"spread out\" and encode similarities between different things\n",
    "- N should be \"small enough\" so that we can actually *compute* with these vectors!"
   ]
  },
  {
   "cell_type": "markdown",
   "metadata": {
    "collapsed": false
   },
   "source": [
    "## What does \"similar\" mean?\n",
    "\n",
    "There are a few ways of measuring the \"similarity\" of two vectors. One that is common in machine learning is *cosine similarity*:\n",
    "$$\n",
    "sim(u,v) = \\frac{u\\cdot v}{|u||v|}.\n",
    "$$\n",
    "Explicitly, if $u = (u_1,\\dots,u_N)$ and $v = (v_1,\\dots,v_N)$, then \n",
    "$$\n",
    "sim(u,v) = \\frac{u_1v_1+\\dots+u_Nv_N}{\\sqrt{u_1^2+\\dots+u_N^2}\\sqrt{v_1^2+\\dots+v_N^2}}\n",
    "$$\n",
    "This makes for a decent participation check!\n",
    "\n",
    "## ****** Participation Check **********************************\n",
    "\n",
    "Write a function which takes in two \"vectors\" (consider them as lists of numbers) u and v, and returns sim(u,v)."
   ]
  },
  {
   "cell_type": "code",
   "execution_count": 1,
   "metadata": {
    "collapsed": false
   },
   "outputs": [
    {
     "name": "stdout",
     "output_type": "stream",
     "text": [
      "-1.0\n",
      "1.0\n"
     ]
    }
   ],
   "source": [
    "def sim(u,v):\n",
    "    # Your code here\n",
    "    uv = sum([u[i]*v[i] for i in range(len(u))])\n",
    "    ul = sum([u[i]^2 for i in range(len(u))])^(1/2)\n",
    "    vl = sum([v[i]^2 for i in range(len(v))])^(1/2)\n",
    "    return(float(uv)/(ul*vl))\n",
    "\n",
    "\n",
    "u = [1,2,3]\n",
    "v = [-1,-2,-3]\n",
    "print(sim(u,v))\n",
    "\n",
    "u = [1,2,3]\n",
    "v = [2,4,6]\n",
    "print(sim(u,v))"
   ]
  },
  {
   "cell_type": "markdown",
   "metadata": {
    "collapsed": false
   },
   "source": [
    "## ***************************************************************"
   ]
  },
  {
   "cell_type": "markdown",
   "metadata": {
    "collapsed": false
   },
   "source": [
    "Cosine similarity takes *no account* of the *size* of the vectors; it only measures *which direction the vectors are pointing*:\n",
    "\n",
    "![](cos.png)"
   ]
  },
  {
   "cell_type": "markdown",
   "metadata": {
    "collapsed": false
   },
   "source": [
    "## A \"Bad\" Word Embedding\n",
    "\n",
    "Let's order every word in $L$ alphabetically:\n",
    "\n",
    "![](words.png)\n",
    "\n",
    "We can define a \"one hot embedding\" by mapping the $i$th word in $L$ to the vector with a single $1$ in the $i$th index, and $0$ everywhere else:\n",
    "\n",
    "![](words2.png)"
   ]
  },
  {
   "cell_type": "markdown",
   "metadata": {
    "collapsed": false
   },
   "source": [
    "Unfortunately this leads to some issues!\n",
    "\n",
    "## ******** Participation Check ***********************\n",
    "\n",
    "Give *two reasons* why the one-hot embedding is not a great word embedding (hint: look back at what we *want* out of a word embedding. Then look at the definition of cosine similarity. Also, how big do you think these vectors are?)\n",
    "\n",
    "- Reason 1:\n",
    "- Reason 2:\n",
    "\n",
    "## ****************************************************"
   ]
  },
  {
   "cell_type": "markdown",
   "metadata": {
    "collapsed": false
   },
   "source": [
    "## Better Word Vectors\n",
    "\n",
    "The current state of the art method for producing word vectors came out of work of several Googlers. The framework is known as *word2vec*, and you can see more here: https://en.wikipedia.org/wiki/Word2vec#CBOW_and_skip_grams\n",
    "\n",
    "The general idea: \"similar\" words are used in \"similar\" contexts. Just like humans! Maybe you have heard the old proverb\n",
    "\n",
    ">> Tell me your friends and I'll tell you who you are\n",
    "\n",
    "If you have a lot of religious friends, it is *more likely* that you are religious. If you have a lot of friends from Michigan, it is *more likely* that you spent some of your life in Michigan. Etc.\n",
    "\n",
    "Let's play a game! Think of a word that could complete this sentence. Type, *but do not send*, that word into the chat bar. We will try to all \"simultaneously\" send it so as to not influence anyone else.\n",
    "\n",
    "![](food.png)\n",
    "\n",
    "We all picked *somewhat* similar words! Certainly there was a lot of variation, but we all knew that the word we were looking for was:\n",
    "- Edible (you *ate it*)\n",
    "- A *specific type* of edible (\"spicy\")\n",
    "- *Probably* a plural or \"plural type\" word!\n",
    "\n",
    "From this we can learn that words like \"tacos\" or \"curry\" or \"chili\" are *somewhat similar*: they are \"edible spicy pluralish food words\"\n",
    "\n",
    "We can also learn that words like \"cars\" and \"blue\" and \"hockey\" are *somewhat different* to tacos, chili, and curry. Cars would *never* be used to fill in that sentence!\n",
    "\n",
    "This still seems somewhat lacking...but imagine how many sentences there are in the world! Imagine if I had provided you with this sentence instead:\n",
    "\n",
    "![](food2.png)\n",
    "\n",
    "We now know that we are looking for a dish *associated with India*! Could it be tacos? *Maybe*. Could it be kifto? *Maybe*. But *probably* it is a word like curry, vindaloo, rista, etc. We have thus separated the \"edible spicy pluralish *Indian* words\" from the \"edible spicy pluralish *non-Indian*\" words."
   ]
  },
  {
   "cell_type": "markdown",
   "metadata": {
    "collapsed": false
   },
   "source": [
    "## Implementing this idea\n",
    "\n",
    "I am not going to go over in detail how you can use this to get word vectors. But *basically* you:\n",
    "- Extract a *bunch* of sentences from somewhere\n",
    "    - Common sources: Wikipedia, database of news stories, ...\n",
    "- Tell your computer to read the sentences ~5 words at a time (a \"window\")\n",
    "- Have the computer \"keep track\" of which words appeared in similar windows\n",
    "\n",
    "After doing this for hours and hours and hours on millions and millions and millions of sentences, the computer becomes *amazingly smart*.\n",
    "\n",
    "The really cool thing is that we can access the results of their training! This involves first \"downloading\" a fairly large (~70 MB) file into CoCalc, so you may not be able to follow along right now:"
   ]
  },
  {
   "cell_type": "code",
   "execution_count": 2,
   "metadata": {
    "collapsed": false
   },
   "outputs": [
   ],
   "source": [
    "import gensim.downloader"
   ]
  },
  {
   "cell_type": "code",
   "execution_count": 3,
   "metadata": {
    "collapsed": false
   },
   "outputs": [
   ],
   "source": [
    "glove_vectors = gensim.downloader.load('glove-wiki-gigaword-50') #Uncomment if/when you want to come back and play with this, but you'll have a chance to do it on homework if you don't want to right now."
   ]
  },
  {
   "cell_type": "code",
   "execution_count": 4,
   "metadata": {
    "collapsed": false
   },
   "outputs": [
    {
     "data": {
      "text/plain": [
       "<gensim.models.keyedvectors.Word2VecKeyedVectors object at 0x7fc28203df10>"
      ]
     },
     "execution_count": 4,
     "metadata": {
     },
     "output_type": "execute_result"
    }
   ],
   "source": [
    "glove_vectors"
   ]
  },
  {
   "cell_type": "code",
   "execution_count": 5,
   "metadata": {
    "collapsed": false
   },
   "outputs": [
    {
     "data": {
      "text/plain": [
       "400000"
      ]
     },
     "execution_count": 5,
     "metadata": {
     },
     "output_type": "execute_result"
    }
   ],
   "source": [
    "len(glove_vectors.vocab)"
   ]
  },
  {
   "cell_type": "code",
   "execution_count": 6,
   "metadata": {
    "collapsed": false
   },
   "outputs": [
    {
     "ename": "KeyError",
     "evalue": "\"word 'Thomas' not in vocabulary\"",
     "output_type": "error",
     "traceback": [
      "\u001b[0;31m---------------------------------------------------------------------------\u001b[0m",
      "\u001b[0;31mKeyError\u001b[0m                                  Traceback (most recent call last)",
      "\u001b[0;32m<ipython-input-6-5e5bbee1ccdf>\u001b[0m in \u001b[0;36m<module>\u001b[0;34m\u001b[0m\n\u001b[0;32m----> 1\u001b[0;31m \u001b[0mglove_vectors\u001b[0m\u001b[0;34m[\u001b[0m\u001b[0;34m'Thomas'\u001b[0m\u001b[0;34m]\u001b[0m\u001b[0;34m\u001b[0m\u001b[0;34m\u001b[0m\u001b[0m\n\u001b[0m",
      "\u001b[0;32m/ext/sage/sage-9.2/local/lib/python3.8/site-packages/gensim/models/keyedvectors.py\u001b[0m in \u001b[0;36m__getitem__\u001b[0;34m(self, entities)\u001b[0m\n\u001b[1;32m    351\u001b[0m         \u001b[0;32mif\u001b[0m \u001b[0misinstance\u001b[0m\u001b[0;34m(\u001b[0m\u001b[0mentities\u001b[0m\u001b[0;34m,\u001b[0m \u001b[0mstring_types\u001b[0m\u001b[0;34m)\u001b[0m\u001b[0;34m:\u001b[0m\u001b[0;34m\u001b[0m\u001b[0;34m\u001b[0m\u001b[0m\n\u001b[1;32m    352\u001b[0m             \u001b[0;31m# allow calls like trained_model['office'], as a shorthand for trained_model[['office']]\u001b[0m\u001b[0;34m\u001b[0m\u001b[0;34m\u001b[0m\u001b[0;34m\u001b[0m\u001b[0m\n\u001b[0;32m--> 353\u001b[0;31m             \u001b[0;32mreturn\u001b[0m \u001b[0mself\u001b[0m\u001b[0;34m.\u001b[0m\u001b[0mget_vector\u001b[0m\u001b[0;34m(\u001b[0m\u001b[0mentities\u001b[0m\u001b[0;34m)\u001b[0m\u001b[0;34m\u001b[0m\u001b[0;34m\u001b[0m\u001b[0m\n\u001b[0m\u001b[1;32m    354\u001b[0m \u001b[0;34m\u001b[0m\u001b[0m\n\u001b[1;32m    355\u001b[0m         \u001b[0;32mreturn\u001b[0m \u001b[0mvstack\u001b[0m\u001b[0;34m(\u001b[0m\u001b[0;34m[\u001b[0m\u001b[0mself\u001b[0m\u001b[0;34m.\u001b[0m\u001b[0mget_vector\u001b[0m\u001b[0;34m(\u001b[0m\u001b[0mentity\u001b[0m\u001b[0;34m)\u001b[0m \u001b[0;32mfor\u001b[0m \u001b[0mentity\u001b[0m \u001b[0;32min\u001b[0m \u001b[0mentities\u001b[0m\u001b[0;34m]\u001b[0m\u001b[0;34m)\u001b[0m\u001b[0;34m\u001b[0m\u001b[0;34m\u001b[0m\u001b[0m\n",
      "\u001b[0;32m/ext/sage/sage-9.2/local/lib/python3.8/site-packages/gensim/models/keyedvectors.py\u001b[0m in \u001b[0;36mget_vector\u001b[0;34m(self, word)\u001b[0m\n\u001b[1;32m    469\u001b[0m \u001b[0;34m\u001b[0m\u001b[0m\n\u001b[1;32m    470\u001b[0m     \u001b[0;32mdef\u001b[0m \u001b[0mget_vector\u001b[0m\u001b[0;34m(\u001b[0m\u001b[0mself\u001b[0m\u001b[0;34m,\u001b[0m \u001b[0mword\u001b[0m\u001b[0;34m)\u001b[0m\u001b[0;34m:\u001b[0m\u001b[0;34m\u001b[0m\u001b[0;34m\u001b[0m\u001b[0m\n\u001b[0;32m--> 471\u001b[0;31m         \u001b[0;32mreturn\u001b[0m \u001b[0mself\u001b[0m\u001b[0;34m.\u001b[0m\u001b[0mword_vec\u001b[0m\u001b[0;34m(\u001b[0m\u001b[0mword\u001b[0m\u001b[0;34m)\u001b[0m\u001b[0;34m\u001b[0m\u001b[0;34m\u001b[0m\u001b[0m\n\u001b[0m\u001b[1;32m    472\u001b[0m \u001b[0;34m\u001b[0m\u001b[0m\n\u001b[1;32m    473\u001b[0m     \u001b[0;32mdef\u001b[0m \u001b[0mwords_closer_than\u001b[0m\u001b[0;34m(\u001b[0m\u001b[0mself\u001b[0m\u001b[0;34m,\u001b[0m \u001b[0mw1\u001b[0m\u001b[0;34m,\u001b[0m \u001b[0mw2\u001b[0m\u001b[0;34m)\u001b[0m\u001b[0;34m:\u001b[0m\u001b[0;34m\u001b[0m\u001b[0;34m\u001b[0m\u001b[0m\n",
      "\u001b[0;32m/ext/sage/sage-9.2/local/lib/python3.8/site-packages/gensim/models/keyedvectors.py\u001b[0m in \u001b[0;36mword_vec\u001b[0;34m(self, word, use_norm)\u001b[0m\n\u001b[1;32m    466\u001b[0m             \u001b[0;32mreturn\u001b[0m \u001b[0mresult\u001b[0m\u001b[0;34m\u001b[0m\u001b[0;34m\u001b[0m\u001b[0m\n\u001b[1;32m    467\u001b[0m         \u001b[0;32melse\u001b[0m\u001b[0;34m:\u001b[0m\u001b[0;34m\u001b[0m\u001b[0;34m\u001b[0m\u001b[0m\n\u001b[0;32m--> 468\u001b[0;31m             \u001b[0;32mraise\u001b[0m \u001b[0mKeyError\u001b[0m\u001b[0;34m(\u001b[0m\u001b[0;34m\"word '%s' not in vocabulary\"\u001b[0m \u001b[0;34m%\u001b[0m \u001b[0mword\u001b[0m\u001b[0;34m)\u001b[0m\u001b[0;34m\u001b[0m\u001b[0;34m\u001b[0m\u001b[0m\n\u001b[0m\u001b[1;32m    469\u001b[0m \u001b[0;34m\u001b[0m\u001b[0m\n\u001b[1;32m    470\u001b[0m     \u001b[0;32mdef\u001b[0m \u001b[0mget_vector\u001b[0m\u001b[0;34m(\u001b[0m\u001b[0mself\u001b[0m\u001b[0;34m,\u001b[0m \u001b[0mword\u001b[0m\u001b[0;34m)\u001b[0m\u001b[0;34m:\u001b[0m\u001b[0;34m\u001b[0m\u001b[0;34m\u001b[0m\u001b[0m\n",
      "\u001b[0;31mKeyError\u001b[0m: \"word 'Thomas' not in vocabulary\""
     ]
    }
   ],
   "source": [
    "glove_vectors['Thomas']"
   ]
  },
  {
   "cell_type": "code",
   "execution_count": 7,
   "metadata": {
    "collapsed": false
   },
   "outputs": [
    {
     "data": {
      "text/plain": [
       "array([-0.10002 ,  0.58581 , -0.18892 , -0.78133 ,  0.56788 ,  0.77982 ,\n",
       "       -1.2221  ,  0.29163 , -0.34162 , -1.2892  , -0.44901 ,  1.1249  ,\n",
       "       -1.2433  , -0.99447 ,  0.28163 , -0.27078 ,  0.23618 , -1.1491  ,\n",
       "       -0.82672 , -0.4048  , -0.098151, -0.067551, -0.32379 ,  0.20813 ,\n",
       "       -0.048732, -1.6105  ,  0.084971, -0.83351 , -0.98128 ,  0.096412,\n",
       "        1.2549  , -0.90291 ,  0.42223 , -0.44529 ,  0.24018 , -0.6333  ,\n",
       "        0.26302 ,  0.49929 ,  0.7031  ,  0.11011 ,  0.94033 ,  0.82832 ,\n",
       "       -0.15095 , -0.11306 ,  0.099107,  0.90746 , -0.13653 , -0.89517 ,\n",
       "       -0.72975 ,  0.86626 ], dtype=float32)"
      ]
     },
     "execution_count": 7,
     "metadata": {
     },
     "output_type": "execute_result"
    }
   ],
   "source": [
    "glove_vectors['thomas']"
   ]
  },
  {
   "cell_type": "code",
   "execution_count": 8,
   "metadata": {
    "collapsed": false
   },
   "outputs": [
    {
     "data": {
      "text/plain": [
       "array([-0.25522 , -0.75249 , -0.86655 ,  1.1197  ,  0.12887 ,  1.0121  ,\n",
       "       -0.57249 , -0.36224 ,  0.44341 , -0.12211 ,  0.073524,  0.21387 ,\n",
       "        0.96744 , -0.068611,  0.51452 , -0.053425, -0.21966 ,  0.23012 ,\n",
       "        1.043   , -0.77016 , -0.16753 , -1.0952  ,  0.24837 ,  0.20019 ,\n",
       "       -0.40866 , -0.48037 ,  0.10674 ,  0.5316  ,  1.111   , -0.19322 ,\n",
       "        1.4768  , -0.51783 , -0.79569 ,  1.7971  , -0.33392 , -0.14545 ,\n",
       "       -1.5454  ,  0.0135  ,  0.10684 , -0.30722 , -0.54572 ,  0.38938 ,\n",
       "        0.24659 , -0.85166 ,  0.54966 ,  0.82679 , -0.68081 , -0.77864 ,\n",
       "       -0.028242, -0.82872 ], dtype=float32)"
      ]
     },
     "execution_count": 8,
     "metadata": {
     },
     "output_type": "execute_result"
    }
   ],
   "source": [
    "glove_vectors['banana']"
   ]
  },
  {
   "cell_type": "code",
   "execution_count": 9,
   "metadata": {
    "collapsed": false
   },
   "outputs": [
    {
     "data": {
      "text/plain": [
       "<class 'numpy.ndarray'>"
      ]
     },
     "execution_count": 9,
     "metadata": {
     },
     "output_type": "execute_result"
    }
   ],
   "source": [
    "type(glove_vectors['banana'])"
   ]
  },
  {
   "cell_type": "code",
   "execution_count": 10,
   "metadata": {
    "collapsed": false
   },
   "outputs": [
    {
     "data": {
      "text/plain": [
       "50"
      ]
     },
     "execution_count": 10,
     "metadata": {
     },
     "output_type": "execute_result"
    }
   ],
   "source": [
    "len(glove_vectors['banana'])"
   ]
  },
  {
   "cell_type": "code",
   "execution_count": 11,
   "metadata": {
    "collapsed": false
   },
   "outputs": [
    {
     "data": {
      "text/plain": [
       "[('bananas', 0.8152028322219849),\n",
       " ('coconut', 0.7872510552406311),\n",
       " ('pineapple', 0.757981538772583),\n",
       " ('mango', 0.7556401491165161),\n",
       " ('beet', 0.7212650179862976),\n",
       " ('fruit', 0.7181406617164612),\n",
       " ('sugar', 0.7180197834968567),\n",
       " ('growers', 0.7165752053260803),\n",
       " ('peanut', 0.7018108367919922),\n",
       " ('cranberry', 0.6957995295524597)]"
      ]
     },
     "execution_count": 11,
     "metadata": {
     },
     "output_type": "execute_result"
    }
   ],
   "source": [
    "glove_vectors.most_similar('banana')"
   ]
  },
  {
   "cell_type": "code",
   "execution_count": 12,
   "metadata": {
    "collapsed": false
   },
   "outputs": [
    {
     "data": {
      "text/plain": [
       "[('tomato', 0.8521810173988342),\n",
       " ('fruit', 0.8491664528846741),\n",
       " ('vegetables', 0.8399223685264587),\n",
       " ('delicious', 0.8329547643661499),\n",
       " ('fruits', 0.8324853777885437),\n",
       " ('roasted', 0.82856285572052),\n",
       " ('spices', 0.8251430988311768),\n",
       " ('savory', 0.8186075091362),\n",
       " ('vegetable', 0.8137245178222656),\n",
       " ('soup', 0.8083689212799072)]"
      ]
     },
     "execution_count": 12,
     "metadata": {
     },
     "output_type": "execute_result"
    }
   ],
   "source": [
    "glove_vectors.most_similar(['edible','spicy'])"
   ]
  },
  {
   "cell_type": "code",
   "execution_count": 13,
   "metadata": {
    "collapsed": false
   },
   "outputs": [
    {
     "data": {
      "text/plain": [
       "[('down', 0.9523451924324036),\n",
       " ('out', 0.9315087795257568),\n",
       " ('while', 0.9285621047019958),\n",
       " ('back', 0.9047043919563293),\n",
       " ('off', 0.8998678922653198),\n",
       " ('put', 0.8958144187927246),\n",
       " ('just', 0.8927414417266846),\n",
       " ('away', 0.8920525908470154),\n",
       " ('over', 0.8814347386360168),\n",
       " ('to', 0.8726335763931274)]"
      ]
     },
     "execution_count": 13,
     "metadata": {
     },
     "output_type": "execute_result"
    }
   ],
   "source": [
    "glove_vectors.most_similar('up')"
   ]
  },
  {
   "cell_type": "code",
   "execution_count": 14,
   "metadata": {
    "collapsed": false
   },
   "outputs": [
    {
     "data": {
      "text/plain": [
       "[('bean', 0.7645796537399292),\n",
       " ('ginger', 0.750214159488678),\n",
       " ('pepper', 0.7419105172157288),\n",
       " ('cook', 0.7234705090522766),\n",
       " ('fry', 0.719668447971344),\n",
       " ('chili', 0.7026278376579285),\n",
       " ('onions', 0.6911578178405762),\n",
       " ('berry', 0.6713414788246155),\n",
       " ('rice', 0.6642091870307922),\n",
       " ('lemon', 0.6562460660934448)]"
      ]
     },
     "execution_count": 14,
     "metadata": {
     },
     "output_type": "execute_result"
    }
   ],
   "source": [
    "glove_vectors.most_similar('curry')"
   ]
  },
  {
   "cell_type": "code",
   "execution_count": 15,
   "metadata": {
    "collapsed": false
   },
   "outputs": [
    {
     "data": {
      "text/plain": [
       "[('barack', 0.9674171805381775),\n",
       " ('bush', 0.9642481207847595),\n",
       " ('clinton', 0.9606046080589294),\n",
       " ('mccain', 0.912293553352356),\n",
       " ('dole', 0.8878743052482605),\n",
       " ('gore', 0.8848039507865906),\n",
       " ('hillary', 0.8776552081108093),\n",
       " ('rodham', 0.8401790857315063),\n",
       " ('kerry', 0.8261427879333496),\n",
       " ('biden', 0.8095825910568237)]"
      ]
     },
     "execution_count": 15,
     "metadata": {
     },
     "output_type": "execute_result"
    }
   ],
   "source": [
    "glove_vectors.most_similar('obama')"
   ]
  },
  {
   "cell_type": "code",
   "execution_count": 16,
   "metadata": {
    "collapsed": false
   },
   "outputs": [
    {
     "data": {
      "text/plain": [
       "[('fbi', 0.8427013158798218),\n",
       " ('intelligence', 0.7883837819099426),\n",
       " ('informant', 0.7376471757888794),\n",
       " ('operative', 0.7352996468544006),\n",
       " ('covert', 0.7318969964981079),\n",
       " ('agents', 0.7244440913200378),\n",
       " ('pentagon', 0.7093384265899658),\n",
       " ('investigation', 0.6950873136520386),\n",
       " ('spy', 0.6949564218521118),\n",
       " ('investigators', 0.6905346512794495)]"
      ]
     },
     "execution_count": 16,
     "metadata": {
     },
     "output_type": "execute_result"
    }
   ],
   "source": [
    "glove_vectors.most_similar('cia')"
   ]
  },
  {
   "cell_type": "code",
   "execution_count": 17,
   "metadata": {
    "collapsed": false
   },
   "outputs": [
    {
     "data": {
      "text/plain": [
       "[('ucsf', 0.7638055682182312),\n",
       " ('sdsu', 0.7081701755523682),\n",
       " ('ucsc', 0.6888858675956726),\n",
       " ('u.c.', 0.6857913732528687),\n",
       " ('tardelli', 0.6850271224975586),\n",
       " ('ucsb', 0.6842514872550964),\n",
       " ('concordia', 0.6812412738800049),\n",
       " ('fgv', 0.6811478734016418),\n",
       " ('eai', 0.671143651008606),\n",
       " ('uc', 0.6686808466911316)]"
      ]
     },
     "execution_count": 17,
     "metadata": {
     },
     "output_type": "execute_result"
    }
   ],
   "source": [
    "glove_vectors.most_similar('ucsd')"
   ]
  },
  {
   "cell_type": "markdown",
   "metadata": {
    "collapsed": false
   },
   "source": [
    "Let's do some crazy stuff now. Analogies! For students that didn't go through elementary school/middle school in the US, there is a common type of \"test\" that involves *analogies*:\n",
    "\n",
    "- Word1 is to Word2 as Word3 is to __________\n",
    "\n",
    "I think it is easiest to just give examples:\n",
    "\n",
    "- MAN is to KING as WOMAN is to _________"
   ]
  },
  {
   "cell_type": "code",
   "execution_count": 18,
   "metadata": {
    "collapsed": false
   },
   "outputs": [
    {
     "data": {
      "text/plain": [
       "[('queen', 0.8523603677749634),\n",
       " ('throne', 0.7664334177970886),\n",
       " ('prince', 0.759214460849762),\n",
       " ('daughter', 0.7473883032798767),\n",
       " ('elizabeth', 0.7460220456123352),\n",
       " ('princess', 0.7424569725990295),\n",
       " ('kingdom', 0.7337411642074585),\n",
       " ('monarch', 0.7214490175247192),\n",
       " ('eldest', 0.7184861898422241),\n",
       " ('widow', 0.7099430561065674)]"
      ]
     },
     "execution_count": 18,
     "metadata": {
     },
     "output_type": "execute_result"
    }
   ],
   "source": [
    "glove_vectors.most_similar(positive = ['king','woman'], negative = ['man'])"
   ]
  },
  {
   "cell_type": "markdown",
   "metadata": {
    "collapsed": false
   },
   "source": [
    "What happened here? You start with KING, and you want to \"replace\" the \"manliness\" of KING with \"womanliness.\" But we have *vectors*; we can literally do this!\n",
    "\n",
    "$$\n",
    "v_{king} - v_{man} + v_{woman}\n",
    "$$"
   ]
  },
  {
   "cell_type": "code",
   "execution_count": 19,
   "metadata": {
    "collapsed": false
   },
   "outputs": [
    {
     "data": {
      "text/plain": [
       "array([ 0.41736597,  0.90427005, -1.0050299 , -0.06202102,  0.49725997,\n",
       "        0.80667007, -0.14855   ,  0.80365   , -0.15653998, -0.66973996,\n",
       "        0.23435399,  0.62476   ,  0.925871  , -0.97099996,  0.92566   ,\n",
       "        0.89915   , -1.54596   , -0.52625   ,  0.13695401,  0.66199005,\n",
       "        0.4871601 ,  0.37035   , -0.214214  ,  0.10100996,  0.71358   ,\n",
       "       -2.0874999 , -1.1362001 , -1.1496099 , -0.53599   ,  0.27389997,\n",
       "        1.6723    ,  0.02930999, -0.77656007,  0.46056286,  0.34866   ,\n",
       "       -0.05741701,  0.19444   , -0.207748  , -0.73038995, -0.10751998,\n",
       "        0.235544  ,  0.96423995, -0.46993998, -0.48727497, -0.25399995,\n",
       "        0.4621299 , -0.66081   , -1.9451499 , -0.68797004, -0.49784005],\n",
       "      dtype=float32)"
      ]
     },
     "execution_count": 19,
     "metadata": {
     },
     "output_type": "execute_result"
    }
   ],
   "source": [
    "glove_vectors['king'] - glove_vectors['man'] + glove_vectors['woman']"
   ]
  },
  {
   "cell_type": "markdown",
   "metadata": {
    "collapsed": false
   },
   "source": [
    "How good is this?\n",
    "\n",
    "AMERICA is to AMERICAN as CHINA is to ___________"
   ]
  },
  {
   "cell_type": "code",
   "execution_count": 20,
   "metadata": {
    "collapsed": false
   },
   "outputs": [
    {
     "data": {
      "text/plain": [
       "[('chinese', 0.8827552199363708),\n",
       " ('taiwan', 0.8043252825737),\n",
       " ('korean', 0.8006567358970642),\n",
       " ('japanese', 0.7709087133407593),\n",
       " ('beijing', 0.7643234729766846),\n",
       " ('taiwanese', 0.7553259134292603),\n",
       " ('japan', 0.7499627470970154),\n",
       " ('asian', 0.7480012774467468),\n",
       " ('korea', 0.7438861131668091),\n",
       " ('mainland', 0.7313058376312256)]"
      ]
     },
     "execution_count": 20,
     "metadata": {
     },
     "output_type": "execute_result"
    }
   ],
   "source": [
    "glove_vectors.most_similar(positive = ['american','china'], negative = ['america'])"
   ]
  },
  {
   "cell_type": "markdown",
   "metadata": {
    "collapsed": false
   },
   "source": [
    "OBAMA is to AMERICAN as PUTIN is to _________"
   ]
  },
  {
   "cell_type": "code",
   "execution_count": 21,
   "metadata": {
    "collapsed": false
   },
   "outputs": [
    {
     "data": {
      "text/plain": [
       "[('russian', 0.8495172262191772),\n",
       " ('soviet', 0.7639276385307312),\n",
       " ('ukrainian', 0.7484616041183472),\n",
       " ('french', 0.7267457246780396),\n",
       " ('polish', 0.7154698967933655),\n",
       " ('german', 0.7137736082077026),\n",
       " ('russia', 0.7072685360908508),\n",
       " ('dutch', 0.6925777196884155),\n",
       " ('canadian', 0.6919834613800049),\n",
       " ('cuban', 0.6899456977844238)]"
      ]
     },
     "execution_count": 21,
     "metadata": {
     },
     "output_type": "execute_result"
    }
   ],
   "source": [
    "glove_vectors.most_similar(positive = ['american','putin'], negative = ['obama'])"
   ]
  },
  {
   "cell_type": "markdown",
   "metadata": {
    "collapsed": false
   },
   "source": [
    "BLUEBERRY is to BLUE as RASPBERRY is to ___________"
   ]
  },
  {
   "cell_type": "code",
   "execution_count": 22,
   "metadata": {
    "collapsed": false
   },
   "outputs": [
    {
     "data": {
      "text/plain": [
       "[('red', 0.7710092067718506),\n",
       " ('purple', 0.7424114942550659),\n",
       " ('yellow', 0.7413184642791748),\n",
       " ('black', 0.7351616024971008),\n",
       " ('orange', 0.7255880236625671),\n",
       " ('golden', 0.7171742916107178),\n",
       " ('colored', 0.7114768624305725),\n",
       " ('pink', 0.7066935896873474),\n",
       " ('crimson', 0.7029789090156555),\n",
       " ('stripes', 0.7023863196372986)]"
      ]
     },
     "execution_count": 22,
     "metadata": {
     },
     "output_type": "execute_result"
    }
   ],
   "source": [
    "glove_vectors.most_similar(positive = ['blue','raspberry'], negative = ['blueberry'])"
   ]
  },
  {
   "cell_type": "markdown",
   "metadata": {
    "collapsed": false
   },
   "source": [
    "Of course it is not perfect...\n",
    "\n",
    "UP is to DOWN as LEFT is to ___________"
   ]
  },
  {
   "cell_type": "code",
   "execution_count": 23,
   "metadata": {
    "collapsed": false
   },
   "outputs": [
    {
     "data": {
      "text/plain": [
       "[('broke', 0.8590975403785706),\n",
       " ('leaving', 0.8382939100265503),\n",
       " ('back', 0.8342666625976562),\n",
       " ('after', 0.8274049758911133),\n",
       " ('when', 0.8219099640846252),\n",
       " ('off', 0.8120282292366028),\n",
       " ('pulled', 0.8114712238311768),\n",
       " ('before', 0.8065346479415894),\n",
       " ('broken', 0.802820086479187),\n",
       " ('then', 0.7916644811630249)]"
      ]
     },
     "execution_count": 23,
     "metadata": {
     },
     "output_type": "execute_result"
    }
   ],
   "source": [
    "glove_vectors.most_similar(positive = ['down','left'], negative = ['up'])"
   ]
  },
  {
   "cell_type": "markdown",
   "metadata": {
    "collapsed": false
   },
   "source": [
    "But I still think it's pretty cool."
   ]
  },
  {
   "cell_type": "code",
   "execution_count": 24,
   "metadata": {
    "collapsed": false
   },
   "outputs": [
    {
     "data": {
      "text/plain": [
       "[('oooooooooooooooooo', 0.9367011785507202),\n",
       " ('x.xx.xx.xx.x', 0.9230756759643555),\n",
       " ('ooooooooooooooo', 0.9122284650802612),\n",
       " ('oooooooooooooooooooo', 0.8784708976745605),\n",
       " ('oo.oo', 0.8721545934677124),\n",
       " ('oooooooooooooo', 0.8281261920928955),\n",
       " ('ooooo', 0.7913150191307068),\n",
       " ('oooooo', 0.7676581740379333),\n",
       " ('oooooooo', 0.7541344165802002),\n",
       " ('oooo', 0.7352308630943298)]"
      ]
     },
     "execution_count": 24,
     "metadata": {
     },
     "output_type": "execute_result"
    }
   ],
   "source": [
    "glove_vectors.most_similar(positive = ['oooooooooo'])"
   ]
  },
  {
   "cell_type": "markdown",
   "metadata": {
    "collapsed": false
   },
   "source": [
    "## Plots Plots Plots Plots Plots Plots (EVERYBODYYYYYYYYY)\n",
    "\n",
    "Let's try some visualization (be careful; we are projecting from 50 dimensions to 2 dimensions, so this is a bit science fiction, but not too much)"
   ]
  },
  {
   "cell_type": "code",
   "execution_count": 25,
   "metadata": {
    "collapsed": false
   },
   "outputs": [
   ],
   "source": [
    "import numpy as np\n",
    "import random\n",
    "import scipy as sp\n",
    "from sklearn.decomposition import TruncatedSVD\n",
    "from sklearn.decomposition import PCA\n",
    "import matplotlib.pyplot as plt\n",
    "def reduce_to_2_dim(M):\n",
    "    n_iters = 10     # Use this parameter in your call to `TruncatedSVD`\n",
    "    M_reduced = None\n",
    "    print(\"Running Truncated SVD over %i words...\" % (M.shape[0]))\n",
    "    \n",
    "    svd = TruncatedSVD(n_components = 2, n_iter = n_iters, random_state = 42)\n",
    "    M_reduced = svd.fit_transform(M)\n",
    "    print(\"Done.\")\n",
    "    return M_reduced\n",
    "\n",
    "def plot_embeddings(M_reduced,word2Ind, words):\n",
    "    b = np.array([word2Ind[word] for word in words])\n",
    "    x = M_reduced[b,0]\n",
    "    y = M_reduced[b,1]\n",
    "    plt.scatter(x,y)\n",
    "    for i in range(len(words)):\n",
    "        plt.annotate(words[i],(x[i],y[i]))"
   ]
  },
  {
   "cell_type": "code",
   "execution_count": 26,
   "metadata": {
    "collapsed": false
   },
   "outputs": [
    {
     "name": "stdout",
     "output_type": "stream",
     "text": [
      "Running Truncated SVD over 10 words...\n",
      "Done.\n"
     ]
    },
    {
     "data": {
      "image/png": "[encoded data removed]",
      "text/plain": [
       "<Figure size 432x288 with 1 Axes>"
      ]
     },
     "execution_count": 26,
     "metadata": {
      "needs_background": "light"
     },
     "output_type": "execute_result"
    }
   ],
   "source": [
    "ws = ['boy','girl','father','mother','son','daughter','aunt','uncle','niece','nephew']\n",
    "word2Ind = {ws[i]:i for i in range(len(ws))}\n",
    "vs = np.asarray([glove_vectors[w] for w in ws])\n",
    "M = reduce_to_2_dim(vs)\n",
    "plot_embeddings(M,word2Ind,ws)"
   ]
  },
  {
   "cell_type": "markdown",
   "metadata": {
    "collapsed": false
   },
   "source": [
    "Note how there is a *linear trend* from the \"male to female\" version of each word. This is what makes the analogies possible."
   ]
  },
  {
   "cell_type": "code",
   "execution_count": 27,
   "metadata": {
    "collapsed": false
   },
   "outputs": [
    {
     "name": "stdout",
     "output_type": "stream",
     "text": [
      "Running Truncated SVD over 6 words...\n",
      "Done.\n"
     ]
    },
    {
     "data": {
      "image/png": "[encoded data removed]",
      "text/plain": [
       "<Figure size 432x288 with 1 Axes>"
      ]
     },
     "execution_count": 27,
     "metadata": {
      "needs_background": "light"
     },
     "output_type": "execute_result"
    }
   ],
   "source": [
    "ws = ['america','american','france','french','spain','spanish']\n",
    "word2Ind = {ws[i]:i for i in range(len(ws))}\n",
    "vs = np.asarray([glove_vectors[w] for w in ws])\n",
    "M = reduce_to_2_dim(vs)\n",
    "plot_embeddings(M,word2Ind,ws)"
   ]
  },
  {
   "cell_type": "code",
   "execution_count": 0,
   "metadata": {
    "collapsed": false
   },
   "outputs": [
   ],
   "source": [
   ]
  }
 ],
 "metadata": {
  "kernelspec": {
   "display_name": "SageMath 9.2",
   "language": "sagemath",
   "metadata": {
    "cocalc": {
     "description": "Open-source mathematical software system",
     "priority": 10,
     "url": "https://www.sagemath.org/"
    }
   },
   "name": "sage-9.2",
   "resource_dir": "/ext/jupyter/kernels/sage-9.2"
  },
  "language_info": {
   "codemirror_mode": {
    "name": "ipython",
    "version": 3
   },
   "file_extension": ".py",
   "mimetype": "text/x-python",
   "name": "python",
   "nbconvert_exporter": "python",
   "pygments_lexer": "ipython3",
   "version": "3.8.5"
  }
 },
 "nbformat": 4,
 "nbformat_minor": 4
}