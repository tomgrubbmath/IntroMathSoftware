{
 "cells": [
  {
   "cell_type": "markdown",
   "metadata": {
    "collapsed": false
   },
   "source": [
    "# Lecture 11: Graph Theory, (1 of 2)\n",
    "\n",
    "### Please note: This lecture will be recorded and made available for viewing online. If you do not wish to be recorded, please adjust your camera settings accordingly. "
   ]
  },
  {
   "cell_type": "markdown",
   "metadata": {
    "collapsed": false
   },
   "source": [
    "# Reminders/Announcements:\n",
    "- Assignment 3 has been collected; Assignment 4 will be pushed soon. (has been pushed)\n",
    "- Quiz 1 scores are available in your CoCalc projects.\n",
    "- More details for the final project will be coming next week.\n",
    "\n",
    "## Graph Theory: The Basics\n",
    "\n",
    "A *combinatorial graph* $G$ is a collection of *vertices* (also called *nodes*) $V$ and a collection of *edges* $E$ which connect some (or all, or none) of the vertices. Often we write $G = (V,E)$ to make this explicit. The edges are considered *unordered*, unless explicitly stated otherwise. We've all seen these before, just maybe not formally! \n",
    "\n",
    "SageMath has an extensive graph theory package. It is under the `graphs` module, i.e. your constructions *might* have to call `graphs.functionName`, like with NumPy. This is builtin though, so there is no import statement needed.\n",
    "\n",
    "Here is a *cycle graph*, with vertices $V = \\{0,1,2,3,4\\}$ and edges $E = \\{\\{0,1\\},\\{1,2\\},\\{2,3\\},\\{3,4\\},\\{4,0\\}\\}$:"
   ]
  },
  {
   "cell_type": "code",
   "execution_count": 0,
   "metadata": {
    "collapsed": false
   },
   "outputs": [
   ],
   "source": [
    "G = graphs.CycleGraph(5)\n",
    "show(G)"
   ]
  },
  {
   "cell_type": "code",
   "execution_count": 0,
   "metadata": {
    "collapsed": false
   },
   "outputs": [
   ],
   "source": [
    "type(G)"
   ]
  },
  {
   "cell_type": "code",
   "execution_count": 0,
   "metadata": {
    "collapsed": false
   },
   "outputs": [
   ],
   "source": [
    "G.vertices() #Returns a list of vertices in your graph"
   ]
  },
  {
   "cell_type": "code",
   "execution_count": 0,
   "metadata": {
    "collapsed": false
   },
   "outputs": [
   ],
   "source": [
    "G.edges()   #Returns a list of edges in your graph; the 'None' in the third parameter refers to a potential weighting on your edges, which we'll discuss later."
   ]
  },
  {
   "cell_type": "markdown",
   "metadata": {
    "collapsed": false
   },
   "source": [
    "Note that the edges above *look* ordered, but they aren't."
   ]
  },
  {
   "cell_type": "code",
   "execution_count": 0,
   "metadata": {
    "collapsed": false
   },
   "outputs": [
   ],
   "source": [
    "G.add_edge((2,1))\n",
    "G.edges()"
   ]
  },
  {
   "cell_type": "markdown",
   "metadata": {
    "collapsed": false
   },
   "source": [
    "There are many neat graphs. *Many* of these graphs come in families, and Sage allows you to build such graphs right away: https://doc.sagemath.org/html/en/reference/graphs/sage/graphs/graph_generators.html\n",
    "\n",
    "Here is one for the weightlifters:"
   ]
  },
  {
   "cell_type": "code",
   "execution_count": 0,
   "metadata": {
    "collapsed": false
   },
   "outputs": [
   ],
   "source": [
    "show(graphs.BarbellGraph(8,5))"
   ]
  },
  {
   "cell_type": "markdown",
   "metadata": {
    "collapsed": false
   },
   "source": [
    "And the candy enthusiasts:"
   ]
  },
  {
   "cell_type": "code",
   "execution_count": 0,
   "metadata": {
    "collapsed": false
   },
   "outputs": [
   ],
   "source": [
    "show(graphs.LollipopGraph(5,5))"
   ]
  },
  {
   "cell_type": "markdown",
   "metadata": {
    "collapsed": false
   },
   "source": [
    "And the construction enthusiasts:"
   ]
  },
  {
   "cell_type": "code",
   "execution_count": 0,
   "metadata": {
    "collapsed": false
   },
   "outputs": [
   ],
   "source": [
    "show(graphs.LadderGraph(7))"
   ]
  },
  {
   "cell_type": "markdown",
   "metadata": {
    "collapsed": false
   },
   "source": [
    "And the Fibonacci enthusiasts:"
   ]
  },
  {
   "cell_type": "code",
   "execution_count": 0,
   "metadata": {
    "collapsed": false
   },
   "outputs": [
   ],
   "source": [
    "show(graphs.FibonacciTree(5))"
   ]
  },
  {
   "cell_type": "markdown",
   "metadata": {
    "collapsed": false
   },
   "source": [
    "And the snark enthusiasts:"
   ]
  },
  {
   "cell_type": "code",
   "execution_count": 0,
   "metadata": {
    "collapsed": false
   },
   "outputs": [
   ],
   "source": [
    "show(graphs.BlanusaFirstSnarkGraph())"
   ]
  },
  {
   "cell_type": "markdown",
   "metadata": {
    "collapsed": false
   },
   "source": [
    "On a more serious note, a good knowledge of graph theory is *really useful* in the whole world: \n",
    "\n",
    "- The *web graph* has a node for every webpage $W$ and has a directed edge from $W_1$ to $W_2$ if there is a hyperlink on $W_1$ pointing to $W_2$. The study of this graph is useful for things like Google's pagerank algorithm.\n",
    "- The *social graph* has people as vertices, with $P_1$ connected to $P_2$ if they are friends (or have some other connection, like membership in the same group) on social media. Knowledge of this graph can be used by Facebook to make recommendations for new friends.\n",
    "- You can consider the real world as a graph, with locations of interest as vertices and with streets as (weighted) edges. Finding short paths between nodes on this graph is crucial for the success of companies like Uber or Instacart. This is related to things like *minimum spanning trees* or the *travelling salesperson problem*.\n",
    "- The placement of components on microdevices (computer chips) can be modeled by a graph with weighted edges *and* weighted vertices. Ensuring that your device does not overheat yet still performs efficiently can be phrased in the language of these weights. Google solves this problem with artificial intelligence, because they don't have any real intelligence to spare.\n",
    "\n",
    "Unfortunately many of these real world problems are *very hard* to solve (even though slime molds can allegedly solve them: http://www.sci-news.com/biology/slime-mold-problems-linear-time-06759.html . Score one to the fungi!)\n",
    "\n",
    "If you want to instantiate a \"nonstandard\" graph (i.e. you want to personally specify the vertices and edges) there are a few ways to do it. The most straightforward way is to call `Graph([listOfEdges])`:"
   ]
  },
  {
   "cell_type": "code",
   "execution_count": 0,
   "metadata": {
    "collapsed": false
   },
   "outputs": [
   ],
   "source": [
    "G = Graph([(1,2),(2,3),(3,4),(5,6)])\n",
    "show(G)\n",
    "G.edges()"
   ]
  },
  {
   "cell_type": "markdown",
   "metadata": {
    "collapsed": false
   },
   "source": [
    "You can also make your vertices strings, which in practice is very helpful, although this won't be apparent until later:"
   ]
  },
  {
   "cell_type": "code",
   "execution_count": 0,
   "metadata": {
    "collapsed": false
   },
   "outputs": [
   ],
   "source": [
    "G = Graph([('Tom','Bill'),('Bill','Ted'),('Ted','Frank'),('Joe','Jim')])\n",
    "show(G)\n",
    "G.edges()"
   ]
  },
  {
   "cell_type": "markdown",
   "metadata": {
    "collapsed": false
   },
   "source": [
    "An important object related to a graph $G$ is the *adjacency matrix*. We will see in homework *why* it is so important:"
   ]
  },
  {
   "cell_type": "code",
   "execution_count": 0,
   "metadata": {
    "collapsed": false
   },
   "outputs": [
   ],
   "source": [
    "G.adjacency_matrix()"
   ]
  },
  {
   "cell_type": "markdown",
   "metadata": {
    "collapsed": false
   },
   "source": [
    "You can turn an adjacency matrix into a graph. The downside is that you lose info on the vertex labels:"
   ]
  },
  {
   "cell_type": "code",
   "execution_count": 0,
   "metadata": {
    "collapsed": false
   },
   "outputs": [
   ],
   "source": [
    "Graph(G.adjacency_matrix())"
   ]
  },
  {
   "cell_type": "markdown",
   "metadata": {
    "collapsed": false
   },
   "source": [
    "As with matrices, you can also iteratively add vertices and edges. The syntax here is to start with my favorite graph:"
   ]
  },
  {
   "cell_type": "code",
   "execution_count": 0,
   "metadata": {
    "collapsed": false
   },
   "outputs": [
   ],
   "source": [
    "G = Graph()\n",
    "show(G)     #Initialize with the empty graph"
   ]
  },
  {
   "cell_type": "markdown",
   "metadata": {
    "collapsed": false
   },
   "source": [
    "And then call `add_vertices` and `add_edges`:"
   ]
  },
  {
   "cell_type": "code",
   "execution_count": 0,
   "metadata": {
    "collapsed": false
   },
   "outputs": [
   ],
   "source": [
    "G.add_vertices(['Denver','Seattle','Boston','Miami'])\n",
    "show(G)"
   ]
  },
  {
   "cell_type": "code",
   "execution_count": 0,
   "metadata": {
    "collapsed": false
   },
   "outputs": [
   ],
   "source": [
    "G.add_edges([('Boston','Seattle'),('Miami','Denver')])\n",
    "show(G)"
   ]
  },
  {
   "cell_type": "markdown",
   "metadata": {
    "collapsed": false
   },
   "source": [
    "This could look like this in a more complicated setting:"
   ]
  },
  {
   "cell_type": "code",
   "execution_count": 0,
   "metadata": {
    "collapsed": false
   },
   "outputs": [
   ],
   "source": [
    "G = Graph()  #Start with an empty graph\n",
    "G.add_vertices([i for i in range(20)])   #Add the vertices you want (could be a list of strings as well)\n",
    "for i in G:   #Iterate through all possible pairs of vertices\n",
    "    for j in G:\n",
    "        if i!=j:\n",
    "            if i % 5 == j % 5:   #If some favorable condition is met, add an edge\n",
    "                G.add_edges([(i,j)])\n",
    "show(G)"
   ]
  },
  {
   "cell_type": "markdown",
   "metadata": {
    "collapsed": false
   },
   "source": [
    "## ***** Participation Check ***************************\n",
    "In the code cell below, create a graph $G$ with vertices $1,2,3,\\dots,15$ and with an edge connecting $i$ and $j$ if and only if $i$ divides $j$ or $j$ divides $i$. Then show your graph."
   ]
  },
  {
   "cell_type": "code",
   "execution_count": 0,
   "metadata": {
    "collapsed": false
   },
   "outputs": [
   ],
   "source": [
    "#Your code here"
   ]
  },
  {
   "cell_type": "markdown",
   "metadata": {
    "collapsed": false
   },
   "source": [
    "## ***********************************************************\n",
    "\n",
    "There are many useful descriptive statistics of graphs that you can directly access."
   ]
  },
  {
   "cell_type": "code",
   "execution_count": 0,
   "metadata": {
    "collapsed": false
   },
   "outputs": [
   ],
   "source": [
    "G.connected_components()"
   ]
  },
  {
   "cell_type": "code",
   "execution_count": 0,
   "metadata": {
    "collapsed": false
   },
   "outputs": [
   ],
   "source": [
    "G.connected_components_number()"
   ]
  },
  {
   "cell_type": "code",
   "execution_count": 0,
   "metadata": {
    "collapsed": false
   },
   "outputs": [
   ],
   "source": [
    "G = graphs.RandomTree(20)\n",
    "plot(G, vertex_size=200, vertex_colors={'#FF0000': [2], '#00FF00': [3]})"
   ]
  },
  {
   "cell_type": "code",
   "execution_count": 0,
   "metadata": {
    "collapsed": false
   },
   "outputs": [
   ],
   "source": [
    "print(G.distance(2,3))  #number of edges in the shortest path from 2 to 3 \n",
    "print(G.diameter())     #maximum distance between any pair of vertices"
   ]
  },
  {
   "cell_type": "markdown",
   "metadata": {
    "collapsed": false
   },
   "source": [
    "The *degree* of a vertex is the number of edges connected to that vertex."
   ]
  },
  {
   "cell_type": "code",
   "execution_count": 0,
   "metadata": {
    "collapsed": false
   },
   "outputs": [
   ],
   "source": [
    "print(G.degree(2))"
   ]
  },
  {
   "cell_type": "code",
   "execution_count": 0,
   "metadata": {
    "collapsed": false
   },
   "outputs": [
   ],
   "source": [
    "print(G.degree_sequence()) #This orders it in decreasing order"
   ]
  },
  {
   "cell_type": "markdown",
   "metadata": {
    "collapsed": false
   },
   "source": [
    "The object we created above is a *random* graph (specifically, a random *tree*). Studying properties of random graphs can lead to very fruitful insights. Often real life graphs \"behave randomly,\" so if we understand the probability of something happening in a random graph, we can potentially gain real life insights."
   ]
  },
  {
   "cell_type": "code",
   "execution_count": 0,
   "metadata": {
    "collapsed": false
   },
   "outputs": [
   ],
   "source": [
    "graphs.RandomTree(20).plot()"
   ]
  },
  {
   "cell_type": "markdown",
   "metadata": {
    "collapsed": false
   },
   "source": [
    "## ***** Participation Check ***************************\n",
    "In the code cell below, create 100 random trees on 10 vertices and compute their diameters. What is the average diameter you get? In the subsequent code cells, repeat your code but for random trees on 100 and 1000 vertices, respectively. If you had to guess, what would you *expect* the diameter of a random tree on $N$ vertices to be?"
   ]
  },
  {
   "cell_type": "code",
   "execution_count": 0,
   "metadata": {
    "collapsed": false
   },
   "outputs": [
   ],
   "source": [
    "# Code here"
   ]
  },
  {
   "cell_type": "code",
   "execution_count": 0,
   "metadata": {
    "collapsed": false
   },
   "outputs": [
   ],
   "source": [
    "# Code here"
   ]
  },
  {
   "cell_type": "markdown",
   "metadata": {
    "collapsed": false
   },
   "source": [
    "## ***********************************************************"
   ]
  },
  {
   "cell_type": "markdown",
   "metadata": {
    "collapsed": false
   },
   "source": [
    "## Graph Colorings"
   ]
  },
  {
   "cell_type": "markdown",
   "metadata": {
    "collapsed": false
   },
   "source": [
    "A *proper k-coloring* of a graph $G = (V,E)$ is a map $\\chi:V\\to \\{1,2,\\dots,k\\}$ which satisfies the restriction that $\\chi(i)\\neq \\chi(j)$ whenever $i$ is adjacent to $j$ in $G$. The smallest $k$ for which there exists a proper $k$ coloring of $G$ is called the *chromatic number* of $G$."
   ]
  },
  {
   "cell_type": "code",
   "execution_count": 0,
   "metadata": {
    "collapsed": false
   },
   "outputs": [
   ],
   "source": [
    "G = graphs.RandomGNP(15,.3)\n",
    "plot(G,layout = 'circular')"
   ]
  },
  {
   "cell_type": "code",
   "execution_count": 0,
   "metadata": {
    "collapsed": false
   },
   "outputs": [
   ],
   "source": [
    "G.chromatic_number()"
   ]
  },
  {
   "cell_type": "markdown",
   "metadata": {
    "collapsed": false
   },
   "source": [
    "You can produce colorings in Sage as follows (in general this is a pretty difficult problem, i.e. it is NP complete)"
   ]
  },
  {
   "cell_type": "code",
   "execution_count": 0,
   "metadata": {
    "collapsed": false
   },
   "outputs": [
   ],
   "source": [
    "G.coloring()"
   ]
  },
  {
   "cell_type": "code",
   "execution_count": 0,
   "metadata": {
    "collapsed": false
   },
   "outputs": [
   ],
   "source": [
    "colors = ['red','green','blue', 'yellow']\n",
    "cmap = {colors[i]: G.coloring()[i] for i in range(G.chromatic_number())}"
   ]
  },
  {
   "cell_type": "code",
   "execution_count": 0,
   "metadata": {
    "collapsed": false
   },
   "outputs": [
   ],
   "source": [
    "plot(G, vertex_colors = cmap, layout = 'circular')"
   ]
  },
  {
   "cell_type": "markdown",
   "metadata": {
    "collapsed": false
   },
   "source": [
    "What's better is that you can actually study the *number of ways* of coloring a graph using $k$ colors. There is actually a polynomial which computes this, called the *chromatic polynomial*!"
   ]
  },
  {
   "cell_type": "code",
   "execution_count": 0,
   "metadata": {
    "collapsed": false
   },
   "outputs": [
   ],
   "source": [
    "f = G.chromatic_polynomial()\n",
    "print(f)"
   ]
  },
  {
   "cell_type": "code",
   "execution_count": 0,
   "metadata": {
    "collapsed": false
   },
   "outputs": [
   ],
   "source": [
    "f(1)"
   ]
  },
  {
   "cell_type": "code",
   "execution_count": 0,
   "metadata": {
    "collapsed": false
   },
   "outputs": [
   ],
   "source": [
    "f(2)"
   ]
  },
  {
   "cell_type": "code",
   "execution_count": 0,
   "metadata": {
    "collapsed": false
   },
   "outputs": [
   ],
   "source": [
    "f(3)"
   ]
  },
  {
   "cell_type": "code",
   "execution_count": 0,
   "metadata": {
    "collapsed": false
   },
   "outputs": [
   ],
   "source": [
    "f(4)"
   ]
  },
  {
   "cell_type": "code",
   "execution_count": 0,
   "metadata": {
    "collapsed": false
   },
   "outputs": [
   ],
   "source": [
    "f(5)"
   ]
  },
  {
   "cell_type": "markdown",
   "metadata": {
    "collapsed": false
   },
   "source": [
    "## Planarity\n",
    "\n",
    "A graph is *planar* if it *can be* drawn on a piece of paper without any edges crossing. Note the importance of *can be*."
   ]
  },
  {
   "cell_type": "code",
   "execution_count": 0,
   "metadata": {
    "collapsed": false
   },
   "outputs": [
   ],
   "source": [
    "G = graphs.CompleteGraph(4)\n",
    "show(G)"
   ]
  },
  {
   "cell_type": "code",
   "execution_count": 0,
   "metadata": {
    "collapsed": false
   },
   "outputs": [
   ],
   "source": [
    "G.is_planar()"
   ]
  },
  {
   "cell_type": "code",
   "execution_count": 0,
   "metadata": {
    "collapsed": false
   },
   "outputs": [
   ],
   "source": [
    "plot(G, layout = 'planar')"
   ]
  },
  {
   "cell_type": "markdown",
   "metadata": {
    "collapsed": false
   },
   "source": [
    "No matter how you wiggle around graphs like the following, you will *always* have edge crossings:"
   ]
  },
  {
   "cell_type": "code",
   "execution_count": 0,
   "metadata": {
    "collapsed": false
   },
   "outputs": [
   ],
   "source": [
    "G = graphs.PetersenGraph()\n",
    "plot(G)"
   ]
  },
  {
   "cell_type": "code",
   "execution_count": 0,
   "metadata": {
    "collapsed": false
   },
   "outputs": [
   ],
   "source": [
    "G.is_planar()"
   ]
  },
  {
   "cell_type": "markdown",
   "metadata": {
    "collapsed": false
   },
   "source": [
    "This is related to certain topological properties of the graph.\n",
    "\n",
    "The famous *Kuratowski Theorem* says that planarity of $G$ is closely related to whether or not $G$ has a subgraph which \"looks like\" $K_5$ or $K_{3,3}$.\n",
    "\n",
    "Here $K_5$ means the complete graph on $5$ vertices and $K_{3,3}$ means a complete bipartite graph."
   ]
  },
  {
   "cell_type": "code",
   "execution_count": 0,
   "metadata": {
    "collapsed": false
   },
   "outputs": [
   ],
   "source": [
    "plot(graphs.CompleteGraph(5))"
   ]
  },
  {
   "cell_type": "code",
   "execution_count": 0,
   "metadata": {
    "collapsed": false
   },
   "outputs": [
   ],
   "source": [
    "plot(graphs.CompleteBipartiteGraph(3,3))"
   ]
  },
  {
   "cell_type": "markdown",
   "metadata": {
    "collapsed": false
   },
   "source": [
    "This gives a visual \"proof\" of why the Petersen Graph is nonplanar: https://www.geogebra.org/m/f2WVxVBh\n",
    "\n",
    "Planarity brings us to the famous *four color theorem*. Any planar graph can be properly colored with 4 colors.\n",
    "\n",
    "Here is a depiction of that theorem to a map of the United States, taken from Wikipedia. Attribution: (By Map_of_USA_four_colours.svg: of the modification : Derfel73) Dbenbennderivative work: Tomwsulcer (talk) - Map_of_USA_four_colours.svg, CC BY-SA 3.0, https://commons.wikimedia.org/w/index.php?curid=19143208 )\n",
    "\n",
    "![4colors](Map_of_United_States_vivid_colors_shown.png)\n",
    "\n",
    "To my knowledge (I don't know much) the original proof uses theory to reduce to the case of showing that some finite (but very large) list of planar graphs are colorable, and then just uses human/computer verification on those examples. Although I think modern proofs exist which are a bit more holistic."
   ]
  },
  {
   "cell_type": "code",
   "execution_count": 0,
   "metadata": {
    "collapsed": false
   },
   "outputs": [
   ],
   "source": [
    "plot(graphs.CompleteBipartiteGraph(3,3))"
   ]
  },
  {
   "cell_type": "code",
   "execution_count": 0,
   "metadata": {
    "collapsed": false
   },
   "outputs": [
   ],
   "source": [
    "graphs.CompleteBipartiteGraph(3,3).chromatic_number()"
   ]
  },
  {
   "cell_type": "code",
   "execution_count": 0,
   "metadata": {
    "collapsed": false
   },
   "outputs": [
   ],
   "source": [
    "G =graphs.CycleGraph(5)\n",
    "G.add_vertices([5,6])\n",
    "for i in [5,6]:\n",
    "    for j in [0,1,2,3,4]:\n",
    "        G.add_edge((i,j))\n",
    "G.add_edge((5,6))\n",
    "plot(G,layout = 'circular')"
   ]
  },
  {
   "cell_type": "code",
   "execution_count": 0,
   "metadata": {
    "collapsed": false
   },
   "outputs": [
   ],
   "source": [
    "G.chromatic_number()"
   ]
  },
  {
   "cell_type": "markdown",
   "metadata": {
    "collapsed": false
   },
   "source": [
    "## Cycles\n",
    "\n",
    "A *cycle* in a graph is a way of starting at a vertex $v$ and finding a path of *distinct* edges which takes you through the graph and back to $v$."
   ]
  },
  {
   "cell_type": "code",
   "execution_count": 0,
   "metadata": {
    "collapsed": false
   },
   "outputs": [
   ],
   "source": [
    "show(graphs.LadderGraph(4))"
   ]
  },
  {
   "cell_type": "markdown",
   "metadata": {
    "collapsed": false
   },
   "source": [
    "Sage has a *cycle basis* function, which in some sense gives you all the cycles in a graph (although not really)"
   ]
  },
  {
   "cell_type": "code",
   "execution_count": 0,
   "metadata": {
    "collapsed": false
   },
   "outputs": [
   ],
   "source": [
    "graphs.LadderGraph(4).cycle_basis()"
   ]
  },
  {
   "cell_type": "markdown",
   "metadata": {
    "collapsed": false
   },
   "source": [
    "There are two special types of cycles in a graph. An *Eulerian cycle* is a cycle which goes through every edge in the graph exactly once. They are called Eulerian because Euler classified which graphs have such cycles. They are the graphs $G$ where \n",
    "- Every vertex has even degree\n",
    "- Every vertex of positive degree is in a single connected component"
   ]
  },
  {
   "cell_type": "code",
   "execution_count": 0,
   "metadata": {
    "collapsed": false
   },
   "outputs": [
   ],
   "source": [
    "G = graphs.CompleteBipartiteGraph(2,4)\n",
    "show(G)"
   ]
  },
  {
   "cell_type": "code",
   "execution_count": 0,
   "metadata": {
    "collapsed": false
   },
   "outputs": [
   ],
   "source": [
    "G.eulerian_circuit()"
   ]
  },
  {
   "cell_type": "code",
   "execution_count": 0,
   "metadata": {
    "collapsed": false
   },
   "outputs": [
   ],
   "source": [
    "G = graphs.CompleteBipartiteGraph(3,4)\n",
    "show(G)"
   ]
  },
  {
   "cell_type": "code",
   "execution_count": 0,
   "metadata": {
    "collapsed": false
   },
   "outputs": [
   ],
   "source": [
    "G.eulerian_circuit()"
   ]
  },
  {
   "cell_type": "markdown",
   "metadata": {
    "collapsed": false
   },
   "source": [
    "The other famous cycle is a *Hamiltonian cycle*. It is a cycle which visits every vertex in the graph exactly once. It is *much* harder to say when a graph has such a cycle."
   ]
  },
  {
   "cell_type": "code",
   "execution_count": 0,
   "metadata": {
    "collapsed": false
   },
   "outputs": [
   ],
   "source": [
    "G = graphs.CompleteBipartiteGraph(2,4)\n",
    "show(G)"
   ]
  },
  {
   "cell_type": "code",
   "execution_count": 0,
   "metadata": {
    "collapsed": false
   },
   "outputs": [
   ],
   "source": [
    "G.hamiltonian_cycle()"
   ]
  },
  {
   "cell_type": "code",
   "execution_count": 0,
   "metadata": {
    "collapsed": false
   },
   "outputs": [
   ],
   "source": [
    "G = graphs.CompleteBipartiteGraph(3,3)\n",
    "show(G)"
   ]
  },
  {
   "cell_type": "code",
   "execution_count": 0,
   "metadata": {
    "collapsed": false
   },
   "outputs": [
   ],
   "source": [
    "G.hamiltonian_cycle()"
   ]
  },
  {
   "cell_type": "markdown",
   "metadata": {
    "collapsed": false
   },
   "source": [
    "We will talk about special forms of Hamiltonian cycles with respect to the Travelling Salesperson Problem in Assignment 4."
   ]
  },
  {
   "cell_type": "markdown",
   "metadata": {
    "collapsed": false
   },
   "source": [
    "## Weighted and Directed Graphs\n",
    "\n",
    "Often it can be useful to add information to a graph. One can do this by weighting edges, or by directing edges. \n",
    "\n",
    "Think of the weighting of an edge as *some sort of cost*."
   ]
  },
  {
   "cell_type": "code",
   "execution_count": 0,
   "metadata": {
    "collapsed": false
   },
   "outputs": [
   ],
   "source": [
    "G = Graph()\n",
    "G.weighted(True)\n",
    "\n",
    "G.add_vertices([i for i in range(1,16)])\n",
    "\n",
    "for i in G:\n",
    "    for j in G:\n",
    "        if i!=j:\n",
    "            if i and j%i == 0:\n",
    "                G.add_edge((i,j,i*j + i + j))\n",
    "plot(G, layout = 'circular')"
   ]
  },
  {
   "cell_type": "code",
   "execution_count": 0,
   "metadata": {
    "collapsed": false
   },
   "outputs": [
   ],
   "source": [
    "plot(G, layout = 'circular',edge_labels = True)"
   ]
  },
  {
   "cell_type": "markdown",
   "metadata": {
    "collapsed": false
   },
   "source": [
    "Think of the current edge set as the set of possible roads that you could construct between these 15 buildings. The weight of edge $E$ is the cost for paving that road. How can we connect all the buildings together in a way that minimizes our cost?\n",
    "\n",
    "This is given by a *minimum spanning tree*\n",
    "\n"
   ]
  },
  {
   "cell_type": "code",
   "execution_count": 0,
   "metadata": {
    "collapsed": false
   },
   "outputs": [
   ],
   "source": [
    "G.min_spanning_tree()"
   ]
  },
  {
   "cell_type": "code",
   "execution_count": 0,
   "metadata": {
    "collapsed": false
   },
   "outputs": [
   ],
   "source": [
    "plot(Graph(G.min_spanning_tree()), edge_labels = True,layout = 'circular')"
   ]
  },
  {
   "cell_type": "code",
   "execution_count": 0,
   "metadata": {
    "collapsed": false
   },
   "outputs": [
   ],
   "source": [
    "totalCost = sum([edge[2] for edge in G.min_spanning_tree()])\n",
    "totalCost"
   ]
  },
  {
   "cell_type": "markdown",
   "metadata": {
    "collapsed": false
   },
   "source": [
    "What happens if we alter the cost function?"
   ]
  },
  {
   "cell_type": "code",
   "execution_count": 0,
   "metadata": {
    "collapsed": false
   },
   "outputs": [
   ],
   "source": [
    "G = Graph()\n",
    "G.weighted(True)\n",
    "\n",
    "G.add_vertices([i for i in range(1,16)])\n",
    "\n",
    "for i in G:\n",
    "    for j in G:\n",
    "        if i!=j:\n",
    "            if i and j%i == 0:\n",
    "                G.add_edge((i,j,(15 - i)*(15-j)))\n",
    "plot(G, layout = 'circular', edge_labels = True)"
   ]
  },
  {
   "cell_type": "code",
   "execution_count": 0,
   "metadata": {
    "collapsed": false
   },
   "outputs": [
   ],
   "source": [
    "plot(Graph(G.min_spanning_tree()), edge_labels = True, layout = 'circular')"
   ]
  },
  {
   "cell_type": "code",
   "execution_count": 0,
   "metadata": {
    "collapsed": false
   },
   "outputs": [
   ],
   "source": [
    "plot(Graph(G.min_spanning_tree()), edge_labels = True)"
   ]
  },
  {
   "cell_type": "markdown",
   "metadata": {
    "collapsed": false
   },
   "source": [
    "In a directed graph, an edge points *from one vertex to another*."
   ]
  },
  {
   "cell_type": "code",
   "execution_count": 0,
   "metadata": {
    "collapsed": false
   },
   "outputs": [
   ],
   "source": [
    "D = DiGraph()\n",
    "D.add_vertices([1,2,3])\n",
    "D.add_edges([(1,2),(2,3)])\n",
    "show(D)"
   ]
  },
  {
   "cell_type": "markdown",
   "metadata": {
    "collapsed": false
   },
   "source": [
    "Note that you can now add *both* the edges $(i,j)$ and $(j,i)$."
   ]
  },
  {
   "cell_type": "code",
   "execution_count": 0,
   "metadata": {
    "collapsed": false
   },
   "outputs": [
   ],
   "source": [
    "D.add_edges([(2,1),(3,2)])\n",
    "show(D)"
   ]
  },
  {
   "cell_type": "markdown",
   "metadata": {
    "collapsed": false
   },
   "source": [
    "Now vertices have both an *indegree* and an *outdegree*"
   ]
  },
  {
   "cell_type": "code",
   "execution_count": 0,
   "metadata": {
    "collapsed": false
   },
   "outputs": [
   ],
   "source": [
    "D.out_degree(1)"
   ]
  },
  {
   "cell_type": "code",
   "execution_count": 0,
   "metadata": {
    "collapsed": false
   },
   "outputs": [
   ],
   "source": [
    "D.in_degree(1)"
   ]
  },
  {
   "cell_type": "markdown",
   "metadata": {
    "collapsed": false
   },
   "source": [
    "This leads to the concept of *sources* and *sinks*"
   ]
  },
  {
   "cell_type": "code",
   "execution_count": 0,
   "metadata": {
    "collapsed": false
   },
   "outputs": [
   ],
   "source": [
    "D = digraphs.RandomDirectedGNP(10, 1/7)\n",
    "plot(D, vertex_colors = {'green':D.sources(),'red':D.sinks()})"
   ]
  },
  {
   "cell_type": "markdown",
   "metadata": {
    "collapsed": false
   },
   "source": [
    "Digraphs are often used to model things such as electrical connectivity (i.e. you think of sources as sources of electrical power; the sinks are things that need to be powered)."
   ]
  }
 ],
 "metadata": {
  "kernelspec": {
   "display_name": "SageMath 9.2",
   "language": "sagemath",
   "metadata": {
    "cocalc": {
     "description": "Open-source mathematical software system",
     "priority": 10,
     "url": "https://www.sagemath.org/"
    }
   },
   "name": "sage-9.2",
   "resource_dir": "/ext/jupyter/kernels/sage-9.2"
  },
  "language_info": {
   "codemirror_mode": {
    "name": "ipython",
    "version": 3
   },
   "file_extension": ".py",
   "mimetype": "text/x-python",
   "name": "python",
   "nbconvert_exporter": "python",
   "pygments_lexer": "ipython3",
   "version": "3.8.5"
  }
 },
 "nbformat": 4,
 "nbformat_minor": 4
}