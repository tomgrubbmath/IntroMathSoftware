{
 "cells": [
  {
   "cell_type": "markdown",
   "metadata": {
    "collapsed": false
   },
   "source": [
    "# Lecture 24: Image Classification and the MNIST Digits Dataset\n",
    "\n",
    "### Please note: This lecture will be recorded and made available for viewing online. If you do not wish to be recorded, please adjust your camera settings accordingly. \n",
    "\n",
    "# Reminders/Announcements:\n",
    "- Done with homework!\n",
    "- Please do CAPES!\n",
    "    - If we get 75% completion by Monday, then Wednesday and Friday's lectures will be cancelled (with free participation points for each) and that time can be spent presenting/working on your final projects.\n",
    "- Final Project \"examples\" from last year available\n",
    "    - Warning: I make no claims that these are \"perfect\" projects (in particular, they are missing participation checks, etc.) but I think the presentations are quite good\n",
    "- Some final project remarks:\n",
    "    - If you have tried getting in touch with your groupmates and have had no response, please email me\n",
    "    - I recommend *making a plan* with your groupmates by the end of next week (things will be collected on Wednesday of finals week, so presentations should occur *before* then)"
   ]
  },
  {
   "cell_type": "markdown",
   "metadata": {
    "collapsed": false
   },
   "source": [
    "## MNIST\n",
    "\n",
    "The *Modified National Institute of Standards and Technology* (MNIST) database is a large collection of data that can be used for training and evaluating models in machine learning. Why is this important? Well...think of all of the news articles you have seen recently about self driving cars! For such a car to be safely allowed on the road, it has to have a *very good* image recognition mechanism. Otherwise we are left vulnerable to things like this: \n",
    "\n",
    "![](stop.png)\n",
    "\n",
    "Image extracted from: https://arxiv.org/pdf/1707.08945.pdf\n",
    "\n",
    "Subtle modifications to street signs can be easily overcome by human drivers. They are *very difficult* for a computer to deal with. \n",
    "\n",
    "This lecture will be a brief introduction to image analysis using MNIST's digits dataset (working with this dataset is commonly called the \"Hello World\" of machine learning)"
   ]
  },
  {
   "cell_type": "code",
   "execution_count": 1,
   "metadata": {
    "collapsed": false
   },
   "outputs": [
    {
     "data": {
      "text/plain": [
       "dict_keys(['data', 'target', 'frame', 'categories', 'feature_names', 'target_names', 'DESCR', 'details', 'url'])"
      ]
     },
     "execution_count": 1,
     "metadata": {
     },
     "output_type": "execute_result"
    }
   ],
   "source": [
    "import numpy as np\n",
    "from sklearn.datasets import fetch_openml\n",
    "mnist = fetch_openml('mnist_784', version = 1)\n",
    "mnist.keys()"
   ]
  },
  {
   "cell_type": "code",
   "execution_count": 2,
   "metadata": {
    "collapsed": false
   },
   "outputs": [
    {
     "data": {
      "text/plain": [
       "\"**Author**: Yann LeCun, Corinna Cortes, Christopher J.C. Burges  \\n**Source**: [MNIST Website](http://yann.lecun.com/exdb/mnist/) - Date unknown  \\n**Please cite**:  \\n\\nThe MNIST database of handwritten digits with 784 features, raw data available at: http://yann.lecun.com/exdb/mnist/. It can be split in a training set of the first 60,000 examples, and a test set of 10,000 examples  \\n\\nIt is a subset of a larger set available from NIST. The digits have been size-normalized and centered in a fixed-size image. It is a good database for people who want to try learning techniques and pattern recognition methods on real-world data while spending minimal efforts on preprocessing and formatting. The original black and white (bilevel) images from NIST were size normalized to fit in a 20x20 pixel box while preserving their aspect ratio. The resulting images contain grey levels as a result of the anti-aliasing technique used by the normalization algorithm. the images were centered in a 28x28 image by computing the center of mass of the pixels, and translating the image so as to position this point at the center of the 28x28 field.  \\n\\nWith some classification methods (particularly template-based methods, such as SVM and K-nearest neighbors), the error rate improves when the digits are centered by bounding box rather than center of mass. If you do this kind of pre-processing, you should report it in your publications. The MNIST database was constructed from NIST's NIST originally designated SD-3 as their training set and SD-1 as their test set. However, SD-3 is much cleaner and easier to recognize than SD-1. The reason for this can be found on the fact that SD-3 was collected among Census Bureau employees, while SD-1 was collected among high-school students. Drawing sensible conclusions from learning experiments requires that the result be independent of the choice of training set and test among the complete set of samples. Therefore it was necessary to build a new database by mixing NIST's datasets.  \\n\\nThe MNIST training set is composed of 30,000 patterns from SD-3 and 30,000 patterns from SD-1. Our test set was composed of 5,000 patterns from SD-3 and 5,000 patterns from SD-1. The 60,000 pattern training set contained examples from approximately 250 writers. We made sure that the sets of writers of the training set and test set were disjoint. SD-1 contains 58,527 digit images written by 500 different writers. In contrast to SD-3, where blocks of data from each writer appeared in sequence, the data in SD-1 is scrambled. Writer identities for SD-1 is available and we used this information to unscramble the writers. We then split SD-1 in two: characters written by the first 250 writers went into our new training set. The remaining 250 writers were placed in our test set. Thus we had two sets with nearly 30,000 examples each. The new training set was completed with enough examples from SD-3, starting at pattern # 0, to make a full set of 60,000 training patterns. Similarly, the new test set was completed with SD-3 examples starting at pattern # 35,000 to make a full set with 60,000 test patterns. Only a subset of 10,000 test images (5,000 from SD-1 and 5,000 from SD-3) is available on this site. The full 60,000 sample training set is available.\\n\\nDownloaded from openml.org.\""
      ]
     },
     "execution_count": 2,
     "metadata": {
     },
     "output_type": "execute_result"
    }
   ],
   "source": [
    "mnist['DESCR']"
   ]
  },
  {
   "cell_type": "markdown",
   "metadata": {
    "collapsed": false
   },
   "source": [
    "This dataset has split up the explanatory and explained variables into `data` and `target`"
   ]
  },
  {
   "cell_type": "code",
   "execution_count": 3,
   "metadata": {
    "collapsed": false
   },
   "outputs": [
   ],
   "source": [
    "X, y = mnist['data'], mnist['target']"
   ]
  },
  {
   "cell_type": "code",
   "execution_count": 4,
   "metadata": {
    "collapsed": false
   },
   "outputs": [
    {
     "name": "stdout",
     "output_type": "stream",
     "text": [
      "<class 'numpy.ndarray'>\n",
      "(70000, 784)\n"
     ]
    }
   ],
   "source": [
    "print(type(X))\n",
    "print(X.shape)"
   ]
  },
  {
   "cell_type": "code",
   "execution_count": 5,
   "metadata": {
    "collapsed": false
   },
   "outputs": [
    {
     "name": "stdout",
     "output_type": "stream",
     "text": [
      "<class 'numpy.ndarray'>\n",
      "(70000,)\n"
     ]
    }
   ],
   "source": [
    "print(type(y))\n",
    "print(y.shape)"
   ]
  },
  {
   "cell_type": "markdown",
   "metadata": {
    "collapsed": false
   },
   "source": [
    "We have 70,000 images, each with 784 features. What do you think these features represent?"
   ]
  },
  {
   "cell_type": "code",
   "execution_count": 6,
   "metadata": {
    "collapsed": false
   },
   "outputs": [
   ],
   "source": [
    "import matplotlib as mpl\n",
    "import matplotlib.pyplot as plt\n",
    "\n",
    "some_digit = X[0]\n",
    "some_digit_image = some_digit.reshape(28,28)"
   ]
  },
  {
   "cell_type": "code",
   "execution_count": 7,
   "metadata": {
    "collapsed": false
   },
   "outputs": [
    {
     "data": {
      "image/png": "[encoded data removed]",
      "text/plain": [
       "<Figure size 432x288 with 1 Axes>"
      ]
     },
     "execution_count": 7,
     "metadata": {
      "needs_background": "light"
     },
     "output_type": "execute_result"
    }
   ],
   "source": [
    "plt.imshow(some_digit_image,cmap = 'binary')\n",
    "plt.axis('off')\n",
    "plt.show()"
   ]
  },
  {
   "cell_type": "markdown",
   "metadata": {
    "collapsed": false
   },
   "source": [
    "This looks like the digit `5`. How can we make sure?"
   ]
  },
  {
   "cell_type": "code",
   "execution_count": 8,
   "metadata": {
    "collapsed": false
   },
   "outputs": [
    {
     "data": {
      "text/plain": [
       "'5'"
      ]
     },
     "execution_count": 8,
     "metadata": {
     },
     "output_type": "execute_result"
    }
   ],
   "source": [
    "y[0]"
   ]
  },
  {
   "cell_type": "markdown",
   "metadata": {
    "collapsed": false
   },
   "source": [
    "Note that we already have to do some preprocessing:"
   ]
  },
  {
   "cell_type": "code",
   "execution_count": 9,
   "metadata": {
    "collapsed": false
   },
   "outputs": [
    {
     "data": {
      "text/plain": [
       "<class 'str'>"
      ]
     },
     "execution_count": 9,
     "metadata": {
     },
     "output_type": "execute_result"
    }
   ],
   "source": [
    "type(y[0])"
   ]
  },
  {
   "cell_type": "code",
   "execution_count": 10,
   "metadata": {
    "collapsed": false
   },
   "outputs": [
   ],
   "source": [
    "y = y.astype(np.uint8)"
   ]
  },
  {
   "cell_type": "code",
   "execution_count": 11,
   "metadata": {
    "collapsed": false
   },
   "outputs": [
    {
     "data": {
      "text/plain": [
       "<class 'numpy.uint8'>"
      ]
     },
     "execution_count": 11,
     "metadata": {
     },
     "output_type": "execute_result"
    }
   ],
   "source": [
    "type(y[0])"
   ]
  },
  {
   "cell_type": "markdown",
   "metadata": {
    "collapsed": false
   },
   "source": [
    "Let's do a train/test split, so we can evaluate our models:\n",
    "\n",
    "## ****** Participation Check ****************************\n",
    "\n",
    "Create new arrays `Xtrain,Xtest,ytrain, and ytest` where the `train` arrays consist of the first 60000 entries in the corresponding dataset and the test entries consist of the last 10000 entries of the corresponding dataset. (Be careful! In the real world you may want to shuffle your dataset first...)"
   ]
  },
  {
   "cell_type": "code",
   "execution_count": 12,
   "metadata": {
    "collapsed": false
   },
   "outputs": [
   ],
   "source": [
    "Xtrain, ytrain, Xtest, ytest = X[:60000],y[:60000],X[60000:],y[60000:]"
   ]
  },
  {
   "cell_type": "markdown",
   "metadata": {
    "collapsed": false
   },
   "source": [
    "## *******************************************************************"
   ]
  },
  {
   "cell_type": "markdown",
   "metadata": {
    "collapsed": false
   },
   "source": [
    "## Binary Classifiers: The Decision Tree\n",
    "\n",
    "Before we try to classify the 10 digits, let's try a much easier problem: whether or not a digit is 8. To do this we will use a *decision tree*. A decision tree is a machine learning model which asks a bunch of yes or no questions to come to a conclusion. Think of the game 20 Questions, except the questions are *fixed* every time you play.\n",
    "<img src=\"dt.png\" alt=\"drawing\" width=\"700\"/>\n",
    "\n",
    "How does it figure out the best yes/no questions to ask? It tries to *minimize* a quantity called *Gini impurity*. The Gini impurity of a node measures how \"mixed\" that node is."
   ]
  },
  {
   "cell_type": "markdown",
   "metadata": {
    "collapsed": false
   },
   "source": [
    "<img src=\"gini.png\" alt=\"drawing\" width=\"700\"/>\n",
    "\n",
    "Thankfully this Gini minimization is all builtin! You can read more here if you want though: https://en.wikipedia.org/wiki/Decision_tree_learning"
   ]
  },
  {
   "cell_type": "code",
   "execution_count": 13,
   "metadata": {
    "collapsed": false
   },
   "outputs": [
    {
     "data": {
      "text/plain": [
       "DecisionTreeClassifier(random_state=42)"
      ]
     },
     "execution_count": 13,
     "metadata": {
     },
     "output_type": "execute_result"
    }
   ],
   "source": [
    "from sklearn.tree import DecisionTreeClassifier\n",
    "tree = DecisionTreeClassifier(random_state = 42)  #Initialize a DT\n",
    "ytrain8 = (ytrain==8)  #Set up the \"easier\" classification problem\n",
    "ytest8 = (ytest == 8)  #Set up the \"easier\" test problem\n",
    "tree.fit(Xtrain,ytrain8)"
   ]
  },
  {
   "cell_type": "code",
   "execution_count": 14,
   "metadata": {
    "collapsed": false
   },
   "outputs": [
    {
     "data": {
      "text/plain": [
       "array([False, False, False, False, False, False, False, False, False,\n",
       "       False, False, False, False, False, False, False, False,  True,\n",
       "       False, False])"
      ]
     },
     "execution_count": 14,
     "metadata": {
     },
     "output_type": "execute_result"
    }
   ],
   "source": [
    "tree.predict(X[:20])"
   ]
  },
  {
   "cell_type": "code",
   "execution_count": 15,
   "metadata": {
    "collapsed": false
   },
   "outputs": [
    {
     "data": {
      "image/png": "[encoded data removed]",
      "text/plain": [
       "<Figure size 432x288 with 1 Axes>"
      ]
     },
     "execution_count": 15,
     "metadata": {
      "needs_background": "light"
     },
     "output_type": "execute_result"
    }
   ],
   "source": [
    "some_digit = X[17]\n",
    "some_digit_image = some_digit.reshape(28,28)\n",
    "plt.imshow(some_digit_image,cmap = 'binary')\n",
    "plt.axis('off')\n",
    "plt.show()"
   ]
  },
  {
   "cell_type": "code",
   "execution_count": 16,
   "metadata": {
    "collapsed": false
   },
   "outputs": [
    {
     "data": {
      "text/plain": [
       "array([5, 0, 4, 1, 9, 2, 1, 3, 1, 4, 3, 5, 3, 6, 1, 7, 2, 8, 6, 9],\n",
       "      dtype=uint8)"
      ]
     },
     "execution_count": 16,
     "metadata": {
     },
     "output_type": "execute_result"
    }
   ],
   "source": [
    "y[:20]"
   ]
  },
  {
   "cell_type": "markdown",
   "metadata": {
    "collapsed": false
   },
   "source": [
    "Seems pretty good! A more robust test on the accuracy can be found by calling a *confusion matrix*. In general if there are $k$ classes, the confusion matrix will have entry [i,j] equal to the number of times class i was predicted to be class j."
   ]
  },
  {
   "cell_type": "code",
   "execution_count": 17,
   "metadata": {
    "collapsed": false
   },
   "outputs": [
   ],
   "source": [
    "pred = tree.predict(Xtrain)"
   ]
  },
  {
   "cell_type": "code",
   "execution_count": 18,
   "metadata": {
    "collapsed": false
   },
   "outputs": [
    {
     "data": {
      "text/plain": [
       "array([[54149,     0],\n",
       "       [    0,  5851]])"
      ]
     },
     "execution_count": 18,
     "metadata": {
     },
     "output_type": "execute_result"
    }
   ],
   "source": [
    "from sklearn.metrics import confusion_matrix\n",
    "confusion_matrix(ytrain8,pred)"
   ]
  },
  {
   "cell_type": "markdown",
   "metadata": {
    "collapsed": false
   },
   "source": [
    "It seems like we have a perfect model!!! But...\n",
    "\n",
    "Be careful!!! You have to always ask yourself how well your model generalizes. Decision trees are *very likely* just going to memorize your training data if you let them run free. If, instead of 20 questions, you played 20000 questions, you would always get the right answer. But your questions would become arbitrary and they would not apply to new scenarios.\n",
    "\n",
    "In this case our testing error is actually not awful:"
   ]
  },
  {
   "cell_type": "code",
   "execution_count": 19,
   "metadata": {
    "collapsed": false
   },
   "outputs": [
    {
     "data": {
      "text/plain": [
       "array([[8867,  159],\n",
       "       [ 167,  807]])"
      ]
     },
     "execution_count": 19,
     "metadata": {
     },
     "output_type": "execute_result"
    }
   ],
   "source": [
    "pred = tree.predict(Xtest)\n",
    "confusion_matrix(ytest8,pred)"
   ]
  },
  {
   "cell_type": "markdown",
   "metadata": {
    "collapsed": false
   },
   "source": [
    "But we can improve it slightly by \"regularizing\" the model. The `max_depth` parameter essentially puts a bound on the number of questions you are allowed to ask:"
   ]
  },
  {
   "cell_type": "code",
   "execution_count": 20,
   "metadata": {
    "collapsed": false
   },
   "outputs": [
    {
     "data": {
      "text/plain": [
       "DecisionTreeClassifier(max_depth=9, random_state=42)"
      ]
     },
     "execution_count": 20,
     "metadata": {
     },
     "output_type": "execute_result"
    }
   ],
   "source": [
    "tree = DecisionTreeClassifier(max_depth = 9, random_state = 42)\n",
    "tree.fit(Xtrain,ytrain8)"
   ]
  },
  {
   "cell_type": "code",
   "execution_count": 21,
   "metadata": {
    "collapsed": false
   },
   "outputs": [
    {
     "data": {
      "text/plain": [
       "array([[53860,   289],\n",
       "       [  620,  5231]])"
      ]
     },
     "execution_count": 21,
     "metadata": {
     },
     "output_type": "execute_result"
    }
   ],
   "source": [
    "pred = tree.predict(Xtrain)\n",
    "confusion_matrix(ytrain8,pred)"
   ]
  },
  {
   "cell_type": "code",
   "execution_count": 22,
   "metadata": {
    "collapsed": false
   },
   "outputs": [
    {
     "data": {
      "text/plain": [
       "array([[8902,  124],\n",
       "       [ 175,  799]])"
      ]
     },
     "execution_count": 22,
     "metadata": {
     },
     "output_type": "execute_result"
    }
   ],
   "source": [
    "pred = tree.predict(Xtest)\n",
    "confusion_matrix(ytest8,pred)"
   ]
  },
  {
   "cell_type": "markdown",
   "metadata": {
    "collapsed": false
   },
   "source": [
    "This looks slightly better, even though we did worse on the training data!\n",
    "\n",
    "Let's take a look at what we got wrong."
   ]
  },
  {
   "cell_type": "code",
   "execution_count": 23,
   "metadata": {
    "collapsed": false
   },
   "outputs": [
    {
     "data": {
      "text/plain": [
       "299"
      ]
     },
     "execution_count": 23,
     "metadata": {
     },
     "output_type": "execute_result"
    }
   ],
   "source": [
    "badGuesses = [i for i in range(10000) if pred[i]!=ytest8[i]]\n",
    "len(badGuesses)"
   ]
  },
  {
   "cell_type": "code",
   "execution_count": 24,
   "metadata": {
    "collapsed": false
   },
   "outputs": [
    {
     "data": {
      "text/plain": [
       "[61, 73, 172, 241, 257, 268]"
      ]
     },
     "execution_count": 24,
     "metadata": {
     },
     "output_type": "execute_result"
    }
   ],
   "source": [
    "badGuesses[:6]"
   ]
  },
  {
   "cell_type": "code",
   "execution_count": 25,
   "metadata": {
    "collapsed": false
   },
   "outputs": [
    {
     "data": {
      "image/png": "[encoded data removed]",
      "text/plain": [
       "<Figure size 432x288 with 1 Axes>"
      ]
     },
     "execution_count": 25,
     "metadata": {
      "needs_background": "light"
     },
     "output_type": "execute_result"
    }
   ],
   "source": [
    "some_digit = Xtest[61]\n",
    "some_digit_image = some_digit.reshape(28,28)\n",
    "plt.imshow(some_digit_image,cmap = 'binary')\n",
    "plt.axis('off')\n",
    "plt.show()"
   ]
  },
  {
   "cell_type": "code",
   "execution_count": 26,
   "metadata": {
    "collapsed": false
   },
   "outputs": [
    {
     "data": {
      "image/png": "[encoded data removed]",
      "text/plain": [
       "<Figure size 432x288 with 1 Axes>"
      ]
     },
     "execution_count": 26,
     "metadata": {
      "needs_background": "light"
     },
     "output_type": "execute_result"
    }
   ],
   "source": [
    "some_digit = Xtest[172]\n",
    "some_digit_image = some_digit.reshape(28,28)\n",
    "plt.imshow(some_digit_image,cmap = 'binary')\n",
    "plt.axis('off')\n",
    "plt.show()"
   ]
  },
  {
   "cell_type": "code",
   "execution_count": 27,
   "metadata": {
    "collapsed": false
   },
   "outputs": [
    {
     "data": {
      "image/png": "[encoded data removed]",
      "text/plain": [
       "<Figure size 432x288 with 1 Axes>"
      ]
     },
     "execution_count": 27,
     "metadata": {
      "needs_background": "light"
     },
     "output_type": "execute_result"
    }
   ],
   "source": [
    "some_digit = Xtest[257]\n",
    "some_digit_image = some_digit.reshape(28,28)\n",
    "plt.imshow(some_digit_image,cmap = 'binary')\n",
    "plt.axis('off')\n",
    "plt.show()"
   ]
  },
  {
   "cell_type": "markdown",
   "metadata": {
    "collapsed": false
   },
   "source": [
    "As with the lecture on Information Retrieval, you can define further metrics like *recall*, *precision*, *specificity*, etc. But for now I'll leave it here."
   ]
  },
  {
   "cell_type": "markdown",
   "metadata": {
    "collapsed": false
   },
   "source": [
    "## Predicting Probabilities\n",
    "\n",
    "We can actually do a bit better with Decision Trees; we can predict the *probability* that something is an 8 or not! The idea is to create the same decision tree, and then when you predict, instead of returning a class, return the *proportion* of a class that is in the corresponding leaf node."
   ]
  },
  {
   "cell_type": "code",
   "execution_count": 28,
   "metadata": {
    "collapsed": false
   },
   "outputs": [
    {
     "data": {
      "text/plain": [
       "array([[9.97052995e-01, 2.94700473e-03],\n",
       "       [9.76625470e-01, 2.33745298e-02],\n",
       "       [9.99120750e-01, 8.79249707e-04],\n",
       "       [1.00000000e+00, 0.00000000e+00],\n",
       "       [9.94038894e-01, 5.96110622e-03],\n",
       "       [9.99120750e-01, 8.79249707e-04],\n",
       "       [9.97052995e-01, 2.94700473e-03],\n",
       "       [9.94038894e-01, 5.96110622e-03],\n",
       "       [9.76625470e-01, 2.33745298e-02],\n",
       "       [9.95354730e-01, 4.64527027e-03],\n",
       "       [9.97052995e-01, 2.94700473e-03],\n",
       "       [9.76625470e-01, 2.33745298e-02],\n",
       "       [9.74446337e-01, 2.55536627e-02],\n",
       "       [1.00000000e+00, 0.00000000e+00],\n",
       "       [9.99120750e-01, 8.79249707e-04]])"
      ]
     },
     "execution_count": 28,
     "metadata": {
     },
     "output_type": "execute_result"
    }
   ],
   "source": [
    "probs = tree.predict_proba(Xtest)\n",
    "probs[:15]"
   ]
  },
  {
   "cell_type": "code",
   "execution_count": 29,
   "metadata": {
    "collapsed": false
   },
   "outputs": [
    {
     "data": {
      "text/plain": [
       "array([0.69620253, 0.30379747])"
      ]
     },
     "execution_count": 29,
     "metadata": {
     },
     "output_type": "execute_result"
    }
   ],
   "source": [
    "probs[257]"
   ]
  },
  {
   "cell_type": "code",
   "execution_count": 30,
   "metadata": {
    "collapsed": false
   },
   "outputs": [
    {
     "data": {
      "text/plain": [
       "[array([0.99403889, 0.00596111]),\n",
       " array([0.12345679, 0.87654321]),\n",
       " array([0.01960784, 0.98039216]),\n",
       " array([0.01587302, 0.98412698]),\n",
       " array([0.69620253, 0.30379747]),\n",
       " array([0.997053, 0.002947]),\n",
       " array([1., 0.]),\n",
       " array([0.16199377, 0.83800623]),\n",
       " array([0.2962963, 0.7037037]),\n",
       " array([0.98432909, 0.01567091])]"
      ]
     },
     "execution_count": 30,
     "metadata": {
     },
     "output_type": "execute_result"
    }
   ],
   "source": [
    "[probs[i] for i in badGuesses[:10]]"
   ]
  },
  {
   "cell_type": "markdown",
   "metadata": {
    "collapsed": false
   },
   "source": [
    "This will allow us to combine several classifiers into one. We have 10 digits in question; this would allow us to create *10 distinct classifiers*, have each compute the probability that something *is* a given digit, and then take the one which maximizes probability!\n",
    "\n",
    "![](trees.png)\n",
    "\n",
    "In practice when you do this combination you often use a *softmax*, but I'll leave you with just a reference in case you are interested: https://en.wikipedia.org/wiki/Softmax_function . \n",
    "\n",
    "There are various ways of combining binary classifiers to get a *multiclass* classifier, but softmaxing is a common one and a good start."
   ]
  },
  {
   "cell_type": "markdown",
   "metadata": {
    "collapsed": false
   },
   "source": [
    "## Multiclass Classification\n",
    "\n",
    "Thankfully Decision Trees can natively handle multiclass classification, so we don't actually need to worry about this! As this problem is a bit more complicated, we can afford to let our model ask a few more questions..."
   ]
  },
  {
   "cell_type": "code",
   "execution_count": 31,
   "metadata": {
    "collapsed": false
   },
   "outputs": [
    {
     "data": {
      "text/plain": [
       "DecisionTreeClassifier(max_depth=13, random_state=42)"
      ]
     },
     "execution_count": 31,
     "metadata": {
     },
     "output_type": "execute_result"
    }
   ],
   "source": [
    "tree = DecisionTreeClassifier(max_depth = 13,random_state = 42)\n",
    "tree.fit(Xtrain,ytrain)"
   ]
  },
  {
   "cell_type": "code",
   "execution_count": 32,
   "metadata": {
    "collapsed": false
   },
   "outputs": [
   ],
   "source": [
    "pred = tree.predict(Xtest)\n",
    "cm = confusion_matrix(ytest,pred)"
   ]
  },
  {
   "cell_type": "code",
   "execution_count": 33,
   "metadata": {
    "collapsed": false
   },
   "outputs": [
    {
     "data": {
      "text/plain": [
       "array([[ 929,    0,    9,    6,    3,    9,    8,    3,    9,    4],\n",
       "       [   4, 1096,    9,    4,    2,    4,    5,    2,    8,    1],\n",
       "       [  13,   12,  886,   29,   13,   12,   11,   23,   26,    7],\n",
       "       [   8,    5,   29,  858,    7,   48,    3,   15,   23,   14],\n",
       "       [   7,    2,   10,    5,  856,    8,   19,    9,   13,   53],\n",
       "       [  12,   10,    2,   43,    8,  749,   22,   11,   21,   14],\n",
       "       [  20,    5,   17,   11,   21,   22,  831,    2,   27,    2],\n",
       "       [   3,   11,   23,   14,    5,    5,    3,  940,    7,   17],\n",
       "       [  12,   13,   21,   40,   14,   23,   13,   13,  792,   33],\n",
       "       [  12,    4,   12,   16,   38,   15,    8,   16,   23,  865]])"
      ]
     },
     "execution_count": 33,
     "metadata": {
     },
     "output_type": "execute_result"
    }
   ],
   "source": [
    "cm"
   ]
  },
  {
   "cell_type": "code",
   "execution_count": 34,
   "metadata": {
    "collapsed": false
   },
   "outputs": [
    {
     "data": {
      "text/plain": [
       "1198"
      ]
     },
     "execution_count": 34,
     "metadata": {
     },
     "output_type": "execute_result"
    }
   ],
   "source": [
    "sum([cm[i,j] for i in range(10) for j in range(10) if i-j])"
   ]
  },
  {
   "cell_type": "code",
   "execution_count": 35,
   "metadata": {
    "collapsed": false
   },
   "outputs": [
    {
     "data": {
      "image/png": "[encoded data removed]",
      "text/plain": [
       "<Figure size 288x288 with 1 Axes>"
      ]
     },
     "execution_count": 35,
     "metadata": {
      "needs_background": "light"
     },
     "output_type": "execute_result"
    }
   ],
   "source": [
    "plt.matshow(cm,cmap = plt.cm.gray)\n",
    "plt.show()"
   ]
  },
  {
   "cell_type": "markdown",
   "metadata": {
    "collapsed": false
   },
   "source": [
    "Can we get anything better out of the confusion matrix?"
   ]
  },
  {
   "cell_type": "code",
   "execution_count": 36,
   "metadata": {
    "collapsed": false
   },
   "outputs": [
   ],
   "source": [
    "sums = cm.sum(axis=1,keepdims=True)\n",
    "norm = cm/sums"
   ]
  },
  {
   "cell_type": "code",
   "execution_count": 37,
   "metadata": {
    "collapsed": false
   },
   "outputs": [
    {
     "data": {
      "image/png": "[encoded data removed]",
      "text/plain": [
       "<Figure size 288x288 with 1 Axes>"
      ]
     },
     "execution_count": 37,
     "metadata": {
      "needs_background": "light"
     },
     "output_type": "execute_result"
    }
   ],
   "source": [
    "np.fill_diagonal(norm,0)\n",
    "plt.matshow(norm,cmap=plt.cm.gray)\n",
    "plt.show()"
   ]
  },
  {
   "cell_type": "markdown",
   "metadata": {
    "collapsed": false
   },
   "source": [
    "The lighter squares are common mistakes. "
   ]
  },
  {
   "cell_type": "code",
   "execution_count": 38,
   "metadata": {
    "collapsed": false
   },
   "outputs": [
   ],
   "source": [
    "a,b = 4,9\n",
    "Xaa = Xtest[(ytest == a) & (pred == a)]\n",
    "Xab = Xtest[(ytest == a) & (pred == b)]\n",
    "Xba = Xtest[(ytest == b) & (pred == a)]\n",
    "Xbb = Xtest[(ytest == b) & (pred == b)]"
   ]
  },
  {
   "cell_type": "code",
   "execution_count": 39,
   "metadata": {
    "collapsed": false
   },
   "outputs": [
   ],
   "source": [
    "#Obtained from Aurelien Geron's Github\n",
    "def plot_digits(instances, images_per_row=10, **options):\n",
    "    size = 28\n",
    "    images_per_row = min(len(instances), images_per_row)\n",
    "    images = [instance.reshape(size,size) for instance in instances]\n",
    "    n_rows = (len(instances) - 1) // images_per_row + 1\n",
    "    row_images = []\n",
    "    n_empty = n_rows * images_per_row - len(instances)\n",
    "    images.append(np.zeros((size, size * n_empty)))\n",
    "    for row in range(n_rows):\n",
    "        rimages = images[row * images_per_row : (row + 1) * images_per_row]\n",
    "        row_images.append(np.concatenate(rimages, axis=1))\n",
    "    image = np.concatenate(row_images, axis=0)\n",
    "    plt.imshow(image, cmap = mpl.cm.binary, **options)\n",
    "    plt.axis(\"off\")\n"
   ]
  },
  {
   "cell_type": "code",
   "execution_count": 40,
   "metadata": {
    "collapsed": false
   },
   "outputs": [
    {
     "data": {
      "image/png": "[encoded data removed]",
      "text/plain": [
       "<Figure size 432x288 with 1 Axes>"
      ]
     },
     "execution_count": 40,
     "metadata": {
      "needs_background": "light"
     },
     "output_type": "execute_result"
    }
   ],
   "source": [
    "plot_digits(Xaa[:25], 5)"
   ]
  },
  {
   "cell_type": "code",
   "execution_count": 41,
   "metadata": {
    "collapsed": false
   },
   "outputs": [
    {
     "data": {
      "image/png": "[encoded data removed]",
      "text/plain": [
       "<Figure size 432x288 with 1 Axes>"
      ]
     },
     "execution_count": 41,
     "metadata": {
      "needs_background": "light"
     },
     "output_type": "execute_result"
    }
   ],
   "source": [
    "plot_digits(Xbb[:25], 5)"
   ]
  },
  {
   "cell_type": "code",
   "execution_count": 42,
   "metadata": {
    "collapsed": false
   },
   "outputs": [
    {
     "data": {
      "image/png": "[encoded data removed]",
      "text/plain": [
       "<Figure size 432x288 with 1 Axes>"
      ]
     },
     "execution_count": 42,
     "metadata": {
      "needs_background": "light"
     },
     "output_type": "execute_result"
    }
   ],
   "source": [
    "plot_digits(Xab[:25], 5)"
   ]
  },
  {
   "cell_type": "code",
   "execution_count": 43,
   "metadata": {
    "collapsed": false
   },
   "outputs": [
    {
     "data": {
      "image/png": "[encoded data removed]",
      "text/plain": [
       "<Figure size 432x288 with 1 Axes>"
      ]
     },
     "execution_count": 43,
     "metadata": {
      "needs_background": "light"
     },
     "output_type": "execute_result"
    }
   ],
   "source": [
    "plot_digits(Xba[:25], 5)"
   ]
  },
  {
   "cell_type": "markdown",
   "metadata": {
    "collapsed": false
   },
   "source": [
    "## Ensemble Learning and Random Forests\n",
    "\n",
    "Suppose you have 3 \"coins\" which flip heads 30% of the time and flip tails 70% of the time. Suppose you play a game: you flip the three coins and if at least two land heads, you mark H; otherwise you mark T. After playing this game 10000 times, how many Ts will you have? \n",
    "## ********* Participation Check ***************************\n",
    "The `random.random()` function gives a \"uniform\" random number in the interval `[0,1)`. Write a function `flip` which calls `random.random()` and outputs `'H'` if the number is less than .3 and outputs `'T'` otherwise. \n",
    "\n",
    "Use `flip` to model the above game and get an approximate answer."
   ]
  },
  {
   "cell_type": "code",
   "execution_count": 52,
   "metadata": {
    "collapsed": false
   },
   "outputs": [
    {
     "data": {
      "text/plain": [
       "'H'"
      ]
     },
     "execution_count": 52,
     "metadata": {
     },
     "output_type": "execute_result"
    }
   ],
   "source": [
    "import random\n",
    "def flip():\n",
    "    n = random.random()\n",
    "    if n < .3:\n",
    "        return('H')\n",
    "    else:\n",
    "        return('T')\n",
    "flip()"
   ]
  },
  {
   "cell_type": "code",
   "execution_count": 53,
   "metadata": {
    "collapsed": false
   },
   "outputs": [
    {
     "data": {
      "text/plain": [
       "7860"
      ]
     },
     "execution_count": 53,
     "metadata": {
     },
     "output_type": "execute_result"
    }
   ],
   "source": [
    "tails = 0\n",
    "for i in range(10000):\n",
    "    a,b,c = flip(),flip(),flip()\n",
    "    t = 0\n",
    "    for i in (a,b,c):\n",
    "        if i == 'H':\n",
    "            t+=1\n",
    "    if t<=1:\n",
    "        tails+=1\n",
    "tails\n",
    "    "
   ]
  },
  {
   "cell_type": "markdown",
   "metadata": {
    "collapsed": false
   },
   "source": [
    "## *******************************************************"
   ]
  },
  {
   "cell_type": "markdown",
   "metadata": {
    "collapsed": false
   },
   "source": [
    "The above game is the core idea behind ensemble learning. If you have one model which is correct 90% of the time, you can try to make other models which are \"independent\" and combine them using majority rules. This can have dramatic effects on your predictive power, while simultaneously *reducing* your risk of overfitting!\n",
    "\n",
    "The `RandomForestClassifier` essentially does this using decision trees. They create a bunch (100) of decision trees, throw them *all* at the problem simultaneously, and then see which guess seems the best:"
   ]
  },
  {
   "cell_type": "code",
   "execution_count": 54,
   "metadata": {
    "collapsed": false
   },
   "outputs": [
    {
     "data": {
      "text/plain": [
       "RandomForestClassifier(random_state=42)"
      ]
     },
     "execution_count": 54,
     "metadata": {
     },
     "output_type": "execute_result"
    }
   ],
   "source": [
    "from sklearn.ensemble import RandomForestClassifier\n",
    "forest = RandomForestClassifier(random_state = 42)\n",
    "forest.fit(Xtrain, ytrain)"
   ]
  },
  {
   "cell_type": "code",
   "execution_count": 55,
   "metadata": {
    "collapsed": false
   },
   "outputs": [
   ],
   "source": [
    "pred = forest.predict(Xtest)\n",
    "cm = confusion_matrix(ytest,pred)"
   ]
  },
  {
   "cell_type": "code",
   "execution_count": 56,
   "metadata": {
    "collapsed": false
   },
   "outputs": [
    {
     "data": {
      "text/plain": [
       "array([[ 971,    0,    0,    0,    0,    2,    3,    1,    3,    0],\n",
       "       [   0, 1127,    2,    2,    0,    1,    2,    0,    1,    0],\n",
       "       [   6,    0, 1002,    5,    3,    0,    3,    8,    5,    0],\n",
       "       [   1,    0,    9,  972,    0,    9,    0,    9,    8,    2],\n",
       "       [   1,    0,    0,    0,  955,    0,    5,    1,    4,   16],\n",
       "       [   5,    1,    1,    9,    2,  860,    5,    2,    5,    2],\n",
       "       [   7,    3,    0,    0,    3,    3,  937,    0,    5,    0],\n",
       "       [   1,    4,   20,    2,    0,    0,    0,  990,    2,    9],\n",
       "       [   4,    0,    6,    7,    5,    5,    5,    4,  930,    8],\n",
       "       [   7,    6,    2,   12,   12,    1,    0,    4,    4,  961]])"
      ]
     },
     "execution_count": 56,
     "metadata": {
     },
     "output_type": "execute_result"
    }
   ],
   "source": [
    "cm"
   ]
  },
  {
   "cell_type": "code",
   "execution_count": 57,
   "metadata": {
    "collapsed": false
   },
   "outputs": [
    {
     "data": {
      "text/plain": [
       "295"
      ]
     },
     "execution_count": 57,
     "metadata": {
     },
     "output_type": "execute_result"
    }
   ],
   "source": [
    "sum([cm[i,j] for i in range(10) for j in range(10) if i-j])"
   ]
  },
  {
   "cell_type": "code",
   "execution_count": 0,
   "metadata": {
    "collapsed": false
   },
   "outputs": [
   ],
   "source": [
    "sums = cm.sum(axis=1,keepdims=True)\n",
    "norm = cm/sums"
   ]
  },
  {
   "cell_type": "code",
   "execution_count": 0,
   "metadata": {
    "collapsed": false
   },
   "outputs": [
   ],
   "source": [
    "np.fill_diagonal(norm,0)\n",
    "plt.matshow(norm,cmap=plt.cm.gray)\n",
    "plt.show()"
   ]
  },
  {
   "cell_type": "markdown",
   "metadata": {
    "collapsed": false
   },
   "source": [
    "## What's Next\n",
    "\n",
    "Decision Trees and Random Forests are *incredibly powerful* and *approachable* tools. As of 2019, Uber (a somewhat large Taxi service) was using these all over the place: https://eng.uber.com/productionizing-distributed-xgboost/ . If you are serious about ML, this is a great model to really dig into.\n",
    "\n",
    "If you are *really* serious about ML, then after this you should learn about neural networks (and in particular, convolutional neural networks). One day you might work on something that does this: https://www.youtube.com/watch?v=HS1wV9NMLr8 !"
   ]
  }
 ],
 "metadata": {
  "kernelspec": {
   "display_name": "SageMath 9.2",
   "language": "sagemath",
   "metadata": {
    "cocalc": {
     "description": "Open-source mathematical software system",
     "priority": 10,
     "url": "https://www.sagemath.org/"
    }
   },
   "name": "sage-9.2",
   "resource_dir": "/ext/jupyter/kernels/sage-9.2"
  },
  "language_info": {
   "codemirror_mode": {
    "name": "ipython",
    "version": 3
   },
   "file_extension": ".py",
   "mimetype": "text/x-python",
   "name": "python",
   "nbconvert_exporter": "python",
   "pygments_lexer": "ipython3",
   "version": "3.8.5"
  }
 },
 "nbformat": 4,
 "nbformat_minor": 4
}