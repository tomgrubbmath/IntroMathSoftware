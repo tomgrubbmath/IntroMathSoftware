{
 "cells": [
  {
   "cell_type": "markdown",
   "metadata": {
    "collapsed": false
   },
   "source": [
    "# Lecture 12: Graph Theory, (2 of 2)\n",
    "\n",
    "### Please note: This lecture will be recorded and made available for viewing online. If you do not wish to be recorded, please adjust your camera settings accordingly. "
   ]
  },
  {
   "cell_type": "markdown",
   "metadata": {
    "collapsed": false
   },
   "source": [
    "# Reminders/Announcements:\n",
    "- Assignment 4 is due Thursday at 8pm.\n",
    "- Quiz 1 key is available in your CoCalc projects.\n",
    "- Final Project Topics are now available. Take a look!\n",
    "- Please see Canvas announcement for comments on HW 4.\n",
    "- Welcome to February!\n",
    "\n",
    "## Graph Theory: Quick Review\n",
    "\n",
    "Recall that a graph $G$ is a collection of vertices $V$ and edges $E$. Unless otherwise stated, there is nothing special about the edges. They\n",
    "- are undirected\n",
    "- carry no additional information"
   ]
  },
  {
   "cell_type": "code",
   "execution_count": 0,
   "metadata": {
    "collapsed": false
   },
   "outputs": [
   ],
   "source": [
    "G = graphs.CycleGraph(5)\n",
    "show(G)"
   ]
  },
  {
   "cell_type": "markdown",
   "metadata": {
    "collapsed": false
   },
   "source": [
    "## Weighted and Directed Graphs\n",
    "\n",
    "Often it can be useful to add information to a graph. One can do this by weighting edges, or by directing edges. \n",
    "\n",
    "Think of the weighting of an edge as *some sort of cost*."
   ]
  },
  {
   "cell_type": "code",
   "execution_count": 0,
   "metadata": {
    "collapsed": false
   },
   "outputs": [
   ],
   "source": [
    "G = Graph()\n",
    "G.weighted(True)\n",
    "\n",
    "G.add_vertices([i for i in range(1,16)])\n",
    "\n",
    "for i in G:\n",
    "    for j in G:\n",
    "        if i!=j:\n",
    "            if i and j%i == 0:\n",
    "                G.add_edge((i,j,i*j + i + j))\n",
    "plot(G, layout = 'circular')"
   ]
  },
  {
   "cell_type": "code",
   "execution_count": 0,
   "metadata": {
    "collapsed": false
   },
   "outputs": [
   ],
   "source": [
    "plot(G, layout = 'circular',edge_labels = True)"
   ]
  },
  {
   "cell_type": "markdown",
   "metadata": {
    "collapsed": false
   },
   "source": [
    "Think of the vertices as $15$ bulidings. Think of the current edge set as the set of possible roads that you could construct between these buildings. The weight of edge $E$ is the cost for paving that road. How can we connect all the buildings together in a way that minimizes our cost?\n",
    "\n",
    "This is given by a *minimum spanning tree*\n",
    "\n"
   ]
  },
  {
   "cell_type": "code",
   "execution_count": 0,
   "metadata": {
    "collapsed": false
   },
   "outputs": [
   ],
   "source": [
    "G.min_spanning_tree()"
   ]
  },
  {
   "cell_type": "code",
   "execution_count": 0,
   "metadata": {
    "collapsed": false
   },
   "outputs": [
   ],
   "source": [
    "plot(Graph(G.min_spanning_tree()), edge_labels = True,layout = 'circular')"
   ]
  },
  {
   "cell_type": "code",
   "execution_count": 0,
   "metadata": {
    "collapsed": false
   },
   "outputs": [
   ],
   "source": [
    "totalCost = sum([edge[2] for edge in G.min_spanning_tree()])\n",
    "totalCost"
   ]
  },
  {
   "cell_type": "markdown",
   "metadata": {
    "collapsed": false
   },
   "source": [
    "What happens if we alter the cost function?"
   ]
  },
  {
   "cell_type": "code",
   "execution_count": 0,
   "metadata": {
    "collapsed": false
   },
   "outputs": [
   ],
   "source": [
    "G = Graph()\n",
    "G.weighted(True)\n",
    "\n",
    "G.add_vertices([i for i in range(1,16)])\n",
    "\n",
    "for i in G:\n",
    "    for j in G:\n",
    "        if i!=j:\n",
    "            if i and j%i == 0:\n",
    "                G.add_edge((i,j,(15 - i)*(15-j)))\n",
    "plot(G, layout = 'circular', edge_labels = True)"
   ]
  },
  {
   "cell_type": "code",
   "execution_count": 0,
   "metadata": {
    "collapsed": false
   },
   "outputs": [
   ],
   "source": [
    "plot(Graph(G.min_spanning_tree()), edge_labels = True, layout = 'circular')"
   ]
  },
  {
   "cell_type": "code",
   "execution_count": 0,
   "metadata": {
    "collapsed": false
   },
   "outputs": [
   ],
   "source": [
    "plot(Graph(G.min_spanning_tree()), edge_labels = True)"
   ]
  },
  {
   "cell_type": "markdown",
   "metadata": {
    "collapsed": false
   },
   "source": [
    "In a directed graph, an edge points *from one vertex to another*."
   ]
  },
  {
   "cell_type": "code",
   "execution_count": 0,
   "metadata": {
    "collapsed": false
   },
   "outputs": [
   ],
   "source": [
    "D = DiGraph()\n",
    "D.add_vertices([1,2,3])\n",
    "D.add_edges([(1,2),(2,3)])\n",
    "show(D)"
   ]
  },
  {
   "cell_type": "markdown",
   "metadata": {
    "collapsed": false
   },
   "source": [
    "Note that you can now add *both* the edges $(i,j)$ and $(j,i)$."
   ]
  },
  {
   "cell_type": "code",
   "execution_count": 0,
   "metadata": {
    "collapsed": false
   },
   "outputs": [
   ],
   "source": [
    "D.add_edges([(2,1),(3,2)])\n",
    "show(D)"
   ]
  },
  {
   "cell_type": "markdown",
   "metadata": {
    "collapsed": false
   },
   "source": [
    "Now vertices have both an *indegree* and an *outdegree*"
   ]
  },
  {
   "cell_type": "code",
   "execution_count": 0,
   "metadata": {
    "collapsed": false
   },
   "outputs": [
   ],
   "source": [
    "D.out_degree(1)"
   ]
  },
  {
   "cell_type": "code",
   "execution_count": 0,
   "metadata": {
    "collapsed": false
   },
   "outputs": [
   ],
   "source": [
    "D.in_degree(1)"
   ]
  },
  {
   "cell_type": "markdown",
   "metadata": {
    "collapsed": false
   },
   "source": [
    "This leads to the concept of *sources* and *sinks*"
   ]
  },
  {
   "cell_type": "code",
   "execution_count": 0,
   "metadata": {
    "collapsed": false
   },
   "outputs": [
   ],
   "source": [
    "D = digraphs.RandomDirectedGNP(10, 1/7)\n",
    "D.weighted(True)\n",
    "plot(D, vertex_colors = {'green':D.sources(),'red':D.sinks()})"
   ]
  },
  {
   "cell_type": "code",
   "execution_count": 0,
   "metadata": {
    "collapsed": false
   },
   "outputs": [
   ],
   "source": [
    "D.add_edge((8,2,5))\n",
    "plot(D, edge_labels = True)"
   ]
  },
  {
   "cell_type": "markdown",
   "metadata": {
    "collapsed": false
   },
   "source": [
    "Digraphs are often used to model things such as electrical connectivity (i.e. you think of sources as sources of electrical power; the sinks are things that need to be powered)."
   ]
  },
  {
   "cell_type": "markdown",
   "metadata": {
    "collapsed": false
   },
   "source": [
    "## Brief Aside: Reading and Writing in Python\n",
    "\n",
    "One of the most useful things that you can do in Python (in my opinion *the most* useful in terms of actual life) is manipulating files. What if you have a huge text file containing data about the world's countries. You'd like to manipulate this data in Python; do you have to go line by line and copy the data from that text file into your Python file by hand? \n",
    "\n",
    "NO! Below I will give an example of how useful this can be. The *main* thing I want you to focus on is how to interact with files; I will do a bit of statistics with the data, because we might as well buy some milk while we're at the store, but you don't have to worry about that part too much yet.\n",
    "\n",
    "The World Bank has tons of free data sets regarding economic/social/climate markers at the country level. Here is their page on annual real GDP growth: https://data.worldbank.org/indicator/NY.GDP.MKTP.KD.ZG?view=chart \n",
    "\n",
    "I've downloaded some of this data and put in in the directory of this lecture: realGDP.csv. "
   ]
  },
  {
   "cell_type": "code",
   "execution_count": 0,
   "metadata": {
    "collapsed": false,
    "scrolled": true
   },
   "outputs": [
   ],
   "source": [
    "with open('realGDP.csv','r') as myFile:    # Please note the 'r' tag! This means \"read.\" You don't want to overwrite your data as you work with it. \n",
    "    myData = myFile.readlines()\n",
    "\n",
    "print(myData[16])\n",
    "print(type(myData[16]))"
   ]
  },
  {
   "cell_type": "markdown",
   "metadata": {
    "collapsed": false
   },
   "source": [
    "## Note!\n",
    "If you have a really big file, `readlines` may not be the right call, as your data may not fit in memory. In that case you could just iterate through the file line by line:"
   ]
  },
  {
   "cell_type": "code",
   "execution_count": 0,
   "metadata": {
    "collapsed": false
   },
   "outputs": [
   ],
   "source": [
    "with open('realGDP.csv','r') as myFile:\n",
    "    for line in myFile:\n",
    "        if 'Australia' in line:\n",
    "            print(line)"
   ]
  },
  {
   "cell_type": "markdown",
   "metadata": {
    "collapsed": false
   },
   "source": [
    "This will not be an issue in this class; you can use whatever method you are most comfortable with.\n",
    "\n",
    "## ***** Participation Check ***************************\n",
    "In the directory of this lecture file there is a file premierleague.csv which contains data for the 2018-2019 English Premier League season (American \"soccer\"/ English \"football\") obtained here: https://sports-statistics.com/sports-data/soccer-datasets/. \n",
    "\n",
    "Each line is formatted \n",
    "\n",
    "Division, Date, Home Team, Away Team, Home Team Goals, Away Team Goals, ...\n",
    "\n",
    "(there is additional data that you don't need to worry about)\n",
    "\n",
    "How many times did Arsenal play Chelsea in the 2018-2019 season? On which dates did they play? Who won the games? (Hint: you can use an `and` statement to string together two `in` statements)"
   ]
  },
  {
   "cell_type": "code",
   "execution_count": 0,
   "metadata": {
    "collapsed": false
   },
   "outputs": [
   ],
   "source": [
    "#Your code here"
   ]
  },
  {
   "cell_type": "markdown",
   "metadata": {
    "collapsed": false
   },
   "source": [
    "Answer here:"
   ]
  },
  {
   "cell_type": "markdown",
   "metadata": {
    "collapsed": false
   },
   "source": [
    "## ***********************************************************\n",
    "\n",
    "One of the most useful commands regarding data processing is `split()`. We are working with a *comma separated value* file, which means:\n",
    "- Each line in the file contains one group of relevant data (in this case, one line = one country)\n",
    "- The \"columns\" are separated by commas.\n",
    "\n",
    "Accordingly, we want to take a comma separated string and \"split\" it up every time we see a comma:"
   ]
  },
  {
   "cell_type": "code",
   "execution_count": 0,
   "metadata": {
    "collapsed": false
   },
   "outputs": [
   ],
   "source": [
    "myString = 'Australia, AUS, GDP, 124124, 123123, 198272'\n",
    "myString.split(',')"
   ]
  },
  {
   "cell_type": "markdown",
   "metadata": {
    "collapsed": false
   },
   "source": [
    "In general you can have Python split at any delimiter you choose:"
   ]
  },
  {
   "cell_type": "code",
   "execution_count": 0,
   "metadata": {
    "collapsed": false
   },
   "outputs": [
   ],
   "source": [
    "myString = 'Australia & AUS & GDP & 124124 & 123123 & 198272'\n",
    "myString.split('&')"
   ]
  },
  {
   "cell_type": "markdown",
   "metadata": {
    "collapsed": false
   },
   "source": [
    "The default use of split is to split on whitespace (which includes spaces, newlines, and tabs). For instance: to turn a sentence into the list of words in that sentence:"
   ]
  },
  {
   "cell_type": "code",
   "execution_count": 0,
   "metadata": {
    "collapsed": false
   },
   "outputs": [
   ],
   "source": [
    "myStr = 'The quick brown fox jumped over the lazy dog'\n",
    "myStr.split()"
   ]
  },
  {
   "cell_type": "markdown",
   "metadata": {
    "collapsed": false
   },
   "source": [
    "Let's apply this to our data:"
   ]
  },
  {
   "cell_type": "code",
   "execution_count": 0,
   "metadata": {
    "collapsed": false
   },
   "outputs": [
   ],
   "source": [
    "myData = []\n",
    "with open('realGDP.csv','r') as myFile:\n",
    "    for line in myFile:\n",
    "        myData.append(line.split(','))"
   ]
  },
  {
   "cell_type": "code",
   "execution_count": 0,
   "metadata": {
    "collapsed": false,
    "scrolled": true
   },
   "outputs": [
   ],
   "source": [
    "ausData = myData[16]\n",
    "ausData"
   ]
  },
  {
   "cell_type": "code",
   "execution_count": 0,
   "metadata": {
    "collapsed": false
   },
   "outputs": [
   ],
   "source": [
    "ausData[25]"
   ]
  },
  {
   "cell_type": "markdown",
   "metadata": {
    "collapsed": false
   },
   "source": [
    "Maybe there is an even better way to store this information?"
   ]
  },
  {
   "cell_type": "code",
   "execution_count": 0,
   "metadata": {
    "collapsed": false
   },
   "outputs": [
   ],
   "source": [
    "myData = dict()\n",
    "lineCounter = 1\n",
    "with open('realGDP.csv','r') as myFile:\n",
    "    for line in myFile:\n",
    "        if lineCounter >= 5:\n",
    "            countryData = line.split(',')\n",
    "            myData[countryData[0]] = countryData[1:]\n",
    "        lineCounter += 1"
   ]
  },
  {
   "cell_type": "code",
   "execution_count": 0,
   "metadata": {
    "collapsed": false
   },
   "outputs": [
   ],
   "source": [
    "myData['\"Australia\"']"
   ]
  },
  {
   "cell_type": "markdown",
   "metadata": {
    "collapsed": false
   },
   "source": [
    "One more try! (I am adding in these intermediate steps because in real life, data is *messy*. You need to be comfortable debugging like this if you want any sort of data related career). In this case we need to take care of these obnoxious quotation marks. The command here is `strip()`. It removes *leading or trailing characters*."
   ]
  },
  {
   "cell_type": "code",
   "execution_count": 0,
   "metadata": {
    "collapsed": false
   },
   "outputs": [
   ],
   "source": [
    "myStr = '\"Australia\"'\n",
    "myStr.strip('\"')"
   ]
  },
  {
   "cell_type": "code",
   "execution_count": 0,
   "metadata": {
    "collapsed": false
   },
   "outputs": [
   ],
   "source": [
    "myStr = '\"Aust\"ralia\"'\n",
    "myStr.strip('\"')"
   ]
  },
  {
   "cell_type": "code",
   "execution_count": 0,
   "metadata": {
    "collapsed": false
   },
   "outputs": [
   ],
   "source": [
    "myData = dict()\n",
    "lineCounter = 1\n",
    "with open('realGDP.csv','r') as myFile:\n",
    "    for line in myFile:\n",
    "        if lineCounter >= 5:\n",
    "            countryData = line.split(',')\n",
    "            myData[countryData[0].strip('\"')] = [item.strip('\"') for item in countryData[1:]]\n",
    "        lineCounter += 1"
   ]
  },
  {
   "cell_type": "code",
   "execution_count": 0,
   "metadata": {
    "collapsed": false
   },
   "outputs": [
   ],
   "source": [
    "myData['Mexico']"
   ]
  },
  {
   "cell_type": "markdown",
   "metadata": {
    "collapsed": false
   },
   "source": [
    "In practice it would be even better to consider formatting this as a dictionary of dictionaries, so that you could do something like \n",
    "```\n",
    "myData['Australia'][1985]\n",
    "```\n",
    "\n",
    "but I'm done with data wrangling for now, let's just use it."
   ]
  },
  {
   "cell_type": "code",
   "execution_count": 0,
   "metadata": {
    "collapsed": false
   },
   "outputs": [
   ],
   "source": [
    "startIndex = 4\n",
    "endIndex = -3\n",
    "ausData = [float(gdp) for gdp in myData['Australia'][4:-3]]\n",
    "ausData"
   ]
  },
  {
   "cell_type": "code",
   "execution_count": 0,
   "metadata": {
    "collapsed": false
   },
   "outputs": [
   ],
   "source": [
    "list_plot(ausData)"
   ]
  },
  {
   "cell_type": "code",
   "execution_count": 0,
   "metadata": {
    "collapsed": false
   },
   "outputs": [
   ],
   "source": [
    "startIndex = 4\n",
    "endIndex = -3\n",
    "greData = [float(gdp) for gdp in myData['Greece'][4:-3]]\n",
    "greData"
   ]
  },
  {
   "cell_type": "code",
   "execution_count": 0,
   "metadata": {
    "collapsed": false
   },
   "outputs": [
   ],
   "source": [
    "comparison = list_plot(ausData)\n",
    "comparison += list_plot(greData, color = 'green')\n",
    "show(comparison)"
   ]
  },
  {
   "cell_type": "markdown",
   "metadata": {
    "collapsed": false
   },
   "source": [
    "The code below finds a \"line of best fit\" for the data points above (don't worry too much about details)"
   ]
  },
  {
   "cell_type": "code",
   "execution_count": 0,
   "metadata": {
    "collapsed": false
   },
   "outputs": [
   ],
   "source": [
    "var('a','b')\n",
    "model(x) = a *x + b\n",
    "greRegression = find_fit([(i,greData[i]) for i in range(len(greData))],model)"
   ]
  },
  {
   "cell_type": "code",
   "execution_count": 0,
   "metadata": {
    "collapsed": false
   },
   "outputs": [
   ],
   "source": [
    "var('a','b')\n",
    "model(x) = a *x + b\n",
    "ausRegression = find_fit([(i,ausData[i]) for i in range(len(greData))],model)"
   ]
  },
  {
   "cell_type": "code",
   "execution_count": 0,
   "metadata": {
    "collapsed": false
   },
   "outputs": [
   ],
   "source": [
    "print(greRegression)\n",
    "print(ausRegression)"
   ]
  },
  {
   "cell_type": "code",
   "execution_count": 0,
   "metadata": {
    "collapsed": false
   },
   "outputs": [
   ],
   "source": [
    "comparison += plot(-0.16650865062862255*x + 7.612840847116432, (-1,60), color = 'green')\n",
    "comparison += plot(-0.029220092028283018*x + 4.291826627149551, (-1,60), color = 'blue')"
   ]
  },
  {
   "cell_type": "code",
   "execution_count": 0,
   "metadata": {
    "collapsed": false
   },
   "outputs": [
   ],
   "source": [
    "show(comparison)"
   ]
  },
  {
   "cell_type": "markdown",
   "metadata": {
    "collapsed": false
   },
   "source": [
    "We will see how to expedite this process when we get to the *Pandas* module."
   ]
  },
  {
   "cell_type": "markdown",
   "metadata": {
    "collapsed": false
   },
   "source": [
    "## ***** Participation Check ***************************\n",
    "\n",
    "Write a function *neighborhood* which \n",
    "- Takes as input a graph G, a vertex v of G, and a integer k.\n",
    "- Returns a list of the vertices in G for which `G.distance(v,u)` is less than or equal to k. "
   ]
  },
  {
   "cell_type": "code",
   "execution_count": 0,
   "metadata": {
    "collapsed": false
   },
   "outputs": [
   ],
   "source": [
    "def neighborhood(G,v,k):\n",
    "    #Your code here"
   ]
  },
  {
   "cell_type": "code",
   "execution_count": 0,
   "metadata": {
    "collapsed": false
   },
   "outputs": [
   ],
   "source": [
    "print(neighborhood(graphs.CycleGraph(10),0,3))"
   ]
  },
  {
   "cell_type": "code",
   "execution_count": 0,
   "metadata": {
    "collapsed": false
   },
   "outputs": [
   ],
   "source": [
    "show(graphs.CycleGraph(10))"
   ]
  },
  {
   "cell_type": "markdown",
   "metadata": {
    "collapsed": false
   },
   "source": [
    "## ***********************************************************"
   ]
  },
  {
   "cell_type": "markdown",
   "metadata": {
    "collapsed": false
   },
   "source": [
    "## Let's apply this to graphs!\n",
    "The 1138_bus.mtx file is a data file detailing connectivity in a power grid. It's not easy to figure out exactly what is being represented here, but basically:\n",
    "- Nodes represent some form of power station\n",
    "- Edges represent connections between these power stations.\n"
   ]
  },
  {
   "cell_type": "code",
   "execution_count": 0,
   "metadata": {
    "collapsed": false
   },
   "outputs": [
   ],
   "source": [
    "with open('1138_bus.mtx','r') as myFile:\n",
    "    data = myFile.readlines()"
   ]
  },
  {
   "cell_type": "code",
   "execution_count": 0,
   "metadata": {
    "collapsed": false
   },
   "outputs": [
   ],
   "source": [
    "data"
   ]
  },
  {
   "cell_type": "code",
   "execution_count": 0,
   "metadata": {
    "collapsed": false
   },
   "outputs": [
   ],
   "source": [
    "data[19]"
   ]
  },
  {
   "cell_type": "code",
   "execution_count": 0,
   "metadata": {
    "collapsed": false
   },
   "outputs": [
   ],
   "source": [
    "G = Graph()\n",
    "G.weighted(True)\n",
    "G.add_vertices([i for i in range(1,1139)])\n",
    "for line in data[14:]:\n",
    "    splitLine = line.split()\n",
    "    vertexA = int(splitLine[0])\n",
    "    vertexB = int(splitLine[1])\n",
    "    weight = float(splitLine[2])\n",
    "    if vertexA != vertexB:\n",
    "        G.add_edge((vertexA,vertexB, weight))\n"
   ]
  },
  {
   "cell_type": "code",
   "execution_count": 0,
   "metadata": {
    "collapsed": false
   },
   "outputs": [
   ],
   "source": [
    "G.plot()"
   ]
  },
  {
   "cell_type": "markdown",
   "metadata": {
    "collapsed": false
   },
   "source": [
    "Is this even useful? Can we do anything with it?"
   ]
  },
  {
   "cell_type": "code",
   "execution_count": 0,
   "metadata": {
    "collapsed": false
   },
   "outputs": [
   ],
   "source": [
    "G.connected_components_number()"
   ]
  },
  {
   "cell_type": "markdown",
   "metadata": {
    "collapsed": false
   },
   "source": [
    "What if we were worried about the grid disconnecting. Maybe for instance winter is coming, and we are worried about certain power lines failing due to some weather incident. Which power lines would be *most critical* to maintain?"
   ]
  },
  {
   "cell_type": "code",
   "execution_count": 0,
   "metadata": {
    "collapsed": false
   },
   "outputs": [
   ],
   "source": [
    "G.bridges??"
   ]
  },
  {
   "cell_type": "code",
   "execution_count": 0,
   "metadata": {
    "collapsed": false
   },
   "outputs": [
   ],
   "source": [
    "bridges = list(G.bridges())\n",
    "print(bridges[0])"
   ]
  },
  {
   "cell_type": "code",
   "execution_count": 0,
   "metadata": {
    "collapsed": false
   },
   "outputs": [
   ],
   "source": [
    "G.delete_edge((495,513))"
   ]
  },
  {
   "cell_type": "code",
   "execution_count": 0,
   "metadata": {
    "collapsed": false
   },
   "outputs": [
   ],
   "source": [
    "G.connected_components_number()"
   ]
  },
  {
   "cell_type": "code",
   "execution_count": 0,
   "metadata": {
    "collapsed": false
   },
   "outputs": [
   ],
   "source": [
    "G.add_edge((495,513,-46.2963))"
   ]
  },
  {
   "cell_type": "markdown",
   "metadata": {
    "collapsed": false
   },
   "source": [
    "Which power station is most important to maintain? This can be measured in *many* ways. Here is one crude way: which vertex is incident to the most bridges?"
   ]
  },
  {
   "cell_type": "code",
   "execution_count": 0,
   "metadata": {
    "collapsed": false
   },
   "outputs": [
   ],
   "source": [
    "vertexDict = {vertex:0 for vertex in G}\n",
    "for bridge in bridges:\n",
    "    vertexDict[bridge[0]]+=1\n",
    "    vertexDict[bridge[1]]+=1"
   ]
  },
  {
   "cell_type": "code",
   "execution_count": 0,
   "metadata": {
    "collapsed": false
   },
   "outputs": [
   ],
   "source": [
    "max(vertexDict.values())"
   ]
  },
  {
   "cell_type": "code",
   "execution_count": 0,
   "metadata": {
    "collapsed": false
   },
   "outputs": [
   ],
   "source": [
    "for vertex in G:\n",
    "    if vertexDict[vertex]==7:\n",
    "        print(vertex)"
   ]
  },
  {
   "cell_type": "code",
   "execution_count": 0,
   "metadata": {
    "collapsed": false
   },
   "outputs": [
   ],
   "source": [
    "G.edges_incident(375)"
   ]
  },
  {
   "cell_type": "code",
   "execution_count": 0,
   "metadata": {
    "collapsed": false
   },
   "outputs": [
   ],
   "source": [
    "G.edges_incident(724)"
   ]
  },
  {
   "cell_type": "markdown",
   "metadata": {
    "collapsed": false
   },
   "source": [
    "Now we can get a local picture around vertex 724. Using your \"neighborhood\" function, we can get all the vertices close to 724 and plot the induced subgraph:"
   ]
  },
  {
   "cell_type": "code",
   "execution_count": 0,
   "metadata": {
    "collapsed": false,
    "scrolled": true
   },
   "outputs": [
   ],
   "source": [
    "neighbors = neighborhood(G,724,2)\n",
    "plot(G.subgraph(neighbors))"
   ]
  },
  {
   "cell_type": "code",
   "execution_count": 0,
   "metadata": {
    "collapsed": false
   },
   "outputs": [
   ],
   "source": [
    "G.delete_vertex(724)\n",
    "G.connected_components_number()"
   ]
  },
  {
   "cell_type": "markdown",
   "metadata": {
    "collapsed": false
   },
   "source": [
    "Perhaps it is worth paying a little more attention to vertex 724 to make sure it does not fail!"
   ]
  },
  {
   "cell_type": "markdown",
   "metadata": {
    "collapsed": false
   },
   "source": [
    "## Next Time: Number Theory/Cryptography"
   ]
  }
 ],
 "metadata": {
  "kernelspec": {
   "display_name": "SageMath 9.2",
   "language": "sagemath",
   "metadata": {
    "cocalc": {
     "description": "Open-source mathematical software system",
     "priority": 10,
     "url": "https://www.sagemath.org/"
    }
   },
   "name": "sage-9.2",
   "resource_dir": "/ext/jupyter/kernels/sage-9.2"
  },
  "language_info": {
   "codemirror_mode": {
    "name": "ipython",
    "version": 3
   },
   "file_extension": ".py",
   "mimetype": "text/x-python",
   "name": "python",
   "nbconvert_exporter": "python",
   "pygments_lexer": "ipython3",
   "version": "3.8.5"
  }
 },
 "nbformat": 4,
 "nbformat_minor": 4
}