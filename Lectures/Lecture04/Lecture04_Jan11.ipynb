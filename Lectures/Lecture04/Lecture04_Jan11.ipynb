{
 "cells": [
  {
   "cell_type": "markdown",
   "metadata": {
    "collapsed": false
   },
   "source": [
    "# Lecture 04: Programming in Python (2 of 3)\n",
    "\n",
    "### Please note: This lecture will be recorded and made available for viewing online. If you do not wish to be recorded, please adjust your camera settings accordingly. "
   ]
  },
  {
   "cell_type": "markdown",
   "metadata": {
    "collapsed": false
   },
   "source": [
    "# Reminders:\n",
    "- Assignment 1 is due on Thursday night (Jan 14) 8pm. This is for a grade!\n",
    "- Remember to look for Participation Checks throughout this lecture! Starting this week, Participation Checks *will* be counted. A review of Participation Checks can be found in Lecture 1, or in the ZulipChat (in the CourseLogistics/Syllabus stream)\n",
    "- Office Hours Schedule can be found in Course links folder. Attend them with any questions about the course/assignments.\n",
    "    - For questions on assignments: *Please* try to understand/play around with the exercises first, before asking questions on them. We are happy to help at any point, but it is much easier to give useful feedback if you have *specific questions*.\n",
    "- Sections will be held Tuesdays, essentially from 2-5 pm. Sections will review information directly related to homeworks and to the past week(ish) of lectures. \n",
    "- Please ask questions in the chat if you have any!"
   ]
  },
  {
   "cell_type": "markdown",
   "metadata": {
    "collapsed": false
   },
   "source": [
    "## Conditional Statements in Python\n",
    "\n",
    "A conditional statement in a piece of code is a \"subroutine\" that will execute only if a certain statement is true. In Python this works using the \"if/elif/else\" command. We will start small and build up:"
   ]
  },
  {
   "cell_type": "code",
   "execution_count": 0,
   "metadata": {
    "collapsed": false
   },
   "outputs": [
   ],
   "source": [
    "if True:\n",
    "    print('Printing!')"
   ]
  },
  {
   "cell_type": "code",
   "execution_count": 0,
   "metadata": {
    "collapsed": false
   },
   "outputs": [
   ],
   "source": [
    "if False:\n",
    "    print('Printing!')"
   ]
  },
  {
   "cell_type": "markdown",
   "metadata": {
    "collapsed": false
   },
   "source": [
    "Usually one does not use the \"absolute\" boolean values `True` and `False` in a conditional statement, as we already *know* their truth values. Often we will use a conditional statement as a *test* on some variable."
   ]
  },
  {
   "cell_type": "code",
   "execution_count": 0,
   "metadata": {
    "collapsed": false
   },
   "outputs": [
   ],
   "source": [
    "x = 5\n",
    "\n",
    "if x < 3:\n",
    "    print('Printing')"
   ]
  },
  {
   "cell_type": "code",
   "execution_count": 0,
   "metadata": {
    "collapsed": false
   },
   "outputs": [
   ],
   "source": [
    "x = 2\n",
    "\n",
    "if x != 3:\n",
    "    print('Printing')"
   ]
  },
  {
   "cell_type": "markdown",
   "metadata": {
    "collapsed": false
   },
   "source": [
    "The common comparison operators (for numeric values) in Python are:\n",
    "- Equality: `==` \n",
    "- Inequality: `!=`\n",
    "- Strictly less than: `<`\n",
    "- Strictly greater than: `>`\n",
    "- Less than or equal to: `<=`\n",
    "- Greater than or equal to: `>=`\n",
    "\n",
    "Operators can be chained together using the `and` and `or` commands. For readability, you can group your individual Boolean expressions using parens, but this is not necessary. \n",
    "\n",
    "As a reminder, here are the truth tables for `and` and `or`:\n",
    "\n",
    "![TTables](truthtable.png)"
   ]
  },
  {
   "cell_type": "code",
   "execution_count": 0,
   "metadata": {
    "collapsed": false
   },
   "outputs": [
   ],
   "source": [
    "x = 17\n",
    "\n",
    "if (x < 5) or (x >= 12):\n",
    "    print(x)"
   ]
  },
  {
   "cell_type": "code",
   "execution_count": 0,
   "metadata": {
    "collapsed": false
   },
   "outputs": [
   ],
   "source": [
    "z = 1\n",
    "y = 43\n",
    "\n",
    "if z > 0 and y <= 400:\n",
    "    print(y-z)"
   ]
  },
  {
   "cell_type": "code",
   "execution_count": 0,
   "metadata": {
    "collapsed": false
   },
   "outputs": [
   ],
   "source": [
    "if z > 1 and y <= 400:\n",
    "    print(y-z)"
   ]
  },
  {
   "cell_type": "markdown",
   "metadata": {
    "collapsed": false
   },
   "source": [
    "\n",
    "\n",
    "# *** Participation Check ***\n",
    "Recall that modular arithmetic in Python works using the `%` operator. In the code cell below there is a for loop written. Fill out the for loop so that it only prints out the integers which are greater than 6 or divisible by 4. If you need more help on the `%` operator, perhaps it would be nice to run the loop in the second code cell for a reminder on how `%` works."
   ]
  },
  {
   "cell_type": "code",
   "execution_count": 0,
   "metadata": {
    "collapsed": false
   },
   "outputs": [
   ],
   "source": [
   ]
  },
  {
   "cell_type": "code",
   "execution_count": 0,
   "metadata": {
    "collapsed": false
   },
   "outputs": [
   ],
   "source": [
    "for i in range(20):\n",
    "    print('i equals {} and i mod 4 equals {}'.format(i,i%4))"
   ]
  },
  {
   "cell_type": "markdown",
   "metadata": {
    "collapsed": false
   },
   "source": [
    "# ****************************"
   ]
  },
  {
   "cell_type": "markdown",
   "metadata": {
    "collapsed": false
   },
   "source": [
    "You can negate Boolean expressions in Python using the `not` command"
   ]
  },
  {
   "cell_type": "code",
   "execution_count": 0,
   "metadata": {
    "collapsed": false
   },
   "outputs": [
   ],
   "source": [
    "x = 4\n",
    "\n",
    "print(x == 4)"
   ]
  },
  {
   "cell_type": "code",
   "execution_count": 0,
   "metadata": {
    "collapsed": false
   },
   "outputs": [
   ],
   "source": [
    "print(not x == 4)"
   ]
  },
  {
   "cell_type": "code",
   "execution_count": 0,
   "metadata": {
    "collapsed": false
   },
   "outputs": [
   ],
   "source": [
    "print(x != 4)"
   ]
  },
  {
   "cell_type": "code",
   "execution_count": 0,
   "metadata": {
    "collapsed": false
   },
   "outputs": [
   ],
   "source": [
    "print(not x!=4)"
   ]
  },
  {
   "cell_type": "markdown",
   "metadata": {
    "collapsed": false
   },
   "source": [
    "## If, elif, else\n",
    "\n",
    "Often we will want to do one operation to a value if a certain condition holds, and a different operation to a value if that condition does not hold. "
   ]
  },
  {
   "cell_type": "code",
   "execution_count": 0,
   "metadata": {
    "collapsed": false
   },
   "outputs": [
   ],
   "source": [
    "for i in range(8):\n",
    "    if i < 2:\n",
    "        print(i,' is smaller than 2')\n",
    "    elif 2 <= i and i < 5:\n",
    "        print(i,' is between 2 and 4')\n",
    "    else:\n",
    "        print(i,' is larger than 4')"
   ]
  },
  {
   "cell_type": "markdown",
   "metadata": {
    "collapsed": false
   },
   "source": [
    "For example, maybe three candidates are running for election. Using a for loop and an if, elif, else statement, you can tally the votes for these candidates:"
   ]
  },
  {
   "cell_type": "code",
   "execution_count": 0,
   "metadata": {
    "collapsed": false
   },
   "outputs": [
   ],
   "source": [
    "votes = ['Alice', 'Bob', 'Alice','Alice', 'Bob', 'Carl', 'Alice', 'Bob','Alice']\n",
    "\n",
    "aliceVotes = 0\n",
    "bobVotes = 0\n",
    "carlVotes = 0\n",
    "\n",
    "for vote in votes:\n",
    "    if vote == 'Alice':\n",
    "        aliceVotes += 1   #Here the += 1 is used to increment the variable. It is equivalent to aliceVotes = aliceVotes + 1\n",
    "    elif vote == 'Bob':\n",
    "        bobVotes += 1\n",
    "    else:\n",
    "        carlVotes += 1\n",
    "        \n",
    "print('Number of votes for Alice:', aliceVotes)\n",
    "print('Number of votes for Bob:', bobVotes)\n",
    "print('Number of votes for Carl:', carlVotes)"
   ]
  },
  {
   "cell_type": "markdown",
   "metadata": {
    "collapsed": false
   },
   "source": [
    "The `elif` statement is optional; you can also write a simple `if/else` statement:"
   ]
  },
  {
   "cell_type": "code",
   "execution_count": 0,
   "metadata": {
    "collapsed": false
   },
   "outputs": [
   ],
   "source": [
    "votes = ['Alice', 'Bob', 'Alice','Alice', 'Bob', 'Carl', 'Alice', 'Bob','Alice']\n",
    "\n",
    "aliceVotes = 0\n",
    "otherVotes = 0\n",
    "\n",
    "for vote in votes:\n",
    "    if vote == 'Alice':\n",
    "        aliceVotes += 1\n",
    "    else:\n",
    "        otherVotes += 1\n",
    "        \n",
    "print('Number of votes for Alice:', aliceVotes)\n",
    "print('Number of votes for other candidates: ',otherVotes)"
   ]
  },
  {
   "cell_type": "markdown",
   "metadata": {
    "collapsed": false
   },
   "source": [
    "Alternatively, you can make a conditional statement *more complicated* with *more* `elif` statements!"
   ]
  },
  {
   "cell_type": "code",
   "execution_count": 0,
   "metadata": {
    "collapsed": false
   },
   "outputs": [
   ],
   "source": [
    "for i in range(10):\n",
    "    if i == 0:\n",
    "        print('Zero')\n",
    "    elif i == 1:\n",
    "        print('One')\n",
    "    elif i == 2:\n",
    "        print('Two')\n",
    "    elif i == 3:\n",
    "        print('Three')\n",
    "    elif i == 4:\n",
    "        print('Four')\n",
    "    elif i == 5:\n",
    "        print('Five')\n",
    "    elif i == 6:\n",
    "        print('Six')\n",
    "    elif i == 7:\n",
    "        print('Seven')\n",
    "    elif i == 8:\n",
    "        print('Eight')\n",
    "    else:\n",
    "        print('Nine')"
   ]
  },
  {
   "cell_type": "code",
   "execution_count": 0,
   "metadata": {
    "collapsed": false
   },
   "outputs": [
   ],
   "source": [
    "x = 5\n",
    "\n",
    "if x < 10:\n",
    "    print('x< 10')\n",
    "elif x > 2:\n",
    "    print('x > 2')\n",
    "else:\n",
    "    print('else')"
   ]
  },
  {
   "cell_type": "code",
   "execution_count": 0,
   "metadata": {
    "collapsed": false
   },
   "outputs": [
   ],
   "source": [
    "if x<10:\n",
    "    print('x<10')\n",
    "    \n",
    "if x >2:\n",
    "    print('x>2')"
   ]
  },
  {
   "cell_type": "markdown",
   "metadata": {
    "collapsed": false
   },
   "source": [
    "## More advanced flow control: strings, lists and sets\n",
    "\n",
    "Recall that a string in Python is an ordered collection of unicode characters, and a list in Python is an ordered sequence of values. Note: in Python, you do not have to declare the type of elements that a list can contain, and in fact your list can contain several different types of elements:"
   ]
  },
  {
   "cell_type": "code",
   "execution_count": 0,
   "metadata": {
    "collapsed": false
   },
   "outputs": [
   ],
   "source": [
    "myString = 'abcdefg'\n",
    "myList = [1,2,3,'Alice','Bob','Carl']"
   ]
  },
  {
   "cell_type": "markdown",
   "metadata": {
    "collapsed": false
   },
   "source": [
    "Another useful way to collect data in Python is a *set*. Sets are *unordered* collections of *distinct objects*. "
   ]
  },
  {
   "cell_type": "code",
   "execution_count": 0,
   "metadata": {
    "collapsed": false
   },
   "outputs": [
   ],
   "source": [
    "mySet = {1,2,3,3}        #You can declare a set using curly braces\n",
    "print(mySet)             #Note that when the set prints, the duplicate 3 has been removed!"
   ]
  },
  {
   "cell_type": "markdown",
   "metadata": {
    "collapsed": false
   },
   "source": [
    "You can convert a list or string into a set using the `set()` command"
   ]
  },
  {
   "cell_type": "code",
   "execution_count": 0,
   "metadata": {
    "collapsed": false
   },
   "outputs": [
   ],
   "source": [
    "myNewList = [2,1,3,3]\n",
    "myNewSet = set(myNewList)\n",
    "\n",
    "print(myNewList)\n",
    "print(myNewSet)"
   ]
  },
  {
   "cell_type": "markdown",
   "metadata": {
    "collapsed": false
   },
   "source": [
    "Similarly you can convert a set or string into a list via the `list()` command. This puts an artificial ordering on your set."
   ]
  },
  {
   "cell_type": "code",
   "execution_count": 0,
   "metadata": {
    "collapsed": false
   },
   "outputs": [
   ],
   "source": [
    "mySet = {'a',3,2}\n",
    "myString = 'Apple'\n",
    "\n",
    "list1 = list(mySet)\n",
    "list2 = list(myString)"
   ]
  },
  {
   "cell_type": "code",
   "execution_count": 0,
   "metadata": {
    "collapsed": false
   },
   "outputs": [
   ],
   "source": [
    "print(list1)\n",
    "print(list2)"
   ]
  },
  {
   "cell_type": "markdown",
   "metadata": {
    "collapsed": false
   },
   "source": [
    "Finally, you can turn a *list of strings* into a single string using the `join` command:"
   ]
  },
  {
   "cell_type": "code",
   "execution_count": 0,
   "metadata": {
    "collapsed": false
   },
   "outputs": [
   ],
   "source": [
    "''.join(list2)"
   ]
  },
  {
   "cell_type": "code",
   "execution_count": 0,
   "metadata": {
    "collapsed": false
   },
   "outputs": [
   ],
   "source": [
    "'@'.join(list2)"
   ]
  },
  {
   "cell_type": "code",
   "execution_count": 0,
   "metadata": {
    "collapsed": false
   },
   "outputs": [
   ],
   "source": [
    "data = ['userID','Domain.edu']\n",
    "'@'.join(data)"
   ]
  },
  {
   "cell_type": "markdown",
   "metadata": {
    "collapsed": false
   },
   "source": [
    "Note: `str()` is a command which *does* turn things into strings, but it is a bit funny:"
   ]
  },
  {
   "cell_type": "code",
   "execution_count": 0,
   "metadata": {
    "collapsed": false
   },
   "outputs": [
   ],
   "source": [
    "print(list1)\n",
    "string = str(list1)\n",
    "print(string)"
   ]
  },
  {
   "cell_type": "code",
   "execution_count": 0,
   "metadata": {
    "collapsed": false
   },
   "outputs": [
   ],
   "source": [
    "for char in string:\n",
    "    print(char)"
   ]
  },
  {
   "cell_type": "markdown",
   "metadata": {
    "collapsed": false
   },
   "source": [
    "## Iteratively updating lists and sets\n",
    "\n",
    "Lists and sets are *mutable* in Python. The very simplif meaning you can \"mutate\" (change) them on the fly."
   ]
  },
  {
   "cell_type": "markdown",
   "metadata": {
    "collapsed": false
   },
   "source": [
    "You can iteratively update lists using the `append` or `remove` command:"
   ]
  },
  {
   "cell_type": "code",
   "execution_count": 0,
   "metadata": {
    "collapsed": false
   },
   "outputs": [
   ],
   "source": [
    "myList = [1,2,3]\n",
    "print(myList)\n",
    "myList.append(6)\n",
    "print(myList)\n",
    "myList.remove(2)\n",
    "print(myList)"
   ]
  },
  {
   "cell_type": "markdown",
   "metadata": {
    "collapsed": false
   },
   "source": [
    "You can iteratively update sets using the `add` or `remove` commmand:"
   ]
  },
  {
   "cell_type": "code",
   "execution_count": 0,
   "metadata": {
    "collapsed": false
   },
   "outputs": [
   ],
   "source": [
    "mySet = {1,2,3}\n",
    "print(mySet)\n",
    "mySet.add(6)\n",
    "print(mySet)\n",
    "mySet.remove(2)\n",
    "print(mySet)"
   ]
  },
  {
   "cell_type": "markdown",
   "metadata": {
    "collapsed": false
   },
   "source": [
    "# *** Participation Check ***\n",
    "In the code cell below there are two empty lists, `Evens` and `Odds`. Using a `for` loop, an `if/else` statement, and the `append` command, turn `Evens` into the list of even integers between 0 and 10 (inclusive) and `Odds` into the list of odd integers between 0 and 10."
   ]
  },
  {
   "cell_type": "code",
   "execution_count": 0,
   "metadata": {
    "collapsed": false
   },
   "outputs": [
   ],
   "source": [
    "Evens = []\n",
    "Odds = []\n",
    "#Your code goes here"
   ]
  },
  {
   "cell_type": "code",
   "execution_count": 0,
   "metadata": {
    "collapsed": false
   },
   "outputs": [
   ],
   "source": [
    "#Print both lists by running this cell to check your answer\n",
    "print(Evens)\n",
    "print(Odds)"
   ]
  },
  {
   "cell_type": "markdown",
   "metadata": {
    "collapsed": false
   },
   "source": [
    "# ****************************"
   ]
  },
  {
   "cell_type": "markdown",
   "metadata": {
    "collapsed": false
   },
   "source": [
    "You can test for membership in a list, set, or string using the `in` command:"
   ]
  },
  {
   "cell_type": "code",
   "execution_count": 0,
   "metadata": {
    "collapsed": false
   },
   "outputs": [
   ],
   "source": [
    "mySet = {1,2,3}\n",
    "\n",
    "2 in mySet"
   ]
  },
  {
   "cell_type": "code",
   "execution_count": 0,
   "metadata": {
    "collapsed": false
   },
   "outputs": [
   ],
   "source": [
    "myList = [4,6,8]\n",
    "\n",
    "3 in myList"
   ]
  },
  {
   "cell_type": "code",
   "execution_count": 0,
   "metadata": {
    "collapsed": false
   },
   "outputs": [
   ],
   "source": [
    "myString = 'taco'\n",
    "'c' in myString"
   ]
  },
  {
   "cell_type": "markdown",
   "metadata": {
    "collapsed": false
   },
   "source": [
    "Super fun fact! *Because a set is unordered, membership testing in a set is much much much faster than in a list:*"
   ]
  },
  {
   "cell_type": "code",
   "execution_count": 0,
   "metadata": {
    "collapsed": false
   },
   "outputs": [
   ],
   "source": [
    "mySet = {i for i in range(50000)}\n",
    "myList = [i for i in range(50000)]"
   ]
  },
  {
   "cell_type": "code",
   "execution_count": 0,
   "metadata": {
    "collapsed": false
   },
   "outputs": [
   ],
   "source": [
    "for i in range(50000):\n",
    "    boolean = i in myList"
   ]
  },
  {
   "cell_type": "code",
   "execution_count": 0,
   "metadata": {
    "collapsed": false
   },
   "outputs": [
   ],
   "source": [
    "for i in range(50000):\n",
    "    boolean = i in mySet"
   ]
  },
  {
   "cell_type": "markdown",
   "metadata": {
    "collapsed": false
   },
   "source": [
    "In fancier terms, a set in Python has *constant time lookup* whereas a lookup in a list *depends on the size of that list*. If you ever do an interview for a computer science internship/job, you will need to know that!"
   ]
  },
  {
   "cell_type": "markdown",
   "metadata": {
    "collapsed": false
   },
   "source": [
    "## Slice Indexing of lists and strings\n",
    "\n",
    "To get an item of a list/string, you use the following notation: `l[i]` returns the item in the list/string at the `i`th index. Remember, Python indexing starts at 0."
   ]
  },
  {
   "cell_type": "code",
   "execution_count": 0,
   "metadata": {
    "collapsed": false
   },
   "outputs": [
   ],
   "source": [
    "l = ['Apple','Banana','Pineapple','Raspberry']\n",
    "\n",
    "print(l[0])\n",
    "print(l[1])\n",
    "print(l[2])\n",
    "print(l[3])"
   ]
  },
  {
   "cell_type": "code",
   "execution_count": 0,
   "metadata": {
    "collapsed": false
   },
   "outputs": [
   ],
   "source": [
    "string = 'Apple'\n",
    "print(string[0])\n",
    "print(string[1])\n",
    "print(string[2])\n",
    "print(string[3])\n",
    "print(string[4])"
   ]
  },
  {
   "cell_type": "markdown",
   "metadata": {
    "collapsed": false
   },
   "source": [
    "You can also negate the index `i` to obtain elements from the back of the list; this is explored in HW 1. \n",
    "\n",
    "To obtain a sublist of a list or a substring of a string, use the syntax `l[start:end]` for your start and end index. Be careful! Where does it actually end?"
   ]
  },
  {
   "cell_type": "code",
   "execution_count": 0,
   "metadata": {
    "collapsed": false
   },
   "outputs": [
   ],
   "source": [
    "l = ['Apple','Banana','Pineapple','Raspberry']\n",
    "\n",
    "print(l[1:3])"
   ]
  },
  {
   "cell_type": "markdown",
   "metadata": {
    "collapsed": false
   },
   "source": [
    "This is similar to `range(n)` not encompassing the value `n`.\n",
    "\n",
    "You can skip one (or both) of the indices to get everything up to a given point, or everything after a given point:"
   ]
  },
  {
   "cell_type": "code",
   "execution_count": 0,
   "metadata": {
    "collapsed": false
   },
   "outputs": [
   ],
   "source": [
    "l = ['Apple','Banana','Pineapple','Raspberry']\n",
    "\n",
    "print(l[1:])\n",
    "\n",
    "print(l[:3])"
   ]
  },
  {
   "cell_type": "markdown",
   "metadata": {
    "collapsed": false
   },
   "source": [
    "Finally, there is an optional \"step size\" which you can use: "
   ]
  },
  {
   "cell_type": "code",
   "execution_count": 0,
   "metadata": {
    "collapsed": false
   },
   "outputs": [
   ],
   "source": [
    "l = [1,2,3,4,5,6,7,8,9,10]\n",
    "\n",
    "print(l[:9:2])"
   ]
  },
  {
   "cell_type": "markdown",
   "metadata": {
    "collapsed": false
   },
   "source": [
    "Your step size can be negative, in which case the list will reverse! This is also explored in HW 1. For more info, see here: https://realpython.com/lessons/indexing-and-slicing/"
   ]
  },
  {
   "cell_type": "markdown",
   "metadata": {
    "collapsed": false
   },
   "source": [
    "## Comprehensions\n",
    "\n",
    "A list comprehension in Python is a beautiful way of creating complicated lists in a short amount of code. Recall the first participation check, where we created the list of even integers from 0 to 10 (inclusive) as well as the list of odd integers in that range. "
   ]
  },
  {
   "cell_type": "code",
   "execution_count": 0,
   "metadata": {
    "collapsed": false
   },
   "outputs": [
   ],
   "source": [
    "Evens = []\n",
    "Odds = []\n",
    "for i in range(0,11):\n",
    "    if i%2 == 0:\n",
    "        Evens.append(i)\n",
    "    else:\n",
    "        Odds.append(i)\n",
    "print(Evens)\n",
    "print(Odds)"
   ]
  },
  {
   "cell_type": "markdown",
   "metadata": {
    "collapsed": false
   },
   "source": [
    "You can compress this construction down using a *list comprehension*."
   ]
  },
  {
   "cell_type": "code",
   "execution_count": 0,
   "metadata": {
    "collapsed": false
   },
   "outputs": [
   ],
   "source": [
    "Evens = [i for i in range(11) if i% 2 == 0]\n",
    "Odds = [i for i in range(11) if i%2 != 0]\n",
    "print(Evens)\n",
    "print(Odds)"
   ]
  },
  {
   "cell_type": "markdown",
   "metadata": {
    "collapsed": false
   },
   "source": [
    "You can apply a function to the variable as well: here is a list of some squares of some even numbers:"
   ]
  },
  {
   "cell_type": "code",
   "execution_count": 0,
   "metadata": {
    "collapsed": false
   },
   "outputs": [
   ],
   "source": [
    "SquaredEvens = [i**2 for i in range(11) if i%2 ==0]\n",
    "print(SquaredEvens)"
   ]
  },
  {
   "cell_type": "markdown",
   "metadata": {
    "collapsed": false
   },
   "source": [
    "Here is a list comprehension syntax breakdown:\n",
    "\n",
    "![list comprehensions](listcomprehensions.png)\n",
    "\n",
    "For a detailed discussion of list comprehensions, see here: https://realpython.com/list-comprehension-python/"
   ]
  },
  {
   "cell_type": "markdown",
   "metadata": {
    "collapsed": false
   },
   "source": [
    "## Truthy/falsy\n",
    "\n",
    "Python syntax allows you to write conditional statements in ways that seem strange, but are very convenient once you get used to it."
   ]
  },
  {
   "cell_type": "code",
   "execution_count": 0,
   "metadata": {
    "collapsed": false
   },
   "outputs": [
   ],
   "source": [
    "list1 = []\n",
    "list2 = [5]"
   ]
  },
  {
   "cell_type": "code",
   "execution_count": 0,
   "metadata": {
    "collapsed": false
   },
   "outputs": [
   ],
   "source": [
    "if list1:\n",
    "    print('This list is not empty')\n",
    "else:\n",
    "    print('This list was empty')"
   ]
  },
  {
   "cell_type": "code",
   "execution_count": 0,
   "metadata": {
    "collapsed": false
   },
   "outputs": [
   ],
   "source": [
    "if list2:\n",
    "    print('This list is not empty')\n",
    "else:\n",
    "    print('This list was empty')"
   ]
  },
  {
   "cell_type": "markdown",
   "metadata": {
    "collapsed": false
   },
   "source": [
    "In other words, Python automatically interprets \n",
    "\n",
    "`if list1:`\n",
    "\n",
    "to mean \"if `list1` is nonempty, do something to it.\" Truthy/falsy objects in Python are explored more in HW 1, and can be useful to exploit."
   ]
  },
  {
   "cell_type": "markdown",
   "metadata": {
    "collapsed": false
   },
   "source": [
    "## While Loops\n",
    "\n",
    "A while loop is similar to a for loop, but it explicitly depends on a conditional statement:"
   ]
  },
  {
   "cell_type": "code",
   "execution_count": 0,
   "metadata": {
    "collapsed": false
   },
   "outputs": [
   ],
   "source": [
    "i = 0\n",
    "while i < 10:\n",
    "    print(i)\n",
    "    i = i+1"
   ]
  },
  {
   "cell_type": "code",
   "execution_count": 0,
   "metadata": {
    "collapsed": false
   },
   "outputs": [
   ],
   "source": [
    "myList = [0,1,2,3,4,5]\n",
    "while myList:\n",
    "    x = myList[0]\n",
    "    myList.remove(x)\n",
    "    print(x**2)"
   ]
  },
  {
   "cell_type": "markdown",
   "metadata": {
    "collapsed": false
   },
   "source": [
    "In general, a `for` loop is used when you have a *predetermined number of operations you want to do*, and a `while` loop is used to *execute some piece of code an arbitrary number of times until something desirable happens*. They are often interchangeable, but occasionally a `while` loop really is more useful. \n",
    "\n",
    "For example (if you know what this means), a breadth first search or a depth first search is most easily implemented using a `while` loop. We might get into this later on, but I'm not entirely sure yet."
   ]
  },
  {
   "cell_type": "markdown",
   "metadata": {
    "collapsed": false
   },
   "source": [
    "## Next time: User defined functions in Python, dictionaries, maybe some other random stuff"
   ]
  }
 ],
 "metadata": {
  "kernelspec": {
   "display_name": "Python 3 (system-wide)",
   "language": "python",
   "metadata": {
    "cocalc": {
     "description": "Python 3 programming language",
     "priority": 100,
     "url": "https://www.python.org/"
    }
   },
   "name": "python3",
   "resource_dir": "/ext/jupyter/kernels/python3"
  },
  "language_info": {
   "codemirror_mode": {
    "name": "ipython",
    "version": 3
   },
   "file_extension": ".py",
   "mimetype": "text/x-python",
   "name": "python",
   "nbconvert_exporter": "python",
   "pygments_lexer": "ipython3",
   "version": "3.8.5"
  }
 },
 "nbformat": 4,
 "nbformat_minor": 4
}