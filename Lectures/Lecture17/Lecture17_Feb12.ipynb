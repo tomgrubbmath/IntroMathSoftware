{
 "cells": [
  {
   "cell_type": "markdown",
   "metadata": {
    "collapsed": false
   },
   "source": [
    "# Lecture 17: Statistics/Data Wrangling (1 of 3?)\n",
    "\n",
    "### Please note: This lecture will be recorded and made available for viewing online. If you do not wish to be recorded, please adjust your camera settings accordingly. \n",
    "\n",
    "# Reminders/Announcements:\n",
    "- Assignment 5 has been collected. Assignment 6 coming soon to a project near you.\n",
    "- Please fill out this survey regarding your preferred final project topic: https://docs.google.com/forms/d/e/1FAIpQLSeByoY87ENkYyM0MIeC3MmQKO9JKO7m83jR-6Fk0cyLzucqkA/viewform?usp=sf_link\n",
    "    - This survey will close *Sunday Feb 14 at 8pm*. If you do not know the best project for your background/interests, please email me or a TA!\n",
    "    - If you do not fill out this survey, you will \n",
    "        - be assigned into a *random* time zone!\n",
    "        - be assigned a *random* topic!\n",
    "    - As of right now, only ~45 have signed up for topics!\n",
    "- Quiz 2 is on February 22nd. It will be very similar in style to Quiz 1.\n",
    "- Participation checks are back\n",
    "- Long Weekend!!\n"
   ]
  },
  {
   "cell_type": "markdown",
   "metadata": {
    "collapsed": false
   },
   "source": [
    "## A Few Python Modules\n",
    "\n",
    "There are many ways to work with statistics computationally these days. One of the most common is the R programming language. Time permitting, we will explore a bit of R at the end of this quarter, but for now we are going to keep things \"Pythonic.\"\n",
    "\n",
    "Working with statistics in Python will require a few import statements. Some useful libraries are below (you don't always need all of them, but each of them are useful in specific circumstances):\n",
    "- NumPy \n",
    "- Pandas\n",
    "- Statsmodels\n",
    "- SciKit Learn\n",
    "- SciPy\n",
    "\n",
    "Note that most of this would work in the standard Python kernel! I'm only using SageMath here for easy access to plots.\n",
    "\n",
    "Today (for our introduction to stats) I will be trying to keep things as simple as possible. So I will mainly be using NumPy, SciPy, and SciKit Learn."
   ]
  },
  {
   "cell_type": "code",
   "execution_count": 0,
   "metadata": {
    "collapsed": false
   },
   "outputs": [
   ],
   "source": [
    "import numpy as np\n",
    "import scipy.stats"
   ]
  },
  {
   "cell_type": "markdown",
   "metadata": {
    "collapsed": false
   },
   "source": [
    "## Stats\n",
    "\n",
    "From Wikipedia, https://en.wikipedia.org/wiki/Statistics: \"Statistics is the discipline that concerns the collection, organization, analysis, interpretation, and presentation of data.\"\n",
    "\n",
    "Warning! I *am not* a statistician. My \"data background\" is more related to economics and machine learning, which means I have different philosophical viewpoints towards the field. \n",
    "\n",
    "So let's study some data! In this directory is a file, `heightData.csv`. It was obtained here: https://www.ncdrisc.org/data-downloads-height.html\n",
    "\n",
    "The  file contains data for the global average height of children over time in centimeters. Let's take a look:"
   ]
  },
  {
   "cell_type": "code",
   "execution_count": 0,
   "metadata": {
    "collapsed": false
   },
   "outputs": [
   ],
   "source": [
    "with open('heightData.csv','r') as myFile: #r for \"read only\"\n",
    "    rawData = myFile.readlines()"
   ]
  },
  {
   "cell_type": "markdown",
   "metadata": {
    "collapsed": false
   },
   "source": [
    "Usually data files like this come with a header:"
   ]
  },
  {
   "cell_type": "code",
   "execution_count": 0,
   "metadata": {
    "collapsed": false
   },
   "outputs": [
   ],
   "source": [
    "rawData[0]"
   ]
  },
  {
   "cell_type": "markdown",
   "metadata": {
    "collapsed": false
   },
   "source": [
    "It is always good practice to look at the \"head\" and the \"tail\" of the data, to get a feel for what you are working with:"
   ]
  },
  {
   "cell_type": "code",
   "execution_count": 0,
   "metadata": {
    "collapsed": false
   },
   "outputs": [
   ],
   "source": [
    "for line in rawData[:5]:\n",
    "    print(line)"
   ]
  },
  {
   "cell_type": "code",
   "execution_count": 0,
   "metadata": {
    "collapsed": false
   },
   "outputs": [
   ],
   "source": [
    "for line in rawData[-5:]:\n",
    "    print(line)"
   ]
  },
  {
   "cell_type": "markdown",
   "metadata": {
    "collapsed": false
   },
   "source": [
    "It looks like the age groups go from 5 - 19, the years go from 1985 - 2019, and the data is split between boys and girls.\n",
    "\n",
    "Let's prepare this data a little bit:"
   ]
  },
  {
   "cell_type": "code",
   "execution_count": 0,
   "metadata": {
    "collapsed": false
   },
   "outputs": [
   ],
   "source": [
    "data = [line.split(',') for line in rawData]\n",
    "data[:5]"
   ]
  },
  {
   "cell_type": "markdown",
   "metadata": {
    "collapsed": false
   },
   "source": [
    "What would be a good way of formatting this data? How about a dictionary. Keys could be a tuple, `(sex, year, age)`. Values could be the height data."
   ]
  },
  {
   "cell_type": "code",
   "execution_count": 0,
   "metadata": {
    "collapsed": false
   },
   "outputs": [
   ],
   "source": [
    "heightDict = {(line[0].strip('\"'), int(line[1]), int(line[2])): float(line[3]) for line in data[1:]}"
   ]
  },
  {
   "cell_type": "code",
   "execution_count": 0,
   "metadata": {
    "collapsed": false
   },
   "outputs": [
   ],
   "source": [
    "heightDict[('Boys', 2000, 15)]"
   ]
  },
  {
   "cell_type": "code",
   "execution_count": 0,
   "metadata": {
    "collapsed": false
   },
   "outputs": [
   ],
   "source": [
    "heightDict[('Girls', 2000, 15)]"
   ]
  },
  {
   "cell_type": "markdown",
   "metadata": {
    "collapsed": false
   },
   "source": [
    "This looks better!\n",
    "\n",
    "A basic way to use statistics is to *summarize* and *visualize* data. A useful tool in statistics is to start small. Instead of analyzing all the data at once, let's fix a sex and an age, and let time vary.\n",
    "\n",
    "## *********** Participation Check ******************************************\n",
    "Using the heightDict dictionary, create a list of data points of the form `(year, height)` for the years from 1985 - 2019, and for the heights in the 18 year male category. Make a list plot of the resulting data to get a sense for the trend of heights over time."
   ]
  },
  {
   "cell_type": "code",
   "execution_count": 0,
   "metadata": {
    "collapsed": false
   },
   "outputs": [
   ],
   "source": [
   ]
  },
  {
   "cell_type": "markdown",
   "metadata": {
    "collapsed": false
   },
   "source": [
    "## *********************************************************************************************"
   ]
  },
  {
   "cell_type": "markdown",
   "metadata": {
    "collapsed": false
   },
   "source": [
    "The most basic summarization we can do is with our eyes. If we plot the data over time, what do we see?"
   ]
  },
  {
   "cell_type": "code",
   "execution_count": 0,
   "metadata": {
    "collapsed": false
   },
   "outputs": [
   ],
   "source": [
    "list_plot(collated)"
   ]
  },
  {
   "cell_type": "markdown",
   "metadata": {
    "collapsed": false
   },
   "source": [
    "Do we see the same trend for girls? How about for younger groups?"
   ]
  },
  {
   "cell_type": "code",
   "execution_count": 0,
   "metadata": {
    "collapsed": false
   },
   "outputs": [
   ],
   "source": [
    "sex = 'Girls'\n",
    "age = 18\n",
    "collated = np.array([(year,heightDict[(sex,year, age)]) for year in range(1985,2020)])\n",
    "list_plot(collated)"
   ]
  },
  {
   "cell_type": "code",
   "execution_count": 0,
   "metadata": {
    "collapsed": false
   },
   "outputs": [
   ],
   "source": [
    "sex = 'Boys'\n",
    "age = 12\n",
    "collated = np.array([(year,heightDict[(sex,year, age)]) for year in range(1985,2020)])\n",
    "list_plot(collated)"
   ]
  },
  {
   "cell_type": "markdown",
   "metadata": {
    "collapsed": false
   },
   "source": [
    "Next we want to do some real calculations. Let's \"summarize\" the heights in the previous category."
   ]
  },
  {
   "cell_type": "code",
   "execution_count": 0,
   "metadata": {
    "collapsed": false
   },
   "outputs": [
   ],
   "source": [
    "heights = np.array([d[1] for d in collated])\n",
    "scipy.stats.describe(heights)"
   ]
  },
  {
   "cell_type": "markdown",
   "metadata": {
    "collapsed": false
   },
   "source": [
    "The main takeaways:\n",
    "- `nobs`: the number of data points\n",
    "- `minmax`: the minimum and maximum\n",
    "- `mean`: the sample mean, equal to the average of the data set:`sum(data)/nobs`\n",
    "- `variance`: the sample variance, which describes how much the data \"varies.\" Equal to the formula below:"
   ]
  },
  {
   "cell_type": "code",
   "execution_count": 0,
   "metadata": {
    "collapsed": false
   },
   "outputs": [
   ],
   "source": [
    "#Sample Variance\n",
    "mean = 144.8022142363996\n",
    "nobs = 35\n",
    "c = (heights - mean)**2\n",
    "sum(c)/(nobs-1)"
   ]
  },
  {
   "cell_type": "code",
   "execution_count": 0,
   "metadata": {
    "collapsed": false
   },
   "outputs": [
   ],
   "source": [
    "#Sample Standard Deviation\n",
    "(sum(c)/34)**(1/2)"
   ]
  },
  {
   "cell_type": "markdown",
   "metadata": {
    "collapsed": false
   },
   "source": [
    "You may be more accustomed to the *sample standard deviation*, obtained by taking the square root of the sample variance.\n",
    "\n",
    "In this case the variance is very low compared to the mean; so the data is \"tightly centered\" around the mean. \n",
    "\n",
    "What if we only fix a *gender*?"
   ]
  },
  {
   "cell_type": "code",
   "execution_count": 0,
   "metadata": {
    "collapsed": false
   },
   "outputs": [
   ],
   "source": [
    "sex = 'Boys'\n",
    "collated = np.array([heightDict[(sex,year, age)] for year in range(1985,2020) for age in range(6,20)])\n",
    "scipy.stats.describe(collated)"
   ]
  },
  {
   "cell_type": "code",
   "execution_count": 0,
   "metadata": {
    "collapsed": false
   },
   "outputs": [
   ],
   "source": [
    "std = (363.4513017342805)**(1/2)\n",
    "std"
   ]
  },
  {
   "cell_type": "markdown",
   "metadata": {
    "collapsed": false
   },
   "source": [
    "Now the standard deviation/variance is much higher, which we'd expect. Most variance in height is probably due to age. \n",
    "\n",
    "What do we see for girls? "
   ]
  },
  {
   "cell_type": "code",
   "execution_count": 0,
   "metadata": {
    "collapsed": false
   },
   "outputs": [
   ],
   "source": [
    "sex = 'Girls'\n",
    "collated = np.array([heightDict[(sex,year, age)] for year in range(1985,2020) for age in range(6,20)])\n",
    "type(scipy.stats.describe(collated))"
   ]
  },
  {
   "cell_type": "code",
   "execution_count": 0,
   "metadata": {
    "collapsed": false
   },
   "outputs": [
   ],
   "source": [
    "std = (229.38766959375724)^(1/2)\n",
    "std"
   ]
  },
  {
   "cell_type": "markdown",
   "metadata": {
    "collapsed": false
   },
   "source": [
    "## Regression\n",
    "\n",
    "One of the most important tools in statistics is the concept of a *regression*. This lets us discover relationships in the data and potentially make predictions. \n",
    "\n",
    "For example. Based on the plots above, what can we predict about the average height of children, from 1985 to 2019?\n",
    "\n",
    "It is *increasing*! Let's go back to the first example, where we fixed sex and age:"
   ]
  },
  {
   "cell_type": "code",
   "execution_count": 0,
   "metadata": {
    "collapsed": false
   },
   "outputs": [
   ],
   "source": [
    "sex = 'Boys'\n",
    "age = 18\n",
    "collated = np.asarray([(year,heightDict[(sex,year, age)]) for year in range(1985,2020)])\n",
    "collated"
   ]
  },
  {
   "cell_type": "code",
   "execution_count": 0,
   "metadata": {
    "collapsed": false
   },
   "outputs": [
   ],
   "source": [
    "list_plot(collated)"
   ]
  },
  {
   "cell_type": "markdown",
   "metadata": {
    "collapsed": false
   },
   "source": [
    "From the plot, it *looks* like there is almost a linear relationship here. In other words, the average height of 18 year old boys from 1985 to 2019 seemingly satisfies a relationship\n",
    "$$\n",
    "height = \\beta_0+\\beta_1year\n",
    "$$\n",
    "How can we find the *best* choice of $\\beta_0,\\beta_1$?\n",
    "\n",
    "## Ordinary Least Squares\n",
    "\n",
    "The concept of OLS is as follows. We will choose $\\beta_0,\\beta_1$ to *minimize* the squared error on our data set. I think a picture is worth a dozen words here:\n",
    "\n",
    "![](lr1.png)\n",
    "\n",
    "Any line approximating the data will give \"predictions\" which we can compare to reality\n",
    "\n",
    "![](lr2.png)\n",
    "\n",
    "The total comparison to \"predicted\" vs \"reality\" gives an \"error\" for our model:\n",
    "\n",
    "![](lr3.png)\n",
    "\n",
    "There are formulas for minimizing the error exactly in basic cases. Intuitively though, it should look like the green line below. Blue, orange, and red lines are *bad* choices for this data:\n",
    "\n",
    "![](lr4.png)\n",
    "\n",
    "Note! No data point is predicted *perfectly*, but almost all of the data points are predicted *well*.\n",
    "\n",
    "Thankfully, this is easy to do in Python! There are actually *many ways to do it.*"
   ]
  },
  {
   "cell_type": "code",
   "execution_count": 0,
   "metadata": {
    "collapsed": false
   },
   "outputs": [
   ],
   "source": [
    "#Model setup\n",
    "from sklearn.linear_model import LinearRegression\n",
    "ols = LinearRegression()\n",
    "ols"
   ]
  },
  {
   "cell_type": "markdown",
   "metadata": {
    "collapsed": false
   },
   "source": [
    "First we want to separate our data into two pieces.\n",
    "- `X` will denote the *explanatory variables*\n",
    "- `y` will denote the *explained variables*"
   ]
  },
  {
   "cell_type": "code",
   "execution_count": 0,
   "metadata": {
    "collapsed": false
   },
   "outputs": [
   ],
   "source": [
    "collated"
   ]
  },
  {
   "cell_type": "code",
   "execution_count": 0,
   "metadata": {
    "collapsed": false
   },
   "outputs": [
   ],
   "source": [
    "#Data setup\n",
    "X = np.asarray([[data[0]] for data in collated]) #Shape of the X array is what? A list of lists\n",
    "y = np.asarray([data[1] for data in collated])"
   ]
  },
  {
   "cell_type": "code",
   "execution_count": 0,
   "metadata": {
    "collapsed": false
   },
   "outputs": [
   ],
   "source": [
    "print(X[0])\n",
    "print(y[0])"
   ]
  },
  {
   "cell_type": "markdown",
   "metadata": {
    "collapsed": false
   },
   "source": [
    "Now we *fit* the model on our data:"
   ]
  },
  {
   "cell_type": "code",
   "execution_count": 0,
   "metadata": {
    "collapsed": false
   },
   "outputs": [
   ],
   "source": [
    "#Model fitting\n",
    "ols.fit(X,y)\n",
    "ols"
   ]
  },
  {
   "cell_type": "markdown",
   "metadata": {
    "collapsed": false
   },
   "source": [
    "Well that was a bit underwhelming...\n",
    "\n",
    "How do we get the $\\beta$s?"
   ]
  },
  {
   "cell_type": "code",
   "execution_count": 0,
   "metadata": {
    "collapsed": false
   },
   "outputs": [
   ],
   "source": [
    "ols.coef_"
   ]
  },
  {
   "cell_type": "code",
   "execution_count": 0,
   "metadata": {
    "collapsed": false
   },
   "outputs": [
   ],
   "source": [
    "ols.intercept_"
   ]
  },
  {
   "cell_type": "markdown",
   "metadata": {
    "collapsed": false
   },
   "source": [
    "Thus the predicted model is that in this time period, the height of 18 year old boys satisfies\n",
    "$$\n",
    "height = 17.78 + .075*year.\n",
    "$$\n",
    "How well does this explain the data?"
   ]
  },
  {
   "cell_type": "code",
   "execution_count": 0,
   "metadata": {
    "collapsed": false
   },
   "outputs": [
   ],
   "source": [
    "list_plot([(X[i],y[i]) for i in range(len(X))])+plot(ols.intercept_+ols.coef_[0]*x,(1985,2020),color = 'green')"
   ]
  },
  {
   "cell_type": "markdown",
   "metadata": {
    "collapsed": false
   },
   "source": [
    "Looks pretty good! How do we interpret the model? The coefficient .075 says that we predict that every year, the average height of an 18 year old male increased by .075 centimeters. The nice thing about this is that it lets us make predictions! For instance; what would you think the average height of an 18 year old male was in 1984?"
   ]
  },
  {
   "cell_type": "code",
   "execution_count": 0,
   "metadata": {
    "collapsed": false
   },
   "outputs": [
   ],
   "source": [
    "ols.predict([[1984]])"
   ]
  },
  {
   "cell_type": "markdown",
   "metadata": {
    "collapsed": false
   },
   "source": [
    "What about 2025?"
   ]
  },
  {
   "cell_type": "code",
   "execution_count": 0,
   "metadata": {
    "collapsed": false
   },
   "outputs": [
   ],
   "source": [
    "ols.predict([[2025]])"
   ]
  },
  {
   "cell_type": "markdown",
   "metadata": {
    "collapsed": false
   },
   "source": [
    "## Quick Warning\n",
    "\n",
    "As with *everything* in statistics/machine learning, the model can only go so far. For example: here is a prediction which is *obviously wrong*. People in the year 66 AD were not on average 22 centimeters tall:"
   ]
  },
  {
   "cell_type": "code",
   "execution_count": 0,
   "metadata": {
    "collapsed": false
   },
   "outputs": [
   ],
   "source": [
    "ols.predict([[66]])"
   ]
  },
  {
   "cell_type": "markdown",
   "metadata": {
    "collapsed": false
   },
   "source": [
    "That would have made basketball way too difficult.\n",
    "\n",
    "![](shaq.png)\n",
    "\n",
    "People in the year 2000 BC were not negative centimeters tall:"
   ]
  },
  {
   "cell_type": "code",
   "execution_count": 0,
   "metadata": {
    "collapsed": false
   },
   "outputs": [
   ],
   "source": [
    "ols.predict([[-2000]])"
   ]
  },
  {
   "cell_type": "markdown",
   "metadata": {
    "collapsed": false
   },
   "source": [
    "Here is a more subtle issue you may have with the model. Note the upswing in the data in recent years:"
   ]
  },
  {
   "cell_type": "code",
   "execution_count": 0,
   "metadata": {
    "collapsed": false
   },
   "outputs": [
   ],
   "source": [
    "list_plot([(X[i],y[i]) for i in range(len(X))])+plot(ols.intercept_+ols.coef_[0]*x,(1985,2020),color = 'green')"
   ]
  },
  {
   "cell_type": "markdown",
   "metadata": {
    "collapsed": false
   },
   "source": [
    "Our prediction for 2025 is probably much too small!"
   ]
  },
  {
   "cell_type": "code",
   "execution_count": 0,
   "metadata": {
    "collapsed": false
   },
   "outputs": [
   ],
   "source": [
    "ols.predict([[2025]])"
   ]
  },
  {
   "cell_type": "markdown",
   "metadata": {
    "collapsed": false
   },
   "source": [
    "In general models can do a great job at predicting data *within the sample boundaries*. In other words, *interpolation* is much easier than *extrapolation*. For example; suppose we were missing data on the year 1995. We could do a good job filling that in:"
   ]
  },
  {
   "cell_type": "code",
   "execution_count": 0,
   "metadata": {
    "collapsed": false
   },
   "outputs": [
   ],
   "source": [
    "ols.predict([[1995]])"
   ]
  },
  {
   "cell_type": "markdown",
   "metadata": {
    "collapsed": false
   },
   "source": [
    "The linear model has done a good job as a whole, *in the period 1985 -2019*, at modelling the data. But in some sense it is too \"simple\" to accurately model all of the trends that we see. And it is dangerous to use the model to make predictions that are *too far* outside the range 1985 - 2020. Small extrapolation is ok, but you just have to be careful."
   ]
  },
  {
   "cell_type": "code",
   "execution_count": 0,
   "metadata": {
    "collapsed": false
   },
   "outputs": [
   ],
   "source": [
    "ols.predict([[3000]])"
   ]
  },
  {
   "cell_type": "markdown",
   "metadata": {
    "collapsed": false
   },
   "source": [
    "## Multiple Linear Regression\n",
    "\n",
    "What if we wanted to repeat this analysis, but for girls? One option would be to simply restart the process:"
   ]
  },
  {
   "cell_type": "code",
   "execution_count": 0,
   "metadata": {
    "collapsed": false
   },
   "outputs": [
   ],
   "source": [
    "sex = 'Girls'\n",
    "age = 18\n",
    "collated = np.asarray([(year,heightDict[(sex,year, age)]) for year in range(1985,2020)])\n",
    "\n",
    "X = np.asarray([[data[0]] for data in collated])\n",
    "y = np.asarray([data[1] for data in collated])\n",
    "\n",
    "ols = LinearRegression()\n",
    "ols.fit(X,y)"
   ]
  },
  {
   "cell_type": "code",
   "execution_count": 0,
   "metadata": {
    "collapsed": false
   },
   "outputs": [
   ],
   "source": [
    "ols.coef_"
   ]
  },
  {
   "cell_type": "code",
   "execution_count": 0,
   "metadata": {
    "collapsed": false
   },
   "outputs": [
   ],
   "source": [
    "ols.intercept_"
   ]
  },
  {
   "cell_type": "code",
   "execution_count": 0,
   "metadata": {
    "collapsed": false,
    "scrolled": true
   },
   "outputs": [
   ],
   "source": [
    "list_plot([(X[i],y[i]) for i in range(len(X))])+plot(ols.intercept_+ols.coef_[0]*x,(1985,2020),color = 'green')"
   ]
  },
  {
   "cell_type": "markdown",
   "metadata": {
    "collapsed": false
   },
   "source": [
    "And we can do it for younger age groups as well:"
   ]
  },
  {
   "cell_type": "code",
   "execution_count": 0,
   "metadata": {
    "collapsed": false
   },
   "outputs": [
   ],
   "source": [
    "sex = 'Boys'\n",
    "age = 5\n",
    "collated = np.asarray([(year,heightDict[(sex,year, age)]) for year in range(1985,2020)])\n",
    "\n",
    "X = np.asarray([[data[0]] for data in collated])\n",
    "y = np.asarray([data[1] for data in collated])\n",
    "\n",
    "ols = LinearRegression()\n",
    "ols.fit(X,y)"
   ]
  },
  {
   "cell_type": "code",
   "execution_count": 0,
   "metadata": {
    "collapsed": false
   },
   "outputs": [
   ],
   "source": [
    "ols.coef_"
   ]
  },
  {
   "cell_type": "code",
   "execution_count": 0,
   "metadata": {
    "collapsed": false
   },
   "outputs": [
   ],
   "source": [
    "ols.intercept_"
   ]
  },
  {
   "cell_type": "code",
   "execution_count": 0,
   "metadata": {
    "collapsed": false,
    "scrolled": true
   },
   "outputs": [
   ],
   "source": [
    "list_plot([(X[i],y[i]) for i in range(len(X))])+plot(ols.intercept_+ols.coef_[0]*x,(1985,2020),color = 'green')"
   ]
  },
  {
   "cell_type": "markdown",
   "metadata": {
    "collapsed": false
   },
   "source": [
    "Certainly we can do this, and it paints a useful picture. But wouldn't it be better if we could do it all at once?\n",
    "\n",
    "This is the concept of a *multiple linear regression*. Let's not fix any of the variables, and instead try to write \n",
    "$$\n",
    "height = \\beta_0 + \\beta_1*sex + \\beta_2*year+\\beta_3*age.\n",
    "$$\n",
    "In some sense this makes sense; except the first variable is a string!\n",
    "\n",
    "This is called a *categorical variable*. We can transform it into something numeric using the rule\n",
    "$$\n",
    "Girls \\to 0,\\;\\; Boys\\to 1.\n",
    "$$\n",
    "\n",
    "## ******************* Participation Check *******************************\n",
    "Write a function `categorize(s)` which does the above categorization: `categorize('Girls')` gives `0`, etc."
   ]
  },
  {
   "cell_type": "code",
   "execution_count": 0,
   "metadata": {
    "collapsed": false
   },
   "outputs": [
   ],
   "source": [
    "def categorize(s):\n",
    "    #Your code here"
   ]
  },
  {
   "cell_type": "markdown",
   "metadata": {
    "collapsed": false
   },
   "source": [
    "## ********************************************************************\n",
    "Now multiple linear regression *as a concept* is more complicated, but in practice it is *just as easy* to fit the model. We start by making an array of explanatory variables and the explained variable again. In this case, we have:\n",
    "- X, an array with entries of the form `(sex, year, age)`\n",
    "- y, an array with heights as entries\n",
    "Note that we will use our categorize function to turn strings into categorical data."
   ]
  },
  {
   "cell_type": "code",
   "execution_count": 0,
   "metadata": {
    "collapsed": false
   },
   "outputs": [
   ],
   "source": [
    "X = np.asarray([[categorize(key[0]),key[1],key[2]] for key in heightDict])\n",
    "y = np.asarray([heightDict[key] for key in heightDict])\n",
    "\n",
    "print(X[0])\n",
    "print(y[0])"
   ]
  },
  {
   "cell_type": "code",
   "execution_count": 0,
   "metadata": {
    "collapsed": false
   },
   "outputs": [
   ],
   "source": [
    "ols = LinearRegression()\n",
    "ols.fit(X,y)"
   ]
  },
  {
   "cell_type": "code",
   "execution_count": 0,
   "metadata": {
    "collapsed": false
   },
   "outputs": [
   ],
   "source": [
    "ols.coef_"
   ]
  },
  {
   "cell_type": "code",
   "execution_count": 0,
   "metadata": {
    "collapsed": false
   },
   "outputs": [
   ],
   "source": [
    "ols.intercept_"
   ]
  },
  {
   "cell_type": "markdown",
   "metadata": {
    "collapsed": false
   },
   "source": [
    "How to interpret this? The model is predicting that\n",
    "$$\n",
    "height = 3.48*sex + .093*year + 4.26* age - 98.10\n",
    "$$"
   ]
  },
  {
   "cell_type": "markdown",
   "metadata": {
    "collapsed": false
   },
   "source": [
    "It's very important to know how to read this, so let's go through coefficient by coefficient:\n",
    "- Holding *everything else equal*, a boy is roughly 3.48 cm taller than a girl.\n",
    "- Holding *everything else equal*, a child in year $y+1$ was .093 cm taller than a child in year $y$.\n",
    "- Holding *everything else equal*, a child which is $a+1$ years old is 4.26 cm taller than a child which is $a$ years old.\n",
    "\n",
    "This can be a bit confusing, so let's really drive this home. What does \"everything else equal\" mean? I mean *everything else about these children is the same*. It is crucial that you only modify one variable at a time. For example:\n",
    "- The average 8 year old boy in 1994 was roughly 3.48 cm taller than the average 8 year old girl in 1994.\n",
    "- The average 8 year old boy in 1994 was roughly .093 cm taller than the average 8 year old boy in 1993.\n",
    "- The average 8 year old boy in 1994 was roughly 4.26 cm taller than the average 7 year old boy in 1994.\n",
    "\n",
    "Note that in every case above, only one thing changes between these children at a time.\n",
    "\n",
    "Could you string these together to compare multiple variables at once? In principle, yes. But it just gets a bit messier and harder to analyze.\n",
    "\n",
    "Note: On Quiz 2, I will ask *at least one question* about interpreting a coefficient in a regression.\n",
    "\n",
    "## What's Next?\n",
    "\n",
    "Well in practice you want to do *much more analysis* of the model that comes out of OLS. Maybe you have heard of things like t-tests, p-values, F-tests, R-squared, etc. Since this is just a \"user's guide\" to regressions, I don't know how much of that we will cover, but surely I'll at least mention some of it. For now, we are going to pretend that all of the coefficients are \"statistically significant\" (don't tell an actual statistician that I'm doing this, they will yell at me). Your main focus should be getting comfortable with what these coefficients predict.\n",
    "\n",
    "On Wednesday we will take a quick break from statistical computations to deal with *Pandas*, which is a wonderful module for data handling. It is kinda like Excel but for cool kids, like us. On next Wednesday we will then come back to more statistical stuff, with Pandas in our toolkit. Afterwards we will begin our discussion of natural language processing. After that, I'm not entirely sure (we are in some sense way ahead of schedule)"
   ]
  }
 ],
 "metadata": {
  "kernelspec": {
   "display_name": "SageMath 9.2",
   "language": "sagemath",
   "metadata": {
    "cocalc": {
     "description": "Open-source mathematical software system",
     "priority": 10,
     "url": "https://www.sagemath.org/"
    }
   },
   "name": "sage-9.2",
   "resource_dir": "/ext/jupyter/kernels/sage-9.2"
  },
  "language_info": {
   "codemirror_mode": {
    "name": "ipython",
    "version": 3
   },
   "file_extension": ".py",
   "mimetype": "text/x-python",
   "name": "python",
   "nbconvert_exporter": "python",
   "pygments_lexer": "ipython3",
   "version": "3.8.5"
  }
 },
 "nbformat": 4,
 "nbformat_minor": 4
}