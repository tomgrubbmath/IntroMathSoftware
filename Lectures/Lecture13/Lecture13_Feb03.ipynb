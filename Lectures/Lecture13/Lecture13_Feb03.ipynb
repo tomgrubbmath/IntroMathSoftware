{
 "cells": [
  {
   "cell_type": "markdown",
   "metadata": {
    "collapsed": false
   },
   "source": [
    "# Lecture 13: Number Theory/Cryptography (1 of ...?)\n",
    "\n",
    "### Please note: This lecture will be recorded and made available for viewing online. If you do not wish to be recorded, please adjust your camera settings accordingly. \n",
    "\n",
    "# Reminders/Announcements:\n",
    "- Assignment 4 is due Thursday at 8pm.\n",
    "- Final Project Topics are available. Take a look!"
   ]
  },
  {
   "cell_type": "markdown",
   "metadata": {
    "collapsed": false
   },
   "source": [
    "## The Greatest Common Divisor\n",
    "\n",
    "The *greatest common divisor* of two numbers $a$ and $b$ is the largest integer $d$ which divides $a$ and $b$. We write $d = \\gcd(a,b)$. "
   ]
  },
  {
   "cell_type": "code",
   "execution_count": 0,
   "metadata": {
    "collapsed": false
   },
   "outputs": [
   ],
   "source": [
    "gcd(6,10)"
   ]
  },
  {
   "cell_type": "code",
   "execution_count": 0,
   "metadata": {
    "collapsed": false
   },
   "outputs": [
   ],
   "source": [
    "gcd(13,169)"
   ]
  },
  {
   "cell_type": "markdown",
   "metadata": {
    "collapsed": false
   },
   "source": [
    "If two numbers $a$ and $b$ have $\\gcd(a,b) = 1$, we say $a$ and $b$ are *coprime*."
   ]
  },
  {
   "cell_type": "code",
   "execution_count": 0,
   "metadata": {
    "collapsed": false
   },
   "outputs": [
   ],
   "source": [
    "gcd(100,101)"
   ]
  },
  {
   "cell_type": "code",
   "execution_count": 0,
   "metadata": {
    "collapsed": false
   },
   "outputs": [
   ],
   "source": [
    "p = random_prime(100000)\n",
    "q = random_prime(100000)\n",
    "print(p)\n",
    "print(q)\n",
    "gcd(p,q)"
   ]
  },
  {
   "cell_type": "markdown",
   "metadata": {
    "collapsed": false
   },
   "source": [
    "The gcd of two integers is *incredibly easy* for computers to compute:"
   ]
  },
  {
   "cell_type": "code",
   "execution_count": 0,
   "metadata": {
    "collapsed": false
   },
   "outputs": [
   ],
   "source": [
    "gcd(2^300 - 7, 2^256 + 43)"
   ]
  },
  {
   "cell_type": "code",
   "execution_count": 0,
   "metadata": {
    "collapsed": false
   },
   "outputs": [
   ],
   "source": [
    "(2^300 - 7).ndigits()"
   ]
  },
  {
   "cell_type": "code",
   "execution_count": 0,
   "metadata": {
    "collapsed": false
   },
   "outputs": [
   ],
   "source": [
    "(2^256 + 43).ndigits()"
   ]
  },
  {
   "cell_type": "markdown",
   "metadata": {
    "collapsed": false
   },
   "source": [
    "This is thanks to the *Euclidean algorithm*:https://en.wikipedia.org/wiki/Euclidean_algorithm . An important property of the greatest common divisor is *Bezout's identity*. Given $a,b$ integers and $d = \\gcd(a,b)$, there exists *integers* $m$ and $n$ with \n",
    "$$\n",
    "d = ma+nb.\n",
    "$$\n",
    "Note that $m$ and $n$ will not always be *positive* integers.\n",
    "## ***** Participation Check ***************************\n",
    "For the examples $2 = \\gcd(6,10)$ and $13 = \\gcd(13,169)$, find instances of $m$ and $n$ which exhibit Bezout's identity explicitly. \n",
    "- For $2 = \\gcd(6,10)$, enter your answer here: $m = ??$, $n = ??$. \n",
    "- For $13 = \\gcd(13,169)$, enter your answer here: $m = ??$, $n = ??$.\n",
    "## ***********************************************************\n",
    "\n",
    "In general the process for finding $m$ and $n$ is called the *extended* Euclidean algorithm:"
   ]
  },
  {
   "cell_type": "code",
   "execution_count": 0,
   "metadata": {
    "collapsed": false
   },
   "outputs": [
   ],
   "source": [
    "xgcd(2^300 - 7, 2^256 + 43)"
   ]
  },
  {
   "cell_type": "code",
   "execution_count": 0,
   "metadata": {
    "collapsed": false
   },
   "outputs": [
   ],
   "source": [
    "d, m, n = xgcd(2^300 - 7, 2^256 + 43)\n",
    "\n",
    "m*(2^300 - 7) + n*(2^256 + 43)"
   ]
  },
  {
   "cell_type": "markdown",
   "metadata": {
    "collapsed": false
   },
   "source": [
    "Be careful! Don't confuse `xgcd` with the closely related `xkcd`...\n",
    "\n",
    "From the documentation: \"This function is similar to the xgcd function, but behaves in a completely different way.\" https://doc.sagemath.org/html/en/reference/rings_standard/sage/arith/misc.html"
   ]
  },
  {
   "cell_type": "code",
   "execution_count": 0,
   "metadata": {
    "collapsed": false
   },
   "outputs": [
   ],
   "source": [
    "xkcd(42)"
   ]
  },
  {
   "cell_type": "markdown",
   "metadata": {
    "collapsed": false
   },
   "source": [
    "## Chinese Remainder Theorem\n",
    "\n",
    "Being coprime is a special property of pairs of numbers. In particular, we have the following famous theorem:\n",
    "\n",
    "Let $a$ and $b$ be coprime integers, $\\gcd(a,b) = 1$. Let $k_1$ and $k_2$ be arbitrary integers. There exists an integer $c$ with *both*\n",
    "$$\n",
    "c \\equiv k_1 \\mod a \n",
    "$$\n",
    "and \n",
    "$$\n",
    "c\\equiv k_2 \\mod b.\n",
    "$$\n",
    "Note that the integer $c$ *will not be unique*. In fact, there are infinitely many choices of $c$!\n",
    "## ***** Participation Check ***************************\n",
    "Let $a = 5$ and $b = 7$. Find an integer $c$ which is satisfies $c \\equiv 3\\mod 5$ and $c \\equiv 6\\mod 7$ (you can either do this by just thinking about it, or by writing some Sage code:)\n",
    "- Answer here: $c = ??$"
   ]
  },
  {
   "cell_type": "code",
   "execution_count": 0,
   "metadata": {
    "collapsed": false
   },
   "outputs": [
   ],
   "source": [
    "#Possible sage code here if desired\n"
   ]
  },
  {
   "cell_type": "markdown",
   "metadata": {
    "collapsed": false
   },
   "source": [
    "## ***********************************************************\n",
    "\n",
    "We can do this in Sage directly, as you might suspect. The syntax is `CRT(list1,list2)`:"
   ]
  },
  {
   "cell_type": "code",
   "execution_count": 0,
   "metadata": {
    "collapsed": false
   },
   "outputs": [
   ],
   "source": [
    "CRT([3,6],[5,7])"
   ]
  },
  {
   "cell_type": "code",
   "execution_count": 0,
   "metadata": {
    "collapsed": false
   },
   "outputs": [
   ],
   "source": [
    "13%5"
   ]
  },
  {
   "cell_type": "code",
   "execution_count": 0,
   "metadata": {
    "collapsed": false
   },
   "outputs": [
   ],
   "source": [
    "13%7"
   ]
  },
  {
   "cell_type": "code",
   "execution_count": 0,
   "metadata": {
    "collapsed": false
   },
   "outputs": [
   ],
   "source": [
    "CRT([3,4],[4,8])"
   ]
  },
  {
   "cell_type": "markdown",
   "metadata": {
    "collapsed": false
   },
   "source": [
    "## Factorization\n",
    "\n",
    "Factoring a number into prime divisors is a *notoriously* difficult problem. A *lot* of modern security relies on this fact! *Some numbers are quite easy to factor*:"
   ]
  },
  {
   "cell_type": "code",
   "execution_count": 0,
   "metadata": {
    "collapsed": false
   },
   "outputs": [
   ],
   "source": [
    "factor(10)"
   ]
  },
  {
   "cell_type": "code",
   "execution_count": 0,
   "metadata": {
    "collapsed": false
   },
   "outputs": [
   ],
   "source": [
    "n = 2^300 + 23\n",
    "print(n.ndigits())"
   ]
  },
  {
   "cell_type": "code",
   "execution_count": 0,
   "metadata": {
    "collapsed": false
   },
   "outputs": [
   ],
   "source": [
    "factor(n)"
   ]
  },
  {
   "cell_type": "code",
   "execution_count": 0,
   "metadata": {
    "collapsed": false
   },
   "outputs": [
   ],
   "source": [
    "p = random_prime(16428731586668563557701 ,2*16428731586668563557701 )\n",
    "q = random_prime(16428731586668563557701 ,2*16428731586668563557701 )\n",
    "r = random_prime(16428731586668563557701 ,2*16428731586668563557701 )\n",
    "\n",
    "m = p*q*r\n",
    "print(m.ndigits())"
   ]
  },
  {
   "cell_type": "code",
   "execution_count": 0,
   "metadata": {
    "collapsed": false
   },
   "outputs": [
   ],
   "source": [
    "factor(m)"
   ]
  },
  {
   "cell_type": "markdown",
   "metadata": {
    "collapsed": false
   },
   "source": [
    "Why are some numbers \"easy\" to factor, and others more difficult? There are *many* things at play here. We could talk about it for hours.\n",
    "- Some numbers are products of very small prime factors and very large prime factors\n",
    "- Small prime factors are very easy to find\n",
    "- Testing if a large number is prime can be done fairly efficiently\n",
    "- So occasionally, the \"dumb\" algorithm of just trial division works quite well.\n",
    "\n",
    "Other numbers have no small factors, but are still \"special\":"
   ]
  },
  {
   "cell_type": "code",
   "execution_count": 0,
   "metadata": {
    "collapsed": false
   },
   "outputs": [
   ],
   "source": [
    "16428731586668563562947 in Primes()"
   ]
  },
  {
   "cell_type": "code",
   "execution_count": 0,
   "metadata": {
    "collapsed": false
   },
   "outputs": [
   ],
   "source": [
    "16428731586668563562951 in Primes()"
   ]
  },
  {
   "cell_type": "code",
   "execution_count": 0,
   "metadata": {
    "collapsed": false
   },
   "outputs": [
   ],
   "source": [
    "m = 16428731586668563562947*16428731586668563562951"
   ]
  },
  {
   "cell_type": "code",
   "execution_count": 0,
   "metadata": {
    "collapsed": false
   },
   "outputs": [
   ],
   "source": [
    "factor(m)"
   ]
  },
  {
   "cell_type": "markdown",
   "metadata": {
    "collapsed": false
   },
   "source": [
    "You could've actually done this one on your own without the computer!"
   ]
  },
  {
   "cell_type": "code",
   "execution_count": 0,
   "metadata": {
    "collapsed": false
   },
   "outputs": [
   ],
   "source": [
    "RF = RealField(200)\n",
    "RF(sqrt(m)).str(no_sci=2)"
   ]
  },
  {
   "cell_type": "markdown",
   "metadata": {
    "collapsed": false
   },
   "source": [
    "This number is *very close* to the square of a number:"
   ]
  },
  {
   "cell_type": "code",
   "execution_count": 0,
   "metadata": {
    "collapsed": false
   },
   "outputs": [
   ],
   "source": [
    "16428731586668563562949^2 - m"
   ]
  },
  {
   "cell_type": "markdown",
   "metadata": {
    "collapsed": false
   },
   "source": [
    "This yields \n",
    "$$\n",
    "(16428731586668563562949)^2 - m - 4 = 0\n",
    "$$\n",
    "If we group terms, we get \n",
    "$$\n",
    "m = (16428731586668563562949)^2 - 4\n",
    "$$\n",
    "we can now factor this! Remember: $a^2 - b^2 = (a-b)(a+b).$ So\n",
    "$$\n",
    "m = (16428731586668563562949 + 2)(16428731586668563562949 - 2).\n",
    "$$"
   ]
  },
  {
   "cell_type": "markdown",
   "metadata": {
    "collapsed": false
   },
   "source": [
    "## A Test for (Non)-Primality\n",
    "\n",
    "Here is a test which can be applied to see if a number is not prime.\n",
    "\n",
    "Theorem: If $p$ is a prime number, then for all integers $a$, $a^p \\equiv a\\mod p$. \n",
    "\n",
    "This is known as *Fermat's little theorem*. "
   ]
  },
  {
   "cell_type": "code",
   "execution_count": 0,
   "metadata": {
    "collapsed": false
   },
   "outputs": [
   ],
   "source": [
    "p = 31\n",
    "a = 7\n",
    "a^p % p"
   ]
  },
  {
   "cell_type": "code",
   "execution_count": 0,
   "metadata": {
    "collapsed": false
   },
   "outputs": [
   ],
   "source": [
    "(a^p - a)/p"
   ]
  },
  {
   "cell_type": "markdown",
   "metadata": {
    "collapsed": false
   },
   "source": [
    "There are *many* ways to prove Fermat's little theorem (and they are all nice): https://en.wikipedia.org/wiki/Proofs_of_Fermat%27s_little_theorem\n",
    "\n",
    "Here is a sketch of a proof using the binomial theorem:\n",
    "- For any integers $a$ and $b$, $(a+b)^p \\equiv a^p + b^p \\mod p$. This is called the *Freshman's dream*.\n",
    "    - To see this, use the binomial theorem to write \n",
    "    $$\n",
    "    (a+b)^p = \\sum_{k=0}^p\\binom{p}{k}a^kb^{{p-k}}.\n",
    "    $$\n",
    "    - One then proves that *since $p$ is prime*, the binomial coefficients satisfy\n",
    "    $$\n",
    "    \\binom{p}{k} \\equiv 0\\mod p \\text{ if }1\\leq k\\leq p-1.\n",
    "    $$\n",
    "- One then inducts; the induction step uses the observation that\n",
    "$$\n",
    "(k+1)^p \\equiv k^p + 1^p \\mod p\n",
    "$$\n",
    "and then applies the induction hypothesis to $k$ to finish.\n",
    "\n",
    "What happens if we take the contrapositive of this theorem statement?\n",
    "\n",
    "Contrapositive of Fermat's Little Theorem: Let $p$ be an integer. *If there exists an integer $a$* with $a^p\\not\\equiv a\\mod p$, *then $p$ is not prime*."
   ]
  },
  {
   "cell_type": "code",
   "execution_count": 0,
   "metadata": {
    "collapsed": false
   },
   "outputs": [
   ],
   "source": [
    "p = 32\n",
    "a = 6\n",
    "a^p % p"
   ]
  },
  {
   "cell_type": "markdown",
   "metadata": {
    "collapsed": false
   },
   "source": [
    "## Reminder on Modular Exponentiation\n",
    "\n",
    "Recall from Lectures 4,5: You *should not* do exponentiation like I just did! If $p$ is a big number, this test will never work if you use this syntax!"
   ]
  },
  {
   "cell_type": "code",
   "execution_count": 0,
   "metadata": {
    "collapsed": false
   },
   "outputs": [
   ],
   "source": [
    "p = 10^19 + 423\n",
    "a = 7\n",
    "a^p % p"
   ]
  },
  {
   "cell_type": "markdown",
   "metadata": {
    "collapsed": false
   },
   "source": [
    "Instead use `power_mod`"
   ]
  },
  {
   "cell_type": "code",
   "execution_count": 0,
   "metadata": {
    "collapsed": false
   },
   "outputs": [
   ],
   "source": [
    "power_mod(a, p, p)"
   ]
  },
  {
   "cell_type": "code",
   "execution_count": 0,
   "metadata": {
    "collapsed": false
   },
   "outputs": [
   ],
   "source": [
    "is_prime(p)"
   ]
  },
  {
   "cell_type": "markdown",
   "metadata": {
    "collapsed": false
   },
   "source": [
    "## Warning!\n",
    "\n",
    "Be *very* careful! Fermat's little theorem *can never prove a number is prime*. It can only be used to show that a number is not prime. There are annoying numbers called *Carmichael numbers*: https://en.wikipedia.org/wiki/Carmichael_number"
   ]
  },
  {
   "cell_type": "code",
   "execution_count": 0,
   "metadata": {
    "collapsed": false
   },
   "outputs": [
   ],
   "source": [
    "factor(561)"
   ]
  },
  {
   "cell_type": "code",
   "execution_count": 0,
   "metadata": {
    "collapsed": false
   },
   "outputs": [
   ],
   "source": [
    "print(all([power_mod(a,561,561) == a for a in range(561)]))"
   ]
  },
  {
   "cell_type": "code",
   "execution_count": 0,
   "metadata": {
    "collapsed": false
   },
   "outputs": [
   ],
   "source": [
    "for k in range(1,12):\n",
    "    print(power_mod(k, 561, 561))"
   ]
  },
  {
   "cell_type": "code",
   "execution_count": 0,
   "metadata": {
    "collapsed": false
   },
   "outputs": [
   ],
   "source": [
    "factor(512461)"
   ]
  },
  {
   "cell_type": "code",
   "execution_count": 0,
   "metadata": {
    "collapsed": false
   },
   "outputs": [
   ],
   "source": [
    "print(all([power_mod(a,512461,512461) == a for a in range(512461)]))"
   ]
  },
  {
   "cell_type": "markdown",
   "metadata": {
    "collapsed": false
   },
   "source": [
    "Despite this, people occasionally use Fermat's little theorem as a *probabilistic* test to see if a number is prime or not. Carmichael numbers become pretty rare, so the test can be helpful, but again: it *is not* ever a proof."
   ]
  },
  {
   "cell_type": "code",
   "execution_count": 0,
   "metadata": {
    "collapsed": false
   },
   "outputs": [
   ],
   "source": [
    "m = 10^300\n",
    "for n in range(10^4):\n",
    "    if power_mod(2,n+m,n+m) == 2 and not is_prime(m+n):\n",
    "        print('Failure of probabilistic test')\n",
    "        \n",
    "#There are 16 primes in this range; so of the ~10000 possibile failures, there were none!"
   ]
  },
  {
   "cell_type": "markdown",
   "metadata": {
    "collapsed": false
   },
   "source": [
    "## Inverses Mod N\n",
    "\n",
    "Let $N$ be a positive integer. If $a$ is a positive integer which is *coprime* to $N$, then $a$ has a multiplicative inverse mod $N$:"
   ]
  },
  {
   "cell_type": "code",
   "execution_count": 0,
   "metadata": {
    "collapsed": false
   },
   "outputs": [
   ],
   "source": [
    "N = 16\n",
    "a = 7\n",
    "\n",
    "mod(1/a, N)"
   ]
  },
  {
   "cell_type": "code",
   "execution_count": 0,
   "metadata": {
    "collapsed": false
   },
   "outputs": [
   ],
   "source": [
    "1/mod(a,N)"
   ]
  },
  {
   "cell_type": "code",
   "execution_count": 0,
   "metadata": {
    "collapsed": false
   },
   "outputs": [
   ],
   "source": [
    "mod(a,N)^(-1)"
   ]
  },
  {
   "cell_type": "code",
   "execution_count": 0,
   "metadata": {
    "collapsed": false
   },
   "outputs": [
   ],
   "source": [
    "7*a % N"
   ]
  },
  {
   "cell_type": "code",
   "execution_count": 0,
   "metadata": {
    "collapsed": false
   },
   "outputs": [
   ],
   "source": [
    "b = 6\n",
    "mod(1/b, N)"
   ]
  },
  {
   "cell_type": "markdown",
   "metadata": {
    "collapsed": false
   },
   "source": [
    "You can find this using Bezout's identity again. If $a$ and $N$ are coprime, take integers \n",
    "$$\n",
    "ax + Ny = 1.\n",
    "$$\n",
    "Reducing mod $N$, \n",
    "$$\n",
    "ax \\equiv 1\\mod N.\n",
    "$$\n",
    "\n",
    "In the language of abstract algebra, we are simply saying that the set \n",
    "$$\n",
    "(\\mathbb{Z}/N\\mathbb{Z})^\\times = \\{a: 0\\leq a\\leq N-1: \\gcd(a,N) = 1\\}\n",
    "$$\n",
    "forms a group under multiplication mod $N$. This is often called a *unit group*.\n",
    "\n",
    "A consequence of this is that if $a$ and $N$ are coprime, there exists a positive integer $d$ with $a^d \\equiv 1\\mod N$."
   ]
  },
  {
   "cell_type": "code",
   "execution_count": 0,
   "metadata": {
    "collapsed": false
   },
   "outputs": [
   ],
   "source": [
    "N = 43\n",
    "a = 7\n",
    "for i in range(1,7):\n",
    "    print(power_mod(a,i,N))"
   ]
  },
  {
   "cell_type": "code",
   "execution_count": 0,
   "metadata": {
    "collapsed": false
   },
   "outputs": [
   ],
   "source": [
    "a^6 % N"
   ]
  },
  {
   "cell_type": "markdown",
   "metadata": {
    "collapsed": false
   },
   "source": [
    "Here is an extension of Fermat's little theorem (due to Euler). Recall the totient function $\\phi$, with \n",
    "$$\n",
    "\\phi(N) = \\#\\{a:1\\leq a\\leq N, \\gcd(a,N) = 1\\}.\n",
    "$$\n",
    "\n",
    "The totient function has a simple formula if $p$ is prime: $\\phi(p) = p-1$. Moreover, if $N$ and $M$ are coprime integers, then $\\phi(NM) = \\phi(N)\\phi(M)$ (this second fact is actually a consequence of the CRT!). If you play around with this, you can get a closed formula for $\\phi$ in terms of the prime divisors of a given number. "
   ]
  },
  {
   "cell_type": "code",
   "execution_count": 0,
   "metadata": {
    "collapsed": false
   },
   "outputs": [
   ],
   "source": [
    "p = 31\n",
    "euler_phi(p)"
   ]
  },
  {
   "cell_type": "code",
   "execution_count": 0,
   "metadata": {
    "collapsed": false
   },
   "outputs": [
   ],
   "source": [
    "N = 98\n",
    "M = 351\n",
    "gcd(N,M)"
   ]
  },
  {
   "cell_type": "code",
   "execution_count": 0,
   "metadata": {
    "collapsed": false
   },
   "outputs": [
   ],
   "source": [
    "euler_phi(N)"
   ]
  },
  {
   "cell_type": "code",
   "execution_count": 0,
   "metadata": {
    "collapsed": false
   },
   "outputs": [
   ],
   "source": [
    "euler_phi(M)"
   ]
  },
  {
   "cell_type": "code",
   "execution_count": 0,
   "metadata": {
    "collapsed": false
   },
   "outputs": [
   ],
   "source": [
    "euler_phi(N*M)"
   ]
  },
  {
   "cell_type": "code",
   "execution_count": 0,
   "metadata": {
    "collapsed": false
   },
   "outputs": [
   ],
   "source": [
    "42*216"
   ]
  },
  {
   "cell_type": "markdown",
   "metadata": {
    "collapsed": false
   },
   "source": [
    "Then we have:\n",
    "\n",
    "Theorem: Let $a$ and $N$ be coprime integers. Then \n",
    "$$\n",
    "a^{\\phi(N)}\\equiv1\\mod N.\n",
    "$$"
   ]
  },
  {
   "cell_type": "code",
   "execution_count": 0,
   "metadata": {
    "collapsed": false
   },
   "outputs": [
   ],
   "source": [
    "N = 43\n",
    "euler_phi(43)"
   ]
  },
  {
   "cell_type": "code",
   "execution_count": 0,
   "metadata": {
    "collapsed": false
   },
   "outputs": [
   ],
   "source": [
    "a^42 % 43"
   ]
  },
  {
   "cell_type": "code",
   "execution_count": 0,
   "metadata": {
    "collapsed": false
   },
   "outputs": [
   ],
   "source": [
    "M = 14\n",
    "for i in range(M):\n",
    "    print(i,': ',power_mod(i,euler_phi(M),M))"
   ]
  },
  {
   "cell_type": "markdown",
   "metadata": {
    "collapsed": false
   },
   "source": [
    "## Multiplicative Orders, Primitive Roots\n",
    "\n",
    "This leads immediately into the concept of *multiplicative order*. Given an integer $N$ and an integer $a$ with $\\gcd(a,N) = 1$, the *multiplicative order of $a \\mod N$* is the smallest integer $d$ with $a^d \\equiv 1\\mod N$. \n",
    "\n",
    "Euler's theorem tells us that $\\phi(N)$ is always an upper bound on $d$; but it is not always tight:"
   ]
  },
  {
   "cell_type": "code",
   "execution_count": 0,
   "metadata": {
    "collapsed": false
   },
   "outputs": [
   ],
   "source": [
    "N = 11\n",
    "for i in range(1,11):\n",
    "    print(i,': ',mod(i,N).multiplicative_order())"
   ]
  },
  {
   "cell_type": "markdown",
   "metadata": {
    "collapsed": false
   },
   "source": [
    "Notice anything?"
   ]
  },
  {
   "cell_type": "code",
   "execution_count": 0,
   "metadata": {
    "collapsed": false
   },
   "outputs": [
   ],
   "source": [
    "euler_phi(N)"
   ]
  },
  {
   "cell_type": "code",
   "execution_count": 0,
   "metadata": {
    "collapsed": false
   },
   "outputs": [
   ],
   "source": [
    "N = 11\n",
    "for i in range(1,11):\n",
    "    print(i, ': ',euler_phi(N) % mod(i,N).multiplicative_order())"
   ]
  },
  {
   "cell_type": "markdown",
   "metadata": {
    "collapsed": false
   },
   "source": [
    "Aha! The multiplicative order of $a$ *always divides* $\\phi(N)$. \n",
    "\n",
    "In this context if $a$ has order $\\phi(N)$, then we say $a$ is a *primitive root* mod $N$. \n",
    "\n",
    "Theorem: Let $p$ be a prime number. There exists a primitive root mod $p$.\n",
    "\n",
    "In the language of abstract algebra, the group $(\\mathbb{Z}/p\\mathbb{Z})^\\times$ is always a *cyclic group* if $p$ is prime. "
   ]
  },
  {
   "cell_type": "code",
   "execution_count": 0,
   "metadata": {
    "collapsed": false
   },
   "outputs": [
   ],
   "source": [
    "for p in prime_range(3,20):\n",
    "    print(p,': ', primitive_root(p))"
   ]
  },
  {
   "cell_type": "code",
   "execution_count": 0,
   "metadata": {
    "collapsed": false
   },
   "outputs": [
   ],
   "source": [
    "for i in range(18):\n",
    "    print(power_mod(2,i,19))"
   ]
  },
  {
   "cell_type": "markdown",
   "metadata": {
    "collapsed": false
   },
   "source": [
    "Primitive roots and the multiplicative structure of elements mod $N$ form the backbone of several cryptographic schemes. In particular, you may have heard of the *discrete logarithm* problem; this is directly related to this! We will explore more of this next lecture."
   ]
  }
 ],
 "metadata": {
  "kernelspec": {
   "display_name": "SageMath 9.2",
   "language": "sagemath",
   "metadata": {
    "cocalc": {
     "description": "Open-source mathematical software system",
     "priority": 10,
     "url": "https://www.sagemath.org/"
    }
   },
   "name": "sage-9.2",
   "resource_dir": "/ext/jupyter/kernels/sage-9.2"
  },
  "language_info": {
   "codemirror_mode": {
    "name": "ipython",
    "version": 3
   },
   "file_extension": ".py",
   "mimetype": "text/x-python",
   "name": "python",
   "nbconvert_exporter": "python",
   "pygments_lexer": "ipython3",
   "version": "3.8.5"
  }
 },
 "nbformat": 4,
 "nbformat_minor": 4
}