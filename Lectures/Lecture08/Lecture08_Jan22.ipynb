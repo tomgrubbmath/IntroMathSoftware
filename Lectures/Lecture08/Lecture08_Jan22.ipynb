{
 "cells": [
  {
   "cell_type": "markdown",
   "metadata": {
    "collapsed": false
   },
   "source": [
    "# Lecture 08: Linear Algebra with NumPy\n",
    "\n",
    "### Please note: This lecture will be recorded and made available for viewing online. If you do not wish to be recorded, please adjust your camera settings accordingly. "
   ]
  },
  {
   "cell_type": "markdown",
   "metadata": {
    "collapsed": false
   },
   "source": [
    "# Reminders/Announcements:\n",
    "- Assignment 2 has been collected; Assignment 3 has been posted.\n",
    "- Grades for Assignment 1 are out.\n",
    "- Solutions to the Practice Quiz are out.\n",
    "- Quiz 1 is on Jan 25th. More details are in your Quiz folder."
   ]
  },
  {
   "cell_type": "markdown",
   "metadata": {
    "collapsed": false
   },
   "source": [
    "## The SciPy Stack\n",
    "\n",
    "From the SciPy webste: https://www.scipy.org/\n",
    "\n",
    "\"SciPy (pronounced “Sigh Pie”) is a Python-based ecosystem of open-source software for mathematics, science, and engineering.\"\n",
    "\n",
    "There are 6 core packages:\n",
    "\n",
    "- NumPy: N dimensional array package (think numerical linear algebra, but more powerful)\n",
    "- IPython: An enhanced Python console (we have seen this! It is part of Jupyter Notebooks)\n",
    "- Matplotlib: 2D plotting software (we have seen this! CoCalc's `plot()` runs on Matplotlib)\n",
    "- SymPy: Symbolic computations and mathematics (we have seen this! Symbolic expressions, derivatives, etc.)\n",
    "- SciPy: Base library for scientific computing\n",
    "- Pandas: Toolkit for data analysis (we will see this later!)\n",
    "\n",
    "Thanks to the SciPy developers, volunteers, and supporters!"
   ]
  },
  {
   "cell_type": "markdown",
   "metadata": {
    "collapsed": false
   },
   "source": [
    "## NumPy\n",
    "From the NumPy website: https://numpy.org/\n",
    "\n",
    "![numpy](numpy.png)\n",
    "\n",
    "NumPy is a toolkit for linear algebra (among many other things). It utilizes optimized C code with a user friendly Python coating, so that operations are easy to implement and efficient to run.\n",
    "\n",
    "To use NumPy we will have to use a *import* statement. This tells the kernel \"please give me the extra functionality from this library; thank you for your time.\""
   ]
  },
  {
   "cell_type": "code",
   "execution_count": 0,
   "metadata": {
    "collapsed": false
   },
   "outputs": [
   ],
   "source": [
    "import numpy"
   ]
  },
  {
   "cell_type": "markdown",
   "metadata": {
    "collapsed": false
   },
   "source": [
    "Once you have imported NumPy, you can call NumPy functions using the syntax `numpy.SomeFunctionName`. Because we are always adding `numpy` to the beginning, often we shorten it:"
   ]
  },
  {
   "cell_type": "code",
   "execution_count": 0,
   "metadata": {
    "collapsed": false
   },
   "outputs": [
   ],
   "source": [
    "import numpy as np"
   ]
  },
  {
   "cell_type": "markdown",
   "metadata": {
    "collapsed": false
   },
   "source": [
    "Now you can call the same function as `np.SomeFunctionName`. A savings of 3 whole keystrokes!\n",
    "\n",
    "The key data structure in NumPy is an *array*."
   ]
  },
  {
   "cell_type": "code",
   "execution_count": 0,
   "metadata": {
    "collapsed": false
   },
   "outputs": [
   ],
   "source": [
    "L = [1,2,3,4,5]   #This is a Python list\n",
    "Arr = np.array(L) #This casts L to a NumPy array."
   ]
  },
  {
   "cell_type": "code",
   "execution_count": 0,
   "metadata": {
    "collapsed": false
   },
   "outputs": [
   ],
   "source": [
    "print(L)\n",
    "print(type(L))"
   ]
  },
  {
   "cell_type": "code",
   "execution_count": 0,
   "metadata": {
    "collapsed": false
   },
   "outputs": [
   ],
   "source": [
    "print(Arr)\n",
    "print(type(Arr))"
   ]
  },
  {
   "cell_type": "markdown",
   "metadata": {
    "collapsed": false
   },
   "source": [
    "The main differences between a Python list and a NumPy array is that\n",
    "- A NumPy array uses less memory\n",
    "- NumPy arrays are \"faster\".\n",
    "\n",
    "In other words, NumPy has more efficient handling of \"ordered sequences of data\". \n",
    "\n",
    "Be careful!"
   ]
  },
  {
   "cell_type": "code",
   "execution_count": 0,
   "metadata": {
    "collapsed": false
   },
   "outputs": [
   ],
   "source": [
    "L = [1,2,3,4,5, 'String']   #This is a Python list\n",
    "Arr = np.array(L) #This casts L to a NumPy array."
   ]
  },
  {
   "cell_type": "code",
   "execution_count": 0,
   "metadata": {
    "collapsed": false
   },
   "outputs": [
   ],
   "source": [
    "print(L)\n",
    "print(Arr)"
   ]
  },
  {
   "cell_type": "code",
   "execution_count": 0,
   "metadata": {
    "collapsed": false
   },
   "outputs": [
   ],
   "source": [
    "type(Arr[0])"
   ]
  },
  {
   "cell_type": "markdown",
   "metadata": {
    "collapsed": false
   },
   "source": [
    "Whereas a list in Python can have arbitrary data types mixed together, a NumPy array has a *single* data type in it."
   ]
  },
  {
   "cell_type": "code",
   "execution_count": 0,
   "metadata": {
    "collapsed": false
   },
   "outputs": [
   ],
   "source": [
    "L = [1,2,3,4,5.0]   #This is a Python list\n",
    "Arr = np.array(L) #This casts L to a NumPy array."
   ]
  },
  {
   "cell_type": "code",
   "execution_count": 0,
   "metadata": {
    "collapsed": false
   },
   "outputs": [
   ],
   "source": [
    "print(L)\n",
    "print(Arr)"
   ]
  },
  {
   "cell_type": "code",
   "execution_count": 0,
   "metadata": {
    "collapsed": false
   },
   "outputs": [
   ],
   "source": [
    "integerArr = Arr.astype(int)\n",
    "print(integerArr)"
   ]
  },
  {
   "cell_type": "markdown",
   "metadata": {
    "collapsed": false
   },
   "source": [
    "NumPy has a few builtins to initialize large arrays quickly:"
   ]
  },
  {
   "cell_type": "code",
   "execution_count": 0,
   "metadata": {
    "collapsed": false
   },
   "outputs": [
   ],
   "source": [
    "import time\n",
    "a = time.time()\n",
    "for i in range(10):\n",
    "    np.zeros((50000), int)\n",
    "print(time.time()-a)"
   ]
  },
  {
   "cell_type": "code",
   "execution_count": 0,
   "metadata": {
    "collapsed": false
   },
   "outputs": [
   ],
   "source": [
    "import time\n",
    "a = time.time()\n",
    "for i in range(10):\n",
    "    [0 for i in range(50000)]\n",
    "print(time.time()-a)"
   ]
  },
  {
   "cell_type": "code",
   "execution_count": 0,
   "metadata": {
    "collapsed": false
   },
   "outputs": [
   ],
   "source": [
    "np.zeros((2,2))"
   ]
  },
  {
   "cell_type": "markdown",
   "metadata": {
    "collapsed": false
   },
   "source": [
    "NumPy also utilizes *componentwise list operations*"
   ]
  },
  {
   "cell_type": "code",
   "execution_count": 0,
   "metadata": {
    "collapsed": false
   },
   "outputs": [
   ],
   "source": [
    "L = [1,2,3] #Python list\n",
    "Arr = np.asarray(L)  #NumPy array"
   ]
  },
  {
   "cell_type": "code",
   "execution_count": 0,
   "metadata": {
    "collapsed": false
   },
   "outputs": [
   ],
   "source": [
    "print(L)\n",
    "print(Arr)"
   ]
  },
  {
   "cell_type": "code",
   "execution_count": 0,
   "metadata": {
    "collapsed": false
   },
   "outputs": [
   ],
   "source": [
    "L+L"
   ]
  },
  {
   "cell_type": "code",
   "execution_count": 0,
   "metadata": {
    "collapsed": false
   },
   "outputs": [
   ],
   "source": [
    "Arr+Arr"
   ]
  },
  {
   "cell_type": "code",
   "execution_count": 0,
   "metadata": {
    "collapsed": false
   },
   "outputs": [
   ],
   "source": [
    "Arr^2"
   ]
  },
  {
   "cell_type": "code",
   "execution_count": 0,
   "metadata": {
    "collapsed": false
   },
   "outputs": [
   ],
   "source": [
    "Arr+Arr^2"
   ]
  },
  {
   "cell_type": "code",
   "execution_count": 0,
   "metadata": {
    "collapsed": false
   },
   "outputs": [
   ],
   "source": [
    "exp(Arr)"
   ]
  },
  {
   "cell_type": "code",
   "execution_count": 0,
   "metadata": {
    "collapsed": false
   },
   "outputs": [
   ],
   "source": [
    "np.array([1,2,3])+np.array([1,2,3,4])"
   ]
  },
  {
   "cell_type": "markdown",
   "metadata": {
    "collapsed": false
   },
   "source": [
    "Be careful!!!!!!!!!! When we get to matrices, this will lead to some funny stuff called *broadcasting*, which I will not go over in detail right now."
   ]
  },
  {
   "cell_type": "code",
   "execution_count": 0,
   "metadata": {
    "collapsed": false
   },
   "outputs": [
   ],
   "source": [
    "np.array([1,2,3])+np.array([[0,0,0],[0,0,0]])"
   ]
  },
  {
   "cell_type": "code",
   "execution_count": 0,
   "metadata": {
    "collapsed": false
   },
   "outputs": [
   ],
   "source": [
    "def f(x):\n",
    "    return(x^2+3)\n",
    "f(Arr)"
   ]
  },
  {
   "cell_type": "markdown",
   "metadata": {
    "collapsed": false
   },
   "source": [
    "The real power of NumPy is in creating *multidimensional arrays*. You do this by passing in a list of list of list of ... of lists. I.e. a one dimensional array is formed by passing in a list; an n dimensional array is formed by passing in a list of n-1 dimensional arrays.\n",
    "\n",
    "A 2D array is just a matrix; instantiate one by passing in a list of rows:"
   ]
  },
  {
   "cell_type": "code",
   "execution_count": 0,
   "metadata": {
    "collapsed": false
   },
   "outputs": [
   ],
   "source": [
    "print(np.array([[1,1,1],[1,2,2]]))"
   ]
  },
  {
   "cell_type": "markdown",
   "metadata": {
    "collapsed": false
   },
   "source": [
    "A 3D array is like a hotel. You have multiple floors, and on each floor you have a grid of rooms. In each room is a data point."
   ]
  },
  {
   "cell_type": "code",
   "execution_count": 0,
   "metadata": {
    "collapsed": false,
    "scrolled": true
   },
   "outputs": [
   ],
   "source": [
    "hotel = np.array([[[3,3,3],[3,3,3]],[[2,2,2],[2,2,2]],[[1,1,1],[1,1,1]]])\n",
    "print(hotel)"
   ]
  },
  {
   "cell_type": "code",
   "execution_count": 0,
   "metadata": {
    "collapsed": false
   },
   "outputs": [
   ],
   "source": [
    "hotel.shape   #The shape of the hotel"
   ]
  },
  {
   "cell_type": "code",
   "execution_count": 0,
   "metadata": {
    "collapsed": false
   },
   "outputs": [
   ],
   "source": [
    "hotel.size    #The number of rooms in the hotel "
   ]
  },
  {
   "cell_type": "markdown",
   "metadata": {
    "collapsed": false
   },
   "source": [
    "## ***** Participation Check ***************************\n",
    "In the code cell below I have defined two matrices, `M` and `N`. Try to multiply them. Does the result look correct?!"
   ]
  },
  {
   "cell_type": "code",
   "execution_count": 0,
   "metadata": {
    "collapsed": false
   },
   "outputs": [
   ],
   "source": [
    "M = np.array([[1,0],[0,1]])\n",
    "N = np.array([[0,6],[13,0]])\n",
    "print(M)\n",
    "print(N)\n",
    "#Try to multiply them below:\n"
   ]
  },
  {
   "cell_type": "markdown",
   "metadata": {
    "collapsed": false
   },
   "source": [
    "Now try calling `numpy.matmul(M,N)`. Does this look better?"
   ]
  },
  {
   "cell_type": "code",
   "execution_count": 0,
   "metadata": {
    "collapsed": false
   },
   "outputs": [
   ],
   "source": [
   ]
  },
  {
   "cell_type": "markdown",
   "metadata": {
    "collapsed": false
   },
   "source": [
    "## *********************************************************"
   ]
  },
  {
   "cell_type": "markdown",
   "metadata": {
    "collapsed": false
   },
   "source": [
    "## Linear Algebra in NumPy\n",
    "\n",
    "NumPy takes a bit to get used to, but once you're used to the operations it is very nice."
   ]
  },
  {
   "cell_type": "code",
   "execution_count": 0,
   "metadata": {
    "collapsed": false
   },
   "outputs": [
   ],
   "source": [
    "M = np.array([[2,6],[13,-1]])\n",
    "print(M)"
   ]
  },
  {
   "cell_type": "code",
   "execution_count": 0,
   "metadata": {
    "collapsed": false
   },
   "outputs": [
   ],
   "source": [
    "np.transpose(M)"
   ]
  },
  {
   "cell_type": "code",
   "execution_count": 0,
   "metadata": {
    "collapsed": false
   },
   "outputs": [
   ],
   "source": [
    "M+M"
   ]
  },
  {
   "cell_type": "code",
   "execution_count": 0,
   "metadata": {
    "collapsed": false
   },
   "outputs": [
   ],
   "source": [
    "np.matmul(M,M)"
   ]
  },
  {
   "cell_type": "markdown",
   "metadata": {
    "collapsed": false
   },
   "source": [
    "Indexing in a NumPy matrix works using \"iterated slice indexing\""
   ]
  },
  {
   "cell_type": "code",
   "execution_count": 0,
   "metadata": {
    "collapsed": false
   },
   "outputs": [
   ],
   "source": [
    "myMat = np.array([['00','01','02'],[10,11,12],[20,21,22]])\n",
    "print(myMat)"
   ]
  },
  {
   "cell_type": "code",
   "execution_count": 0,
   "metadata": {
    "collapsed": false
   },
   "outputs": [
   ],
   "source": [
    "myMat[0,2]"
   ]
  },
  {
   "cell_type": "code",
   "execution_count": 0,
   "metadata": {
    "collapsed": false
   },
   "outputs": [
   ],
   "source": [
    "myMat[2,0]"
   ]
  },
  {
   "cell_type": "code",
   "execution_count": 0,
   "metadata": {
    "collapsed": false
   },
   "outputs": [
   ],
   "source": [
    "myMat[:,0]"
   ]
  },
  {
   "cell_type": "code",
   "execution_count": 0,
   "metadata": {
    "collapsed": false
   },
   "outputs": [
   ],
   "source": [
    "myMat[0,:]"
   ]
  },
  {
   "cell_type": "code",
   "execution_count": 0,
   "metadata": {
    "collapsed": false
   },
   "outputs": [
   ],
   "source": [
    "myMat[:2,:2]"
   ]
  },
  {
   "cell_type": "code",
   "execution_count": 0,
   "metadata": {
    "collapsed": false
   },
   "outputs": [
   ],
   "source": [
    "myMat[0,:] = ['My','new','elements']\n",
    "myMat"
   ]
  },
  {
   "cell_type": "code",
   "execution_count": 0,
   "metadata": {
    "collapsed": false
   },
   "outputs": [
   ],
   "source": [
    "myMat[1,1] = 1\n",
    "myMat"
   ]
  },
  {
   "cell_type": "code",
   "execution_count": 0,
   "metadata": {
    "collapsed": false
   },
   "outputs": [
   ],
   "source": [
    "myMat[:2,:2]=np.zeros((2,2))\n",
    "myMat"
   ]
  },
  {
   "cell_type": "markdown",
   "metadata": {
    "collapsed": false
   },
   "source": [
    "Additional functionality is found in the `numpy.linalg` submodule. You can find the full documentation here: https://numpy.org/doc/stable/reference/routines.linalg.html .\n",
    "\n",
    "Note! NumPy is a *numerical* linear algebra machine; for symbolic/exact linear algebra, this is not the right tool. We will see how to get around this with Sage on Monday."
   ]
  },
  {
   "cell_type": "code",
   "execution_count": 0,
   "metadata": {
    "collapsed": false
   },
   "outputs": [
   ],
   "source": [
    "from numpy import linalg \n",
    "print(M)\n",
    "linalg.det(M)"
   ]
  },
  {
   "cell_type": "markdown",
   "metadata": {
    "collapsed": false
   },
   "source": [
    "Note this is obviously an integer, $-(13\\cdot6 - 2\\cdot(-1)) =-( 78 + 2 )= -80$. You will see some of the consequences of this in your first problem of this week's homework."
   ]
  },
  {
   "cell_type": "code",
   "execution_count": 0,
   "metadata": {
    "collapsed": false
   },
   "outputs": [
   ],
   "source": [
    "linalg.matrix_power(M,4)"
   ]
  },
  {
   "cell_type": "markdown",
   "metadata": {
    "collapsed": false
   },
   "source": [
    "You can compute the linear transformation of a matrix acting on a vector as follows:"
   ]
  },
  {
   "cell_type": "code",
   "execution_count": 0,
   "metadata": {
    "collapsed": false
   },
   "outputs": [
   ],
   "source": [
    "print(M)\n",
    "v = np.array([2,1])\n",
    "print()\n",
    "print(v)\n",
    "print()\n",
    "print(np.matmul(M,v))"
   ]
  },
  {
   "cell_type": "code",
   "execution_count": 0,
   "metadata": {
    "collapsed": false
   },
   "outputs": [
   ],
   "source": [
    "np.dot(v,v)"
   ]
  },
  {
   "cell_type": "markdown",
   "metadata": {
    "collapsed": false
   },
   "source": [
    "Note that this considers $v$ as a *column vector*:\n",
    "\n",
    "$$\n",
    "\\begin{pmatrix}\n",
    "2&6\\\\\n",
    "13&-1\n",
    "\\end{pmatrix}\n",
    "\\begin{pmatrix}\n",
    "2\\\\1\n",
    "\\end{pmatrix} = \n",
    "\\begin{pmatrix}\n",
    "10\\\\\n",
    "25\n",
    "\\end{pmatrix}\n",
    "$$\n",
    "\n",
    "Recall that an *eigenvalue* is a number $\\lambda$ such that there exists a vector $v$ with $Mv = \\lambda v$. In this setting $v$ is a *right eigenvector* corresponding to $\\lambda$. You can (numerically) compute this using `linalg.eig`:"
   ]
  },
  {
   "cell_type": "code",
   "execution_count": 0,
   "metadata": {
    "collapsed": false
   },
   "outputs": [
   ],
   "source": [
    "M = np.array([[1,2],[0,4]])\n",
    "print(M)\n",
    "print()\n",
    "print(linalg.eig(M))"
   ]
  },
  {
   "cell_type": "markdown",
   "metadata": {
    "collapsed": false
   },
   "source": [
    "How to parse the result? The first array is the list of eigenvalues. The second array is a *matrix* whose *ith column vector is the eigenvector for the ith eigenvalue listed*."
   ]
  },
  {
   "cell_type": "code",
   "execution_count": 0,
   "metadata": {
    "collapsed": false
   },
   "outputs": [
   ],
   "source": [
    "eigData = linalg.eig(M)\n",
    "print('The list of eigenvalues are: ', eigData[0])\n",
    "print('The list of right eigenvectors are: \\n', eigData[1])"
   ]
  },
  {
   "cell_type": "markdown",
   "metadata": {
    "collapsed": false
   },
   "source": [
    "## ***** Participation Check ***************************\n",
    "In the code cell below I have copied the matrix `M`. By extracting the columns of the eigenvector matrix of $M$ (calculated by `linalg.eig(M)`), create two vectors `v` and `w` which are eigenvectors of `M`. Then multiply each of them by `M` to verify that the eigenvalue/eigenvector relationship holds."
   ]
  },
  {
   "cell_type": "code",
   "execution_count": 0,
   "metadata": {
    "collapsed": false
   },
   "outputs": [
   ],
   "source": [
    "M = np.array([[1,2],[0,4]])\n",
    "#Rest of your code here"
   ]
  },
  {
   "cell_type": "code",
   "execution_count": 0,
   "metadata": {
    "collapsed": false
   },
   "outputs": [
   ],
   "source": [
    "print(np.matmul(M,v)/v)"
   ]
  },
  {
   "cell_type": "markdown",
   "metadata": {
    "collapsed": false
   },
   "source": [
    "## *********************************************************"
   ]
  },
  {
   "cell_type": "markdown",
   "metadata": {
    "collapsed": false
   },
   "source": [
    "## Singular Value Decomposition: The most important piece of linear algebra you probably never learned\n",
    "\n",
    "Singular value decomposition is one of the most important things in life, next to food and water. Unfortunately it is infrequently taught. Prior warning: if this is new, there will not be enough time to fully understand it here. That is ok! Just try to pick out the key ideas. You don't have to know how internal combustion engines work in order to drive a car. You just have to know to how to put gas in the tank and how to put the pedal to the metal.\n",
    "\n",
    "Recall that a matrix $M$ is *orthogonal* if $M\\cdot M^T = I$. You should think of these as \"like rotation matrices (kinda).\""
   ]
  },
  {
   "cell_type": "code",
   "execution_count": 0,
   "metadata": {
    "collapsed": false
   },
   "outputs": [
   ],
   "source": [
    "M = np.array([[1,1],[1,-1]])/float(sqrt(2))\n",
    "print(M)\n",
    "print()\n",
    "np.matmul(M,M.transpose())"
   ]
  },
  {
   "cell_type": "markdown",
   "metadata": {
    "collapsed": false
   },
   "source": [
    "Given an $m\\times n$ matrix $M$ with real entries, the SVD decomposition of $M$ is a factorization \n",
    "$$\n",
    "M = U\\Sigma V^T,\n",
    "$$\n",
    "where $U$ is an $m\\times m$ orthogonal matrix, $\\Sigma$ is a \"diagonal\" matrix consisting of the *singular values* of $M$, and $V$ is an $n\\times n$ orthogonal matrix. \n",
    "\n",
    "When $M$ is $2\\times 2$ there is a very helpful picture to keep in mind. Here is a photo from Wikipedia (licensing info: By Georg-Johann - Own work, CC BY-SA 3.0, https://commons.wikimedia.org/w/index.php?curid=11342212 )\n",
    "\n",
    "![svd](svd.png)\n"
   ]
  },
  {
   "cell_type": "code",
   "execution_count": 0,
   "metadata": {
    "collapsed": false
   },
   "outputs": [
   ],
   "source": [
    "M = np.array([[1,1,1],[2,3,4]])\n",
    "print(M)"
   ]
  },
  {
   "cell_type": "markdown",
   "metadata": {
    "collapsed": false
   },
   "source": [
    "SVD on $M$ will give \n",
    "$$\n",
    "\\begin{pmatrix}\n",
    "1&1&1\\\\\n",
    "2&3&4\n",
    "\\end{pmatrix}\n",
    "=\n",
    "\\begin{pmatrix}\n",
    "u_{1,1}&u_{1,2}\\\\\n",
    "u_{2,1}&u_{2,2}\n",
    "\\end{pmatrix}\n",
    "\\begin{pmatrix}\n",
    "\\sigma_1&0&0\\\\\n",
    "0&\\sigma_2&0\n",
    "\\end{pmatrix}\n",
    "\\begin{pmatrix}\n",
    "v_{1,1}&v_{1,2}&v_{1,3}\\\\\n",
    "v_{2,1}&v_{2,2}&v_{2,3}\\\\\n",
    "v_{3,1}&v_{3,2}&v_{3,3}\n",
    "\\end{pmatrix}.\n",
    "$$"
   ]
  },
  {
   "cell_type": "code",
   "execution_count": 0,
   "metadata": {
    "collapsed": false
   },
   "outputs": [
   ],
   "source": [
    "U, Sigma, VT = linalg.svd(M)"
   ]
  },
  {
   "cell_type": "code",
   "execution_count": 0,
   "metadata": {
    "collapsed": false
   },
   "outputs": [
   ],
   "source": [
    "print(U)\n",
    "print()\n",
    "print(np.matmul(U,U.transpose()))"
   ]
  },
  {
   "cell_type": "code",
   "execution_count": 0,
   "metadata": {
    "collapsed": false
   },
   "outputs": [
   ],
   "source": [
    "print(Sigma)"
   ]
  },
  {
   "cell_type": "code",
   "execution_count": 0,
   "metadata": {
    "collapsed": false
   },
   "outputs": [
   ],
   "source": [
    "print(VT)\n",
    "print()\n",
    "print(np.matmul(VT,VT.transpose()))"
   ]
  },
  {
   "cell_type": "markdown",
   "metadata": {
    "collapsed": false
   },
   "source": [
    "To recreate M, we need to turn Sigma into the right matrix."
   ]
  },
  {
   "cell_type": "code",
   "execution_count": 0,
   "metadata": {
    "collapsed": false
   },
   "outputs": [
   ],
   "source": [
    "S = np.zeros((2,3))\n",
    "S"
   ]
  },
  {
   "cell_type": "code",
   "execution_count": 0,
   "metadata": {
    "collapsed": false
   },
   "outputs": [
   ],
   "source": [
    "S[:2,:2] = np.diag(Sigma)\n",
    "S"
   ]
  },
  {
   "cell_type": "code",
   "execution_count": 0,
   "metadata": {
    "collapsed": false
   },
   "outputs": [
   ],
   "source": [
    "np.matmul(U,np.matmul(S,VT))"
   ]
  },
  {
   "cell_type": "markdown",
   "metadata": {
    "collapsed": false
   },
   "source": [
    "Why is this useful? You will see one application in Exercise 2 of Assignment 3! The short version is as follows: the singular values of $M$ tell you the \"most important\" information about it. In other words, if you want to *approximate* M in the best way possible, using a matrix of lower rank, SVD tells you how to do so. This is *very important* in data compression/data analysis/dimensionality reduction."
   ]
  },
  {
   "cell_type": "code",
   "execution_count": 0,
   "metadata": {
    "collapsed": false
   },
   "outputs": [
   ],
   "source": [
    "M = np.array([[1,1,1],[2,3,4],[4,5,3]])\n",
    "print(M)\n",
    "linalg.det(M)"
   ]
  },
  {
   "cell_type": "code",
   "execution_count": 0,
   "metadata": {
    "collapsed": false
   },
   "outputs": [
   ],
   "source": [
    "U, Sigma, VT = linalg.svd(M)\n",
    "print(U)\n",
    "print()\n",
    "print(Sigma)\n",
    "print()\n",
    "print(VT)"
   ]
  },
  {
   "cell_type": "code",
   "execution_count": 0,
   "metadata": {
    "collapsed": false
   },
   "outputs": [
   ],
   "source": [
    "U2 = U[:,:2]\n",
    "Sigma2 = Sigma[:2]\n",
    "VT2 = VT[:2,:]\n",
    "print(U2)\n",
    "print()\n",
    "print(Sigma2)\n",
    "print()\n",
    "print(VT2)\n"
   ]
  },
  {
   "cell_type": "code",
   "execution_count": 0,
   "metadata": {
    "collapsed": false
   },
   "outputs": [
   ],
   "source": [
    "S2 = np.zeros((2,2))\n",
    "S2[:2,:2]=np.diag(Sigma2)\n",
    "print(np.matmul(U2,np.matmul(S2,VT2)))\n",
    "print()\n",
    "print(M)"
   ]
  },
  {
   "cell_type": "code",
   "execution_count": 0,
   "metadata": {
    "collapsed": false
   },
   "outputs": [
   ],
   "source": [
    "print(linalg.matrix_rank(M))\n",
    "print(linalg.matrix_rank(np.matmul(U2,np.matmul(S2,VT2))))"
   ]
  },
  {
   "cell_type": "markdown",
   "metadata": {
    "collapsed": false
   },
   "source": [
    "Theorem: This is the \"best\" rank 2 approximation of $M$. \n",
    "\n",
    "You will be exploring \"rank k\" approximations of $M$ in Homework 3, Problem 2. Please note that even though this looks new and scary, it's mainly just terminology. You don't have to fully understand it in order to apply it. In particular, the code above *essentially* solves one of the parts; you will just have to generalize it slightly and turn it into a function."
   ]
  }
 ],
 "metadata": {
  "kernelspec": {
   "display_name": "SageMath 9.2",
   "language": "sagemath",
   "metadata": {
    "cocalc": {
     "description": "Open-source mathematical software system",
     "priority": 10,
     "url": "https://www.sagemath.org/"
    }
   },
   "name": "sage-9.2",
   "resource_dir": "/ext/jupyter/kernels/sage-9.2"
  },
  "language_info": {
   "codemirror_mode": {
    "name": "ipython",
    "version": 3
   },
   "file_extension": ".py",
   "mimetype": "text/x-python",
   "name": "python",
   "nbconvert_exporter": "python",
   "pygments_lexer": "ipython3",
   "version": "3.8.5"
  }
 },
 "nbformat": 4,
 "nbformat_minor": 4
}