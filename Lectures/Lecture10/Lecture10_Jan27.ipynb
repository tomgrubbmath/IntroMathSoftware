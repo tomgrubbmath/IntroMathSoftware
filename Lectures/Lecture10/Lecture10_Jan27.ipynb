{
 "cells": [
  {
   "cell_type": "markdown",
   "metadata": {
    "collapsed": false
   },
   "source": [
    "# Lecture 10: Computations in Discrete Mathematics\n",
    "\n",
    "### Please note: This lecture will be recorded and made available for viewing online. If you do not wish to be recorded, please adjust your camera settings accordingly. "
   ]
  },
  {
   "cell_type": "markdown",
   "metadata": {
    "collapsed": false
   },
   "source": [
    "# Reminders/Announcements:\n",
    "- Assignment 3 is due Thursday at 8pm\n",
    "- Grades for Quiz 1, Assignments 1 & 2, and Participation checks for Lectures 4-8 will be available to you by Friday (which is some sort of drop deadline)\n",
    "- This lecture has participation checks again.\n",
    "- Small typo on Assignment 3"
   ]
  },
  {
   "cell_type": "markdown",
   "metadata": {
    "collapsed": false
   },
   "source": [
    "# Participation Update\n",
    "\n",
    "CoCalc allows me to export your \"file use times.\" It gives me a JSON file with entries like this (this is anonymized):\n",
    "\n",
    "![](usetimes.png)\n",
    "\n",
    "It should look familiar! It's a dictionary of dictionaries! The edit times take timestamps on when the file was edited (the unit here is \"milliseconds since the epoch\"). A Python script then scrapes this file to make sure the files were interacted with.\n",
    "\n",
    "If you missed a few points, don't worry! 5 Participation scores will be dropped for each student."
   ]
  },
  {
   "cell_type": "markdown",
   "metadata": {
    "collapsed": false
   },
   "source": [
    "## Combinatorics and The Online Encyclopedia of Integer Sequences (OEIS)\n",
    "\n",
    "Combinatorics is the art of *counting*. \n",
    "- How many ways can you pick k objects out of a set of n objects (the *binomial coefficients*)\n",
    "- How many ways can you order a list of n distinct objects (*the factorial*)\n",
    "- How many ways can you \"partition\" a group of n people (*the Bell numbers*)\n",
    "- ...\n",
    "\n",
    "Often a general answer is not easy to come by. A *very very very useful* resource is the OEIS: https://oeis.org/ . It is a huge database of integer sequences, together with the things that they count.\n",
    "\n",
    "Sample of how your research project might go:\n",
    "- Step 1: Enumerate the first few cases of your counting problem by hand (or better, with Sage)\n",
    "- Step 2: Plug in your results into OEIS to make a conjecture regarding the general answer\n",
    "- Step 3: Prove your conjecture using insights from OEIS\n",
    "\n",
    "Example: For a positive integer $n$, define $[n] = \\{1,2,\\dots,n\\}$. How many subsets of $[n]$ have no *consecutive elements* in them? I.e. how many subsets $S\\subset[n]$ such that $\\{i,i+1\\}\\not\\subset S$ for all $i$."
   ]
  },
  {
   "cell_type": "code",
   "execution_count": 0,
   "metadata": {
    "collapsed": false
   },
   "outputs": [
   ],
   "source": [
    "def count(n):\n",
    "    tally = 0\n",
    "    subsets = Subsets(n)\n",
    "    for subset in subsets:\n",
    "        if any([(i in subset and i+1 in subset) for i in range(1,n+1)]):\n",
    "            pass\n",
    "        else:\n",
    "            tally+=1\n",
    "    return(tally)"
   ]
  },
  {
   "cell_type": "code",
   "execution_count": 0,
   "metadata": {
    "collapsed": false
   },
   "outputs": [
   ],
   "source": [
    "for i in range(0,10):\n",
    "    print(count(i))"
   ]
  },
  {
   "cell_type": "code",
   "execution_count": 0,
   "metadata": {
    "collapsed": false
   },
   "outputs": [
   ],
   "source": [
    "oeis([1,2,3,5,8,13,21,34,55,89])"
   ]
  },
  {
   "cell_type": "code",
   "execution_count": 0,
   "metadata": {
    "collapsed": false
   },
   "outputs": [
   ],
   "source": [
    "entry = oeis('A000045')\n",
    "print(entry.name())\n",
    "#print(entry.comments())"
   ]
  },
  {
   "cell_type": "markdown",
   "metadata": {
    "collapsed": false
   },
   "source": [
    "Theorem: Let $S_n$ be the number of subsets of $[n]$ with no consecutive elements. Then $S_n$ is a Fibonacci number.\n",
    "\n",
    "Proof: Let $S$ be a subset of $[n]$. If $n$ is not in $S$, then in fact $S$ is a subset of $[n-1]$ with no consecutive elements. If $n$ is in $S$, then $S\\setminus\\{n\\}$ is a subset of $[n-2]$ with no consecutive elements. This establishes a recursion \n",
    "$$\n",
    "S_n = S_{n-1}+S_{n-2}\n",
    "$$\n",
    "for $n\\geq 2$. The initial conditions $S_0 = 1$, $S_1=2$ show that we have essentially a \"reindexed\" Fibonacci sequence."
   ]
  },
  {
   "cell_type": "code",
   "execution_count": 0,
   "metadata": {
    "collapsed": false
   },
   "outputs": [
   ],
   "source": [
    "S = Subsets(3)\n",
    "S"
   ]
  },
  {
   "cell_type": "code",
   "execution_count": 0,
   "metadata": {
    "collapsed": false
   },
   "outputs": [
   ],
   "source": [
    "for subset in S:\n",
    "    print(subset, len(subset))"
   ]
  },
  {
   "cell_type": "markdown",
   "metadata": {
    "collapsed": false
   },
   "source": [
    "## ***** Participation Check ***************************\n",
    "Write a function `evenMinusOdd` which takes a positive integer $n$ as input and returns the difference between the number of even element subsets of $[n]$ and the number of odd element subsets of $[n]$,\n",
    "$$\n",
    "\\# \\{S:S\\subset [n], |S| \\text{ is even }\\}-\n",
    "\\# \\{S:S\\subset [n], |S| \\text{ is odd }\\}.\n",
    "$$\n",
    "Make a conjecture for what numbers count this sequence by running your function on $n=1,2,3,4,5,6,7$.\n",
    "\n"
   ]
  },
  {
   "cell_type": "code",
   "execution_count": 0,
   "metadata": {
    "collapsed": false
   },
   "outputs": [
   ],
   "source": [
    "def evenMinusOdd(n):\n",
    "    #Your code here\n",
    "\n",
    "\n"
   ]
  },
  {
   "cell_type": "code",
   "execution_count": 0,
   "metadata": {
    "collapsed": false
   },
   "outputs": [
   ],
   "source": [
    "#your code here"
   ]
  },
  {
   "cell_type": "markdown",
   "metadata": {
    "collapsed": false
   },
   "source": [
    "## *********************************************************"
   ]
  },
  {
   "cell_type": "markdown",
   "metadata": {
    "collapsed": false
   },
   "source": [
    "Sage also has nice set constructors, so you can easily play poker with all of your friends:"
   ]
  },
  {
   "cell_type": "code",
   "execution_count": 0,
   "metadata": {
    "collapsed": false
   },
   "outputs": [
   ],
   "source": [
    "suits = ['Diamonds','Clubs','Hearts','Spades']\n",
    "values = ['Ace','King','Queen','Jack']+[i for i in range(10,1,-1)]\n",
    "deckOfCards = list(cartesian_product([suits,values]))"
   ]
  },
  {
   "cell_type": "code",
   "execution_count": 0,
   "metadata": {
    "collapsed": false
   },
   "outputs": [
   ],
   "source": [
    "deckOfCards[0:13]"
   ]
  },
  {
   "cell_type": "code",
   "execution_count": 0,
   "metadata": {
    "collapsed": false
   },
   "outputs": [
   ],
   "source": [
    "shuffle(deckOfCards)\n",
    "deckOfCards[0:5]"
   ]
  },
  {
   "cell_type": "code",
   "execution_count": 0,
   "metadata": {
    "collapsed": false
   },
   "outputs": [
   ],
   "source": [
    "possibleHands = Subsets(deckOfCards, 5)\n",
    "len(possibleHands)"
   ]
  },
  {
   "cell_type": "markdown",
   "metadata": {
    "collapsed": false
   },
   "source": [
    "## Binomial Coefficients\n",
    "\n",
    "The binomial coefficient $\\binom{n}{k}$ counts the number of ways of choosing a $k$ element subset from an $n$ element set. You may have seen the formula \n",
    "$$\n",
    "\\binom{n}{k} = \\frac{n!}{k!(n-k)!},\n",
    "$$\n",
    "or the *Binomial Theorem* \n",
    "$$\n",
    "(1+x)^n = \\sum_{k=0}^n \\binom{n}{k}x^k.\n",
    "$$"
   ]
  },
  {
   "cell_type": "code",
   "execution_count": 0,
   "metadata": {
    "collapsed": false
   },
   "outputs": [
   ],
   "source": [
    "for i in range(6):\n",
    "    print(binomial(5,i))"
   ]
  },
  {
   "cell_type": "code",
   "execution_count": 0,
   "metadata": {
    "collapsed": false
   },
   "outputs": [
   ],
   "source": [
    "show(expand((1+x)^5))"
   ]
  },
  {
   "cell_type": "markdown",
   "metadata": {
    "collapsed": false
   },
   "source": [
    "The binomial theorem actually gives a proof of your participation check;\n",
    "$$\n",
    "0 = 0^n = (1-1)^n = \\sum_{k=0}^n\\binom{n}{k}(-1)^k = \\left(\\sum_{k \\text{ even }}\\binom{n}{k}\\right) - \\left(\\sum_{k \\text{ odd }}\\binom{n}{k\n",
    "}\\right)\n",
    "$$\n",
    "There are many so called *binomial identities*. For example, the basic recurrence relation\n",
    "$$\n",
    "\\binom{n}{k} = \\binom{n-1}{k}+\\binom{n-1}{k-1},\n",
    "$$\n",
    "or the so called *hockey stick identity*\n",
    "$$\n",
    "\\sum_{k=r}^n\\binom{k}{r} = \\binom{n+1}{r+1}\n",
    "$$"
   ]
  },
  {
   "cell_type": "code",
   "execution_count": 0,
   "metadata": {
    "collapsed": false
   },
   "outputs": [
   ],
   "source": [
    "for n in range(10):\n",
    "    print([binomial(n,k) for k in range(n+1)])"
   ]
  },
  {
   "cell_type": "markdown",
   "metadata": {
    "collapsed": false
   },
   "source": [
    "You can get subsets of a given size in Sage by adding in a second parameter:"
   ]
  },
  {
   "cell_type": "code",
   "execution_count": 0,
   "metadata": {
    "collapsed": false
   },
   "outputs": [
   ],
   "source": [
    "L = ['Dog','Cat','Cow','Pig','Duck']\n",
    "for subset in Subsets(L,3):\n",
    "    print(subset)"
   ]
  },
  {
   "cell_type": "markdown",
   "metadata": {
    "collapsed": false
   },
   "source": [
    "## Permutations in Sage\n",
    "\n",
    "A *permutation* of length $n$ is a reordering of the list $[1,2,\\dots,n]$. We will usually write a permutation as \n",
    "$$\n",
    "\\pi = \\pi_1\\pi_2\\dots\\pi_n\n",
    "$$\n",
    "Be careful! Combinatorial indexing is different than Python list indexing..."
   ]
  },
  {
   "cell_type": "code",
   "execution_count": 0,
   "metadata": {
    "collapsed": false
   },
   "outputs": [
   ],
   "source": [
    "P = Permutations(4)\n",
    "for perm in P:\n",
    "    print(perm)"
   ]
  },
  {
   "cell_type": "code",
   "execution_count": 0,
   "metadata": {
    "collapsed": false
   },
   "outputs": [
   ],
   "source": [
    "print(P.cardinality())"
   ]
  },
  {
   "cell_type": "markdown",
   "metadata": {
    "collapsed": false
   },
   "source": [
    "Permutations are counted by the *factorial* $n! = n\\cdot(n-1)\\dots 3\\cdot 2\\cdot 1.$"
   ]
  },
  {
   "cell_type": "code",
   "execution_count": 0,
   "metadata": {
    "collapsed": false
   },
   "outputs": [
   ],
   "source": [
    "for i in range(7):\n",
    "    print(factorial(i))"
   ]
  },
  {
   "cell_type": "markdown",
   "metadata": {
    "collapsed": false
   },
   "source": [
    "Often one applies *statistics* to permutations. For example: an index $k$ is a *descent* if $\\pi_k > \\pi_{k+1}$. Descents in permutations are closely related to the algebraic and geometric properties of the symmetric group."
   ]
  },
  {
   "cell_type": "code",
   "execution_count": 0,
   "metadata": {
    "collapsed": false
   },
   "outputs": [
   ],
   "source": [
    "for perm in Permutations(3):\n",
    "    print(perm,perm.descents())"
   ]
  },
  {
   "cell_type": "markdown",
   "metadata": {
    "collapsed": false
   },
   "source": [
    "Here's a cool fact. Let's count the so called *Grassmanian permutations*, which are those who have a descent set contained in $\\{k\\}$. I.e. either they have no descents or they have a single descent at a specified index."
   ]
  },
  {
   "cell_type": "code",
   "execution_count": 0,
   "metadata": {
    "collapsed": false
   },
   "outputs": [
   ],
   "source": [
    "def grass(n,k):\n",
    "    tally = 0\n",
    "    for p in Permutations(n):\n",
    "        if p.descents()==[k] or not p.descents():\n",
    "            tally+=1\n",
    "    return(tally)"
   ]
  },
  {
   "cell_type": "code",
   "execution_count": 0,
   "metadata": {
    "collapsed": false
   },
   "outputs": [
   ],
   "source": [
    "for n in range(9):\n",
    "    print([grass(n,k) for k in range(n+1)])"
   ]
  },
  {
   "cell_type": "markdown",
   "metadata": {
    "collapsed": false
   },
   "source": [
    "You can actually use this to give alternative proofs to many binomial identities!\n",
    "\n",
    "There is a *vast* literature on permutation statistics. You may have heard of cycle type, inversions, the Major index, left-right maxima, right-left maxima, peaks, pinnacles, excedances, ..... \n",
    "\n",
    "We will not go into more during this lecture, but may explore some in Assignment 4. "
   ]
  },
  {
   "cell_type": "markdown",
   "metadata": {
    "collapsed": false
   },
   "source": [
    "## Set Partitions\n",
    "\n",
    "A *set partition* of a set $S$ is a collection of nonempty blocks $\\{B_1,\\dots,B_k\\}$ with $S = \\cup B_i$ and $B_i\\cap B_j = \\emptyset$.\n",
    "\n",
    "Think of this as a way of assigning $n$ individuals into teams such that:\n",
    "- no team is empty\n",
    "- every player is on exactly one team"
   ]
  },
  {
   "cell_type": "code",
   "execution_count": 0,
   "metadata": {
    "collapsed": false
   },
   "outputs": [
   ],
   "source": [
    "Partitions = SetPartitions(3)\n",
    "for partition in Partitions:\n",
    "    print(partition)"
   ]
  },
  {
   "cell_type": "markdown",
   "metadata": {
    "collapsed": false
   },
   "source": [
    "Set partitions are counted by the *Bell numbers*."
   ]
  },
  {
   "cell_type": "code",
   "execution_count": 0,
   "metadata": {
    "collapsed": false
   },
   "outputs": [
   ],
   "source": [
    "for k in range(0,10):\n",
    "    print(len(list(SetPartitions(k))))"
   ]
  },
  {
   "cell_type": "code",
   "execution_count": 0,
   "metadata": {
    "collapsed": false
   },
   "outputs": [
   ],
   "source": [
    "oeis([1,1,2,5,15,52,203,877,4140,21147])"
   ]
  },
  {
   "cell_type": "markdown",
   "metadata": {
    "collapsed": false
   },
   "source": [
    "You may have seen the Bell numbers from the power series expansion below:\n",
    "$$\n",
    "e^{e^{x}-1} = \\sum_{n=0}^\\infty \\frac{B_n}{n!}x^n.\n",
    "$$"
   ]
  },
  {
   "cell_type": "code",
   "execution_count": 0,
   "metadata": {
    "collapsed": false
   },
   "outputs": [
   ],
   "source": [
    "f(x) = exp(exp(x)-1)\n",
    "f"
   ]
  },
  {
   "cell_type": "code",
   "execution_count": 0,
   "metadata": {
    "collapsed": false
   },
   "outputs": [
   ],
   "source": [
    "show(f.series(x,10))"
   ]
  },
  {
   "cell_type": "code",
   "execution_count": 0,
   "metadata": {
    "collapsed": false
   },
   "outputs": [
   ],
   "source": [
    "bellNums = [1,1,2,5,15,52,203,877,4140,21147]\n",
    "show([bellNums[i]/factorial(i) for i in range(10)])"
   ]
  },
  {
   "cell_type": "markdown",
   "metadata": {
    "collapsed": false
   },
   "source": [
    "From this one can derive *Dobinski's formula*, which gives the explicit black magic\n",
    "$$\n",
    "B_n = \\frac{1}{e}\\sum_{k = 0}^\\infty \\frac{k^n}{k!}.\n",
    "$$"
   ]
  },
  {
   "cell_type": "code",
   "execution_count": 0,
   "metadata": {
    "collapsed": false
   },
   "outputs": [
   ],
   "source": [
    "var('k')\n",
    "for i in range(1,10):\n",
    "    print(bell_number(i))\n",
    "    print(float(sum(k^i / factorial(k), k, 1, 15)/e))\n",
    "    print('*****************')"
   ]
  },
  {
   "cell_type": "markdown",
   "metadata": {
    "collapsed": false
   },
   "source": [
    "You *do not* have to memorize or really care about Dobinski's formula for this class, but it is way cool! Combinatorial identities like these give us the power to actually compute something like the 50th Bell number, without actually listing things out and keeping a running tally. It takes *forever* to simply count all of the set partitions of even something like $\\{1,2,3,\\dots,12\\}$..."
   ]
  },
  {
   "cell_type": "code",
   "execution_count": 0,
   "metadata": {
    "collapsed": false
   },
   "outputs": [
   ],
   "source": [
    "tally = 0\n",
    "S = SetPartitions(12)\n",
    "for partition in S:\n",
    "    tally+=1\n",
    "print(tally)"
   ]
  },
  {
   "cell_type": "code",
   "execution_count": 0,
   "metadata": {
    "collapsed": false
   },
   "outputs": [
   ],
   "source": [
    "bell_number(12,'dobinski')"
   ]
  },
  {
   "cell_type": "code",
   "execution_count": 0,
   "metadata": {
    "collapsed": false
   },
   "outputs": [
   ],
   "source": [
    "bell_number(35,'dobinski')"
   ]
  },
  {
   "cell_type": "code",
   "execution_count": 0,
   "metadata": {
    "collapsed": false
   },
   "outputs": [
   ],
   "source": [
    "bell_number(35,'dobinski').ndigits()"
   ]
  },
  {
   "cell_type": "markdown",
   "metadata": {
    "collapsed": false
   },
   "source": [
    "The number we just computed is on the order of $10^{30}$...\n",
    "\n",
    "For comparison...the universe is ~$14$ billion years old, which as we all know is a hair over $10^{17}$ seconds...modern processors are operating at the level of gigahertz, which is about $10^9$ clock ticks a second...so if you parallelized a cluster of computers and had them running since the big bang, you *might* have finished the calculation by now. But $B_{35}$ is only the beginning..."
   ]
  },
  {
   "cell_type": "code",
   "execution_count": 0,
   "metadata": {
    "collapsed": false
   },
   "outputs": [
   ],
   "source": [
    "bell_number(5000,'dobinski')"
   ]
  },
  {
   "cell_type": "code",
   "execution_count": 0,
   "metadata": {
    "collapsed": false
   },
   "outputs": [
   ],
   "source": [
    "bell_number(5000,'dobinski').ndigits()  "
   ]
  },
  {
   "cell_type": "code",
   "execution_count": 0,
   "metadata": {
    "collapsed": false
   },
   "outputs": [
   ],
   "source": [
    "bell_number??"
   ]
  },
  {
   "cell_type": "markdown",
   "metadata": {
    "collapsed": false
   },
   "source": [
    "You can gain many beautiful combinatorial identities by restricting the number of blocks in your set partition; this leads to the *Stirling numbers of the second kind*. We will not go into them too much here, other than the following:\n",
    "## ***** Participation Check ***************************\n",
    "In the code cell below, use Sage to compute the number of set partitions of $\\{1,2,\\dots,n\\}$ which have $n-1$ blocks. Do this for $n=2,3,\\dots,8$. In the second code cell, feed the sequence into OEIS to make a conjecture about the number of such partitions in general."
   ]
  },
  {
   "cell_type": "code",
   "execution_count": 0,
   "metadata": {
    "collapsed": false
   },
   "outputs": [
   ],
   "source": [
    "#Your code here"
   ]
  },
  {
   "cell_type": "code",
   "execution_count": 0,
   "metadata": {
    "collapsed": false,
    "scrolled": true
   },
   "outputs": [
   ],
   "source": [
    "#Your OEIS call here\n"
   ]
  },
  {
   "cell_type": "markdown",
   "metadata": {
    "collapsed": false
   },
   "source": [
    "## *********************************************************"
   ]
  },
  {
   "cell_type": "markdown",
   "metadata": {
    "collapsed": false
   },
   "source": [
    "## Integer Partitions\n",
    "\n",
    "Given a positive integer $n$, an *integer partition* of $n$ is a weakly decreasing sequence of positive integers $\\lambda_1\\geq \\lambda_2\\geq \\dots \\geq \\lambda_k$ with \n",
    "$$\n",
    "n=\\lambda_1+\\dots+\\lambda_k.\n",
    "$$\n",
    "Partitions are of great interest in both combinatorics *and* number theory *and* representation theory *and* probably other stuff!"
   ]
  },
  {
   "cell_type": "code",
   "execution_count": 0,
   "metadata": {
    "collapsed": false
   },
   "outputs": [
   ],
   "source": [
    "P = Partitions(5)\n",
    "for p in P:\n",
    "    print(p)"
   ]
  },
  {
   "cell_type": "code",
   "execution_count": 0,
   "metadata": {
    "collapsed": false
   },
   "outputs": [
   ],
   "source": [
    "for i in range(10):\n",
    "    print(len(list(Partitions(i))))"
   ]
  },
  {
   "cell_type": "code",
   "execution_count": 0,
   "metadata": {
    "collapsed": false
   },
   "outputs": [
   ],
   "source": [
    "oeis([1,1,2,3,5,7,11,15,22,30])"
   ]
  },
  {
   "cell_type": "markdown",
   "metadata": {
    "collapsed": false
   },
   "source": [
    "There is a wealth of topics we could study regarding integer partitions, and we don't have time to get to all of them. Here's an example of the \"odd equals distinct\" phenomenon. The `parts_in` tag restricts the size of the numbers you are allowed to use in the partition (remember this for your next homework!) and the `max_slope` parameter tells you how big $\\lambda_{i+1}$ can be compared to $\\lambda_i$:"
   ]
  },
  {
   "cell_type": "code",
   "execution_count": 0,
   "metadata": {
    "collapsed": false
   },
   "outputs": [
   ],
   "source": [
    "for partition in Partitions(9,parts_in=[1,3,5,7,9]):  #This gives partitions using only odd numbers\n",
    "    print(partition)"
   ]
  },
  {
   "cell_type": "code",
   "execution_count": 0,
   "metadata": {
    "collapsed": false
   },
   "outputs": [
   ],
   "source": [
    "for partition in Partitions(9,max_slope=-1):  #This gives partitions with no repetitions allowed (all the parts are distinct)\n",
    "    print(partition)"
   ]
  },
  {
   "cell_type": "markdown",
   "metadata": {
    "collapsed": false
   },
   "source": [
    "There is a beautiful proof of this dating back to Euler (because of course it was him), which we don't have time to get into. \n",
    "\n",
    "Finally, here is an example of the \"restricted part size equals restricted number of parts\" phenomenon:"
   ]
  },
  {
   "cell_type": "code",
   "execution_count": 0,
   "metadata": {
    "collapsed": false
   },
   "outputs": [
   ],
   "source": [
    "for partition in Partitions(7,max_part = 4):  #This gives partitions using parts <= 4\n",
    "    print(partition)"
   ]
  },
  {
   "cell_type": "code",
   "execution_count": 0,
   "metadata": {
    "collapsed": false
   },
   "outputs": [
   ],
   "source": [
    "for partition in Partitions(7,max_length = 4):  #This gives partitions using at most 4 parts\n",
    "    print(partition)"
   ]
  },
  {
   "cell_type": "markdown",
   "metadata": {
    "collapsed": false
   },
   "source": [
    "You can prove this in one line using a beautiful geometric idea; Google \"young diagrams\" if you are interested."
   ]
  },
  {
   "cell_type": "markdown",
   "metadata": {
    "collapsed": false
   },
   "source": [
    "## Next Time: Graph Theory in Sage"
   ]
  }
 ],
 "metadata": {
  "kernelspec": {
   "display_name": "SageMath 9.2",
   "language": "sagemath",
   "metadata": {
    "cocalc": {
     "description": "Open-source mathematical software system",
     "priority": 10,
     "url": "https://www.sagemath.org/"
    }
   },
   "name": "sage-9.2",
   "resource_dir": "/ext/jupyter/kernels/sage-9.2"
  },
  "language_info": {
   "codemirror_mode": {
    "name": "ipython",
    "version": 3
   },
   "file_extension": ".py",
   "mimetype": "text/x-python",
   "name": "python",
   "nbconvert_exporter": "python",
   "pygments_lexer": "ipython3",
   "version": "3.8.5"
  }
 },
 "nbformat": 4,
 "nbformat_minor": 4
}