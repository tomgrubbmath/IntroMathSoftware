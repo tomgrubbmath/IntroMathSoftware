{
 "cells": [
  {
   "cell_type": "markdown",
   "metadata": {
    "collapsed": false
   },
   "source": [
    "# Lecture 05: Programming in Python (3 of 3)\n",
    "\n",
    "### Please note: This lecture will be recorded and made available for viewing online. If you do not wish to be recorded, please adjust your camera settings accordingly. "
   ]
  },
  {
   "cell_type": "markdown",
   "metadata": {
    "collapsed": false
   },
   "source": [
    "# Reminders:\n",
    "- Assignment 1 is due on Thursday night (Jan 14 at 8pm Pacific). This is for a grade!\n",
    "- Live chat room monitoring (on Thursday) is an additional form of office hours! Me/a TA will be actively monitoring the ZulipChat for questions, and can even look inside your project if you have specific questions. \n",
    "- Office Hours Schedule can be found in Course links folder. Attend them with any questions about the course/assignments.\n",
    "    - For questions on assignments: *Please* try to understand/play around with the exercises first, before asking questions on them. We are happy to help at any point, but it is much easier to give useful feedback if you have *specific questions*.\n",
    "- Please ask questions in the chat if you have any!"
   ]
  },
  {
   "cell_type": "markdown",
   "metadata": {
    "collapsed": false
   },
   "source": [
    "## Functions in Python\n",
    "\n",
    "Often you will want to use the same bit of code on multiple inputs. It would be a pain to have to manually change the input everytime you ran the code. For example, maybe you want to evaluate the polynomial \n",
    "$$\n",
    "f(x) = x^3 + 2x + 4\n",
    "$$\n",
    "\n",
    "on multiple different inputs. "
   ]
  },
  {
   "cell_type": "code",
   "execution_count": 0,
   "metadata": {
    "collapsed": false
   },
   "outputs": [
   ],
   "source": [
    "print(5**3 + 2*5 + 4)"
   ]
  },
  {
   "cell_type": "code",
   "execution_count": 0,
   "metadata": {
    "collapsed": false
   },
   "outputs": [
   ],
   "source": [
    "print(3**3 + 2*3 + 4)"
   ]
  },
  {
   "cell_type": "code",
   "execution_count": 0,
   "metadata": {
    "collapsed": false
   },
   "outputs": [
   ],
   "source": [
    "print(1**3 + 2*1 + 4)"
   ]
  },
  {
   "cell_type": "markdown",
   "metadata": {
    "collapsed": false
   },
   "source": [
    "The way to do this in Python is by defining a python function on your own:"
   ]
  },
  {
   "cell_type": "code",
   "execution_count": 0,
   "metadata": {
    "collapsed": false
   },
   "outputs": [
   ],
   "source": [
    "def f(x):\n",
    "    return(x**3 + 2*x + 4)"
   ]
  },
  {
   "cell_type": "code",
   "execution_count": 0,
   "metadata": {
    "collapsed": false
   },
   "outputs": [
   ],
   "source": [
    "f(5)"
   ]
  },
  {
   "cell_type": "code",
   "execution_count": 0,
   "metadata": {
    "collapsed": false
   },
   "outputs": [
   ],
   "source": [
    "f(3)"
   ]
  },
  {
   "cell_type": "code",
   "execution_count": 0,
   "metadata": {
    "collapsed": false
   },
   "outputs": [
   ],
   "source": [
    "f(1)"
   ]
  },
  {
   "cell_type": "markdown",
   "metadata": {
    "collapsed": false
   },
   "source": [
    "We will give a brief discussion of functions in Python in this lecture. For a more detailed overview, you can check here: https://www.w3schools.com/python/python_functions.asp"
   ]
  },
  {
   "cell_type": "markdown",
   "metadata": {
    "collapsed": false
   },
   "source": [
    "## Important point: the return statement \n",
    "\n",
    "If you want to *use* the results of your function, you *need* to use the return function. Note the difference between the two functions below:"
   ]
  },
  {
   "cell_type": "code",
   "execution_count": 0,
   "metadata": {
    "collapsed": false
   },
   "outputs": [
   ],
   "source": [
    "def f_withReturn(x):\n",
    "    return(x**3 + 2*x + 4)\n",
    "\n",
    "def f_withPrint(x):\n",
    "    print(x**3 + 2*x + 4)"
   ]
  },
  {
   "cell_type": "markdown",
   "metadata": {
    "collapsed": false
   },
   "source": [
    "Both functions *might* look like they do the same thing if you just call them:"
   ]
  },
  {
   "cell_type": "code",
   "execution_count": 0,
   "metadata": {
    "collapsed": false
   },
   "outputs": [
   ],
   "source": [
    "f_withReturn(5)"
   ]
  },
  {
   "cell_type": "code",
   "execution_count": 0,
   "metadata": {
    "collapsed": false
   },
   "outputs": [
   ],
   "source": [
    "f_withPrint(5)"
   ]
  },
  {
   "cell_type": "markdown",
   "metadata": {
    "collapsed": false
   },
   "source": [
    "But remember! Print statements are only for humans. The difference between the functions can be seen below:"
   ]
  },
  {
   "cell_type": "code",
   "execution_count": 0,
   "metadata": {
    "collapsed": false
   },
   "outputs": [
   ],
   "source": [
    "x = f_withReturn(5)"
   ]
  },
  {
   "cell_type": "code",
   "execution_count": 0,
   "metadata": {
    "collapsed": false
   },
   "outputs": [
   ],
   "source": [
    "print(x)"
   ]
  },
  {
   "cell_type": "code",
   "execution_count": 0,
   "metadata": {
    "collapsed": false
   },
   "outputs": [
   ],
   "source": [
    "y = f_withPrint(5)"
   ]
  },
  {
   "cell_type": "code",
   "execution_count": 0,
   "metadata": {
    "collapsed": false
   },
   "outputs": [
   ],
   "source": [
    "print(y)"
   ]
  },
  {
   "cell_type": "markdown",
   "metadata": {
    "collapsed": false
   },
   "source": [
    "Often students will run into issues because they forgot to return something from their function. Keep this in mind throughout the quarter!\n",
    "\n",
    "After Python sees and evaluates a return statement, it ends the execution of that function:"
   ]
  },
  {
   "cell_type": "code",
   "execution_count": 0,
   "metadata": {
    "collapsed": false
   },
   "outputs": [
   ],
   "source": [
    "def printThenReturn(x):\n",
    "    print(10)\n",
    "    return(5)\n",
    "\n",
    "def returnThenPrint(x):\n",
    "    return(5)\n",
    "    print(10)"
   ]
  },
  {
   "cell_type": "code",
   "execution_count": 0,
   "metadata": {
    "collapsed": false
   },
   "outputs": [
   ],
   "source": [
    "printThenReturn(5)"
   ]
  },
  {
   "cell_type": "code",
   "execution_count": 0,
   "metadata": {
    "collapsed": false
   },
   "outputs": [
   ],
   "source": [
    "returnThenPrint(5)"
   ]
  },
  {
   "cell_type": "markdown",
   "metadata": {
    "collapsed": false
   },
   "source": [
    "# *** Participation Check ***\n",
    "In the code cell below, define a function `f` which does the following:\n",
    "- It takes as input a single integer, x\n",
    "- It squares x and adds 14 to it\n",
    "- It then converts this to a *string* and returns the string (to convert an integer to the string representing that integer, use the `str()` method, displayed below)"
   ]
  },
  {
   "cell_type": "code",
   "execution_count": 0,
   "metadata": {
    "collapsed": false
   },
   "outputs": [
   ],
   "source": [
    "# Type in your code below:"
   ]
  },
  {
   "cell_type": "markdown",
   "metadata": {
    "collapsed": false
   },
   "source": [
    "To check your answer, execute the following two cells. Make sure the result of `print(type(string))` is \n",
    "\n",
    "`<class 'str'>`\n",
    "\n",
    "and that the result of `print(string)` is `39`."
   ]
  },
  {
   "cell_type": "code",
   "execution_count": 0,
   "metadata": {
    "collapsed": false
   },
   "outputs": [
   ],
   "source": [
    "string = f(5)\n",
    "print(string)"
   ]
  },
  {
   "cell_type": "code",
   "execution_count": 0,
   "metadata": {
    "collapsed": false
   },
   "outputs": [
   ],
   "source": [
    "print(type(string))"
   ]
  },
  {
   "cell_type": "markdown",
   "metadata": {
    "collapsed": false
   },
   "source": [
    "# ****************************"
   ]
  },
  {
   "cell_type": "markdown",
   "metadata": {
    "collapsed": false
   },
   "source": [
    "## Multiple inputs: \n",
    "As you can imagine, many useful functions will require *multiple* input values. To do this in Python, you separate the inputs with a comma. Below is a function which takes as input 3 numbers, computes their average, and returns a list of the numbers which are greater than that average:"
   ]
  },
  {
   "cell_type": "code",
   "execution_count": 0,
   "metadata": {
    "collapsed": false
   },
   "outputs": [
   ],
   "source": [
    "def f(x,y,z):\n",
    "    average = (x+y+z)/3\n",
    "    greaterThanAverage = []\n",
    "    for element in [x,y,z]:\n",
    "        if element > average:\n",
    "            greaterThanAverage.append(element)\n",
    "    return(greaterThanAverage)\n",
    "    \n",
    "    "
   ]
  },
  {
   "cell_type": "code",
   "execution_count": 0,
   "metadata": {
    "collapsed": false
   },
   "outputs": [
   ],
   "source": [
    "f(1,5,100)"
   ]
  },
  {
   "cell_type": "code",
   "execution_count": 0,
   "metadata": {
    "collapsed": false
   },
   "outputs": [
   ],
   "source": [
    "f(-100,2,3)"
   ]
  },
  {
   "cell_type": "markdown",
   "metadata": {
    "collapsed": false
   },
   "source": [
    "Be careful! Functions are not always symmetric in their input:"
   ]
  },
  {
   "cell_type": "code",
   "execution_count": 0,
   "metadata": {
    "collapsed": false
   },
   "outputs": [
   ],
   "source": [
    "def subtract(x,y):\n",
    "    return(x-y)"
   ]
  },
  {
   "cell_type": "code",
   "execution_count": 0,
   "metadata": {
    "collapsed": false
   },
   "outputs": [
   ],
   "source": [
    "print(subtract(10,5))"
   ]
  },
  {
   "cell_type": "code",
   "execution_count": 0,
   "metadata": {
    "collapsed": false
   },
   "outputs": [
   ],
   "source": [
    "print(subtract(5,10))"
   ]
  },
  {
   "cell_type": "code",
   "execution_count": 0,
   "metadata": {
    "collapsed": false
   },
   "outputs": [
   ],
   "source": [
    "print(subtract(5, ['string']))"
   ]
  },
  {
   "cell_type": "markdown",
   "metadata": {
    "collapsed": false
   },
   "source": [
    "Keep this in mind throughout the quarter! The order in which you write your input when you call the function should match the order in which you write your input when you defined the function."
   ]
  },
  {
   "cell_type": "markdown",
   "metadata": {
    "collapsed": false
   },
   "source": [
    "# *** Participation Check ***\n",
    "In the code cell below, define a function `larger` which does the following:\n",
    "- It takes as input an integer x and a list of integers, L\n",
    "- It then returns a *set* consisting of the integers in L which are greater than x. "
   ]
  },
  {
   "cell_type": "code",
   "execution_count": 0,
   "metadata": {
    "collapsed": false
   },
   "outputs": [
   ],
   "source": [
   ]
  },
  {
   "cell_type": "markdown",
   "metadata": {
    "collapsed": false
   },
   "source": [
    "To test your code, evaluate the following cell. It should result in `{4,7,10}` (possibly reordered, since sets in Python are unordered) "
   ]
  },
  {
   "cell_type": "code",
   "execution_count": 0,
   "metadata": {
    "collapsed": false,
    "scrolled": true
   },
   "outputs": [
   ],
   "source": [
    "mySet = larger(2,[-1,-1,0,4,4,7,10,-5])\n",
    "print(mySet)"
   ]
  },
  {
   "cell_type": "markdown",
   "metadata": {
    "collapsed": false
   },
   "source": [
    "# ****************************"
   ]
  },
  {
   "cell_type": "markdown",
   "metadata": {
    "collapsed": false
   },
   "source": [
    "## Multiple Returns\n",
    "\n",
    "You can have multiple return statements in a Python function. This is often useful in combination with conditional statements:"
   ]
  },
  {
   "cell_type": "code",
   "execution_count": 0,
   "metadata": {
    "collapsed": false
   },
   "outputs": [
   ],
   "source": [
    "def evenOrOdd(x):\n",
    "    if x%2 == 0:\n",
    "        return('EVEN')\n",
    "    else:\n",
    "        return('ODD')"
   ]
  },
  {
   "cell_type": "code",
   "execution_count": 0,
   "metadata": {
    "collapsed": false
   },
   "outputs": [
   ],
   "source": [
    "evenOrOdd(5)"
   ]
  },
  {
   "cell_type": "code",
   "execution_count": 0,
   "metadata": {
    "collapsed": false
   },
   "outputs": [
   ],
   "source": [
    "evenOrOdd(42)"
   ]
  },
  {
   "cell_type": "markdown",
   "metadata": {
    "collapsed": false
   },
   "source": [
    "This is also can be useful in combination with for loops. The code below takes as input an integer `x` and a list of integers `L`. It returns `True` if there exists a number in `L` which squares to `x` and `False` otherwise."
   ]
  },
  {
   "cell_type": "code",
   "execution_count": 0,
   "metadata": {
    "collapsed": false
   },
   "outputs": [
   ],
   "source": [
    "def canYouSquare(x, L):\n",
    "    for number in L:\n",
    "        if number**2 == x:\n",
    "            return(True)\n",
    "    return(False)"
   ]
  },
  {
   "cell_type": "code",
   "execution_count": 0,
   "metadata": {
    "collapsed": false
   },
   "outputs": [
   ],
   "source": [
    "canYouSquare(25,[0,1,2,3,4,5])"
   ]
  },
  {
   "cell_type": "code",
   "execution_count": 0,
   "metadata": {
    "collapsed": false
   },
   "outputs": [
   ],
   "source": [
    "canYouSquare(37, [0,1,2,3,4,5])"
   ]
  },
  {
   "cell_type": "markdown",
   "metadata": {
    "collapsed": false
   },
   "source": [
    "Below is a more \"verbose\" version of the same function which uses print statements. You can play around with it if you are having trouble understanding the above function:"
   ]
  },
  {
   "cell_type": "code",
   "execution_count": 0,
   "metadata": {
    "collapsed": false
   },
   "outputs": [
   ],
   "source": [
    "def canYouSquareVerbose(x, L):\n",
    "    for number in L:\n",
    "        print('On this step I am working with the number {}'.format(number))\n",
    "        if number**2 == x:\n",
    "            print('This number squared to x. I am immediately stopping execution of the function and returning True')\n",
    "            return(True)\n",
    "        print('Since the return statement did not execute, this number did not square to x. Thus I will move to the next step.')\n",
    "    print('I have exhauseted all the numbers in L and the for loop is done running. I did not find a square root, so I must return False')\n",
    "    return(False)"
   ]
  },
  {
   "cell_type": "code",
   "execution_count": 0,
   "metadata": {
    "collapsed": false
   },
   "outputs": [
   ],
   "source": [
    "canYouSquareVerbose(25,[3,4,5,6,7])"
   ]
  },
  {
   "cell_type": "code",
   "execution_count": 0,
   "metadata": {
    "collapsed": false
   },
   "outputs": [
   ],
   "source": [
    "canYouSquareVerbose(26,[3,4,5,6,7])"
   ]
  },
  {
   "cell_type": "markdown",
   "metadata": {
    "collapsed": false
   },
   "source": [
    "## Dictionaries\n",
    "\n",
    "A dictionary in Python is a way of associating a *value* to a given *key*. This is often called a *hash map* in other languages. \n",
    "\n",
    "Think of a normal (English) dictionary of words. You look up a word (the \"key\") and are given the definition (the \"value\").\n",
    "\n",
    "You can do this in Python using the following syntax:"
   ]
  },
  {
   "cell_type": "code",
   "execution_count": 0,
   "metadata": {
    "collapsed": false
   },
   "outputs": [
   ],
   "source": [
    "emails = {'Alice':'alice@live.com','Bob':'bobSmith@gmail.com','Carol':'iLoveCats@bigcatrescue.com'}"
   ]
  },
  {
   "cell_type": "code",
   "execution_count": 0,
   "metadata": {
    "collapsed": false
   },
   "outputs": [
   ],
   "source": [
    "emails"
   ]
  },
  {
   "cell_type": "markdown",
   "metadata": {
    "collapsed": false
   },
   "source": [
    "The keys are stored in `myDictionary.keys()`.\n",
    "\n",
    "The values are stored in `myDictionary.values()`.\n",
    "\n",
    "To access the dictionary's stored information for `key`, you use the syntax `myDictionary[key]`"
   ]
  },
  {
   "cell_type": "code",
   "execution_count": 0,
   "metadata": {
    "collapsed": false
   },
   "outputs": [
   ],
   "source": [
    "emails.keys()"
   ]
  },
  {
   "cell_type": "code",
   "execution_count": 0,
   "metadata": {
    "collapsed": false
   },
   "outputs": [
   ],
   "source": [
    "emails.values()"
   ]
  },
  {
   "cell_type": "code",
   "execution_count": 0,
   "metadata": {
    "collapsed": false
   },
   "outputs": [
   ],
   "source": [
    "emails['Alice']"
   ]
  },
  {
   "cell_type": "code",
   "execution_count": 0,
   "metadata": {
    "collapsed": false
   },
   "outputs": [
   ],
   "source": [
    "key = 'Bob'\n",
    "emails[key]"
   ]
  },
  {
   "cell_type": "markdown",
   "metadata": {
    "collapsed": false
   },
   "source": [
    "Note: for obvious reasons, you cannot repeat a key in a dictionary. In other words, the dictionary keys form a set. \n",
    "\n",
    "You also cannot use certain objects in Python as a key:"
   ]
  },
  {
   "cell_type": "code",
   "execution_count": 0,
   "metadata": {
    "collapsed": false
   },
   "outputs": [
   ],
   "source": [
    "myDictionary = {[1,2]:'X'}"
   ]
  },
  {
   "cell_type": "markdown",
   "metadata": {
    "collapsed": false
   },
   "source": [
    "This boils down to an issue with *mutability*. A list can be changed; you don't want the keys of a dictionary to change. This is explored more in HW 1. A good replacement for a list which \"cannot be changed\" is a *tuple*. A replacement for a set which \"cannot be changed\" is a frozenset. I'll let you explore that on your own as part of the HW; here is a potential reference: https://www.programiz.com/python-programming/list-vs-tuples"
   ]
  },
  {
   "cell_type": "code",
   "execution_count": 0,
   "metadata": {
    "collapsed": false
   },
   "outputs": [
   ],
   "source": [
    "immutableSet = frozenset([1,2,3])\n",
    "mutableSet = {1,2,3}\n",
    "\n",
    "print(immutableSet, type(immutableSet))\n",
    "print(mutableSet, type(mutableSet))"
   ]
  },
  {
   "cell_type": "code",
   "execution_count": 0,
   "metadata": {
    "collapsed": false
   },
   "outputs": [
   ],
   "source": [
    "mutableSet.add(6)\n",
    "print(mutableSet)"
   ]
  },
  {
   "cell_type": "code",
   "execution_count": 0,
   "metadata": {
    "collapsed": false
   },
   "outputs": [
   ],
   "source": [
    "immutableSet.add(6)\n",
    "print(immutableSet)"
   ]
  },
  {
   "cell_type": "markdown",
   "metadata": {
    "collapsed": false
   },
   "source": [
    "Once you have defined a dictionary, you can update it like so:"
   ]
  },
  {
   "cell_type": "code",
   "execution_count": 0,
   "metadata": {
    "collapsed": false
   },
   "outputs": [
   ],
   "source": [
    "emails"
   ]
  },
  {
   "cell_type": "code",
   "execution_count": 0,
   "metadata": {
    "collapsed": false
   },
   "outputs": [
   ],
   "source": [
    "emails['Tom'] = 'tgrubb@ucsd.edu'"
   ]
  },
  {
   "cell_type": "code",
   "execution_count": 0,
   "metadata": {
    "collapsed": false
   },
   "outputs": [
   ],
   "source": [
    "emails"
   ]
  },
  {
   "cell_type": "markdown",
   "metadata": {
    "collapsed": false
   },
   "source": [
    "You can also modify a the value of a given key:"
   ]
  },
  {
   "cell_type": "code",
   "execution_count": 0,
   "metadata": {
    "collapsed": false
   },
   "outputs": [
   ],
   "source": [
    "emails['Alice'] = 'AliceNewEmail@newemailsRus.com'"
   ]
  },
  {
   "cell_type": "code",
   "execution_count": 0,
   "metadata": {
    "collapsed": false
   },
   "outputs": [
   ],
   "source": [
    "emails"
   ]
  },
  {
   "cell_type": "markdown",
   "metadata": {
    "collapsed": false
   },
   "source": [
    "This can be useful if you want to do something iteratively, like count votes:"
   ]
  },
  {
   "cell_type": "markdown",
   "metadata": {
    "collapsed": false
   },
   "source": [
    "# *** Participation Check ***\n",
    "In a recent election there were four candidates: Andrew, Brian, Cathy, and Danielle. 100 people voted in the election. In the code cell below there is a list of the votes. Create a Python dictionary whose keys are the candidate names and whose values are the number of votes cast for that candidate.\n",
    "\n",
    "Hint: start with a dictionary in which every candidate has 0 votes. You can hardcode this by hand. Then iterate over the `votes` list using a for loop. For every vote that is read, update the appropriate candidate total."
   ]
  },
  {
   "cell_type": "code",
   "execution_count": 0,
   "metadata": {
    "collapsed": false
   },
   "outputs": [
   ],
   "source": [
    "votes = ['Danielle',\n",
    " 'Cathy',\n",
    " 'Andrew',\n",
    " 'Andrew',\n",
    " 'Danielle',\n",
    " 'Danielle',\n",
    " 'Andrew',\n",
    " 'Danielle',\n",
    " 'Danielle',\n",
    " 'Cathy',\n",
    " 'Andrew',\n",
    " 'Cathy',\n",
    " 'Brian',\n",
    " 'Cathy',\n",
    " 'Brian',\n",
    " 'Cathy',\n",
    " 'Brian',\n",
    " 'Cathy',\n",
    " 'Brian',\n",
    " 'Danielle',\n",
    " 'Cathy',\n",
    " 'Danielle',\n",
    " 'Danielle',\n",
    " 'Brian',\n",
    " 'Cathy',\n",
    " 'Cathy',\n",
    " 'Brian',\n",
    " 'Andrew',\n",
    " 'Cathy',\n",
    " 'Andrew',\n",
    " 'Danielle',\n",
    " 'Brian',\n",
    " 'Danielle',\n",
    " 'Danielle',\n",
    " 'Andrew',\n",
    " 'Andrew',\n",
    " 'Brian',\n",
    " 'Andrew',\n",
    " 'Cathy',\n",
    " 'Danielle',\n",
    " 'Cathy',\n",
    " 'Cathy',\n",
    " 'Cathy',\n",
    " 'Cathy',\n",
    " 'Cathy',\n",
    " 'Danielle',\n",
    " 'Cathy',\n",
    " 'Brian',\n",
    " 'Cathy',\n",
    " 'Cathy',\n",
    " 'Cathy',\n",
    " 'Brian',\n",
    " 'Cathy',\n",
    " 'Danielle',\n",
    " 'Andrew',\n",
    " 'Cathy',\n",
    " 'Andrew',\n",
    " 'Cathy',\n",
    " 'Andrew',\n",
    " 'Cathy',\n",
    " 'Brian',\n",
    " 'Danielle',\n",
    " 'Brian',\n",
    " 'Brian',\n",
    " 'Cathy',\n",
    " 'Cathy',\n",
    " 'Danielle',\n",
    " 'Danielle',\n",
    " 'Cathy',\n",
    " 'Brian',\n",
    " 'Danielle',\n",
    " 'Cathy',\n",
    " 'Danielle',\n",
    " 'Brian',\n",
    " 'Cathy',\n",
    " 'Danielle',\n",
    " 'Cathy',\n",
    " 'Cathy',\n",
    " 'Andrew',\n",
    " 'Cathy',\n",
    " 'Danielle',\n",
    " 'Andrew',\n",
    " 'Andrew',\n",
    " 'Cathy',\n",
    " 'Andrew',\n",
    " 'Andrew',\n",
    " 'Danielle',\n",
    " 'Danielle',\n",
    " 'Danielle',\n",
    " 'Cathy',\n",
    " 'Danielle',\n",
    " 'Brian',\n",
    " 'Andrew',\n",
    " 'Cathy',\n",
    " 'Danielle',\n",
    " 'Danielle',\n",
    " 'Danielle',\n",
    " 'Andrew',\n",
    " 'Andrew',\n",
    " 'Cathy']"
   ]
  },
  {
   "cell_type": "code",
   "execution_count": 0,
   "metadata": {
    "collapsed": false
   },
   "outputs": [
   ],
   "source": [
   ]
  },
  {
   "cell_type": "markdown",
   "metadata": {
    "collapsed": false
   },
   "source": [
    "To check your answer, run the following code cell. You should end up with 28 votes for Danielle, 36 votes for Cathy, 20 votes for Andrew, and 16 votes for Brian."
   ]
  },
  {
   "cell_type": "code",
   "execution_count": 0,
   "metadata": {
    "collapsed": false
   },
   "outputs": [
   ],
   "source": [
    "print('Danielle had this many votes: ',candidateVotes['Danielle'])\n",
    "print('Cathy had this many votes: ',candidateVotes['Cathy'])\n",
    "print('Andrew had this many votes: ',candidateVotes['Andrew'])\n",
    "print('Brian had this many votes: ',candidateVotes['Brian'])"
   ]
  },
  {
   "cell_type": "markdown",
   "metadata": {
    "collapsed": false
   },
   "source": [
    "# ****************************"
   ]
  },
  {
   "cell_type": "markdown",
   "metadata": {
    "collapsed": false
   },
   "source": [
    "## Key Errors\n",
    "\n",
    "If you try to access an element of the dictionary using an invalid key, you get a key error:"
   ]
  },
  {
   "cell_type": "code",
   "execution_count": 0,
   "metadata": {
    "collapsed": false
   },
   "outputs": [
   ],
   "source": [
    "print(emails)"
   ]
  },
  {
   "cell_type": "code",
   "execution_count": 0,
   "metadata": {
    "collapsed": false
   },
   "outputs": [
   ],
   "source": [
    "emails['Mary Kate']"
   ]
  },
  {
   "cell_type": "markdown",
   "metadata": {
    "collapsed": false
   },
   "source": [
    "You can get around this with the `get()` command: https://stackoverflow.com/questions/11041405/why-dict-getkey-instead-of-dictkey."
   ]
  },
  {
   "cell_type": "code",
   "execution_count": 0,
   "metadata": {
    "collapsed": false
   },
   "outputs": [
   ],
   "source": [
    "print(emails.get('Mary Kate'))"
   ]
  },
  {
   "cell_type": "markdown",
   "metadata": {
    "collapsed": false
   },
   "source": [
    "## More Useful Dictionaries\n",
    "\n",
    "Often it is useful to store a list of data as the value of a dictionary:"
   ]
  },
  {
   "cell_type": "code",
   "execution_count": 0,
   "metadata": {
    "collapsed": false
   },
   "outputs": [
   ],
   "source": [
    "userInfo = {'Thomas':['tgrubb@ucsd.edu','Joined on 12/24/2019','UCSD'],'Steve':['steeeeeve@steve.com','Joined on 01/04/2020','UCLA']}\n",
    "\n",
    "print(userInfo)"
   ]
  },
  {
   "cell_type": "markdown",
   "metadata": {
    "collapsed": false
   },
   "source": [
    "You can then update this information on the fly:"
   ]
  },
  {
   "cell_type": "code",
   "execution_count": 0,
   "metadata": {
    "collapsed": false
   },
   "outputs": [
   ],
   "source": [
    "print(userInfo['Thomas'])\n",
    "userInfo['Thomas'].append('25')\n",
    "print(userInfo['Thomas'])"
   ]
  },
  {
   "cell_type": "markdown",
   "metadata": {
    "collapsed": false
   },
   "source": [
    "Even more fancy (and often *very useful in the real world!*) is to use a dictionary within a dictionary!"
   ]
  },
  {
   "cell_type": "code",
   "execution_count": 0,
   "metadata": {
    "collapsed": false
   },
   "outputs": [
   ],
   "source": [
    "userInfo = {'Thomas':{'email':'tgrubb@ucsd.edu','StartDate':'12/24/2019','College':'UCSD'},\n",
    "           'Steven':{'email':'steeeeeeve@steve.com','StartDate':'01/04/2020','College':'UCSD'}\n",
    "           }"
   ]
  },
  {
   "cell_type": "code",
   "execution_count": 0,
   "metadata": {
    "collapsed": false
   },
   "outputs": [
   ],
   "source": [
    "userInfo['Thomas']"
   ]
  },
  {
   "cell_type": "code",
   "execution_count": 0,
   "metadata": {
    "collapsed": false
   },
   "outputs": [
   ],
   "source": [
    "userInfo['Thomas']['email']"
   ]
  },
  {
   "cell_type": "code",
   "execution_count": 0,
   "metadata": {
    "collapsed": false
   },
   "outputs": [
   ],
   "source": [
    "userInfo['Steven']"
   ]
  },
  {
   "cell_type": "code",
   "execution_count": 0,
   "metadata": {
    "collapsed": false
   },
   "outputs": [
   ],
   "source": [
    "userInfo['Steven']['email']"
   ]
  },
  {
   "cell_type": "markdown",
   "metadata": {
    "collapsed": false
   },
   "source": [
    "## Iteration over dictionaries\n",
    "A final note: you can iterate over a dictionary just as with a list, but be careful what you're getting with it:"
   ]
  },
  {
   "cell_type": "code",
   "execution_count": 0,
   "metadata": {
    "collapsed": false
   },
   "outputs": [
   ],
   "source": [
    "emails"
   ]
  },
  {
   "cell_type": "code",
   "execution_count": 0,
   "metadata": {
    "collapsed": false
   },
   "outputs": [
   ],
   "source": [
    "for data in emails:\n",
    "    print(data)"
   ]
  },
  {
   "cell_type": "markdown",
   "metadata": {
    "collapsed": false
   },
   "source": [
    "It defaults to iterating over the *keys* of the dictionary. Which is fine, because you can get the value from the key!"
   ]
  },
  {
   "cell_type": "code",
   "execution_count": 0,
   "metadata": {
    "collapsed": false
   },
   "outputs": [
   ],
   "source": [
    "for data in emails:\n",
    "    print(data, emails[data])"
   ]
  },
  {
   "cell_type": "markdown",
   "metadata": {
    "collapsed": false
   },
   "source": [
    "## (Time Permitting) Bits and Pieces\n",
    "\n",
    "As I mentioned previously, it is not possible to do Python justice in just three lectures. But we need to move on to other topics, so I will end by briefly discussing some other topics of Python that are either useful to know or that you might explore in a more CS oriented class.\n",
    "\n",
    "One thing to be careful about is copying lists:"
   ]
  },
  {
   "cell_type": "code",
   "execution_count": 0,
   "metadata": {
    "collapsed": false
   },
   "outputs": [
   ],
   "source": [
    "myFirstList = [1,2,3]\n",
    "\n",
    "mySecondList = myFirstList\n",
    "\n",
    "mySecondList.append(6)\n",
    "\n",
    "print(mySecondList)"
   ]
  },
  {
   "cell_type": "code",
   "execution_count": 0,
   "metadata": {
    "collapsed": false
   },
   "outputs": [
   ],
   "source": [
    "print(myFirstList)"
   ]
  },
  {
   "cell_type": "markdown",
   "metadata": {
    "collapsed": false
   },
   "source": [
    "In other words, Python variable assignment is just giving the same list a new name (and here I mean \"same\" in the precise CS meaning; it is pointing to the same place in memory)"
   ]
  },
  {
   "cell_type": "code",
   "execution_count": 0,
   "metadata": {
    "collapsed": false
   },
   "outputs": [
   ],
   "source": [
    "id(myFirstList)"
   ]
  },
  {
   "cell_type": "code",
   "execution_count": 0,
   "metadata": {
    "collapsed": false
   },
   "outputs": [
   ],
   "source": [
    "id(mySecondList)"
   ]
  },
  {
   "cell_type": "markdown",
   "metadata": {
    "collapsed": false
   },
   "source": [
    "This means that you might have to be careful if you ever truly need to copy a list. You may accidentally lose data if you think you made a new copy.\n",
    "\n",
    "There are a few workarounds. *If your list only contains \"constant\" data (numeric values, strings, Booleans,...)*, then you can just do a list comprehension:"
   ]
  },
  {
   "cell_type": "code",
   "execution_count": 0,
   "metadata": {
    "collapsed": false
   },
   "outputs": [
   ],
   "source": [
    "myThirdList = [i for i in myFirstList]\n",
    "\n",
    "print(myFirstList)\n",
    "print(myThirdList)"
   ]
  },
  {
   "cell_type": "code",
   "execution_count": 0,
   "metadata": {
    "collapsed": false
   },
   "outputs": [
   ],
   "source": [
    "myThirdList.append(100)\n",
    "\n",
    "print(myFirstList)\n",
    "print(myThirdList)"
   ]
  },
  {
   "cell_type": "markdown",
   "metadata": {
    "collapsed": false
   },
   "source": [
    "Alternatively, Python has a copy library:"
   ]
  },
  {
   "cell_type": "code",
   "execution_count": 0,
   "metadata": {
    "collapsed": false
   },
   "outputs": [
   ],
   "source": [
    "import copy\n",
    "\n",
    "myFourthList = copy.copy(myFirstList)\n",
    "myFourthList.append(400)\n",
    "\n",
    "print(myFirstList)\n",
    "print(myFourthList)"
   ]
  },
  {
   "cell_type": "markdown",
   "metadata": {
    "collapsed": false
   },
   "source": [
    "This is what is known as a *shallow copy*. If you have something like a *list of lists* then you might want to do a \"deep copy.\" Here is why:"
   ]
  },
  {
   "cell_type": "code",
   "execution_count": 0,
   "metadata": {
    "collapsed": false
   },
   "outputs": [
   ],
   "source": [
    "l1 = [[1,2],[3,4]]\n",
    "l2 = copy.copy(l1)\n",
    "print(l1)\n",
    "print(l2)"
   ]
  },
  {
   "cell_type": "code",
   "execution_count": 0,
   "metadata": {
    "collapsed": false
   },
   "outputs": [
   ],
   "source": [
    "for item in l2:\n",
    "    item.append(5)\n",
    "    \n",
    "print(l1)\n",
    "print(l2)"
   ]
  },
  {
   "cell_type": "markdown",
   "metadata": {
    "collapsed": false
   },
   "source": [
    "The work around is `copy.deepcopy()`"
   ]
  },
  {
   "cell_type": "code",
   "execution_count": 0,
   "metadata": {
    "collapsed": false
   },
   "outputs": [
   ],
   "source": [
    "l3 = copy.deepcopy(l1)\n",
    "\n",
    "for item in l3:\n",
    "    item.append('New data')\n",
    "    \n",
    "print(l1)\n",
    "print(l3)"
   ]
  },
  {
   "cell_type": "markdown",
   "metadata": {
    "collapsed": false
   },
   "source": [
    "## Classes\n",
    "\n",
    "In Python a *class* is a type of object with methods that can operate on that object. We have seen many already! Lists, sets, integers, ...\n",
    "\n",
    "You can initialize your own class in Python. Let's define a vector class, where we can add two vectors"
   ]
  },
  {
   "cell_type": "code",
   "execution_count": 0,
   "metadata": {
    "collapsed": false
   },
   "outputs": [
   ],
   "source": [
    "import math\n",
    "class vector:\n",
    "    def __init__(self,x,y):\n",
    "        self.x = x\n",
    "        self.y = y\n",
    "        self.length = math.sqrt(x**2 + y**2)\n",
    "    def dotProduct(self, vec):\n",
    "        return(self.x*vec.x + self.y*vec.y)"
   ]
  },
  {
   "cell_type": "code",
   "execution_count": 0,
   "metadata": {
    "collapsed": false
   },
   "outputs": [
   ],
   "source": [
    "v1 = vector(0,5)\n",
    "v2 = vector(3,3)\n",
    "print(type(v1))"
   ]
  },
  {
   "cell_type": "code",
   "execution_count": 0,
   "metadata": {
    "collapsed": false
   },
   "outputs": [
   ],
   "source": [
    "print(v1.x)\n",
    "print(v1.y)\n",
    "print(v1.length)"
   ]
  },
  {
   "cell_type": "code",
   "execution_count": 0,
   "metadata": {
    "collapsed": false
   },
   "outputs": [
   ],
   "source": [
    "print(v1.dotProduct(v2))"
   ]
  },
  {
   "cell_type": "markdown",
   "metadata": {
    "collapsed": false
   },
   "source": [
    "You can even manually overload operators!"
   ]
  },
  {
   "cell_type": "code",
   "execution_count": 0,
   "metadata": {
    "collapsed": false
   },
   "outputs": [
   ],
   "source": [
    "import math\n",
    "class vector:\n",
    "    def __init__(self,x,y):\n",
    "        self.x = x\n",
    "        self.y = y\n",
    "        self.length = math.sqrt(x**2 + y**2)\n",
    "    def __add__(self, vec):\n",
    "        return(vector(self.x+vec.x,self.y+vec.y))\n",
    "    def dotProduct(self, vec):\n",
    "        return(self.x*vec.x + self.y*vec.y)\n"
   ]
  },
  {
   "cell_type": "code",
   "execution_count": 0,
   "metadata": {
    "collapsed": false
   },
   "outputs": [
   ],
   "source": [
    "v1 = vector(0,5)\n",
    "v2 = vector(3,5)\n",
    "v3=v1+v2\n",
    "print(v3.x)\n",
    "print(v3.y)"
   ]
  },
  {
   "cell_type": "code",
   "execution_count": 0,
   "metadata": {
    "collapsed": false
   },
   "outputs": [
   ],
   "source": [
    "print(v3)"
   ]
  },
  {
   "cell_type": "markdown",
   "metadata": {
    "collapsed": false
   },
   "source": [
    "What happened there?!\n",
    "\n",
    "You need to also define a `__repr__` if you want to print it nicely:"
   ]
  },
  {
   "cell_type": "code",
   "execution_count": 0,
   "metadata": {
    "collapsed": false
   },
   "outputs": [
   ],
   "source": [
    "import math\n",
    "class vector:\n",
    "    def __init__(self,x,y):\n",
    "        self.x = x\n",
    "        self.y = y\n",
    "        self.length = math.sqrt(x**2 + y**2)\n",
    "    def __add__(self, vec):\n",
    "        return(vector(self.x+vec.x,self.y+vec.y))\n",
    "    def __repr__(self):\n",
    "        return(\"({},{})\".format(self.x,self.y))\n",
    "    def dotProduct(self, vec):\n",
    "        return(self.x*vec.x + self.y*vec.y)\n"
   ]
  },
  {
   "cell_type": "code",
   "execution_count": 0,
   "metadata": {
    "collapsed": false
   },
   "outputs": [
   ],
   "source": [
    "v1 = vector(0,5)\n",
    "v2 = vector(3,5)\n",
    "v3=v1+v2\n",
    "\n",
    "print(v3)\n"
   ]
  },
  {
   "cell_type": "markdown",
   "metadata": {
    "collapsed": false
   },
   "source": [
    "It's useful to have some idea of what this looks like. In some sense, SageMath is a huge collection of extra classes with fancy methods that are already there for you to play around with. The code cell above is (essentially) how it is implemented."
   ]
  },
  {
   "cell_type": "markdown",
   "metadata": {
    "collapsed": false
   },
   "source": [
    "## String Formatting\n",
    "\n",
    "This is not crucial to know for this class but can be very useful in real life!\n",
    "\n",
    "You can write a generic format for a string, and then fill in details based on the results of a function/script, using string formatting. See here for more: https://realpython.com/python-string-formatting/"
   ]
  },
  {
   "cell_type": "code",
   "execution_count": 0,
   "metadata": {
    "collapsed": false
   },
   "outputs": [
   ],
   "source": [
    "print(emails)"
   ]
  },
  {
   "cell_type": "code",
   "execution_count": 0,
   "metadata": {
    "collapsed": false
   },
   "outputs": [
   ],
   "source": [
    "for key in emails:\n",
    "    print('{name} has email {email}'.format(name = key, email = emails[key]))"
   ]
  },
  {
   "cell_type": "markdown",
   "metadata": {
    "collapsed": false
   },
   "source": [
    "The `{name}` and `{email}` syntax could be replaced by simply two empty braces:`{}` and `{}`, in which case the keywords get filled in left to right:"
   ]
  },
  {
   "cell_type": "code",
   "execution_count": 0,
   "metadata": {
    "collapsed": false
   },
   "outputs": [
   ],
   "source": [
    "for key in emails:\n",
    "    print('{} has email {}'.format(key, emails[key]))"
   ]
  },
  {
   "cell_type": "markdown",
   "metadata": {
    "collapsed": false
   },
   "source": [
    "## Next Time: SageMath!"
   ]
  }
 ],
 "metadata": {
  "kernelspec": {
   "display_name": "Python 3 (system-wide)",
   "language": "python",
   "metadata": {
    "cocalc": {
     "description": "Python 3 programming language",
     "priority": 100,
     "url": "https://www.python.org/"
    }
   },
   "name": "python3",
   "resource_dir": "/ext/jupyter/kernels/python3"
  },
  "language_info": {
   "codemirror_mode": {
    "name": "ipython",
    "version": 3
   },
   "file_extension": ".py",
   "mimetype": "text/x-python",
   "name": "python",
   "nbconvert_exporter": "python",
   "pygments_lexer": "ipython3",
   "version": "3.8.5"
  }
 },
 "nbformat": 4,
 "nbformat_minor": 4
}